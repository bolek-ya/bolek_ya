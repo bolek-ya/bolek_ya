{
 "cells": [
  {
   "cell_type": "markdown",
   "metadata": {},
   "source": [
    "## Описание проекта"
   ]
  },
  {
   "cell_type": "markdown",
   "metadata": {},
   "source": [
    "Вы работаете в интернет-магазине «Стримчик», который продаёт по всему миру компьютерные игры. Из открытых источников доступны исторические данные о продажах игр, оценки пользователей и экспертов, жанры и платформы (например, Xbox или PlayStation). Вам нужно выявить определяющие успешность игры закономерности. Это позволит сделать ставку на потенциально популярный продукт и спланировать рекламные кампании.\n",
    "\n",
    "Перед вами данные до 2016 года. Представим, что сейчас декабрь 2016 г., и вы планируете кампанию на 2017-й. Нужно отработать принцип работы с данными. Не важно, прогнозируете ли вы продажи на 2017 год по данным 2016-го или же 2027-й — по данным 2026 года.\n",
    "\n",
    "В наборе данных попадается аббревиатура ESRB (Entertainment Software Rating Board) — это ассоциация, определяющая возрастной рейтинг компьютерных игр. ESRB оценивает игровой контент и присваивает ему подходящую возрастную категорию, например, «Для взрослых», «Для детей младшего возраста» или «Для подростков».|\n",
    "\n",
    "Описание данных\n",
    "Name — название игры\n",
    "Platform — платформа\n",
    "Year_of_Release — год выпуска\n",
    "Genre — жанр игры\n",
    "NA_sales — продажи в Северной Америке (миллионы долларов)\n",
    "EU_sales — продажи в Европе (миллионы долларов)\n",
    "JP_sales — продажи в Японии (миллионы долларов)\n",
    "Other_sales — продажи в других странах (миллионы долларов)\n",
    "Critic_Score — оценка критиков (максимум 100)\n",
    "User_Score — оценка пользователей (максимум 10)\n",
    "Rating — рейтинг от организации ESRB (англ. Entertainment Software Rating Board). Эта ассоциация определяет рейтинг компьютерных игр и присваивает им подходящую возрастную категорию.\n",
    "Данные за 2016 год могут быть неполными."
   ]
  },
  {
   "cell_type": "code",
   "execution_count": 1,
   "metadata": {},
   "outputs": [],
   "source": [
    "import pandas as pd\n",
    "from pymystem3 import Mystem\n",
    "m = Mystem()\n",
    "import seaborn as sns\n",
    "import numpy as np\n",
    "from scipy.stats import ttest_ind\n",
    "from scipy import stats as st\n",
    "import matplotlib.pyplot as plt\n",
    "from IPython.display import display"
   ]
  },
  {
   "cell_type": "markdown",
   "metadata": {},
   "source": [
    "## Просмотр и обработка данных"
   ]
  },
  {
   "cell_type": "code",
   "execution_count": 2,
   "metadata": {},
   "outputs": [],
   "source": [
    "df = pd.read_csv(\"/datasets/games.csv\", sep=\",\")"
   ]
  },
  {
   "cell_type": "code",
   "execution_count": 3,
   "metadata": {},
   "outputs": [
    {
     "data": {
      "text/html": [
       "<div>\n",
       "<style scoped>\n",
       "    .dataframe tbody tr th:only-of-type {\n",
       "        vertical-align: middle;\n",
       "    }\n",
       "\n",
       "    .dataframe tbody tr th {\n",
       "        vertical-align: top;\n",
       "    }\n",
       "\n",
       "    .dataframe thead th {\n",
       "        text-align: right;\n",
       "    }\n",
       "</style>\n",
       "<table border=\"1\" class=\"dataframe\">\n",
       "  <thead>\n",
       "    <tr style=\"text-align: right;\">\n",
       "      <th></th>\n",
       "      <th>Name</th>\n",
       "      <th>Platform</th>\n",
       "      <th>Year_of_Release</th>\n",
       "      <th>Genre</th>\n",
       "      <th>NA_sales</th>\n",
       "      <th>EU_sales</th>\n",
       "      <th>JP_sales</th>\n",
       "      <th>Other_sales</th>\n",
       "      <th>Critic_Score</th>\n",
       "      <th>User_Score</th>\n",
       "      <th>Rating</th>\n",
       "    </tr>\n",
       "  </thead>\n",
       "  <tbody>\n",
       "    <tr>\n",
       "      <th>0</th>\n",
       "      <td>Wii Sports</td>\n",
       "      <td>Wii</td>\n",
       "      <td>2006.0</td>\n",
       "      <td>Sports</td>\n",
       "      <td>41.36</td>\n",
       "      <td>28.96</td>\n",
       "      <td>3.77</td>\n",
       "      <td>8.45</td>\n",
       "      <td>76.0</td>\n",
       "      <td>8</td>\n",
       "      <td>E</td>\n",
       "    </tr>\n",
       "    <tr>\n",
       "      <th>1</th>\n",
       "      <td>Super Mario Bros.</td>\n",
       "      <td>NES</td>\n",
       "      <td>1985.0</td>\n",
       "      <td>Platform</td>\n",
       "      <td>29.08</td>\n",
       "      <td>3.58</td>\n",
       "      <td>6.81</td>\n",
       "      <td>0.77</td>\n",
       "      <td>NaN</td>\n",
       "      <td>NaN</td>\n",
       "      <td>NaN</td>\n",
       "    </tr>\n",
       "    <tr>\n",
       "      <th>2</th>\n",
       "      <td>Mario Kart Wii</td>\n",
       "      <td>Wii</td>\n",
       "      <td>2008.0</td>\n",
       "      <td>Racing</td>\n",
       "      <td>15.68</td>\n",
       "      <td>12.76</td>\n",
       "      <td>3.79</td>\n",
       "      <td>3.29</td>\n",
       "      <td>82.0</td>\n",
       "      <td>8.3</td>\n",
       "      <td>E</td>\n",
       "    </tr>\n",
       "    <tr>\n",
       "      <th>3</th>\n",
       "      <td>Wii Sports Resort</td>\n",
       "      <td>Wii</td>\n",
       "      <td>2009.0</td>\n",
       "      <td>Sports</td>\n",
       "      <td>15.61</td>\n",
       "      <td>10.93</td>\n",
       "      <td>3.28</td>\n",
       "      <td>2.95</td>\n",
       "      <td>80.0</td>\n",
       "      <td>8</td>\n",
       "      <td>E</td>\n",
       "    </tr>\n",
       "    <tr>\n",
       "      <th>4</th>\n",
       "      <td>Pokemon Red/Pokemon Blue</td>\n",
       "      <td>GB</td>\n",
       "      <td>1996.0</td>\n",
       "      <td>Role-Playing</td>\n",
       "      <td>11.27</td>\n",
       "      <td>8.89</td>\n",
       "      <td>10.22</td>\n",
       "      <td>1.00</td>\n",
       "      <td>NaN</td>\n",
       "      <td>NaN</td>\n",
       "      <td>NaN</td>\n",
       "    </tr>\n",
       "    <tr>\n",
       "      <th>5</th>\n",
       "      <td>Tetris</td>\n",
       "      <td>GB</td>\n",
       "      <td>1989.0</td>\n",
       "      <td>Puzzle</td>\n",
       "      <td>23.20</td>\n",
       "      <td>2.26</td>\n",
       "      <td>4.22</td>\n",
       "      <td>0.58</td>\n",
       "      <td>NaN</td>\n",
       "      <td>NaN</td>\n",
       "      <td>NaN</td>\n",
       "    </tr>\n",
       "    <tr>\n",
       "      <th>6</th>\n",
       "      <td>New Super Mario Bros.</td>\n",
       "      <td>DS</td>\n",
       "      <td>2006.0</td>\n",
       "      <td>Platform</td>\n",
       "      <td>11.28</td>\n",
       "      <td>9.14</td>\n",
       "      <td>6.50</td>\n",
       "      <td>2.88</td>\n",
       "      <td>89.0</td>\n",
       "      <td>8.5</td>\n",
       "      <td>E</td>\n",
       "    </tr>\n",
       "    <tr>\n",
       "      <th>7</th>\n",
       "      <td>Wii Play</td>\n",
       "      <td>Wii</td>\n",
       "      <td>2006.0</td>\n",
       "      <td>Misc</td>\n",
       "      <td>13.96</td>\n",
       "      <td>9.18</td>\n",
       "      <td>2.93</td>\n",
       "      <td>2.84</td>\n",
       "      <td>58.0</td>\n",
       "      <td>6.6</td>\n",
       "      <td>E</td>\n",
       "    </tr>\n",
       "    <tr>\n",
       "      <th>8</th>\n",
       "      <td>New Super Mario Bros. Wii</td>\n",
       "      <td>Wii</td>\n",
       "      <td>2009.0</td>\n",
       "      <td>Platform</td>\n",
       "      <td>14.44</td>\n",
       "      <td>6.94</td>\n",
       "      <td>4.70</td>\n",
       "      <td>2.24</td>\n",
       "      <td>87.0</td>\n",
       "      <td>8.4</td>\n",
       "      <td>E</td>\n",
       "    </tr>\n",
       "    <tr>\n",
       "      <th>9</th>\n",
       "      <td>Duck Hunt</td>\n",
       "      <td>NES</td>\n",
       "      <td>1984.0</td>\n",
       "      <td>Shooter</td>\n",
       "      <td>26.93</td>\n",
       "      <td>0.63</td>\n",
       "      <td>0.28</td>\n",
       "      <td>0.47</td>\n",
       "      <td>NaN</td>\n",
       "      <td>NaN</td>\n",
       "      <td>NaN</td>\n",
       "    </tr>\n",
       "    <tr>\n",
       "      <th>10</th>\n",
       "      <td>Nintendogs</td>\n",
       "      <td>DS</td>\n",
       "      <td>2005.0</td>\n",
       "      <td>Simulation</td>\n",
       "      <td>9.05</td>\n",
       "      <td>10.95</td>\n",
       "      <td>1.93</td>\n",
       "      <td>2.74</td>\n",
       "      <td>NaN</td>\n",
       "      <td>NaN</td>\n",
       "      <td>NaN</td>\n",
       "    </tr>\n",
       "    <tr>\n",
       "      <th>11</th>\n",
       "      <td>Mario Kart DS</td>\n",
       "      <td>DS</td>\n",
       "      <td>2005.0</td>\n",
       "      <td>Racing</td>\n",
       "      <td>9.71</td>\n",
       "      <td>7.47</td>\n",
       "      <td>4.13</td>\n",
       "      <td>1.90</td>\n",
       "      <td>91.0</td>\n",
       "      <td>8.6</td>\n",
       "      <td>E</td>\n",
       "    </tr>\n",
       "    <tr>\n",
       "      <th>12</th>\n",
       "      <td>Pokemon Gold/Pokemon Silver</td>\n",
       "      <td>GB</td>\n",
       "      <td>1999.0</td>\n",
       "      <td>Role-Playing</td>\n",
       "      <td>9.00</td>\n",
       "      <td>6.18</td>\n",
       "      <td>7.20</td>\n",
       "      <td>0.71</td>\n",
       "      <td>NaN</td>\n",
       "      <td>NaN</td>\n",
       "      <td>NaN</td>\n",
       "    </tr>\n",
       "    <tr>\n",
       "      <th>13</th>\n",
       "      <td>Wii Fit</td>\n",
       "      <td>Wii</td>\n",
       "      <td>2007.0</td>\n",
       "      <td>Sports</td>\n",
       "      <td>8.92</td>\n",
       "      <td>8.03</td>\n",
       "      <td>3.60</td>\n",
       "      <td>2.15</td>\n",
       "      <td>80.0</td>\n",
       "      <td>7.7</td>\n",
       "      <td>E</td>\n",
       "    </tr>\n",
       "    <tr>\n",
       "      <th>14</th>\n",
       "      <td>Kinect Adventures!</td>\n",
       "      <td>X360</td>\n",
       "      <td>2010.0</td>\n",
       "      <td>Misc</td>\n",
       "      <td>15.00</td>\n",
       "      <td>4.89</td>\n",
       "      <td>0.24</td>\n",
       "      <td>1.69</td>\n",
       "      <td>61.0</td>\n",
       "      <td>6.3</td>\n",
       "      <td>E</td>\n",
       "    </tr>\n",
       "    <tr>\n",
       "      <th>15</th>\n",
       "      <td>Wii Fit Plus</td>\n",
       "      <td>Wii</td>\n",
       "      <td>2009.0</td>\n",
       "      <td>Sports</td>\n",
       "      <td>9.01</td>\n",
       "      <td>8.49</td>\n",
       "      <td>2.53</td>\n",
       "      <td>1.77</td>\n",
       "      <td>80.0</td>\n",
       "      <td>7.4</td>\n",
       "      <td>E</td>\n",
       "    </tr>\n",
       "    <tr>\n",
       "      <th>16</th>\n",
       "      <td>Grand Theft Auto V</td>\n",
       "      <td>PS3</td>\n",
       "      <td>2013.0</td>\n",
       "      <td>Action</td>\n",
       "      <td>7.02</td>\n",
       "      <td>9.09</td>\n",
       "      <td>0.98</td>\n",
       "      <td>3.96</td>\n",
       "      <td>97.0</td>\n",
       "      <td>8.2</td>\n",
       "      <td>M</td>\n",
       "    </tr>\n",
       "    <tr>\n",
       "      <th>17</th>\n",
       "      <td>Grand Theft Auto: San Andreas</td>\n",
       "      <td>PS2</td>\n",
       "      <td>2004.0</td>\n",
       "      <td>Action</td>\n",
       "      <td>9.43</td>\n",
       "      <td>0.40</td>\n",
       "      <td>0.41</td>\n",
       "      <td>10.57</td>\n",
       "      <td>95.0</td>\n",
       "      <td>9</td>\n",
       "      <td>M</td>\n",
       "    </tr>\n",
       "    <tr>\n",
       "      <th>18</th>\n",
       "      <td>Super Mario World</td>\n",
       "      <td>SNES</td>\n",
       "      <td>1990.0</td>\n",
       "      <td>Platform</td>\n",
       "      <td>12.78</td>\n",
       "      <td>3.75</td>\n",
       "      <td>3.54</td>\n",
       "      <td>0.55</td>\n",
       "      <td>NaN</td>\n",
       "      <td>NaN</td>\n",
       "      <td>NaN</td>\n",
       "    </tr>\n",
       "    <tr>\n",
       "      <th>19</th>\n",
       "      <td>Brain Age: Train Your Brain in Minutes a Day</td>\n",
       "      <td>DS</td>\n",
       "      <td>2005.0</td>\n",
       "      <td>Misc</td>\n",
       "      <td>4.74</td>\n",
       "      <td>9.20</td>\n",
       "      <td>4.16</td>\n",
       "      <td>2.04</td>\n",
       "      <td>77.0</td>\n",
       "      <td>7.9</td>\n",
       "      <td>E</td>\n",
       "    </tr>\n",
       "  </tbody>\n",
       "</table>\n",
       "</div>"
      ],
      "text/plain": [
       "                                            Name Platform  Year_of_Release  \\\n",
       "0                                     Wii Sports      Wii           2006.0   \n",
       "1                              Super Mario Bros.      NES           1985.0   \n",
       "2                                 Mario Kart Wii      Wii           2008.0   \n",
       "3                              Wii Sports Resort      Wii           2009.0   \n",
       "4                       Pokemon Red/Pokemon Blue       GB           1996.0   \n",
       "5                                         Tetris       GB           1989.0   \n",
       "6                          New Super Mario Bros.       DS           2006.0   \n",
       "7                                       Wii Play      Wii           2006.0   \n",
       "8                      New Super Mario Bros. Wii      Wii           2009.0   \n",
       "9                                      Duck Hunt      NES           1984.0   \n",
       "10                                    Nintendogs       DS           2005.0   \n",
       "11                                 Mario Kart DS       DS           2005.0   \n",
       "12                   Pokemon Gold/Pokemon Silver       GB           1999.0   \n",
       "13                                       Wii Fit      Wii           2007.0   \n",
       "14                            Kinect Adventures!     X360           2010.0   \n",
       "15                                  Wii Fit Plus      Wii           2009.0   \n",
       "16                            Grand Theft Auto V      PS3           2013.0   \n",
       "17                 Grand Theft Auto: San Andreas      PS2           2004.0   \n",
       "18                             Super Mario World     SNES           1990.0   \n",
       "19  Brain Age: Train Your Brain in Minutes a Day       DS           2005.0   \n",
       "\n",
       "           Genre  NA_sales  EU_sales  JP_sales  Other_sales  Critic_Score  \\\n",
       "0         Sports     41.36     28.96      3.77         8.45          76.0   \n",
       "1       Platform     29.08      3.58      6.81         0.77           NaN   \n",
       "2         Racing     15.68     12.76      3.79         3.29          82.0   \n",
       "3         Sports     15.61     10.93      3.28         2.95          80.0   \n",
       "4   Role-Playing     11.27      8.89     10.22         1.00           NaN   \n",
       "5         Puzzle     23.20      2.26      4.22         0.58           NaN   \n",
       "6       Platform     11.28      9.14      6.50         2.88          89.0   \n",
       "7           Misc     13.96      9.18      2.93         2.84          58.0   \n",
       "8       Platform     14.44      6.94      4.70         2.24          87.0   \n",
       "9        Shooter     26.93      0.63      0.28         0.47           NaN   \n",
       "10    Simulation      9.05     10.95      1.93         2.74           NaN   \n",
       "11        Racing      9.71      7.47      4.13         1.90          91.0   \n",
       "12  Role-Playing      9.00      6.18      7.20         0.71           NaN   \n",
       "13        Sports      8.92      8.03      3.60         2.15          80.0   \n",
       "14          Misc     15.00      4.89      0.24         1.69          61.0   \n",
       "15        Sports      9.01      8.49      2.53         1.77          80.0   \n",
       "16        Action      7.02      9.09      0.98         3.96          97.0   \n",
       "17        Action      9.43      0.40      0.41        10.57          95.0   \n",
       "18      Platform     12.78      3.75      3.54         0.55           NaN   \n",
       "19          Misc      4.74      9.20      4.16         2.04          77.0   \n",
       "\n",
       "   User_Score Rating  \n",
       "0           8      E  \n",
       "1         NaN    NaN  \n",
       "2         8.3      E  \n",
       "3           8      E  \n",
       "4         NaN    NaN  \n",
       "5         NaN    NaN  \n",
       "6         8.5      E  \n",
       "7         6.6      E  \n",
       "8         8.4      E  \n",
       "9         NaN    NaN  \n",
       "10        NaN    NaN  \n",
       "11        8.6      E  \n",
       "12        NaN    NaN  \n",
       "13        7.7      E  \n",
       "14        6.3      E  \n",
       "15        7.4      E  \n",
       "16        8.2      M  \n",
       "17          9      M  \n",
       "18        NaN    NaN  \n",
       "19        7.9      E  "
      ]
     },
     "execution_count": 3,
     "metadata": {},
     "output_type": "execute_result"
    }
   ],
   "source": [
    "df.head(20)"
   ]
  },
  {
   "cell_type": "code",
   "execution_count": 4,
   "metadata": {},
   "outputs": [
    {
     "name": "stdout",
     "output_type": "stream",
     "text": [
      "<class 'pandas.core.frame.DataFrame'>\n",
      "RangeIndex: 16715 entries, 0 to 16714\n",
      "Data columns (total 11 columns):\n",
      " #   Column           Non-Null Count  Dtype  \n",
      "---  ------           --------------  -----  \n",
      " 0   Name             16713 non-null  object \n",
      " 1   Platform         16715 non-null  object \n",
      " 2   Year_of_Release  16446 non-null  float64\n",
      " 3   Genre            16713 non-null  object \n",
      " 4   NA_sales         16715 non-null  float64\n",
      " 5   EU_sales         16715 non-null  float64\n",
      " 6   JP_sales         16715 non-null  float64\n",
      " 7   Other_sales      16715 non-null  float64\n",
      " 8   Critic_Score     8137 non-null   float64\n",
      " 9   User_Score       10014 non-null  object \n",
      " 10  Rating           9949 non-null   object \n",
      "dtypes: float64(6), object(5)\n",
      "memory usage: 1.4+ MB\n"
     ]
    }
   ],
   "source": [
    "df.info()"
   ]
  },
  {
   "cell_type": "markdown",
   "metadata": {},
   "source": [
    "Как видно, в 2 х столбцах Name и Genre 16713 строк, в отличие от 16715 в остальных. Проверим, вдруг окажется в одинаковых строках пропуски"
   ]
  },
  {
   "cell_type": "code",
   "execution_count": 5,
   "metadata": {
    "scrolled": true
   },
   "outputs": [],
   "source": [
    "df.columns = [x.lower() for x in df.columns]# привели к ниженму регистру названия столбцов"
   ]
  },
  {
   "cell_type": "code",
   "execution_count": 6,
   "metadata": {},
   "outputs": [
    {
     "data": {
      "text/html": [
       "<div>\n",
       "<style scoped>\n",
       "    .dataframe tbody tr th:only-of-type {\n",
       "        vertical-align: middle;\n",
       "    }\n",
       "\n",
       "    .dataframe tbody tr th {\n",
       "        vertical-align: top;\n",
       "    }\n",
       "\n",
       "    .dataframe thead th {\n",
       "        text-align: right;\n",
       "    }\n",
       "</style>\n",
       "<table border=\"1\" class=\"dataframe\">\n",
       "  <thead>\n",
       "    <tr style=\"text-align: right;\">\n",
       "      <th></th>\n",
       "      <th>name</th>\n",
       "      <th>platform</th>\n",
       "      <th>year_of_release</th>\n",
       "      <th>genre</th>\n",
       "      <th>na_sales</th>\n",
       "      <th>eu_sales</th>\n",
       "      <th>jp_sales</th>\n",
       "      <th>other_sales</th>\n",
       "      <th>critic_score</th>\n",
       "      <th>user_score</th>\n",
       "      <th>rating</th>\n",
       "    </tr>\n",
       "  </thead>\n",
       "  <tbody>\n",
       "    <tr>\n",
       "      <th>0</th>\n",
       "      <td>Wii Sports</td>\n",
       "      <td>Wii</td>\n",
       "      <td>2006.0</td>\n",
       "      <td>Sports</td>\n",
       "      <td>41.36</td>\n",
       "      <td>28.96</td>\n",
       "      <td>3.77</td>\n",
       "      <td>8.45</td>\n",
       "      <td>76.0</td>\n",
       "      <td>8</td>\n",
       "      <td>E</td>\n",
       "    </tr>\n",
       "    <tr>\n",
       "      <th>1</th>\n",
       "      <td>Super Mario Bros.</td>\n",
       "      <td>NES</td>\n",
       "      <td>1985.0</td>\n",
       "      <td>Platform</td>\n",
       "      <td>29.08</td>\n",
       "      <td>3.58</td>\n",
       "      <td>6.81</td>\n",
       "      <td>0.77</td>\n",
       "      <td>NaN</td>\n",
       "      <td>NaN</td>\n",
       "      <td>NaN</td>\n",
       "    </tr>\n",
       "    <tr>\n",
       "      <th>2</th>\n",
       "      <td>Mario Kart Wii</td>\n",
       "      <td>Wii</td>\n",
       "      <td>2008.0</td>\n",
       "      <td>Racing</td>\n",
       "      <td>15.68</td>\n",
       "      <td>12.76</td>\n",
       "      <td>3.79</td>\n",
       "      <td>3.29</td>\n",
       "      <td>82.0</td>\n",
       "      <td>8.3</td>\n",
       "      <td>E</td>\n",
       "    </tr>\n",
       "    <tr>\n",
       "      <th>3</th>\n",
       "      <td>Wii Sports Resort</td>\n",
       "      <td>Wii</td>\n",
       "      <td>2009.0</td>\n",
       "      <td>Sports</td>\n",
       "      <td>15.61</td>\n",
       "      <td>10.93</td>\n",
       "      <td>3.28</td>\n",
       "      <td>2.95</td>\n",
       "      <td>80.0</td>\n",
       "      <td>8</td>\n",
       "      <td>E</td>\n",
       "    </tr>\n",
       "    <tr>\n",
       "      <th>4</th>\n",
       "      <td>Pokemon Red/Pokemon Blue</td>\n",
       "      <td>GB</td>\n",
       "      <td>1996.0</td>\n",
       "      <td>Role-Playing</td>\n",
       "      <td>11.27</td>\n",
       "      <td>8.89</td>\n",
       "      <td>10.22</td>\n",
       "      <td>1.00</td>\n",
       "      <td>NaN</td>\n",
       "      <td>NaN</td>\n",
       "      <td>NaN</td>\n",
       "    </tr>\n",
       "    <tr>\n",
       "      <th>...</th>\n",
       "      <td>...</td>\n",
       "      <td>...</td>\n",
       "      <td>...</td>\n",
       "      <td>...</td>\n",
       "      <td>...</td>\n",
       "      <td>...</td>\n",
       "      <td>...</td>\n",
       "      <td>...</td>\n",
       "      <td>...</td>\n",
       "      <td>...</td>\n",
       "      <td>...</td>\n",
       "    </tr>\n",
       "    <tr>\n",
       "      <th>16710</th>\n",
       "      <td>Samurai Warriors: Sanada Maru</td>\n",
       "      <td>PS3</td>\n",
       "      <td>2016.0</td>\n",
       "      <td>Action</td>\n",
       "      <td>0.00</td>\n",
       "      <td>0.00</td>\n",
       "      <td>0.01</td>\n",
       "      <td>0.00</td>\n",
       "      <td>NaN</td>\n",
       "      <td>NaN</td>\n",
       "      <td>NaN</td>\n",
       "    </tr>\n",
       "    <tr>\n",
       "      <th>16711</th>\n",
       "      <td>LMA Manager 2007</td>\n",
       "      <td>X360</td>\n",
       "      <td>2006.0</td>\n",
       "      <td>Sports</td>\n",
       "      <td>0.00</td>\n",
       "      <td>0.01</td>\n",
       "      <td>0.00</td>\n",
       "      <td>0.00</td>\n",
       "      <td>NaN</td>\n",
       "      <td>NaN</td>\n",
       "      <td>NaN</td>\n",
       "    </tr>\n",
       "    <tr>\n",
       "      <th>16712</th>\n",
       "      <td>Haitaka no Psychedelica</td>\n",
       "      <td>PSV</td>\n",
       "      <td>2016.0</td>\n",
       "      <td>Adventure</td>\n",
       "      <td>0.00</td>\n",
       "      <td>0.00</td>\n",
       "      <td>0.01</td>\n",
       "      <td>0.00</td>\n",
       "      <td>NaN</td>\n",
       "      <td>NaN</td>\n",
       "      <td>NaN</td>\n",
       "    </tr>\n",
       "    <tr>\n",
       "      <th>16713</th>\n",
       "      <td>Spirits &amp; Spells</td>\n",
       "      <td>GBA</td>\n",
       "      <td>2003.0</td>\n",
       "      <td>Platform</td>\n",
       "      <td>0.01</td>\n",
       "      <td>0.00</td>\n",
       "      <td>0.00</td>\n",
       "      <td>0.00</td>\n",
       "      <td>NaN</td>\n",
       "      <td>NaN</td>\n",
       "      <td>NaN</td>\n",
       "    </tr>\n",
       "    <tr>\n",
       "      <th>16714</th>\n",
       "      <td>Winning Post 8 2016</td>\n",
       "      <td>PSV</td>\n",
       "      <td>2016.0</td>\n",
       "      <td>Simulation</td>\n",
       "      <td>0.00</td>\n",
       "      <td>0.00</td>\n",
       "      <td>0.01</td>\n",
       "      <td>0.00</td>\n",
       "      <td>NaN</td>\n",
       "      <td>NaN</td>\n",
       "      <td>NaN</td>\n",
       "    </tr>\n",
       "  </tbody>\n",
       "</table>\n",
       "<p>16715 rows × 11 columns</p>\n",
       "</div>"
      ],
      "text/plain": [
       "                                name platform  year_of_release         genre  \\\n",
       "0                         Wii Sports      Wii           2006.0        Sports   \n",
       "1                  Super Mario Bros.      NES           1985.0      Platform   \n",
       "2                     Mario Kart Wii      Wii           2008.0        Racing   \n",
       "3                  Wii Sports Resort      Wii           2009.0        Sports   \n",
       "4           Pokemon Red/Pokemon Blue       GB           1996.0  Role-Playing   \n",
       "...                              ...      ...              ...           ...   \n",
       "16710  Samurai Warriors: Sanada Maru      PS3           2016.0        Action   \n",
       "16711               LMA Manager 2007     X360           2006.0        Sports   \n",
       "16712        Haitaka no Psychedelica      PSV           2016.0     Adventure   \n",
       "16713               Spirits & Spells      GBA           2003.0      Platform   \n",
       "16714            Winning Post 8 2016      PSV           2016.0    Simulation   \n",
       "\n",
       "       na_sales  eu_sales  jp_sales  other_sales  critic_score user_score  \\\n",
       "0         41.36     28.96      3.77         8.45          76.0          8   \n",
       "1         29.08      3.58      6.81         0.77           NaN        NaN   \n",
       "2         15.68     12.76      3.79         3.29          82.0        8.3   \n",
       "3         15.61     10.93      3.28         2.95          80.0          8   \n",
       "4         11.27      8.89     10.22         1.00           NaN        NaN   \n",
       "...         ...       ...       ...          ...           ...        ...   \n",
       "16710      0.00      0.00      0.01         0.00           NaN        NaN   \n",
       "16711      0.00      0.01      0.00         0.00           NaN        NaN   \n",
       "16712      0.00      0.00      0.01         0.00           NaN        NaN   \n",
       "16713      0.01      0.00      0.00         0.00           NaN        NaN   \n",
       "16714      0.00      0.00      0.01         0.00           NaN        NaN   \n",
       "\n",
       "      rating  \n",
       "0          E  \n",
       "1        NaN  \n",
       "2          E  \n",
       "3          E  \n",
       "4        NaN  \n",
       "...      ...  \n",
       "16710    NaN  \n",
       "16711    NaN  \n",
       "16712    NaN  \n",
       "16713    NaN  \n",
       "16714    NaN  \n",
       "\n",
       "[16715 rows x 11 columns]"
      ]
     },
     "execution_count": 6,
     "metadata": {},
     "output_type": "execute_result"
    }
   ],
   "source": [
    "df"
   ]
  },
  {
   "cell_type": "code",
   "execution_count": 7,
   "metadata": {},
   "outputs": [
    {
     "data": {
      "text/html": [
       "<div>\n",
       "<style scoped>\n",
       "    .dataframe tbody tr th:only-of-type {\n",
       "        vertical-align: middle;\n",
       "    }\n",
       "\n",
       "    .dataframe tbody tr th {\n",
       "        vertical-align: top;\n",
       "    }\n",
       "\n",
       "    .dataframe thead th {\n",
       "        text-align: right;\n",
       "    }\n",
       "</style>\n",
       "<table border=\"1\" class=\"dataframe\">\n",
       "  <thead>\n",
       "    <tr style=\"text-align: right;\">\n",
       "      <th></th>\n",
       "      <th>name</th>\n",
       "      <th>platform</th>\n",
       "      <th>year_of_release</th>\n",
       "      <th>genre</th>\n",
       "      <th>na_sales</th>\n",
       "      <th>eu_sales</th>\n",
       "      <th>jp_sales</th>\n",
       "      <th>other_sales</th>\n",
       "      <th>critic_score</th>\n",
       "      <th>user_score</th>\n",
       "      <th>rating</th>\n",
       "    </tr>\n",
       "  </thead>\n",
       "  <tbody>\n",
       "    <tr>\n",
       "      <th>659</th>\n",
       "      <td>NaN</td>\n",
       "      <td>GEN</td>\n",
       "      <td>1993.0</td>\n",
       "      <td>NaN</td>\n",
       "      <td>1.78</td>\n",
       "      <td>0.53</td>\n",
       "      <td>0.00</td>\n",
       "      <td>0.08</td>\n",
       "      <td>NaN</td>\n",
       "      <td>NaN</td>\n",
       "      <td>NaN</td>\n",
       "    </tr>\n",
       "    <tr>\n",
       "      <th>14244</th>\n",
       "      <td>NaN</td>\n",
       "      <td>GEN</td>\n",
       "      <td>1993.0</td>\n",
       "      <td>NaN</td>\n",
       "      <td>0.00</td>\n",
       "      <td>0.00</td>\n",
       "      <td>0.03</td>\n",
       "      <td>0.00</td>\n",
       "      <td>NaN</td>\n",
       "      <td>NaN</td>\n",
       "      <td>NaN</td>\n",
       "    </tr>\n",
       "  </tbody>\n",
       "</table>\n",
       "</div>"
      ],
      "text/plain": [
       "      name platform  year_of_release genre  na_sales  eu_sales  jp_sales  \\\n",
       "659    NaN      GEN           1993.0   NaN      1.78      0.53      0.00   \n",
       "14244  NaN      GEN           1993.0   NaN      0.00      0.00      0.03   \n",
       "\n",
       "       other_sales  critic_score user_score rating  \n",
       "659           0.08           NaN        NaN    NaN  \n",
       "14244         0.00           NaN        NaN    NaN  "
      ]
     },
     "execution_count": 7,
     "metadata": {},
     "output_type": "execute_result"
    }
   ],
   "source": [
    "df.query('name.isna()')"
   ]
  },
  {
   "cell_type": "code",
   "execution_count": 8,
   "metadata": {},
   "outputs": [
    {
     "data": {
      "text/html": [
       "<div>\n",
       "<style scoped>\n",
       "    .dataframe tbody tr th:only-of-type {\n",
       "        vertical-align: middle;\n",
       "    }\n",
       "\n",
       "    .dataframe tbody tr th {\n",
       "        vertical-align: top;\n",
       "    }\n",
       "\n",
       "    .dataframe thead th {\n",
       "        text-align: right;\n",
       "    }\n",
       "</style>\n",
       "<table border=\"1\" class=\"dataframe\">\n",
       "  <thead>\n",
       "    <tr style=\"text-align: right;\">\n",
       "      <th></th>\n",
       "      <th>name</th>\n",
       "      <th>platform</th>\n",
       "      <th>year_of_release</th>\n",
       "      <th>genre</th>\n",
       "      <th>na_sales</th>\n",
       "      <th>eu_sales</th>\n",
       "      <th>jp_sales</th>\n",
       "      <th>other_sales</th>\n",
       "      <th>critic_score</th>\n",
       "      <th>user_score</th>\n",
       "      <th>rating</th>\n",
       "    </tr>\n",
       "  </thead>\n",
       "  <tbody>\n",
       "    <tr>\n",
       "      <th>659</th>\n",
       "      <td>NaN</td>\n",
       "      <td>GEN</td>\n",
       "      <td>1993.0</td>\n",
       "      <td>NaN</td>\n",
       "      <td>1.78</td>\n",
       "      <td>0.53</td>\n",
       "      <td>0.00</td>\n",
       "      <td>0.08</td>\n",
       "      <td>NaN</td>\n",
       "      <td>NaN</td>\n",
       "      <td>NaN</td>\n",
       "    </tr>\n",
       "    <tr>\n",
       "      <th>14244</th>\n",
       "      <td>NaN</td>\n",
       "      <td>GEN</td>\n",
       "      <td>1993.0</td>\n",
       "      <td>NaN</td>\n",
       "      <td>0.00</td>\n",
       "      <td>0.00</td>\n",
       "      <td>0.03</td>\n",
       "      <td>0.00</td>\n",
       "      <td>NaN</td>\n",
       "      <td>NaN</td>\n",
       "      <td>NaN</td>\n",
       "    </tr>\n",
       "  </tbody>\n",
       "</table>\n",
       "</div>"
      ],
      "text/plain": [
       "      name platform  year_of_release genre  na_sales  eu_sales  jp_sales  \\\n",
       "659    NaN      GEN           1993.0   NaN      1.78      0.53      0.00   \n",
       "14244  NaN      GEN           1993.0   NaN      0.00      0.00      0.03   \n",
       "\n",
       "       other_sales  critic_score user_score rating  \n",
       "659           0.08           NaN        NaN    NaN  \n",
       "14244         0.00           NaN        NaN    NaN  "
      ]
     },
     "execution_count": 8,
     "metadata": {},
     "output_type": "execute_result"
    }
   ],
   "source": [
    "df.query('genre.isna()')"
   ]
  },
  {
   "cell_type": "markdown",
   "metadata": {},
   "source": [
    "Так как пропуски в одних и тех же строках и мы никак не можем их заполнить. Мы их удалим."
   ]
  },
  {
   "cell_type": "code",
   "execution_count": 9,
   "metadata": {},
   "outputs": [],
   "source": [
    "df.dropna(subset=['name'], inplace=True)\n",
    "df.reset_index(inplace=True,drop=True)"
   ]
  },
  {
   "cell_type": "code",
   "execution_count": 10,
   "metadata": {},
   "outputs": [
    {
     "name": "stdout",
     "output_type": "stream",
     "text": [
      "<class 'pandas.core.frame.DataFrame'>\n",
      "RangeIndex: 16713 entries, 0 to 16712\n",
      "Data columns (total 11 columns):\n",
      " #   Column           Non-Null Count  Dtype  \n",
      "---  ------           --------------  -----  \n",
      " 0   name             16713 non-null  object \n",
      " 1   platform         16713 non-null  object \n",
      " 2   year_of_release  16444 non-null  float64\n",
      " 3   genre            16713 non-null  object \n",
      " 4   na_sales         16713 non-null  float64\n",
      " 5   eu_sales         16713 non-null  float64\n",
      " 6   jp_sales         16713 non-null  float64\n",
      " 7   other_sales      16713 non-null  float64\n",
      " 8   critic_score     8137 non-null   float64\n",
      " 9   user_score       10014 non-null  object \n",
      " 10  rating           9949 non-null   object \n",
      "dtypes: float64(6), object(5)\n",
      "memory usage: 1.4+ MB\n"
     ]
    }
   ],
   "source": [
    "df.info()"
   ]
  },
  {
   "cell_type": "markdown",
   "metadata": {},
   "source": [
    "Практически половина данных отсутствует по столбцам critic_score, rating и user_score.\n",
    "\n",
    "Как поступим:\n",
    "\n",
    "critic_score - оценка критиков - вполне возможно, что игры не оценивались критиками, т.к. тогда не было такого \"обычая\". Было бы неправильно заполнить рейтинг игры средним или медианой, даже если бы мы их считали внутри для каждого жанра отдельно. Тем не менее, чтобы иметь возможность быстрой фильтрации данных и возможность их беспрепятственно обрабатывать, поставим этим играм рейтинг -1 (вдруг у какой-то игры есть нулевой рейтинг, поставив -1, мы никогда не перемешаем игры с NaN и с реально нулевым рейтингом);   \\\n",
    "rating - рейтинг от ESRB - может быть, в те времена не было такой организации, вот и рейтинга от неё тоже нет. Здесь то же самое. Невозможно дать рейтинг игре, посчитав его как среднее рейтингов игр того же жанра. Поставим рейтинг \"No ESRB\";\n",
    "user_score - те же причины, вероятно, ранее не было сервисов, которые собирали бы рейтинги игроков. Поэтому и присутствуют пропуски. Поступим так же, как и со столбцом critic_score.    \\\n",
    "Столбец year_of_release (год выпуска игры) имеет номного пропусков. Не много, но неприятно. Средними/медианами эти пропуски не заполнить, эти данные не являются самыми важными для анализа данных, да и пропусков в столбце не так много. Другими словами, целых данных достаточно для анализа, поэтому оставляем как есть.   \\\n",
    "\n",
    "Ни по одному столбцу заполнить пропуски хотя бы усредненными данными не представляется возможным. Тем не менее, заполним их \"нереальными\" данными для возможности спокойно работать с этими строками по другим параметрам.  \\"
   ]
  },
  {
   "cell_type": "code",
   "execution_count": 11,
   "metadata": {},
   "outputs": [],
   "source": [
    "df['critic_score'] = df['critic_score'].fillna(-1)\n",
    "df['user_score'] = df['user_score'].replace('tbd', np.NaN)\n",
    "\n",
    "df['user_score'] = df['user_score'].fillna(-1)\n",
    "df['year_of_release']=df['year_of_release'].fillna(2100)\n",
    "\n",
    "df['rating']=df['rating'].fillna(-1)\n",
    "df['user_score'] = df['user_score'].astype('float')\n"
   ]
  },
  {
   "cell_type": "code",
   "execution_count": 12,
   "metadata": {},
   "outputs": [],
   "source": [
    "df['year_of_release'] = df['year_of_release'].astype('Int64')"
   ]
  },
  {
   "cell_type": "code",
   "execution_count": 13,
   "metadata": {},
   "outputs": [
    {
     "data": {
      "text/plain": [
       "array([' Beyblade Burst', ' Fire Emblem Fates', \" Frozen: Olaf's Quest\",\n",
       "       ..., 'uDraw Studio: Instant Artist', 'wwe Smackdown vs. Raw 2006',\n",
       "       '¡Shin Chan Flipa en colores!'], dtype=object)"
      ]
     },
     "execution_count": 13,
     "metadata": {},
     "output_type": "execute_result"
    }
   ],
   "source": [
    "df['name'].sort_values(ascending=True).unique()"
   ]
  },
  {
   "cell_type": "code",
   "execution_count": 14,
   "metadata": {},
   "outputs": [],
   "source": [
    "df['total_sales']=df['na_sales']+df['eu_sales']+df['jp_sales']+df['other_sales']\n",
    "# добавим колонку total_sales( общие продажи по всем регионам)"
   ]
  },
  {
   "cell_type": "code",
   "execution_count": 15,
   "metadata": {},
   "outputs": [
    {
     "data": {
      "text/html": [
       "<div>\n",
       "<style scoped>\n",
       "    .dataframe tbody tr th:only-of-type {\n",
       "        vertical-align: middle;\n",
       "    }\n",
       "\n",
       "    .dataframe tbody tr th {\n",
       "        vertical-align: top;\n",
       "    }\n",
       "\n",
       "    .dataframe thead th {\n",
       "        text-align: right;\n",
       "    }\n",
       "</style>\n",
       "<table border=\"1\" class=\"dataframe\">\n",
       "  <thead>\n",
       "    <tr style=\"text-align: right;\">\n",
       "      <th></th>\n",
       "      <th>name</th>\n",
       "      <th>platform</th>\n",
       "      <th>year_of_release</th>\n",
       "      <th>genre</th>\n",
       "      <th>na_sales</th>\n",
       "      <th>eu_sales</th>\n",
       "      <th>jp_sales</th>\n",
       "      <th>other_sales</th>\n",
       "      <th>critic_score</th>\n",
       "      <th>user_score</th>\n",
       "      <th>rating</th>\n",
       "      <th>total_sales</th>\n",
       "    </tr>\n",
       "  </thead>\n",
       "  <tbody>\n",
       "    <tr>\n",
       "      <th>0</th>\n",
       "      <td>Wii Sports</td>\n",
       "      <td>Wii</td>\n",
       "      <td>2006</td>\n",
       "      <td>Sports</td>\n",
       "      <td>41.36</td>\n",
       "      <td>28.96</td>\n",
       "      <td>3.77</td>\n",
       "      <td>8.45</td>\n",
       "      <td>76.0</td>\n",
       "      <td>8.0</td>\n",
       "      <td>E</td>\n",
       "      <td>82.54</td>\n",
       "    </tr>\n",
       "    <tr>\n",
       "      <th>1</th>\n",
       "      <td>Super Mario Bros.</td>\n",
       "      <td>NES</td>\n",
       "      <td>1985</td>\n",
       "      <td>Platform</td>\n",
       "      <td>29.08</td>\n",
       "      <td>3.58</td>\n",
       "      <td>6.81</td>\n",
       "      <td>0.77</td>\n",
       "      <td>-1.0</td>\n",
       "      <td>-1.0</td>\n",
       "      <td>-1</td>\n",
       "      <td>40.24</td>\n",
       "    </tr>\n",
       "    <tr>\n",
       "      <th>2</th>\n",
       "      <td>Mario Kart Wii</td>\n",
       "      <td>Wii</td>\n",
       "      <td>2008</td>\n",
       "      <td>Racing</td>\n",
       "      <td>15.68</td>\n",
       "      <td>12.76</td>\n",
       "      <td>3.79</td>\n",
       "      <td>3.29</td>\n",
       "      <td>82.0</td>\n",
       "      <td>8.3</td>\n",
       "      <td>E</td>\n",
       "      <td>35.52</td>\n",
       "    </tr>\n",
       "    <tr>\n",
       "      <th>3</th>\n",
       "      <td>Wii Sports Resort</td>\n",
       "      <td>Wii</td>\n",
       "      <td>2009</td>\n",
       "      <td>Sports</td>\n",
       "      <td>15.61</td>\n",
       "      <td>10.93</td>\n",
       "      <td>3.28</td>\n",
       "      <td>2.95</td>\n",
       "      <td>80.0</td>\n",
       "      <td>8.0</td>\n",
       "      <td>E</td>\n",
       "      <td>32.77</td>\n",
       "    </tr>\n",
       "    <tr>\n",
       "      <th>4</th>\n",
       "      <td>Pokemon Red/Pokemon Blue</td>\n",
       "      <td>GB</td>\n",
       "      <td>1996</td>\n",
       "      <td>Role-Playing</td>\n",
       "      <td>11.27</td>\n",
       "      <td>8.89</td>\n",
       "      <td>10.22</td>\n",
       "      <td>1.00</td>\n",
       "      <td>-1.0</td>\n",
       "      <td>-1.0</td>\n",
       "      <td>-1</td>\n",
       "      <td>31.38</td>\n",
       "    </tr>\n",
       "    <tr>\n",
       "      <th>5</th>\n",
       "      <td>Tetris</td>\n",
       "      <td>GB</td>\n",
       "      <td>1989</td>\n",
       "      <td>Puzzle</td>\n",
       "      <td>23.20</td>\n",
       "      <td>2.26</td>\n",
       "      <td>4.22</td>\n",
       "      <td>0.58</td>\n",
       "      <td>-1.0</td>\n",
       "      <td>-1.0</td>\n",
       "      <td>-1</td>\n",
       "      <td>30.26</td>\n",
       "    </tr>\n",
       "    <tr>\n",
       "      <th>6</th>\n",
       "      <td>New Super Mario Bros.</td>\n",
       "      <td>DS</td>\n",
       "      <td>2006</td>\n",
       "      <td>Platform</td>\n",
       "      <td>11.28</td>\n",
       "      <td>9.14</td>\n",
       "      <td>6.50</td>\n",
       "      <td>2.88</td>\n",
       "      <td>89.0</td>\n",
       "      <td>8.5</td>\n",
       "      <td>E</td>\n",
       "      <td>29.80</td>\n",
       "    </tr>\n",
       "    <tr>\n",
       "      <th>7</th>\n",
       "      <td>Wii Play</td>\n",
       "      <td>Wii</td>\n",
       "      <td>2006</td>\n",
       "      <td>Misc</td>\n",
       "      <td>13.96</td>\n",
       "      <td>9.18</td>\n",
       "      <td>2.93</td>\n",
       "      <td>2.84</td>\n",
       "      <td>58.0</td>\n",
       "      <td>6.6</td>\n",
       "      <td>E</td>\n",
       "      <td>28.91</td>\n",
       "    </tr>\n",
       "    <tr>\n",
       "      <th>8</th>\n",
       "      <td>New Super Mario Bros. Wii</td>\n",
       "      <td>Wii</td>\n",
       "      <td>2009</td>\n",
       "      <td>Platform</td>\n",
       "      <td>14.44</td>\n",
       "      <td>6.94</td>\n",
       "      <td>4.70</td>\n",
       "      <td>2.24</td>\n",
       "      <td>87.0</td>\n",
       "      <td>8.4</td>\n",
       "      <td>E</td>\n",
       "      <td>28.32</td>\n",
       "    </tr>\n",
       "    <tr>\n",
       "      <th>9</th>\n",
       "      <td>Duck Hunt</td>\n",
       "      <td>NES</td>\n",
       "      <td>1984</td>\n",
       "      <td>Shooter</td>\n",
       "      <td>26.93</td>\n",
       "      <td>0.63</td>\n",
       "      <td>0.28</td>\n",
       "      <td>0.47</td>\n",
       "      <td>-1.0</td>\n",
       "      <td>-1.0</td>\n",
       "      <td>-1</td>\n",
       "      <td>28.31</td>\n",
       "    </tr>\n",
       "  </tbody>\n",
       "</table>\n",
       "</div>"
      ],
      "text/plain": [
       "                        name platform  year_of_release         genre  \\\n",
       "0                 Wii Sports      Wii             2006        Sports   \n",
       "1          Super Mario Bros.      NES             1985      Platform   \n",
       "2             Mario Kart Wii      Wii             2008        Racing   \n",
       "3          Wii Sports Resort      Wii             2009        Sports   \n",
       "4   Pokemon Red/Pokemon Blue       GB             1996  Role-Playing   \n",
       "5                     Tetris       GB             1989        Puzzle   \n",
       "6      New Super Mario Bros.       DS             2006      Platform   \n",
       "7                   Wii Play      Wii             2006          Misc   \n",
       "8  New Super Mario Bros. Wii      Wii             2009      Platform   \n",
       "9                  Duck Hunt      NES             1984       Shooter   \n",
       "\n",
       "   na_sales  eu_sales  jp_sales  other_sales  critic_score  user_score rating  \\\n",
       "0     41.36     28.96      3.77         8.45          76.0         8.0      E   \n",
       "1     29.08      3.58      6.81         0.77          -1.0        -1.0     -1   \n",
       "2     15.68     12.76      3.79         3.29          82.0         8.3      E   \n",
       "3     15.61     10.93      3.28         2.95          80.0         8.0      E   \n",
       "4     11.27      8.89     10.22         1.00          -1.0        -1.0     -1   \n",
       "5     23.20      2.26      4.22         0.58          -1.0        -1.0     -1   \n",
       "6     11.28      9.14      6.50         2.88          89.0         8.5      E   \n",
       "7     13.96      9.18      2.93         2.84          58.0         6.6      E   \n",
       "8     14.44      6.94      4.70         2.24          87.0         8.4      E   \n",
       "9     26.93      0.63      0.28         0.47          -1.0        -1.0     -1   \n",
       "\n",
       "   total_sales  \n",
       "0        82.54  \n",
       "1        40.24  \n",
       "2        35.52  \n",
       "3        32.77  \n",
       "4        31.38  \n",
       "5        30.26  \n",
       "6        29.80  \n",
       "7        28.91  \n",
       "8        28.32  \n",
       "9        28.31  "
      ]
     },
     "execution_count": 15,
     "metadata": {},
     "output_type": "execute_result"
    }
   ],
   "source": [
    "df.head(10)"
   ]
  },
  {
   "cell_type": "code",
   "execution_count": 16,
   "metadata": {},
   "outputs": [
    {
     "name": "stdout",
     "output_type": "stream",
     "text": [
      "<class 'pandas.core.frame.DataFrame'>\n",
      "RangeIndex: 16713 entries, 0 to 16712\n",
      "Data columns (total 12 columns):\n",
      " #   Column           Non-Null Count  Dtype  \n",
      "---  ------           --------------  -----  \n",
      " 0   name             16713 non-null  object \n",
      " 1   platform         16713 non-null  object \n",
      " 2   year_of_release  16713 non-null  Int64  \n",
      " 3   genre            16713 non-null  object \n",
      " 4   na_sales         16713 non-null  float64\n",
      " 5   eu_sales         16713 non-null  float64\n",
      " 6   jp_sales         16713 non-null  float64\n",
      " 7   other_sales      16713 non-null  float64\n",
      " 8   critic_score     16713 non-null  float64\n",
      " 9   user_score       16713 non-null  float64\n",
      " 10  rating           16713 non-null  object \n",
      " 11  total_sales      16713 non-null  float64\n",
      "dtypes: Int64(1), float64(7), object(4)\n",
      "memory usage: 1.5+ MB\n"
     ]
    }
   ],
   "source": [
    "df.info()"
   ]
  },
  {
   "cell_type": "code",
   "execution_count": 17,
   "metadata": {},
   "outputs": [
    {
     "data": {
      "text/plain": [
       "array([ 8. , -1. ,  8.3,  8.5,  6.6,  8.4,  8.6,  7.7,  6.3,  7.4,  8.2,\n",
       "        9. ,  7.9,  8.1,  8.7,  7.1,  3.4,  5.3,  4.8,  3.2,  8.9,  6.4,\n",
       "        7.8,  7.5,  2.6,  7.2,  9.2,  7. ,  7.3,  4.3,  7.6,  5.7,  5. ,\n",
       "        9.1,  6.5,  8.8,  6.9,  9.4,  6.8,  6.1,  6.7,  5.4,  4. ,  4.9,\n",
       "        4.5,  9.3,  6.2,  4.2,  6. ,  3.7,  4.1,  5.8,  5.6,  5.5,  4.4,\n",
       "        4.6,  5.9,  3.9,  3.1,  2.9,  5.2,  3.3,  4.7,  5.1,  3.5,  2.5,\n",
       "        1.9,  3. ,  2.7,  2.2,  2. ,  9.5,  2.1,  3.6,  2.8,  1.8,  3.8,\n",
       "        0. ,  1.6,  9.6,  2.4,  1.7,  1.1,  0.3,  1.5,  0.7,  1.2,  2.3,\n",
       "        0.5,  1.3,  0.2,  0.6,  1.4,  0.9,  1. ,  9.7])"
      ]
     },
     "execution_count": 17,
     "metadata": {},
     "output_type": "execute_result"
    }
   ],
   "source": [
    "df['user_score'].unique()\n",
    "\n"
   ]
  },
  {
   "cell_type": "raw",
   "metadata": {},
   "source": [
    "Вывод\n",
    "Удалено 2 строки-дубликата. Было много пропусков, но заполнять их средними или медианами нельзя-это повлияет на следующий анализ. В колонке years были пропуски их я заменила на -1. Потому что заменить на среднее или медиану не представляется возможности. \n",
    "Создала колонку total_sales, которая показывает общие продажи по всему миру."
   ]
  },
  {
   "cell_type": "markdown",
   "metadata": {},
   "source": [
    "## Исследовательский анализ данных"
   ]
  },
  {
   "cell_type": "markdown",
   "metadata": {},
   "source": [
    "### Сколько игр выпускалось за разные годы. Важны ли эти данные за все периоды"
   ]
  },
  {
   "cell_type": "code",
   "execution_count": 18,
   "metadata": {},
   "outputs": [
    {
     "data": {
      "text/html": [
       "<div>\n",
       "<style scoped>\n",
       "    .dataframe tbody tr th:only-of-type {\n",
       "        vertical-align: middle;\n",
       "    }\n",
       "\n",
       "    .dataframe tbody tr th {\n",
       "        vertical-align: top;\n",
       "    }\n",
       "\n",
       "    .dataframe thead th {\n",
       "        text-align: right;\n",
       "    }\n",
       "</style>\n",
       "<table border=\"1\" class=\"dataframe\">\n",
       "  <thead>\n",
       "    <tr style=\"text-align: right;\">\n",
       "      <th></th>\n",
       "      <th>year</th>\n",
       "      <th>quantity</th>\n",
       "    </tr>\n",
       "  </thead>\n",
       "  <tbody>\n",
       "    <tr>\n",
       "      <th>0</th>\n",
       "      <td>1980</td>\n",
       "      <td>9</td>\n",
       "    </tr>\n",
       "    <tr>\n",
       "      <th>1</th>\n",
       "      <td>1981</td>\n",
       "      <td>46</td>\n",
       "    </tr>\n",
       "    <tr>\n",
       "      <th>2</th>\n",
       "      <td>1982</td>\n",
       "      <td>36</td>\n",
       "    </tr>\n",
       "    <tr>\n",
       "      <th>3</th>\n",
       "      <td>1983</td>\n",
       "      <td>17</td>\n",
       "    </tr>\n",
       "    <tr>\n",
       "      <th>4</th>\n",
       "      <td>1984</td>\n",
       "      <td>14</td>\n",
       "    </tr>\n",
       "    <tr>\n",
       "      <th>5</th>\n",
       "      <td>1985</td>\n",
       "      <td>14</td>\n",
       "    </tr>\n",
       "    <tr>\n",
       "      <th>6</th>\n",
       "      <td>1986</td>\n",
       "      <td>21</td>\n",
       "    </tr>\n",
       "    <tr>\n",
       "      <th>7</th>\n",
       "      <td>1987</td>\n",
       "      <td>16</td>\n",
       "    </tr>\n",
       "    <tr>\n",
       "      <th>8</th>\n",
       "      <td>1988</td>\n",
       "      <td>15</td>\n",
       "    </tr>\n",
       "    <tr>\n",
       "      <th>9</th>\n",
       "      <td>1989</td>\n",
       "      <td>17</td>\n",
       "    </tr>\n",
       "    <tr>\n",
       "      <th>10</th>\n",
       "      <td>1990</td>\n",
       "      <td>16</td>\n",
       "    </tr>\n",
       "    <tr>\n",
       "      <th>11</th>\n",
       "      <td>1991</td>\n",
       "      <td>41</td>\n",
       "    </tr>\n",
       "    <tr>\n",
       "      <th>12</th>\n",
       "      <td>1992</td>\n",
       "      <td>43</td>\n",
       "    </tr>\n",
       "    <tr>\n",
       "      <th>13</th>\n",
       "      <td>1993</td>\n",
       "      <td>60</td>\n",
       "    </tr>\n",
       "    <tr>\n",
       "      <th>14</th>\n",
       "      <td>1994</td>\n",
       "      <td>121</td>\n",
       "    </tr>\n",
       "    <tr>\n",
       "      <th>15</th>\n",
       "      <td>1995</td>\n",
       "      <td>219</td>\n",
       "    </tr>\n",
       "    <tr>\n",
       "      <th>16</th>\n",
       "      <td>1996</td>\n",
       "      <td>263</td>\n",
       "    </tr>\n",
       "    <tr>\n",
       "      <th>17</th>\n",
       "      <td>1997</td>\n",
       "      <td>289</td>\n",
       "    </tr>\n",
       "    <tr>\n",
       "      <th>18</th>\n",
       "      <td>1998</td>\n",
       "      <td>379</td>\n",
       "    </tr>\n",
       "    <tr>\n",
       "      <th>19</th>\n",
       "      <td>1999</td>\n",
       "      <td>338</td>\n",
       "    </tr>\n",
       "    <tr>\n",
       "      <th>20</th>\n",
       "      <td>2000</td>\n",
       "      <td>350</td>\n",
       "    </tr>\n",
       "    <tr>\n",
       "      <th>21</th>\n",
       "      <td>2001</td>\n",
       "      <td>482</td>\n",
       "    </tr>\n",
       "    <tr>\n",
       "      <th>22</th>\n",
       "      <td>2002</td>\n",
       "      <td>829</td>\n",
       "    </tr>\n",
       "    <tr>\n",
       "      <th>23</th>\n",
       "      <td>2003</td>\n",
       "      <td>775</td>\n",
       "    </tr>\n",
       "    <tr>\n",
       "      <th>24</th>\n",
       "      <td>2004</td>\n",
       "      <td>762</td>\n",
       "    </tr>\n",
       "    <tr>\n",
       "      <th>25</th>\n",
       "      <td>2005</td>\n",
       "      <td>939</td>\n",
       "    </tr>\n",
       "    <tr>\n",
       "      <th>26</th>\n",
       "      <td>2006</td>\n",
       "      <td>1006</td>\n",
       "    </tr>\n",
       "    <tr>\n",
       "      <th>27</th>\n",
       "      <td>2007</td>\n",
       "      <td>1197</td>\n",
       "    </tr>\n",
       "    <tr>\n",
       "      <th>28</th>\n",
       "      <td>2008</td>\n",
       "      <td>1427</td>\n",
       "    </tr>\n",
       "    <tr>\n",
       "      <th>29</th>\n",
       "      <td>2009</td>\n",
       "      <td>1426</td>\n",
       "    </tr>\n",
       "    <tr>\n",
       "      <th>30</th>\n",
       "      <td>2010</td>\n",
       "      <td>1255</td>\n",
       "    </tr>\n",
       "    <tr>\n",
       "      <th>31</th>\n",
       "      <td>2011</td>\n",
       "      <td>1136</td>\n",
       "    </tr>\n",
       "    <tr>\n",
       "      <th>32</th>\n",
       "      <td>2012</td>\n",
       "      <td>653</td>\n",
       "    </tr>\n",
       "    <tr>\n",
       "      <th>33</th>\n",
       "      <td>2013</td>\n",
       "      <td>544</td>\n",
       "    </tr>\n",
       "    <tr>\n",
       "      <th>34</th>\n",
       "      <td>2014</td>\n",
       "      <td>581</td>\n",
       "    </tr>\n",
       "    <tr>\n",
       "      <th>35</th>\n",
       "      <td>2015</td>\n",
       "      <td>606</td>\n",
       "    </tr>\n",
       "    <tr>\n",
       "      <th>36</th>\n",
       "      <td>2016</td>\n",
       "      <td>502</td>\n",
       "    </tr>\n",
       "    <tr>\n",
       "      <th>37</th>\n",
       "      <td>2100</td>\n",
       "      <td>269</td>\n",
       "    </tr>\n",
       "  </tbody>\n",
       "</table>\n",
       "</div>"
      ],
      "text/plain": [
       "    year  quantity\n",
       "0   1980         9\n",
       "1   1981        46\n",
       "2   1982        36\n",
       "3   1983        17\n",
       "4   1984        14\n",
       "5   1985        14\n",
       "6   1986        21\n",
       "7   1987        16\n",
       "8   1988        15\n",
       "9   1989        17\n",
       "10  1990        16\n",
       "11  1991        41\n",
       "12  1992        43\n",
       "13  1993        60\n",
       "14  1994       121\n",
       "15  1995       219\n",
       "16  1996       263\n",
       "17  1997       289\n",
       "18  1998       379\n",
       "19  1999       338\n",
       "20  2000       350\n",
       "21  2001       482\n",
       "22  2002       829\n",
       "23  2003       775\n",
       "24  2004       762\n",
       "25  2005       939\n",
       "26  2006      1006\n",
       "27  2007      1197\n",
       "28  2008      1427\n",
       "29  2009      1426\n",
       "30  2010      1255\n",
       "31  2011      1136\n",
       "32  2012       653\n",
       "33  2013       544\n",
       "34  2014       581\n",
       "35  2015       606\n",
       "36  2016       502\n",
       "37  2100       269"
      ]
     },
     "execution_count": 18,
     "metadata": {},
     "output_type": "execute_result"
    }
   ],
   "source": [
    "time_release = df.groupby('year_of_release')['name'].count().reset_index()\n",
    "time_release.columns = ['year', 'quantity']\n",
    "time_release"
   ]
  },
  {
   "cell_type": "code",
   "execution_count": 19,
   "metadata": {},
   "outputs": [
    {
     "data": {
      "image/png": "[encoded data removed]",
      "text/plain": [
       "<Figure size 1440x720 with 1 Axes>"
      ]
     },
     "metadata": {
      "needs_background": "light"
     },
     "output_type": "display_data"
    }
   ],
   "source": [
    "plt.figure(figsize=(20, 10))\n",
    "sns.barplot(x = 'year', y = 'quantity', data = time_release)\n",
    "plt.title(\"Проданные игры по годам\")\n",
    "plt.show()\n",
    "# Черная линия указывает на интервал доверенности"
   ]
  },
  {
   "cell_type": "markdown",
   "metadata": {},
   "source": [
    "По графику видно, что самый большой пик продаж пришелся на 2008-2009 годы. После- пошел на спад, в связи с появлением мобильных гаджетов."
   ]
  },
  {
   "cell_type": "markdown",
   "metadata": {},
   "source": [
    "### Как менялись продажи по платформам"
   ]
  },
  {
   "cell_type": "code",
   "execution_count": 20,
   "metadata": {},
   "outputs": [
    {
     "data": {
      "text/html": [
       "<div>\n",
       "<style scoped>\n",
       "    .dataframe tbody tr th:only-of-type {\n",
       "        vertical-align: middle;\n",
       "    }\n",
       "\n",
       "    .dataframe tbody tr th {\n",
       "        vertical-align: top;\n",
       "    }\n",
       "\n",
       "    .dataframe thead th {\n",
       "        text-align: right;\n",
       "    }\n",
       "</style>\n",
       "<table border=\"1\" class=\"dataframe\">\n",
       "  <thead>\n",
       "    <tr style=\"text-align: right;\">\n",
       "      <th></th>\n",
       "      <th>total_sales</th>\n",
       "    </tr>\n",
       "    <tr>\n",
       "      <th>platform</th>\n",
       "      <th></th>\n",
       "    </tr>\n",
       "  </thead>\n",
       "  <tbody>\n",
       "    <tr>\n",
       "      <th>PS2</th>\n",
       "      <td>1255.77</td>\n",
       "    </tr>\n",
       "    <tr>\n",
       "      <th>X360</th>\n",
       "      <td>971.42</td>\n",
       "    </tr>\n",
       "    <tr>\n",
       "      <th>PS3</th>\n",
       "      <td>939.65</td>\n",
       "    </tr>\n",
       "    <tr>\n",
       "      <th>Wii</th>\n",
       "      <td>907.51</td>\n",
       "    </tr>\n",
       "    <tr>\n",
       "      <th>DS</th>\n",
       "      <td>806.12</td>\n",
       "    </tr>\n",
       "    <tr>\n",
       "      <th>PS</th>\n",
       "      <td>730.86</td>\n",
       "    </tr>\n",
       "    <tr>\n",
       "      <th>GBA</th>\n",
       "      <td>317.85</td>\n",
       "    </tr>\n",
       "    <tr>\n",
       "      <th>PS4</th>\n",
       "      <td>314.14</td>\n",
       "    </tr>\n",
       "    <tr>\n",
       "      <th>PSP</th>\n",
       "      <td>294.05</td>\n",
       "    </tr>\n",
       "    <tr>\n",
       "      <th>PC</th>\n",
       "      <td>259.52</td>\n",
       "    </tr>\n",
       "    <tr>\n",
       "      <th>3DS</th>\n",
       "      <td>259.00</td>\n",
       "    </tr>\n",
       "    <tr>\n",
       "      <th>XB</th>\n",
       "      <td>257.74</td>\n",
       "    </tr>\n",
       "    <tr>\n",
       "      <th>GB</th>\n",
       "      <td>255.46</td>\n",
       "    </tr>\n",
       "    <tr>\n",
       "      <th>NES</th>\n",
       "      <td>251.05</td>\n",
       "    </tr>\n",
       "    <tr>\n",
       "      <th>N64</th>\n",
       "      <td>218.68</td>\n",
       "    </tr>\n",
       "    <tr>\n",
       "      <th>SNES</th>\n",
       "      <td>200.04</td>\n",
       "    </tr>\n",
       "    <tr>\n",
       "      <th>GC</th>\n",
       "      <td>198.93</td>\n",
       "    </tr>\n",
       "    <tr>\n",
       "      <th>XOne</th>\n",
       "      <td>159.32</td>\n",
       "    </tr>\n",
       "    <tr>\n",
       "      <th>2600</th>\n",
       "      <td>96.98</td>\n",
       "    </tr>\n",
       "    <tr>\n",
       "      <th>WiiU</th>\n",
       "      <td>82.19</td>\n",
       "    </tr>\n",
       "  </tbody>\n",
       "</table>\n",
       "</div>"
      ],
      "text/plain": [
       "          total_sales\n",
       "platform             \n",
       "PS2           1255.77\n",
       "X360           971.42\n",
       "PS3            939.65\n",
       "Wii            907.51\n",
       "DS             806.12\n",
       "PS             730.86\n",
       "GBA            317.85\n",
       "PS4            314.14\n",
       "PSP            294.05\n",
       "PC             259.52\n",
       "3DS            259.00\n",
       "XB             257.74\n",
       "GB             255.46\n",
       "NES            251.05\n",
       "N64            218.68\n",
       "SNES           200.04\n",
       "GC             198.93\n",
       "XOne           159.32\n",
       "2600            96.98\n",
       "WiiU            82.19"
      ]
     },
     "execution_count": 20,
     "metadata": {},
     "output_type": "execute_result"
    }
   ],
   "source": [
    "plat=df.groupby('platform')['total_sales'].sum().sort_values(ascending=False).reset_index()\n",
    "\n",
    "platt=df.pivot_table('total_sales', \n",
    "                index = 'platform', \n",
    "                aggfunc = 'sum').sort_values(by = 'total_sales', ascending = False).head(20)\n",
    "platt"
   ]
  },
  {
   "cell_type": "code",
   "execution_count": 21,
   "metadata": {},
   "outputs": [
    {
     "data": {
      "image/png": "[encoded data removed]",
      "text/plain": [
       "<Figure size 1440x720 with 1 Axes>"
      ]
     },
     "metadata": {
      "needs_background": "light"
     },
     "output_type": "display_data"
    }
   ],
   "source": [
    "plt.figure(figsize=(20,10))\n",
    "sns.barplot(x = 'total_sales', y = 'platform', data = plat)\n",
    "plt.title(\"Количество проданных игр по платформам, млн.\")\n",
    "plt.show()"
   ]
  },
  {
   "cell_type": "markdown",
   "metadata": {},
   "source": [
    "Видим, что наибольшее число продаж приходится на платформы PS2,X360,PS3,Wii,DS и PS. Их мы и будем изучать.  Причем разница в продажах между популярными и не очень популярными очень заметна.(почти в 2,5 раза). Среди всех популярных платформ сильно выделяетс PS2(более 1200 млн проданных копий)"
   ]
  },
  {
   "cell_type": "code",
   "execution_count": 22,
   "metadata": {},
   "outputs": [
    {
     "data": {
      "text/html": [
       "<div>\n",
       "<style scoped>\n",
       "    .dataframe tbody tr th:only-of-type {\n",
       "        vertical-align: middle;\n",
       "    }\n",
       "\n",
       "    .dataframe tbody tr th {\n",
       "        vertical-align: top;\n",
       "    }\n",
       "\n",
       "    .dataframe thead th {\n",
       "        text-align: right;\n",
       "    }\n",
       "</style>\n",
       "<table border=\"1\" class=\"dataframe\">\n",
       "  <thead>\n",
       "    <tr style=\"text-align: right;\">\n",
       "      <th>platform</th>\n",
       "      <th>DS</th>\n",
       "      <th>PS</th>\n",
       "      <th>PS2</th>\n",
       "      <th>PS3</th>\n",
       "      <th>Wii</th>\n",
       "      <th>X360</th>\n",
       "    </tr>\n",
       "    <tr>\n",
       "      <th>year_of_release</th>\n",
       "      <th></th>\n",
       "      <th></th>\n",
       "      <th></th>\n",
       "      <th></th>\n",
       "      <th></th>\n",
       "      <th></th>\n",
       "    </tr>\n",
       "  </thead>\n",
       "  <tbody>\n",
       "    <tr>\n",
       "      <th>1985</th>\n",
       "      <td>0.02</td>\n",
       "      <td>NaN</td>\n",
       "      <td>NaN</td>\n",
       "      <td>NaN</td>\n",
       "      <td>NaN</td>\n",
       "      <td>NaN</td>\n",
       "    </tr>\n",
       "    <tr>\n",
       "      <th>1994</th>\n",
       "      <td>NaN</td>\n",
       "      <td>6.03</td>\n",
       "      <td>NaN</td>\n",
       "      <td>NaN</td>\n",
       "      <td>NaN</td>\n",
       "      <td>NaN</td>\n",
       "    </tr>\n",
       "    <tr>\n",
       "      <th>1995</th>\n",
       "      <td>NaN</td>\n",
       "      <td>35.96</td>\n",
       "      <td>NaN</td>\n",
       "      <td>NaN</td>\n",
       "      <td>NaN</td>\n",
       "      <td>NaN</td>\n",
       "    </tr>\n",
       "    <tr>\n",
       "      <th>1996</th>\n",
       "      <td>NaN</td>\n",
       "      <td>94.70</td>\n",
       "      <td>NaN</td>\n",
       "      <td>NaN</td>\n",
       "      <td>NaN</td>\n",
       "      <td>NaN</td>\n",
       "    </tr>\n",
       "    <tr>\n",
       "      <th>1997</th>\n",
       "      <td>NaN</td>\n",
       "      <td>136.17</td>\n",
       "      <td>NaN</td>\n",
       "      <td>NaN</td>\n",
       "      <td>NaN</td>\n",
       "      <td>NaN</td>\n",
       "    </tr>\n",
       "    <tr>\n",
       "      <th>1998</th>\n",
       "      <td>NaN</td>\n",
       "      <td>169.49</td>\n",
       "      <td>NaN</td>\n",
       "      <td>NaN</td>\n",
       "      <td>NaN</td>\n",
       "      <td>NaN</td>\n",
       "    </tr>\n",
       "    <tr>\n",
       "      <th>1999</th>\n",
       "      <td>NaN</td>\n",
       "      <td>144.53</td>\n",
       "      <td>NaN</td>\n",
       "      <td>NaN</td>\n",
       "      <td>NaN</td>\n",
       "      <td>NaN</td>\n",
       "    </tr>\n",
       "    <tr>\n",
       "      <th>2000</th>\n",
       "      <td>NaN</td>\n",
       "      <td>96.37</td>\n",
       "      <td>39.17</td>\n",
       "      <td>NaN</td>\n",
       "      <td>NaN</td>\n",
       "      <td>NaN</td>\n",
       "    </tr>\n",
       "    <tr>\n",
       "      <th>2001</th>\n",
       "      <td>NaN</td>\n",
       "      <td>35.59</td>\n",
       "      <td>166.43</td>\n",
       "      <td>NaN</td>\n",
       "      <td>NaN</td>\n",
       "      <td>NaN</td>\n",
       "    </tr>\n",
       "    <tr>\n",
       "      <th>2002</th>\n",
       "      <td>NaN</td>\n",
       "      <td>6.67</td>\n",
       "      <td>205.38</td>\n",
       "      <td>NaN</td>\n",
       "      <td>NaN</td>\n",
       "      <td>NaN</td>\n",
       "    </tr>\n",
       "    <tr>\n",
       "      <th>2003</th>\n",
       "      <td>NaN</td>\n",
       "      <td>2.07</td>\n",
       "      <td>184.31</td>\n",
       "      <td>NaN</td>\n",
       "      <td>NaN</td>\n",
       "      <td>NaN</td>\n",
       "    </tr>\n",
       "    <tr>\n",
       "      <th>2004</th>\n",
       "      <td>17.27</td>\n",
       "      <td>NaN</td>\n",
       "      <td>211.81</td>\n",
       "      <td>NaN</td>\n",
       "      <td>NaN</td>\n",
       "      <td>NaN</td>\n",
       "    </tr>\n",
       "    <tr>\n",
       "      <th>2005</th>\n",
       "      <td>130.14</td>\n",
       "      <td>NaN</td>\n",
       "      <td>160.66</td>\n",
       "      <td>NaN</td>\n",
       "      <td>NaN</td>\n",
       "      <td>8.25</td>\n",
       "    </tr>\n",
       "    <tr>\n",
       "      <th>2006</th>\n",
       "      <td>119.81</td>\n",
       "      <td>NaN</td>\n",
       "      <td>103.42</td>\n",
       "      <td>20.96</td>\n",
       "      <td>137.15</td>\n",
       "      <td>51.62</td>\n",
       "    </tr>\n",
       "    <tr>\n",
       "      <th>2007</th>\n",
       "      <td>146.94</td>\n",
       "      <td>NaN</td>\n",
       "      <td>75.99</td>\n",
       "      <td>73.19</td>\n",
       "      <td>152.77</td>\n",
       "      <td>95.41</td>\n",
       "    </tr>\n",
       "    <tr>\n",
       "      <th>2008</th>\n",
       "      <td>145.31</td>\n",
       "      <td>NaN</td>\n",
       "      <td>53.90</td>\n",
       "      <td>118.52</td>\n",
       "      <td>171.32</td>\n",
       "      <td>135.26</td>\n",
       "    </tr>\n",
       "    <tr>\n",
       "      <th>2009</th>\n",
       "      <td>119.54</td>\n",
       "      <td>NaN</td>\n",
       "      <td>26.40</td>\n",
       "      <td>130.93</td>\n",
       "      <td>206.97</td>\n",
       "      <td>120.29</td>\n",
       "    </tr>\n",
       "    <tr>\n",
       "      <th>2010</th>\n",
       "      <td>85.02</td>\n",
       "      <td>NaN</td>\n",
       "      <td>5.64</td>\n",
       "      <td>142.17</td>\n",
       "      <td>127.95</td>\n",
       "      <td>170.03</td>\n",
       "    </tr>\n",
       "    <tr>\n",
       "      <th>2011</th>\n",
       "      <td>26.18</td>\n",
       "      <td>NaN</td>\n",
       "      <td>0.45</td>\n",
       "      <td>156.78</td>\n",
       "      <td>59.65</td>\n",
       "      <td>143.84</td>\n",
       "    </tr>\n",
       "    <tr>\n",
       "      <th>2012</th>\n",
       "      <td>11.01</td>\n",
       "      <td>NaN</td>\n",
       "      <td>NaN</td>\n",
       "      <td>107.36</td>\n",
       "      <td>21.71</td>\n",
       "      <td>99.74</td>\n",
       "    </tr>\n",
       "    <tr>\n",
       "      <th>2013</th>\n",
       "      <td>1.54</td>\n",
       "      <td>NaN</td>\n",
       "      <td>NaN</td>\n",
       "      <td>113.25</td>\n",
       "      <td>8.59</td>\n",
       "      <td>88.58</td>\n",
       "    </tr>\n",
       "    <tr>\n",
       "      <th>2014</th>\n",
       "      <td>NaN</td>\n",
       "      <td>NaN</td>\n",
       "      <td>NaN</td>\n",
       "      <td>47.76</td>\n",
       "      <td>3.75</td>\n",
       "      <td>34.74</td>\n",
       "    </tr>\n",
       "    <tr>\n",
       "      <th>2015</th>\n",
       "      <td>NaN</td>\n",
       "      <td>NaN</td>\n",
       "      <td>NaN</td>\n",
       "      <td>16.82</td>\n",
       "      <td>1.14</td>\n",
       "      <td>11.96</td>\n",
       "    </tr>\n",
       "    <tr>\n",
       "      <th>2016</th>\n",
       "      <td>NaN</td>\n",
       "      <td>NaN</td>\n",
       "      <td>NaN</td>\n",
       "      <td>3.60</td>\n",
       "      <td>0.18</td>\n",
       "      <td>1.52</td>\n",
       "    </tr>\n",
       "    <tr>\n",
       "      <th>2100</th>\n",
       "      <td>3.34</td>\n",
       "      <td>3.28</td>\n",
       "      <td>22.21</td>\n",
       "      <td>8.31</td>\n",
       "      <td>16.33</td>\n",
       "      <td>10.18</td>\n",
       "    </tr>\n",
       "  </tbody>\n",
       "</table>\n",
       "</div>"
      ],
      "text/plain": [
       "platform             DS      PS     PS2     PS3     Wii    X360\n",
       "year_of_release                                                \n",
       "1985               0.02     NaN     NaN     NaN     NaN     NaN\n",
       "1994                NaN    6.03     NaN     NaN     NaN     NaN\n",
       "1995                NaN   35.96     NaN     NaN     NaN     NaN\n",
       "1996                NaN   94.70     NaN     NaN     NaN     NaN\n",
       "1997                NaN  136.17     NaN     NaN     NaN     NaN\n",
       "1998                NaN  169.49     NaN     NaN     NaN     NaN\n",
       "1999                NaN  144.53     NaN     NaN     NaN     NaN\n",
       "2000                NaN   96.37   39.17     NaN     NaN     NaN\n",
       "2001                NaN   35.59  166.43     NaN     NaN     NaN\n",
       "2002                NaN    6.67  205.38     NaN     NaN     NaN\n",
       "2003                NaN    2.07  184.31     NaN     NaN     NaN\n",
       "2004              17.27     NaN  211.81     NaN     NaN     NaN\n",
       "2005             130.14     NaN  160.66     NaN     NaN    8.25\n",
       "2006             119.81     NaN  103.42   20.96  137.15   51.62\n",
       "2007             146.94     NaN   75.99   73.19  152.77   95.41\n",
       "2008             145.31     NaN   53.90  118.52  171.32  135.26\n",
       "2009             119.54     NaN   26.40  130.93  206.97  120.29\n",
       "2010              85.02     NaN    5.64  142.17  127.95  170.03\n",
       "2011              26.18     NaN    0.45  156.78   59.65  143.84\n",
       "2012              11.01     NaN     NaN  107.36   21.71   99.74\n",
       "2013               1.54     NaN     NaN  113.25    8.59   88.58\n",
       "2014                NaN     NaN     NaN   47.76    3.75   34.74\n",
       "2015                NaN     NaN     NaN   16.82    1.14   11.96\n",
       "2016                NaN     NaN     NaN    3.60    0.18    1.52\n",
       "2100               3.34    3.28   22.21    8.31   16.33   10.18"
      ]
     },
     "execution_count": 22,
     "metadata": {},
     "output_type": "execute_result"
    }
   ],
   "source": [
    "popul_plat=df[df['platform'].isin(['PS2','X360','PS3','Wii','DS','PS'])]\n",
    "popul_plat=platt.head(6).index.to_list()\n",
    "popul_plat\n",
    "popul_platt=df.query('platform.isin(@popul_plat)').pivot_table(index='year_of_release', \n",
    "                                                                            columns='platform', \n",
    "                                                                            values='total_sales', \n",
    "                                                                            aggfunc='sum')\n",
    "popul_platt"
   ]
  },
  {
   "cell_type": "code",
   "execution_count": 23,
   "metadata": {},
   "outputs": [
    {
     "data": {
      "image/png": "[encoded data removed]",
      "text/plain": [
       "<Figure size 1080x360 with 1 Axes>"
      ]
     },
     "metadata": {
      "needs_background": "light"
     },
     "output_type": "display_data"
    }
   ],
   "source": [
    "popul_platt.plot(grid=True, figsize=(15, 5), style ='o-')\n",
    "plt.xlim(1990, 2018)\n",
    "plt.title('Суммарные продажи самых популярных платформ по годам')\n",
    "plt.ylabel('Суммарные продажи, млн.проданных копий')\n",
    "plt.xlabel('Года')\n",
    "plt.show()"
   ]
  },
  {
   "cell_type": "markdown",
   "metadata": {},
   "source": [
    "По графику видно, что средняя \"продолжительность\" платформ 10-12 лет. За это время они проходят все стадии: от начала запуска и появления популярности, до спада и прекращения продаж. У платформы PS2 было 2 пика популярности, но это и не удивительно... в это время не было альтернативы. после 2005 года сразу несколько платформ боролись за пользователей. Причем Wii начала продажи сразу отлично( около 140 млн проданный копий), когда остальные начинали с 10 млн проданный копий. "
   ]
  },
  {
   "cell_type": "markdown",
   "metadata": {},
   "source": [
    "### Прогноз на 2017 год"
   ]
  },
  {
   "cell_type": "code",
   "execution_count": 24,
   "metadata": {},
   "outputs": [],
   "source": [
    "plat_2012=df.query('2012<year_of_release<2020')"
   ]
  },
  {
   "cell_type": "code",
   "execution_count": 25,
   "metadata": {},
   "outputs": [
    {
     "data": {
      "image/png": "[encoded data removed]",
      "text/plain": [
       "<Figure size 1080x360 with 1 Axes>"
      ]
     },
     "metadata": {
      "needs_background": "light"
     },
     "output_type": "display_data"
    }
   ],
   "source": [
    "plat_2012.pivot_table(index='year_of_release',\n",
    "                      columns='platform',\n",
    "                      values='total_sales',\n",
    "                      aggfunc='sum').plot(grid=True, figsize=(15, 5), style ='o-')\n",
    "plt.show()"
   ]
  },
  {
   "cell_type": "markdown",
   "metadata": {},
   "source": [
    "Видим, что популярность игрвых платформ падает. В лидерах конечно остаются еще PS4 и XOne. Но и они теряют своих покупателей."
   ]
  },
  {
   "cell_type": "markdown",
   "metadata": {},
   "source": [
    "### График «ящик с усами» по глобальным продажам игр в разбивке по платформам"
   ]
  },
  {
   "cell_type": "markdown",
   "metadata": {},
   "source": [
    "Для построения \"ящика с усами\" возьмем те же популярные платформы. "
   ]
  },
  {
   "cell_type": "code",
   "execution_count": 26,
   "metadata": {},
   "outputs": [
    {
     "data": {
      "image/png": "[encoded data removed]",
      "text/plain": [
       "<Figure size 720x360 with 1 Axes>"
      ]
     },
     "metadata": {
      "needs_background": "light"
     },
     "output_type": "display_data"
    }
   ],
   "source": [
    "top_plat=['PS2','X360','PS3','Wii','DS','PS','PS4']\n",
    "plt.figure(figsize=(10,5))\n",
    "top_plat_box=sns.boxplot(x=\"platform\", y=\"total_sales\", data=df.query('platform.isin(@top_plat)'), palette=\"Set2\")\n",
    "top_plat_box.set (ylim=(0,3))\n",
    "plt.ylabel('Суммарные продажи, млн.проданных копий')\n",
    "plt.xlabel('Платформы')\n",
    "plt.title('Boxplot для продаж по платформам')\n",
    "plt.show()"
   ]
  },
  {
   "cell_type": "markdown",
   "metadata": {},
   "source": [
    "Медианные значения таких платформ, как Х360,PS3,PS2,PS4,PS находятся на одном уровне. А вот 3 квартили имеют отличие по всем платформам. Очень узкий ящик у DS."
   ]
  },
  {
   "cell_type": "markdown",
   "metadata": {},
   "source": [
    "### Как влияют на продажи внутри одной популярной платформы отзывы пользователей и критиков. Постройте диаграмму рассеяния и посчитайте корреляцию между отзывами и продажами."
   ]
  },
  {
   "cell_type": "code",
   "execution_count": 27,
   "metadata": {},
   "outputs": [],
   "source": [
    "games_ps3 = df[(df['platform'] == 'PS3') & (df['critic_score'] > 0)].copy()"
   ]
  },
  {
   "cell_type": "code",
   "execution_count": 28,
   "metadata": {},
   "outputs": [
    {
     "name": "stderr",
     "output_type": "stream",
     "text": [
      "/opt/conda/lib/python3.9/site-packages/seaborn/_decorators.py:36: FutureWarning: Pass the following variables as keyword args: x, y. From version 0.12, the only valid positional argument will be `data`, and passing other arguments without an explicit keyword will result in an error or misinterpretation.\n",
      "  warnings.warn(\n"
     ]
    },
    {
     "data": {
      "image/png": "[encoded data removed]",
      "text/plain": [
       "<Figure size 432x288 with 1 Axes>"
      ]
     },
     "metadata": {
      "needs_background": "light"
     },
     "output_type": "display_data"
    }
   ],
   "source": [
    "sns.regplot('critic_score', 'total_sales', data=df);"
   ]
  },
  {
   "cell_type": "code",
   "execution_count": 29,
   "metadata": {},
   "outputs": [],
   "source": [
    "games_ps3_user = df[(df['platform'] == 'PS3') & (df['user_score'] > 0)].copy()"
   ]
  },
  {
   "cell_type": "code",
   "execution_count": 30,
   "metadata": {},
   "outputs": [
    {
     "name": "stderr",
     "output_type": "stream",
     "text": [
      "/opt/conda/lib/python3.9/site-packages/seaborn/_decorators.py:36: FutureWarning: Pass the following variables as keyword args: x, y. From version 0.12, the only valid positional argument will be `data`, and passing other arguments without an explicit keyword will result in an error or misinterpretation.\n",
      "  warnings.warn(\n"
     ]
    },
    {
     "data": {
      "image/png": "[encoded data removed]",
      "text/plain": [
       "<Figure size 432x288 with 1 Axes>"
      ]
     },
     "metadata": {
      "needs_background": "light"
     },
     "output_type": "display_data"
    }
   ],
   "source": [
    "sns.regplot('user_score', 'total_sales', data=df);"
   ]
  },
  {
   "cell_type": "markdown",
   "metadata": {},
   "source": [
    "По диаграммам рассеивания видно, что с увеличением оценки и пользователей и критиков- увеличиваются и продажи. Но критикам не совсем доверяют, больше доверия \"своим\" геймерам. так как продаж от высоких оценок больше у пользователей.\n",
    "То что видим не естественные данные (-1) это были пропуски в значениях user_score и critic_score."
   ]
  },
  {
   "cell_type": "code",
   "execution_count": 31,
   "metadata": {},
   "outputs": [
    {
     "data": {
      "text/html": [
       "<div>\n",
       "<style scoped>\n",
       "    .dataframe tbody tr th:only-of-type {\n",
       "        vertical-align: middle;\n",
       "    }\n",
       "\n",
       "    .dataframe tbody tr th {\n",
       "        vertical-align: top;\n",
       "    }\n",
       "\n",
       "    .dataframe thead th {\n",
       "        text-align: right;\n",
       "    }\n",
       "</style>\n",
       "<table border=\"1\" class=\"dataframe\">\n",
       "  <thead>\n",
       "    <tr style=\"text-align: right;\">\n",
       "      <th></th>\n",
       "      <th>year_of_release</th>\n",
       "      <th>na_sales</th>\n",
       "      <th>eu_sales</th>\n",
       "      <th>jp_sales</th>\n",
       "      <th>other_sales</th>\n",
       "      <th>critic_score</th>\n",
       "      <th>user_score</th>\n",
       "      <th>total_sales</th>\n",
       "    </tr>\n",
       "  </thead>\n",
       "  <tbody>\n",
       "    <tr>\n",
       "      <th>year_of_release</th>\n",
       "      <td>1.000000</td>\n",
       "      <td>-0.046999</td>\n",
       "      <td>-0.010530</td>\n",
       "      <td>-0.094263</td>\n",
       "      <td>0.007349</td>\n",
       "      <td>0.066637</td>\n",
       "      <td>0.068531</td>\n",
       "      <td>-0.046038</td>\n",
       "    </tr>\n",
       "    <tr>\n",
       "      <th>na_sales</th>\n",
       "      <td>-0.046999</td>\n",
       "      <td>1.000000</td>\n",
       "      <td>0.765341</td>\n",
       "      <td>0.449668</td>\n",
       "      <td>0.638695</td>\n",
       "      <td>0.153039</td>\n",
       "      <td>0.138410</td>\n",
       "      <td>0.941021</td>\n",
       "    </tr>\n",
       "    <tr>\n",
       "      <th>eu_sales</th>\n",
       "      <td>-0.010530</td>\n",
       "      <td>0.765341</td>\n",
       "      <td>1.000000</td>\n",
       "      <td>0.435079</td>\n",
       "      <td>0.722796</td>\n",
       "      <td>0.170066</td>\n",
       "      <td>0.152198</td>\n",
       "      <td>0.901239</td>\n",
       "    </tr>\n",
       "    <tr>\n",
       "      <th>jp_sales</th>\n",
       "      <td>-0.094263</td>\n",
       "      <td>0.449668</td>\n",
       "      <td>0.435079</td>\n",
       "      <td>1.000000</td>\n",
       "      <td>0.291090</td>\n",
       "      <td>-0.044180</td>\n",
       "      <td>-0.034898</td>\n",
       "      <td>0.612334</td>\n",
       "    </tr>\n",
       "    <tr>\n",
       "      <th>other_sales</th>\n",
       "      <td>0.007349</td>\n",
       "      <td>0.638695</td>\n",
       "      <td>0.722796</td>\n",
       "      <td>0.291090</td>\n",
       "      <td>1.000000</td>\n",
       "      <td>0.175632</td>\n",
       "      <td>0.164778</td>\n",
       "      <td>0.749280</td>\n",
       "    </tr>\n",
       "    <tr>\n",
       "      <th>critic_score</th>\n",
       "      <td>0.066637</td>\n",
       "      <td>0.153039</td>\n",
       "      <td>0.170066</td>\n",
       "      <td>-0.044180</td>\n",
       "      <td>0.175632</td>\n",
       "      <td>1.000000</td>\n",
       "      <td>0.818959</td>\n",
       "      <td>0.148076</td>\n",
       "    </tr>\n",
       "    <tr>\n",
       "      <th>user_score</th>\n",
       "      <td>0.068531</td>\n",
       "      <td>0.138410</td>\n",
       "      <td>0.152198</td>\n",
       "      <td>-0.034898</td>\n",
       "      <td>0.164778</td>\n",
       "      <td>0.818959</td>\n",
       "      <td>1.000000</td>\n",
       "      <td>0.135123</td>\n",
       "    </tr>\n",
       "    <tr>\n",
       "      <th>total_sales</th>\n",
       "      <td>-0.046038</td>\n",
       "      <td>0.941021</td>\n",
       "      <td>0.901239</td>\n",
       "      <td>0.612334</td>\n",
       "      <td>0.749280</td>\n",
       "      <td>0.148076</td>\n",
       "      <td>0.135123</td>\n",
       "      <td>1.000000</td>\n",
       "    </tr>\n",
       "  </tbody>\n",
       "</table>\n",
       "</div>"
      ],
      "text/plain": [
       "                 year_of_release  na_sales  eu_sales  jp_sales  other_sales  \\\n",
       "year_of_release         1.000000 -0.046999 -0.010530 -0.094263     0.007349   \n",
       "na_sales               -0.046999  1.000000  0.765341  0.449668     0.638695   \n",
       "eu_sales               -0.010530  0.765341  1.000000  0.435079     0.722796   \n",
       "jp_sales               -0.094263  0.449668  0.435079  1.000000     0.291090   \n",
       "other_sales             0.007349  0.638695  0.722796  0.291090     1.000000   \n",
       "critic_score            0.066637  0.153039  0.170066 -0.044180     0.175632   \n",
       "user_score              0.068531  0.138410  0.152198 -0.034898     0.164778   \n",
       "total_sales            -0.046038  0.941021  0.901239  0.612334     0.749280   \n",
       "\n",
       "                 critic_score  user_score  total_sales  \n",
       "year_of_release      0.066637    0.068531    -0.046038  \n",
       "na_sales             0.153039    0.138410     0.941021  \n",
       "eu_sales             0.170066    0.152198     0.901239  \n",
       "jp_sales            -0.044180   -0.034898     0.612334  \n",
       "other_sales          0.175632    0.164778     0.749280  \n",
       "critic_score         1.000000    0.818959     0.148076  \n",
       "user_score           0.818959    1.000000     0.135123  \n",
       "total_sales          0.148076    0.135123     1.000000  "
      ]
     },
     "execution_count": 31,
     "metadata": {},
     "output_type": "execute_result"
    },
    {
     "data": {
      "image/png": "[encoded data removed]",
      "text/plain": [
       "<Figure size 432x288 with 2 Axes>"
      ]
     },
     "metadata": {
      "needs_background": "light"
     },
     "output_type": "display_data"
    }
   ],
   "source": [
    "sns.heatmap(df.corr())\n",
    "df.corr()"
   ]
  },
  {
   "cell_type": "markdown",
   "metadata": {},
   "source": [
    "### Общее распределение прибыли по жанрам"
   ]
  },
  {
   "cell_type": "code",
   "execution_count": 32,
   "metadata": {},
   "outputs": [
    {
     "data": {
      "text/html": [
       "<div>\n",
       "<style scoped>\n",
       "    .dataframe tbody tr th:only-of-type {\n",
       "        vertical-align: middle;\n",
       "    }\n",
       "\n",
       "    .dataframe tbody tr th {\n",
       "        vertical-align: top;\n",
       "    }\n",
       "\n",
       "    .dataframe thead th {\n",
       "        text-align: right;\n",
       "    }\n",
       "</style>\n",
       "<table border=\"1\" class=\"dataframe\">\n",
       "  <thead>\n",
       "    <tr style=\"text-align: right;\">\n",
       "      <th></th>\n",
       "      <th>genre</th>\n",
       "      <th>total</th>\n",
       "    </tr>\n",
       "  </thead>\n",
       "  <tbody>\n",
       "    <tr>\n",
       "      <th>0</th>\n",
       "      <td>Action</td>\n",
       "      <td>1744.17</td>\n",
       "    </tr>\n",
       "    <tr>\n",
       "      <th>1</th>\n",
       "      <td>Sports</td>\n",
       "      <td>1331.27</td>\n",
       "    </tr>\n",
       "    <tr>\n",
       "      <th>2</th>\n",
       "      <td>Shooter</td>\n",
       "      <td>1052.45</td>\n",
       "    </tr>\n",
       "    <tr>\n",
       "      <th>3</th>\n",
       "      <td>Role-Playing</td>\n",
       "      <td>934.56</td>\n",
       "    </tr>\n",
       "    <tr>\n",
       "      <th>4</th>\n",
       "      <td>Platform</td>\n",
       "      <td>827.77</td>\n",
       "    </tr>\n",
       "    <tr>\n",
       "      <th>5</th>\n",
       "      <td>Misc</td>\n",
       "      <td>802.51</td>\n",
       "    </tr>\n",
       "    <tr>\n",
       "      <th>6</th>\n",
       "      <td>Racing</td>\n",
       "      <td>728.67</td>\n",
       "    </tr>\n",
       "    <tr>\n",
       "      <th>7</th>\n",
       "      <td>Fighting</td>\n",
       "      <td>447.53</td>\n",
       "    </tr>\n",
       "    <tr>\n",
       "      <th>8</th>\n",
       "      <td>Simulation</td>\n",
       "      <td>389.97</td>\n",
       "    </tr>\n",
       "    <tr>\n",
       "      <th>9</th>\n",
       "      <td>Puzzle</td>\n",
       "      <td>242.57</td>\n",
       "    </tr>\n",
       "    <tr>\n",
       "      <th>10</th>\n",
       "      <td>Adventure</td>\n",
       "      <td>237.59</td>\n",
       "    </tr>\n",
       "    <tr>\n",
       "      <th>11</th>\n",
       "      <td>Strategy</td>\n",
       "      <td>174.23</td>\n",
       "    </tr>\n",
       "  </tbody>\n",
       "</table>\n",
       "</div>"
      ],
      "text/plain": [
       "           genre    total\n",
       "0         Action  1744.17\n",
       "1         Sports  1331.27\n",
       "2        Shooter  1052.45\n",
       "3   Role-Playing   934.56\n",
       "4       Platform   827.77\n",
       "5           Misc   802.51\n",
       "6         Racing   728.67\n",
       "7       Fighting   447.53\n",
       "8     Simulation   389.97\n",
       "9         Puzzle   242.57\n",
       "10     Adventure   237.59\n",
       "11      Strategy   174.23"
      ]
     },
     "execution_count": 32,
     "metadata": {},
     "output_type": "execute_result"
    }
   ],
   "source": [
    "top_genres=df.groupby('genre')['total_sales'].sum().sort_values(ascending=False).reset_index()\n",
    "top_genres.columns=['genre','total']\n",
    "top_genres"
   ]
  },
  {
   "cell_type": "markdown",
   "metadata": {},
   "source": [
    "Самые продаваемые игры в жанре action - более 1744 млн продаж, за ними идут Sports и Shooter. Меньше всего продаж игр в жанре Strategy 174 млн продаж. (В 10 раз меньше самого продаваемого жанра)."
   ]
  },
  {
   "cell_type": "markdown",
   "metadata": {},
   "source": [
    "Для наглядности построим столбчатую диаграмму."
   ]
  },
  {
   "cell_type": "code",
   "execution_count": 33,
   "metadata": {},
   "outputs": [
    {
     "data": {
      "image/png": "[encoded data removed]",
      "text/plain": [
       "<Figure size 1440x720 with 1 Axes>"
      ]
     },
     "metadata": {
      "needs_background": "light"
     },
     "output_type": "display_data"
    }
   ],
   "source": [
    "plt.figure(figsize=(20,10))\n",
    "sns.barplot(x='genre',y= 'total',data=top_genres)\n",
    "plt.title(\"Количество проданных игр по жанру, млн.\")\n",
    "plt.show()"
   ]
  },
  {
   "cell_type": "markdown",
   "metadata": {},
   "source": [
    "## Составьте портрет пользователя каждого региона"
   ]
  },
  {
   "cell_type": "code",
   "execution_count": 34,
   "metadata": {},
   "outputs": [
    {
     "data": {
      "text/html": [
       "<div>\n",
       "<style scoped>\n",
       "    .dataframe tbody tr th:only-of-type {\n",
       "        vertical-align: middle;\n",
       "    }\n",
       "\n",
       "    .dataframe tbody tr th {\n",
       "        vertical-align: top;\n",
       "    }\n",
       "\n",
       "    .dataframe thead th {\n",
       "        text-align: right;\n",
       "    }\n",
       "</style>\n",
       "<table border=\"1\" class=\"dataframe\">\n",
       "  <thead>\n",
       "    <tr style=\"text-align: right;\">\n",
       "      <th></th>\n",
       "      <th>platform</th>\n",
       "      <th>genre</th>\n",
       "      <th>na_sales</th>\n",
       "      <th>eu_sales</th>\n",
       "      <th>jp_sales</th>\n",
       "      <th>other_sales</th>\n",
       "    </tr>\n",
       "  </thead>\n",
       "  <tbody>\n",
       "    <tr>\n",
       "      <th>0</th>\n",
       "      <td>Wii</td>\n",
       "      <td>Sports</td>\n",
       "      <td>41.36</td>\n",
       "      <td>28.96</td>\n",
       "      <td>3.77</td>\n",
       "      <td>8.45</td>\n",
       "    </tr>\n",
       "    <tr>\n",
       "      <th>1</th>\n",
       "      <td>NES</td>\n",
       "      <td>Platform</td>\n",
       "      <td>29.08</td>\n",
       "      <td>3.58</td>\n",
       "      <td>6.81</td>\n",
       "      <td>0.77</td>\n",
       "    </tr>\n",
       "    <tr>\n",
       "      <th>2</th>\n",
       "      <td>Wii</td>\n",
       "      <td>Racing</td>\n",
       "      <td>15.68</td>\n",
       "      <td>12.76</td>\n",
       "      <td>3.79</td>\n",
       "      <td>3.29</td>\n",
       "    </tr>\n",
       "    <tr>\n",
       "      <th>3</th>\n",
       "      <td>Wii</td>\n",
       "      <td>Sports</td>\n",
       "      <td>15.61</td>\n",
       "      <td>10.93</td>\n",
       "      <td>3.28</td>\n",
       "      <td>2.95</td>\n",
       "    </tr>\n",
       "    <tr>\n",
       "      <th>4</th>\n",
       "      <td>GB</td>\n",
       "      <td>Role-Playing</td>\n",
       "      <td>11.27</td>\n",
       "      <td>8.89</td>\n",
       "      <td>10.22</td>\n",
       "      <td>1.00</td>\n",
       "    </tr>\n",
       "    <tr>\n",
       "      <th>...</th>\n",
       "      <td>...</td>\n",
       "      <td>...</td>\n",
       "      <td>...</td>\n",
       "      <td>...</td>\n",
       "      <td>...</td>\n",
       "      <td>...</td>\n",
       "    </tr>\n",
       "    <tr>\n",
       "      <th>16708</th>\n",
       "      <td>PS3</td>\n",
       "      <td>Action</td>\n",
       "      <td>0.00</td>\n",
       "      <td>0.00</td>\n",
       "      <td>0.01</td>\n",
       "      <td>0.00</td>\n",
       "    </tr>\n",
       "    <tr>\n",
       "      <th>16709</th>\n",
       "      <td>X360</td>\n",
       "      <td>Sports</td>\n",
       "      <td>0.00</td>\n",
       "      <td>0.01</td>\n",
       "      <td>0.00</td>\n",
       "      <td>0.00</td>\n",
       "    </tr>\n",
       "    <tr>\n",
       "      <th>16710</th>\n",
       "      <td>PSV</td>\n",
       "      <td>Adventure</td>\n",
       "      <td>0.00</td>\n",
       "      <td>0.00</td>\n",
       "      <td>0.01</td>\n",
       "      <td>0.00</td>\n",
       "    </tr>\n",
       "    <tr>\n",
       "      <th>16711</th>\n",
       "      <td>GBA</td>\n",
       "      <td>Platform</td>\n",
       "      <td>0.01</td>\n",
       "      <td>0.00</td>\n",
       "      <td>0.00</td>\n",
       "      <td>0.00</td>\n",
       "    </tr>\n",
       "    <tr>\n",
       "      <th>16712</th>\n",
       "      <td>PSV</td>\n",
       "      <td>Simulation</td>\n",
       "      <td>0.00</td>\n",
       "      <td>0.00</td>\n",
       "      <td>0.01</td>\n",
       "      <td>0.00</td>\n",
       "    </tr>\n",
       "  </tbody>\n",
       "</table>\n",
       "<p>16713 rows × 6 columns</p>\n",
       "</div>"
      ],
      "text/plain": [
       "      platform         genre  na_sales  eu_sales  jp_sales  other_sales\n",
       "0          Wii        Sports     41.36     28.96      3.77         8.45\n",
       "1          NES      Platform     29.08      3.58      6.81         0.77\n",
       "2          Wii        Racing     15.68     12.76      3.79         3.29\n",
       "3          Wii        Sports     15.61     10.93      3.28         2.95\n",
       "4           GB  Role-Playing     11.27      8.89     10.22         1.00\n",
       "...        ...           ...       ...       ...       ...          ...\n",
       "16708      PS3        Action      0.00      0.00      0.01         0.00\n",
       "16709     X360        Sports      0.00      0.01      0.00         0.00\n",
       "16710      PSV     Adventure      0.00      0.00      0.01         0.00\n",
       "16711      GBA      Platform      0.01      0.00      0.00         0.00\n",
       "16712      PSV    Simulation      0.00      0.00      0.01         0.00\n",
       "\n",
       "[16713 rows x 6 columns]"
      ]
     },
     "execution_count": 34,
     "metadata": {},
     "output_type": "execute_result"
    }
   ],
   "source": [
    "user_plat=df[['platform','genre','na_sales','eu_sales','jp_sales','other_sales']]\n",
    "user_plat"
   ]
  },
  {
   "cell_type": "markdown",
   "metadata": {},
   "source": [
    "Для наглядности сагрегировала таблицу, где находятся данные по продажам в разных регионах , виды игровых платформ и жанры игр."
   ]
  },
  {
   "cell_type": "markdown",
   "metadata": {},
   "source": [
    "### Топ-5 популярных платформ по регионам"
   ]
  },
  {
   "cell_type": "code",
   "execution_count": 35,
   "metadata": {},
   "outputs": [
    {
     "data": {
      "text/html": [
       "<div>\n",
       "<style scoped>\n",
       "    .dataframe tbody tr th:only-of-type {\n",
       "        vertical-align: middle;\n",
       "    }\n",
       "\n",
       "    .dataframe tbody tr th {\n",
       "        vertical-align: top;\n",
       "    }\n",
       "\n",
       "    .dataframe thead th {\n",
       "        text-align: right;\n",
       "    }\n",
       "</style>\n",
       "<table border=\"1\" class=\"dataframe\">\n",
       "  <thead>\n",
       "    <tr style=\"text-align: right;\">\n",
       "      <th></th>\n",
       "      <th>eu_sales</th>\n",
       "      <th>jp_sales</th>\n",
       "      <th>na_sales</th>\n",
       "      <th>other_sales</th>\n",
       "    </tr>\n",
       "    <tr>\n",
       "      <th>platform</th>\n",
       "      <th></th>\n",
       "      <th></th>\n",
       "      <th></th>\n",
       "      <th></th>\n",
       "    </tr>\n",
       "  </thead>\n",
       "  <tbody>\n",
       "    <tr>\n",
       "      <th>PS2</th>\n",
       "      <td>339.29</td>\n",
       "      <td>139.20</td>\n",
       "      <td>583.84</td>\n",
       "      <td>193.44</td>\n",
       "    </tr>\n",
       "    <tr>\n",
       "      <th>PS3</th>\n",
       "      <td>330.29</td>\n",
       "      <td>80.19</td>\n",
       "      <td>393.49</td>\n",
       "      <td>135.68</td>\n",
       "    </tr>\n",
       "    <tr>\n",
       "      <th>X360</th>\n",
       "      <td>270.76</td>\n",
       "      <td>12.43</td>\n",
       "      <td>602.47</td>\n",
       "      <td>85.76</td>\n",
       "    </tr>\n",
       "    <tr>\n",
       "      <th>Wii</th>\n",
       "      <td>262.21</td>\n",
       "      <td>69.33</td>\n",
       "      <td>496.90</td>\n",
       "      <td>79.07</td>\n",
       "    </tr>\n",
       "    <tr>\n",
       "      <th>PS</th>\n",
       "      <td>213.61</td>\n",
       "      <td>139.82</td>\n",
       "      <td>336.52</td>\n",
       "      <td>40.91</td>\n",
       "    </tr>\n",
       "    <tr>\n",
       "      <th>DS</th>\n",
       "      <td>188.89</td>\n",
       "      <td>175.57</td>\n",
       "      <td>382.40</td>\n",
       "      <td>59.26</td>\n",
       "    </tr>\n",
       "    <tr>\n",
       "      <th>PC</th>\n",
       "      <td>142.44</td>\n",
       "      <td>0.17</td>\n",
       "      <td>94.53</td>\n",
       "      <td>22.38</td>\n",
       "    </tr>\n",
       "  </tbody>\n",
       "</table>\n",
       "</div>"
      ],
      "text/plain": [
       "          eu_sales  jp_sales  na_sales  other_sales\n",
       "platform                                           \n",
       "PS2         339.29    139.20    583.84       193.44\n",
       "PS3         330.29     80.19    393.49       135.68\n",
       "X360        270.76     12.43    602.47        85.76\n",
       "Wii         262.21     69.33    496.90        79.07\n",
       "PS          213.61    139.82    336.52        40.91\n",
       "DS          188.89    175.57    382.40        59.26\n",
       "PC          142.44      0.17     94.53        22.38"
      ]
     },
     "execution_count": 35,
     "metadata": {},
     "output_type": "execute_result"
    }
   ],
   "source": [
    "pivot = user_plat.pivot_table(user_plat,  index=['platform'], aggfunc=np.sum).sort_values(by='eu_sales',ascending=False).head(7)\n",
    "pivot"
   ]
  },
  {
   "cell_type": "code",
   "execution_count": 36,
   "metadata": {},
   "outputs": [
    {
     "data": {
      "text/plain": [
       "Text(0.5, 0, 'Платформы')"
      ]
     },
     "execution_count": 36,
     "metadata": {},
     "output_type": "execute_result"
    },
    {
     "data": {
      "image/png": "[encoded data removed]",
      "text/plain": [
       "<Figure size 1080x360 with 1 Axes>"
      ]
     },
     "metadata": {
      "needs_background": "light"
     },
     "output_type": "display_data"
    }
   ],
   "source": [
    "pivot.plot(grid=True, figsize=(15, 5), style ='-o')\n",
    "plt.title('Популярные платформы по регионам')\n",
    "plt.ylabel('Суммарные продажи, млн.проданных копий')\n",
    "\n",
    "plt.xlabel('Платформы')"
   ]
  },
  {
   "cell_type": "markdown",
   "metadata": {},
   "source": [
    "***\n",
    "Как видно, большую популярность по продажам игровых платформ имеет Северная америка, в основном прибыль приносят приставки PS2 и X360. На втором месте по количеству продаж идут европейские страны( там большую популярность имеют платформы PS2 и PS3). В Японии популярны DS и PS2( это и не удивительно-ведь это японские фирмы). \n",
    "***"
   ]
  },
  {
   "cell_type": "markdown",
   "metadata": {},
   "source": [
    "### Топ-5 игровых жанорв по регионам"
   ]
  },
  {
   "cell_type": "code",
   "execution_count": 37,
   "metadata": {},
   "outputs": [
    {
     "data": {
      "text/html": [
       "<div>\n",
       "<style scoped>\n",
       "    .dataframe tbody tr th:only-of-type {\n",
       "        vertical-align: middle;\n",
       "    }\n",
       "\n",
       "    .dataframe tbody tr th {\n",
       "        vertical-align: top;\n",
       "    }\n",
       "\n",
       "    .dataframe thead th {\n",
       "        text-align: right;\n",
       "    }\n",
       "</style>\n",
       "<table border=\"1\" class=\"dataframe\">\n",
       "  <thead>\n",
       "    <tr style=\"text-align: right;\">\n",
       "      <th></th>\n",
       "      <th>eu_sales</th>\n",
       "      <th>jp_sales</th>\n",
       "      <th>na_sales</th>\n",
       "      <th>other_sales</th>\n",
       "    </tr>\n",
       "    <tr>\n",
       "      <th>genre</th>\n",
       "      <th></th>\n",
       "      <th></th>\n",
       "      <th></th>\n",
       "      <th></th>\n",
       "    </tr>\n",
       "  </thead>\n",
       "  <tbody>\n",
       "    <tr>\n",
       "      <th>Action</th>\n",
       "      <td>519.13</td>\n",
       "      <td>161.43</td>\n",
       "      <td>879.01</td>\n",
       "      <td>184.60</td>\n",
       "    </tr>\n",
       "    <tr>\n",
       "      <th>Sports</th>\n",
       "      <td>376.79</td>\n",
       "      <td>135.54</td>\n",
       "      <td>684.43</td>\n",
       "      <td>134.51</td>\n",
       "    </tr>\n",
       "    <tr>\n",
       "      <th>Shooter</th>\n",
       "      <td>317.34</td>\n",
       "      <td>38.76</td>\n",
       "      <td>592.24</td>\n",
       "      <td>104.11</td>\n",
       "    </tr>\n",
       "    <tr>\n",
       "      <th>Platform</th>\n",
       "      <td>200.35</td>\n",
       "      <td>130.83</td>\n",
       "      <td>445.50</td>\n",
       "      <td>51.09</td>\n",
       "    </tr>\n",
       "    <tr>\n",
       "      <th>Misc</th>\n",
       "      <td>212.74</td>\n",
       "      <td>108.11</td>\n",
       "      <td>407.27</td>\n",
       "      <td>74.39</td>\n",
       "    </tr>\n",
       "    <tr>\n",
       "      <th>Racing</th>\n",
       "      <td>236.51</td>\n",
       "      <td>56.71</td>\n",
       "      <td>359.35</td>\n",
       "      <td>76.10</td>\n",
       "    </tr>\n",
       "    <tr>\n",
       "      <th>Role-Playing</th>\n",
       "      <td>188.71</td>\n",
       "      <td>355.41</td>\n",
       "      <td>330.81</td>\n",
       "      <td>59.63</td>\n",
       "    </tr>\n",
       "  </tbody>\n",
       "</table>\n",
       "</div>"
      ],
      "text/plain": [
       "              eu_sales  jp_sales  na_sales  other_sales\n",
       "genre                                                  \n",
       "Action          519.13    161.43    879.01       184.60\n",
       "Sports          376.79    135.54    684.43       134.51\n",
       "Shooter         317.34     38.76    592.24       104.11\n",
       "Platform        200.35    130.83    445.50        51.09\n",
       "Misc            212.74    108.11    407.27        74.39\n",
       "Racing          236.51     56.71    359.35        76.10\n",
       "Role-Playing    188.71    355.41    330.81        59.63"
      ]
     },
     "execution_count": 37,
     "metadata": {},
     "output_type": "execute_result"
    }
   ],
   "source": [
    "pivot2=user_plat.pivot_table(user_plat,  index=['genre'], aggfunc=np.sum).sort_values(by='na_sales',ascending=False).head(7)\n",
    "pivot2"
   ]
  },
  {
   "cell_type": "code",
   "execution_count": 38,
   "metadata": {},
   "outputs": [
    {
     "data": {
      "text/plain": [
       "Text(0.5, 0, 'жанр')"
      ]
     },
     "execution_count": 38,
     "metadata": {},
     "output_type": "execute_result"
    },
    {
     "data": {
      "image/png": "[encoded data removed]",
      "text/plain": [
       "<Figure size 1080x360 with 1 Axes>"
      ]
     },
     "metadata": {
      "needs_background": "light"
     },
     "output_type": "display_data"
    }
   ],
   "source": [
    "pivot2.plot(grid=True, figsize=(15, 5), style ='-o')\n",
    "plt.title('Популярные жанры игр по регионам')\n",
    "plt.ylabel('Суммарные продажи, млн.проданных копий')\n",
    "plt.xlabel('жанр')"
   ]
  },
  {
   "cell_type": "markdown",
   "metadata": {},
   "source": [
    "По графика видно, что большую часть продаж имею игры в жанрах ACTION (не зависимо от  региона), а в Японии больше всего популярны игры в жанре Role-playing (так называемые ролевые игры)"
   ]
  },
  {
   "cell_type": "markdown",
   "metadata": {},
   "source": [
    "###   Топ 5 платформ и игровых жанорво по регионам по столбчатым диаграммам"
   ]
  },
  {
   "cell_type": "code",
   "execution_count": 39,
   "metadata": {},
   "outputs": [],
   "source": [
    "na_sales=df.groupby('platform')['na_sales'].sum().sort_values(ascending=False).head(6)\n",
    "eu_sales=df.groupby('platform')['eu_sales'].sum().sort_values(ascending=False).head(6)\n",
    "jp_sales=df.groupby('platform')['jp_sales'].sum().sort_values(ascending=False).head(6)\n",
    "other_sales=df.groupby('platform')['other_sales'].sum().sort_values(ascending=False).head(6)"
   ]
  },
  {
   "cell_type": "markdown",
   "metadata": {},
   "source": [
    "Для большей наглядности построю столбчатые диаграммы по популярностям приставок и игровых жанров в разных реионах."
   ]
  },
  {
   "cell_type": "code",
   "execution_count": 40,
   "metadata": {},
   "outputs": [
    {
     "data": {
      "text/plain": [
       "<AxesSubplot:xlabel='platform'>"
      ]
     },
     "execution_count": 40,
     "metadata": {},
     "output_type": "execute_result"
    },
    {
     "data": {
      "image/png": "[encoded data removed]",
      "text/plain": [
       "<Figure size 432x288 with 1 Axes>"
      ]
     },
     "metadata": {
      "needs_background": "light"
     },
     "output_type": "display_data"
    }
   ],
   "source": [
    "pivot.plot.bar()"
   ]
  },
  {
   "cell_type": "code",
   "execution_count": 41,
   "metadata": {},
   "outputs": [
    {
     "data": {
      "text/plain": [
       "<AxesSubplot:xlabel='genre'>"
      ]
     },
     "execution_count": 41,
     "metadata": {},
     "output_type": "execute_result"
    },
    {
     "data": {
      "image/png": "[encoded data removed]",
      "text/plain": [
       "<Figure size 432x288 with 1 Axes>"
      ]
     },
     "metadata": {
      "needs_background": "light"
     },
     "output_type": "display_data"
    }
   ],
   "source": [
    "pivot2.plot.bar()"
   ]
  },
  {
   "cell_type": "markdown",
   "metadata": {},
   "source": [
    "###  Влияет ли рейтинг ESRB на продажи в отдельном регионе?"
   ]
  },
  {
   "cell_type": "markdown",
   "metadata": {},
   "source": [
    "Система ESRB - США, Мексика и Канада  \\\n",
    "EC\tДля детей младшего возраста. Подходит для детей от 3 лет, неприемлемое содержание отсутствует. Примеры: Дора Исследовательница, Сказки Дракона.   \\\n",
    "E\tПодходит для всех возрастных категорий. Игра не должна содержать звуков или изображений, которые могут напугать маленьких детей. Не должна использоваться ненормативная лексика. Примеры: Просто таннцуй, FIFA.  \\\n",
    "E 10+\tПодходит для лиц старше 10 лет. Игра может содержать умеренные формы насилия, а некоторые сцены могут пугать детей. Примеры: Minecraft Dungeons, Растения против зомби.   \\\n",
    "T\tПодходит для лиц старше 13 лет. Игра может содержать более реалистичные и натуралистические сцены насилия. Примеры: Fortnite, Sims 4.   \\\n",
    "M\tПодходит для лиц старше 17 лет. Этот рейтинг используется, когда насилие становится реалистичным и похожим на реальную жизнь. Также может присутствовать ненормативная лексика, употребление табака, алкоголя или запрещенных наркотиков. Примеры: Ark: Survival Evolved, Destiny 2.  \\\n",
    "AO\tПодходит для взрослых старше 18 лет.    Классификация «для взрослых» используется, когда в игре присутствует крайний уровень насилия и немотивированного убийства. Также может присутствовать романтизация наркотиков, азартных игр и сексуальной активности. Примеры: Grand Theft Auto V, Fallout 4.    \\\n",
    "RP\tКатегория ещё не присвоена. Играм с категорией RP еще не присвоен окончательный рейтинг ESRB."
   ]
  },
  {
   "cell_type": "code",
   "execution_count": 42,
   "metadata": {},
   "outputs": [
    {
     "data": {
      "text/html": [
       "<div>\n",
       "<style scoped>\n",
       "    .dataframe tbody tr th:only-of-type {\n",
       "        vertical-align: middle;\n",
       "    }\n",
       "\n",
       "    .dataframe tbody tr th {\n",
       "        vertical-align: top;\n",
       "    }\n",
       "\n",
       "    .dataframe thead th {\n",
       "        text-align: right;\n",
       "    }\n",
       "</style>\n",
       "<table border=\"1\" class=\"dataframe\">\n",
       "  <thead>\n",
       "    <tr style=\"text-align: right;\">\n",
       "      <th></th>\n",
       "      <th>rating</th>\n",
       "      <th>na_sales</th>\n",
       "      <th>eu_sales</th>\n",
       "      <th>jp_sales</th>\n",
       "      <th>other_sales</th>\n",
       "    </tr>\n",
       "  </thead>\n",
       "  <tbody>\n",
       "    <tr>\n",
       "      <th>2</th>\n",
       "      <td>E</td>\n",
       "      <td>1292.99</td>\n",
       "      <td>710.25</td>\n",
       "      <td>198.11</td>\n",
       "      <td>234.17</td>\n",
       "    </tr>\n",
       "    <tr>\n",
       "      <th>0</th>\n",
       "      <td>-1</td>\n",
       "      <td>1240.68</td>\n",
       "      <td>613.30</td>\n",
       "      <td>841.93</td>\n",
       "      <td>151.00</td>\n",
       "    </tr>\n",
       "    <tr>\n",
       "      <th>8</th>\n",
       "      <td>T</td>\n",
       "      <td>759.75</td>\n",
       "      <td>427.03</td>\n",
       "      <td>151.40</td>\n",
       "      <td>155.17</td>\n",
       "    </tr>\n",
       "    <tr>\n",
       "      <th>6</th>\n",
       "      <td>M</td>\n",
       "      <td>748.48</td>\n",
       "      <td>483.97</td>\n",
       "      <td>64.24</td>\n",
       "      <td>177.10</td>\n",
       "    </tr>\n",
       "    <tr>\n",
       "      <th>3</th>\n",
       "      <td>E10+</td>\n",
       "      <td>353.32</td>\n",
       "      <td>188.52</td>\n",
       "      <td>40.20</td>\n",
       "      <td>73.56</td>\n",
       "    </tr>\n",
       "    <tr>\n",
       "      <th>5</th>\n",
       "      <td>K-A</td>\n",
       "      <td>2.56</td>\n",
       "      <td>0.27</td>\n",
       "      <td>1.46</td>\n",
       "      <td>0.03</td>\n",
       "    </tr>\n",
       "    <tr>\n",
       "      <th>4</th>\n",
       "      <td>EC</td>\n",
       "      <td>1.53</td>\n",
       "      <td>0.11</td>\n",
       "      <td>0.00</td>\n",
       "      <td>0.11</td>\n",
       "    </tr>\n",
       "    <tr>\n",
       "      <th>1</th>\n",
       "      <td>AO</td>\n",
       "      <td>1.26</td>\n",
       "      <td>0.61</td>\n",
       "      <td>0.00</td>\n",
       "      <td>0.09</td>\n",
       "    </tr>\n",
       "    <tr>\n",
       "      <th>7</th>\n",
       "      <td>RP</td>\n",
       "      <td>0.00</td>\n",
       "      <td>0.08</td>\n",
       "      <td>0.00</td>\n",
       "      <td>0.01</td>\n",
       "    </tr>\n",
       "  </tbody>\n",
       "</table>\n",
       "</div>"
      ],
      "text/plain": [
       "  rating  na_sales  eu_sales  jp_sales  other_sales\n",
       "2      E   1292.99    710.25    198.11       234.17\n",
       "0     -1   1240.68    613.30    841.93       151.00\n",
       "8      T    759.75    427.03    151.40       155.17\n",
       "6      M    748.48    483.97     64.24       177.10\n",
       "3   E10+    353.32    188.52     40.20        73.56\n",
       "5    K-A      2.56      0.27      1.46         0.03\n",
       "4     EC      1.53      0.11      0.00         0.11\n",
       "1     AO      1.26      0.61      0.00         0.09\n",
       "7     RP      0.00      0.08      0.00         0.01"
      ]
     },
     "execution_count": 42,
     "metadata": {},
     "output_type": "execute_result"
    }
   ],
   "source": [
    "esrb=df[['na_sales','eu_sales','jp_sales','other_sales','rating']]\n",
    "esrb=esrb.groupby('rating').sum().reset_index().sort_values(by='na_sales',ascending=False)\n",
    "esrb"
   ]
  },
  {
   "cell_type": "code",
   "execution_count": 43,
   "metadata": {},
   "outputs": [
    {
     "data": {
      "text/plain": [
       "<AxesSubplot:xlabel='rating'>"
      ]
     },
     "execution_count": 43,
     "metadata": {},
     "output_type": "execute_result"
    },
    {
     "data": {
      "image/png": "[encoded data removed]",
      "text/plain": [
       "<Figure size 432x288 with 1 Axes>"
      ]
     },
     "metadata": {
      "needs_background": "light"
     },
     "output_type": "display_data"
    }
   ],
   "source": [
    "esrb.plot.bar(x='rating')"
   ]
  },
  {
   "cell_type": "markdown",
   "metadata": {},
   "source": [
    "По графику можно сделать такое суждение:Самые большие продажи и игр категории E, т.е. у тех игр, у которых нет возрастных ограничений. (значение -1 это пропуски в рейтинге по ним ничего сказать нельзя.) Далее в рейтинге продаж идут игры с рейтингом Т( подходит для лиц страше 13 лет) - это в онсонвном та категория людей по возрасту, которая больше проводжит времени за играми. \n"
   ]
  },
  {
   "cell_type": "markdown",
   "metadata": {},
   "source": []
  },
  {
   "cell_type": "markdown",
   "metadata": {},
   "source": [
    "## Проверка гипотез"
   ]
  },
  {
   "cell_type": "markdown",
   "metadata": {},
   "source": [
    "Гипотезы:\n",
    "\n",
    "   1. Средние пользовательские рейтинги платформ Xbox One и PC одинаковые;\n",
    "   2. Средние пользовательские рейтинги жанров Action и Sports разные. \\\n",
    "       Для проверки обеих гипотез будем использовать t-критерий Стьюдента, т.к. в обоих случаях выборки независимы между собой.   \\\n",
    "         Определим пороговое значение alpha = 0.05"
   ]
  },
  {
   "cell_type": "markdown",
   "metadata": {},
   "source": [
    "### Средние пользовательские рейтинги XOne и PC одинаковые"
   ]
  },
  {
   "cell_type": "markdown",
   "metadata": {},
   "source": [
    "Н0 (нулевая гипотеза) - средние пользовательские рейтинги платформ Xbox One и PC одинаковые.   \\\n",
    "Н1 (альтернативная гипотеза) - средние пользовательские рейтинги платформ Xbox One и PC отличаются между собой."
   ]
  },
  {
   "cell_type": "markdown",
   "metadata": {},
   "source": [
    "Для того, что бы не портить проверки гипотез я возьму реальные оценки пользователей( в начале исследования я пропуски заменила на -1 и tbd также заменила на -1) их я в расчет братьне буду."
   ]
  },
  {
   "cell_type": "code",
   "execution_count": 44,
   "metadata": {},
   "outputs": [
    {
     "name": "stdout",
     "output_type": "stream",
     "text": [
      "t = -4.368333815003015\n",
      "p-value = 1.3896435534e-05\n",
      "\n",
      "Пороговое значение alpha = 0.05\n"
     ]
    }
   ],
   "source": [
    "xbox_one_ratings = df[(df['platform'] == 'XOne') & (df['user_score'] > 0)]['user_score']\n",
    "pc_ratings = df[(df['platform'] == 'PC') & (df['user_score'] > 0)]['user_score']\n",
    "stat, p = ttest_ind(xbox_one_ratings, pc_ratings)\n",
    "\n",
    "print('t = {}\\np-value = {:.10e}'.format(stat, p))\n",
    "print('\\nПороговое значение alpha = 0.05')"
   ]
  },
  {
   "cell_type": "code",
   "execution_count": 45,
   "metadata": {},
   "outputs": [
    {
     "name": "stdout",
     "output_type": "stream",
     "text": [
      "p-значение:  4.935072360183565e-06\n",
      "Отвергаем нулевую гипотезу\n",
      "\n",
      "Средний пользовательский рейтинг игровой приставки XOne: 6.521428571428572\n",
      "Средний пользовательский рейтинг игр на PC : 7.062467532467533\n"
     ]
    }
   ],
   "source": [
    "alpha=0.05\n",
    "results = st.ttest_ind(xbox_one_ratings,pc_ratings,equal_var = False)\n",
    "print('p-значение: ', results.pvalue)\n",
    "\n",
    "if results.pvalue < alpha:\n",
    "    print(\"Отвергаем нулевую гипотезу\")\n",
    "else:\n",
    "    print(\"Не получилось отвергнуть нулевую гипотезу\") \n",
    "print()\n",
    "print(\"Средний пользовательский рейтинг игровой приставки XOne:\",xbox_one_ratings.mean())\n",
    "print(\"Средний пользовательский рейтинг игр на PC :\",pc_ratings.mean() )"
   ]
  },
  {
   "cell_type": "markdown",
   "metadata": {},
   "source": [
    "Гипотеза опровергнута: Средний пользовательский рейтинг платформ XOne и PC отличается."
   ]
  },
  {
   "cell_type": "markdown",
   "metadata": {},
   "source": [
    "### Средние пользовательские рейтинги жанров Action и Sports разные."
   ]
  },
  {
   "cell_type": "markdown",
   "metadata": {},
   "source": [
    "Н0 (нулевая гипотеза) - средние пользовательские рейтинги жанров Action и Sports одинаковые.\n",
    "Н1 (альтернативная гипотеза) - средние пользовательские рейтинги жанров Action и Sports отличаются между собой."
   ]
  },
  {
   "cell_type": "code",
   "execution_count": 46,
   "metadata": {
    "scrolled": true
   },
   "outputs": [
    {
     "name": "stdout",
     "output_type": "stream",
     "text": [
      "p-значение:  0.11483818791498286\n",
      "Не получилось отвергнуть нулевую гипотезу\n",
      "\n",
      "Средний пользовательский рейтинг игр в жанре Action:  7.054043715846995\n",
      "Средний пользовательский рейтинг игр в жанре Sports: 6.961196736174069\n"
     ]
    }
   ],
   "source": [
    "action_rating = df[(df['genre'] == 'Action') & (df['user_score'] > 0)]['user_score']\n",
    "sport_rating = df[(df['genre'] == 'Sports') & (df['user_score'] > 0)]['user_score']\n",
    "\n",
    "\n",
    "#action_rating=df.query('genre==\"Action\"')\n",
    "#sports_rating=df.query('genre==\"Sports\"')\n",
    "#action_rating=action_rating[~action_rating['user_score'].isin(-1)]   \n",
    "                           \n",
    "                           \n",
    "alpha=0.05\n",
    "results = st.ttest_ind(action_rating,sport_rating,equal_var = False )\n",
    "print('p-значение: ', results.pvalue)\n",
    "\n",
    "if results.pvalue < alpha:\n",
    "    print(\"Отвергаем нулевую гипотезу\")\n",
    "else:\n",
    "    print(\"Не получилось отвергнуть нулевую гипотезу\") \n",
    "print()\n",
    "print(\"Средний пользовательский рейтинг игр в жанре Action: \",action_rating.mean())\n",
    "print('Средний пользовательский рейтинг игр в жанре Sports:',sport_rating.mean() )    "
   ]
  },
  {
   "cell_type": "markdown",
   "metadata": {},
   "source": [
    "Гипотеза не подтвердилась: Средний пользовательский рейтинг жанров Action и Sports одинаковый. \n"
   ]
  },
  {
   "cell_type": "markdown",
   "metadata": {},
   "source": [
    "## Общий вывод"
   ]
  },
  {
   "cell_type": "markdown",
   "metadata": {},
   "source": [
    "Мы получили данные до 2016 года. Ознакомились с файлом: заметили пропуски и неверные типы данных в некоторых столбцах, обработали файл: изменили названия всех столбцов – привели всё к нижнему регистру, удалили 2 пропуска в столбцах \"Name\", \"Year_of_Release\", обнаружили некорректное значение \"tbd\" в столбце \"user_score\" заменили на пропуск, заменили пустые значения в столбцах ['user_score'] ,['critic_score'] ,['rating'] на удобное значение «-1» , данный маркер в дальнейшем будем исключать при анализе. Добавили отдельный столбе 'sum_sales' - суммарные продажи во всех регионах. Сделали замену типов данных столбцов на нужный формат.   \\\n",
    "\n",
    "Провели исследовательский анализ: Начинается наш период с 1980 года. До 1995 года продавались тяжело игры. После 1995 года наблюдается постепенный рост продаж. Примерно с 2008 года наблюдается уже спад. Жизненный цикл одной игры - 10 лет. Видимо, это связано с выпуском новой игры, т.е. появилась новая игра и спрос на старую постепенно падает. Определили актуальный период с 2005 года по 2015 год, т.к. данные за 2016 год могут быть неполными. За этот период наблюдается медленный спад актуальности платформ, и только рост 2 платформ - PS4 и XOne. Выделили 10 самых популярных игр: самая первая игра PS выпустилась в 1993 году, была на пике своей популярности в 98 году, и после выхода в 2000 году новых игр PS2 и GBA выдохлась к 2003 году, PS2 и GBA ждала та же участь- всё было ничего , особенно у PS2, пока не вышла \"молодежь\"- DS, Wii,X360, PS3 и самая менее популярная из этого списка- PSP. В 2013 году вышла новая игра - PS4, которая отняла всё внимание игроманов и уже в 2015 году ей не было равных. Но можем предположить, что и её популярность будет падать.    \\\n",
    "\n",
    "Построилиграфик «ящик с усами» по глобальным продажам игр в разбивке по платформам и выявили, что медианные значения суммарных продаж данных платформ сильно не отличаются, 3-ие квартили и максимальные значения платформ X360 и PS3, PS занимают самые высокие позиции по сравнению с остальными платформами, самый большой выброс значений и низкий 3-ий квартиль у платформы DS.  \\\n",
    "\n",
    "Составили портреты пользователей из каждого региона: Средне-статистический пользователь из Северной Америки пользуется, в основном, платформами X360 и PS4, предпочитает игровые жанры \"Action\" и \"Shoter\" и игры с рейтингом \"Для всех возрастов\".  \\\n",
    "\n",
    "Средне-статистический пользователь из Европы предпочитает платформы PS4 и PS3, жанры \"Action\" и \"Shoter\" и игры с рейтингом \"Для всех возрастов\".   \\\n",
    "\n",
    "Средне-статистический пользователь из Японии отдает своё предпочтение платформе 3DS, жанру \"Role-Playing\" и \"Action\", рейтингу \"Для всех\".   \\\n",
    "\n",
    "Планируемая кампания на 2017-й:  \\\n",
    "\n",
    "Так как мы заметили, что жизненный цикл игр -10 лет и по графикам, что все игры на данный момент находятся на стадии спада своей популярности. Считаем, что здесь наибольшая вероятность \"оживить\" продажу можно - платформу PS4 (дата выхода 2013). По свежести дате выхода предыдущие игры X360, PS3 \"изжили своё\".  \\\n",
    "Предлагаем принять разные стратегии по повышению продаж в регионах в зависимости от актуальных параметров игр, т.е. использовать портреты средне-статистического пользователя каждого региона.  \\\n",
    "Принять важное замечание, что польше половины продаж сделано в Северной Америке.  \\\n",
    "Предлагаем выпустить новую игру, например, PS5 на базе платформы X360 и PS4 c жанром \"Action\" и \"Sports\", рейтингом \"Для взрослых\" и запустить продажу в Северной Америке и Европе. Для Японии выпустить больше игр на платформе 3DS, жанру Role-Playing, рейтингу \"Для всех\", но при этом использовать рекламные акции о популярных платформах в других регионах для ознакомления. Учитывая численность населения данных регионов,можно сделать вывод, что японцы заядлые игроманы!"
   ]
  },
  {
   "cell_type": "code",
   "execution_count": null,
   "metadata": {},
   "outputs": [],
   "source": []
  }
 ],
 "metadata": {
  "ExecuteTimeLog": [
   {
    "duration": 609,
    "start_time": "2022-03-14T07:50:07.023Z"
   },
   {
    "duration": 362,
    "start_time": "2022-03-14T07:50:51.762Z"
   },
   {
    "duration": 260,
    "start_time": "2022-03-14T07:50:57.465Z"
   },
   {
    "duration": 253,
    "start_time": "2022-03-14T07:51:24.625Z"
   },
   {
    "duration": 1815,
    "start_time": "2022-03-14T07:51:56.065Z"
   },
   {
    "duration": 39,
    "start_time": "2022-03-14T07:52:13.657Z"
   },
   {
    "duration": 20,
    "start_time": "2022-03-14T07:52:21.729Z"
   },
   {
    "duration": 4080,
    "start_time": "2022-03-14T07:53:07.058Z"
   },
   {
    "duration": 396,
    "start_time": "2022-03-14T07:53:23.594Z"
   },
   {
    "duration": 37,
    "start_time": "2022-03-14T07:53:46.466Z"
   },
   {
    "duration": 14,
    "start_time": "2022-03-14T07:53:50.409Z"
   },
   {
    "duration": 19,
    "start_time": "2022-03-14T07:54:00.515Z"
   },
   {
    "duration": 83,
    "start_time": "2022-03-14T07:54:34.002Z"
   },
   {
    "duration": 40,
    "start_time": "2022-03-14T07:54:34.898Z"
   },
   {
    "duration": 19,
    "start_time": "2022-03-14T07:54:35.603Z"
   },
   {
    "duration": 11,
    "start_time": "2022-03-14T07:54:44.658Z"
   },
   {
    "duration": 20,
    "start_time": "2022-03-14T08:01:24.779Z"
   },
   {
    "duration": 322,
    "start_time": "2022-03-14T08:01:54.517Z"
   },
   {
    "duration": 16,
    "start_time": "2022-03-14T08:01:59.445Z"
   },
   {
    "duration": 257,
    "start_time": "2022-03-14T08:07:48.812Z"
   },
   {
    "duration": 8,
    "start_time": "2022-03-14T08:07:55.023Z"
   },
   {
    "duration": 10,
    "start_time": "2022-03-14T08:08:03.615Z"
   },
   {
    "duration": 216,
    "start_time": "2022-03-15T06:33:44.018Z"
   },
   {
    "duration": 617,
    "start_time": "2022-03-15T06:33:50.701Z"
   },
   {
    "duration": 33,
    "start_time": "2022-03-15T06:33:51.320Z"
   },
   {
    "duration": 428,
    "start_time": "2022-03-15T06:33:51.355Z"
   },
   {
    "duration": -351,
    "start_time": "2022-03-15T06:33:52.136Z"
   },
   {
    "duration": -351,
    "start_time": "2022-03-15T06:33:52.138Z"
   },
   {
    "duration": -352,
    "start_time": "2022-03-15T06:33:52.140Z"
   },
   {
    "duration": -393,
    "start_time": "2022-03-15T06:33:52.183Z"
   },
   {
    "duration": -393,
    "start_time": "2022-03-15T06:33:52.184Z"
   },
   {
    "duration": -392,
    "start_time": "2022-03-15T06:33:52.185Z"
   },
   {
    "duration": 21,
    "start_time": "2022-03-15T06:34:00.233Z"
   },
   {
    "duration": 11,
    "start_time": "2022-03-15T06:34:03.235Z"
   },
   {
    "duration": 16,
    "start_time": "2022-03-15T06:34:04.396Z"
   },
   {
    "duration": 9,
    "start_time": "2022-03-15T06:34:06.523Z"
   },
   {
    "duration": 10,
    "start_time": "2022-03-15T06:34:07.748Z"
   },
   {
    "duration": 22,
    "start_time": "2022-03-15T06:34:10.084Z"
   },
   {
    "duration": 233,
    "start_time": "2022-03-15T06:35:09.900Z"
   },
   {
    "duration": 255,
    "start_time": "2022-03-15T06:37:13.201Z"
   },
   {
    "duration": 19,
    "start_time": "2022-03-15T06:37:56.513Z"
   },
   {
    "duration": 19,
    "start_time": "2022-03-15T06:39:15.830Z"
   },
   {
    "duration": 821,
    "start_time": "2022-03-16T07:56:22.551Z"
   },
   {
    "duration": 45,
    "start_time": "2022-03-16T07:56:23.375Z"
   },
   {
    "duration": 38,
    "start_time": "2022-03-16T07:56:23.423Z"
   },
   {
    "duration": 14,
    "start_time": "2022-03-16T07:56:23.464Z"
   },
   {
    "duration": 24,
    "start_time": "2022-03-16T07:56:23.481Z"
   },
   {
    "duration": 60,
    "start_time": "2022-03-16T07:56:23.508Z"
   },
   {
    "duration": 11,
    "start_time": "2022-03-16T07:56:23.570Z"
   },
   {
    "duration": 13,
    "start_time": "2022-03-16T07:56:23.583Z"
   },
   {
    "duration": 69,
    "start_time": "2022-03-16T07:56:23.600Z"
   },
   {
    "duration": 29,
    "start_time": "2022-03-16T07:56:23.672Z"
   },
   {
    "duration": 27,
    "start_time": "2022-03-16T07:56:51.917Z"
   },
   {
    "duration": 693,
    "start_time": "2022-03-16T08:22:32.316Z"
   },
   {
    "duration": 4,
    "start_time": "2022-03-16T08:23:47.812Z"
   },
   {
    "duration": 39,
    "start_time": "2022-03-16T08:23:58.141Z"
   },
   {
    "duration": 917,
    "start_time": "2022-03-16T08:24:09.179Z"
   },
   {
    "duration": 48,
    "start_time": "2022-03-16T08:24:10.098Z"
   },
   {
    "duration": 30,
    "start_time": "2022-03-16T08:24:10.152Z"
   },
   {
    "duration": 24,
    "start_time": "2022-03-16T08:24:10.184Z"
   },
   {
    "duration": 4,
    "start_time": "2022-03-16T08:24:10.211Z"
   },
   {
    "duration": 57,
    "start_time": "2022-03-16T08:24:10.217Z"
   },
   {
    "duration": 328,
    "start_time": "2022-03-16T08:24:10.277Z"
   },
   {
    "duration": -978,
    "start_time": "2022-03-16T08:24:11.586Z"
   },
   {
    "duration": -976,
    "start_time": "2022-03-16T08:24:11.586Z"
   },
   {
    "duration": -976,
    "start_time": "2022-03-16T08:24:11.587Z"
   },
   {
    "duration": -975,
    "start_time": "2022-03-16T08:24:11.588Z"
   },
   {
    "duration": -974,
    "start_time": "2022-03-16T08:24:11.589Z"
   },
   {
    "duration": 23,
    "start_time": "2022-03-16T08:24:23.314Z"
   },
   {
    "duration": 23,
    "start_time": "2022-03-16T08:24:29.809Z"
   },
   {
    "duration": 11,
    "start_time": "2022-03-16T08:24:34.761Z"
   },
   {
    "duration": 32,
    "start_time": "2022-03-16T08:24:43.257Z"
   },
   {
    "duration": 40,
    "start_time": "2022-03-16T08:24:46.820Z"
   },
   {
    "duration": 18,
    "start_time": "2022-03-16T08:25:24.498Z"
   },
   {
    "duration": 8,
    "start_time": "2022-03-16T08:39:43.510Z"
   },
   {
    "duration": 35,
    "start_time": "2022-03-16T08:39:46.728Z"
   },
   {
    "duration": 18,
    "start_time": "2022-03-16T08:41:08.894Z"
   },
   {
    "duration": 9,
    "start_time": "2022-03-16T08:43:05.006Z"
   },
   {
    "duration": 16,
    "start_time": "2022-03-16T08:43:05.871Z"
   },
   {
    "duration": 42,
    "start_time": "2022-03-16T08:43:15.693Z"
   },
   {
    "duration": 15,
    "start_time": "2022-03-16T08:43:16.559Z"
   },
   {
    "duration": 16,
    "start_time": "2022-03-16T08:44:56.479Z"
   },
   {
    "duration": 42,
    "start_time": "2022-03-16T08:44:57.960Z"
   },
   {
    "duration": 18,
    "start_time": "2022-03-16T08:44:59.343Z"
   },
   {
    "duration": 18,
    "start_time": "2022-03-16T08:45:43.680Z"
   },
   {
    "duration": 41,
    "start_time": "2022-03-16T08:45:45.447Z"
   },
   {
    "duration": 17,
    "start_time": "2022-03-16T08:45:46.223Z"
   },
   {
    "duration": 721,
    "start_time": "2022-03-17T06:08:41.907Z"
   },
   {
    "duration": 35,
    "start_time": "2022-03-17T06:08:42.630Z"
   },
   {
    "duration": 22,
    "start_time": "2022-03-17T06:08:42.667Z"
   },
   {
    "duration": 12,
    "start_time": "2022-03-17T06:08:42.701Z"
   },
   {
    "duration": 4,
    "start_time": "2022-03-17T06:08:42.715Z"
   },
   {
    "duration": 25,
    "start_time": "2022-03-17T06:08:42.721Z"
   },
   {
    "duration": 20,
    "start_time": "2022-03-17T06:08:42.748Z"
   },
   {
    "duration": 44,
    "start_time": "2022-03-17T06:08:42.771Z"
   },
   {
    "duration": 16,
    "start_time": "2022-03-17T06:08:42.817Z"
   },
   {
    "duration": 28,
    "start_time": "2022-03-17T06:08:42.834Z"
   },
   {
    "duration": 28,
    "start_time": "2022-03-17T06:08:42.864Z"
   },
   {
    "duration": 23,
    "start_time": "2022-03-17T06:08:42.894Z"
   },
   {
    "duration": 13,
    "start_time": "2022-03-17T06:08:42.920Z"
   },
   {
    "duration": 346,
    "start_time": "2022-03-17T06:17:30.643Z"
   },
   {
    "duration": 6,
    "start_time": "2022-03-17T06:18:11.227Z"
   },
   {
    "duration": 15,
    "start_time": "2022-03-17T06:18:23.236Z"
   },
   {
    "duration": 5,
    "start_time": "2022-03-17T06:19:44.812Z"
   },
   {
    "duration": 277,
    "start_time": "2022-03-17T06:20:01.884Z"
   },
   {
    "duration": 11,
    "start_time": "2022-03-17T06:20:08.140Z"
   },
   {
    "duration": 3,
    "start_time": "2022-03-17T06:36:44.317Z"
   },
   {
    "duration": 18,
    "start_time": "2022-03-17T06:36:51.756Z"
   },
   {
    "duration": 760,
    "start_time": "2022-03-17T06:43:28.188Z"
   },
   {
    "duration": 299,
    "start_time": "2022-03-17T06:44:31.622Z"
   },
   {
    "duration": 313,
    "start_time": "2022-03-17T06:44:41.525Z"
   },
   {
    "duration": 308,
    "start_time": "2022-03-17T06:45:15.965Z"
   },
   {
    "duration": 467,
    "start_time": "2022-03-17T06:45:38.365Z"
   },
   {
    "duration": 1289,
    "start_time": "2022-03-17T06:45:45.266Z"
   },
   {
    "duration": 36,
    "start_time": "2022-03-17T06:45:46.557Z"
   },
   {
    "duration": 25,
    "start_time": "2022-03-17T06:45:46.595Z"
   },
   {
    "duration": 17,
    "start_time": "2022-03-17T06:45:46.622Z"
   },
   {
    "duration": 3,
    "start_time": "2022-03-17T06:45:46.641Z"
   },
   {
    "duration": 27,
    "start_time": "2022-03-17T06:45:46.646Z"
   },
   {
    "duration": 38,
    "start_time": "2022-03-17T06:45:46.674Z"
   },
   {
    "duration": 16,
    "start_time": "2022-03-17T06:45:46.715Z"
   },
   {
    "duration": 12,
    "start_time": "2022-03-17T06:45:46.733Z"
   },
   {
    "duration": 10,
    "start_time": "2022-03-17T06:45:46.747Z"
   },
   {
    "duration": 12,
    "start_time": "2022-03-17T06:45:46.759Z"
   },
   {
    "duration": 48,
    "start_time": "2022-03-17T06:45:46.773Z"
   },
   {
    "duration": 5,
    "start_time": "2022-03-17T06:45:46.823Z"
   },
   {
    "duration": 13,
    "start_time": "2022-03-17T06:45:46.830Z"
   },
   {
    "duration": 18,
    "start_time": "2022-03-17T06:45:46.845Z"
   },
   {
    "duration": 45,
    "start_time": "2022-03-17T06:45:46.865Z"
   },
   {
    "duration": 583,
    "start_time": "2022-03-17T06:45:46.912Z"
   },
   {
    "duration": 499,
    "start_time": "2022-03-17T06:46:03.392Z"
   },
   {
    "duration": 653,
    "start_time": "2022-03-17T06:46:32.184Z"
   },
   {
    "duration": 582,
    "start_time": "2022-03-17T06:49:10.649Z"
   },
   {
    "duration": 741,
    "start_time": "2022-03-17T06:50:00.619Z"
   },
   {
    "duration": 259,
    "start_time": "2022-03-17T06:51:25.482Z"
   },
   {
    "duration": 707,
    "start_time": "2022-03-17T06:51:35.476Z"
   },
   {
    "duration": 451,
    "start_time": "2022-03-17T06:51:40.050Z"
   },
   {
    "duration": 534,
    "start_time": "2022-03-17T07:14:30.399Z"
   },
   {
    "duration": 321,
    "start_time": "2022-03-17T07:15:06.526Z"
   },
   {
    "duration": 326,
    "start_time": "2022-03-17T07:15:26.702Z"
   },
   {
    "duration": 1234,
    "start_time": "2022-03-17T07:15:43.624Z"
   },
   {
    "duration": 44,
    "start_time": "2022-03-17T07:15:44.861Z"
   },
   {
    "duration": 23,
    "start_time": "2022-03-17T07:15:44.908Z"
   },
   {
    "duration": 20,
    "start_time": "2022-03-17T07:15:44.934Z"
   },
   {
    "duration": 8,
    "start_time": "2022-03-17T07:15:44.957Z"
   },
   {
    "duration": 60,
    "start_time": "2022-03-17T07:15:44.968Z"
   },
   {
    "duration": 27,
    "start_time": "2022-03-17T07:15:45.030Z"
   },
   {
    "duration": 48,
    "start_time": "2022-03-17T07:15:45.062Z"
   },
   {
    "duration": 11,
    "start_time": "2022-03-17T07:15:45.113Z"
   },
   {
    "duration": 17,
    "start_time": "2022-03-17T07:15:45.127Z"
   },
   {
    "duration": 18,
    "start_time": "2022-03-17T07:15:45.147Z"
   },
   {
    "duration": 48,
    "start_time": "2022-03-17T07:15:45.168Z"
   },
   {
    "duration": 5,
    "start_time": "2022-03-17T07:15:45.218Z"
   },
   {
    "duration": 21,
    "start_time": "2022-03-17T07:15:45.225Z"
   },
   {
    "duration": 15,
    "start_time": "2022-03-17T07:15:45.248Z"
   },
   {
    "duration": 49,
    "start_time": "2022-03-17T07:15:45.266Z"
   },
   {
    "duration": 766,
    "start_time": "2022-03-17T07:15:45.318Z"
   },
   {
    "duration": 707,
    "start_time": "2022-03-17T07:15:46.086Z"
   },
   {
    "duration": 488,
    "start_time": "2022-03-17T07:15:46.796Z"
   },
   {
    "duration": 556,
    "start_time": "2022-03-17T07:15:47.286Z"
   },
   {
    "duration": 337,
    "start_time": "2022-03-17T07:15:47.845Z"
   },
   {
    "duration": 468,
    "start_time": "2022-03-17T07:16:15.675Z"
   },
   {
    "duration": 465,
    "start_time": "2022-03-17T07:17:45.340Z"
   },
   {
    "duration": 1219,
    "start_time": "2022-03-17T07:17:52.738Z"
   },
   {
    "duration": 43,
    "start_time": "2022-03-17T07:17:53.959Z"
   },
   {
    "duration": 22,
    "start_time": "2022-03-17T07:17:54.004Z"
   },
   {
    "duration": 18,
    "start_time": "2022-03-17T07:17:54.028Z"
   },
   {
    "duration": 5,
    "start_time": "2022-03-17T07:17:54.048Z"
   },
   {
    "duration": 56,
    "start_time": "2022-03-17T07:17:54.057Z"
   },
   {
    "duration": 20,
    "start_time": "2022-03-17T07:17:54.116Z"
   },
   {
    "duration": 23,
    "start_time": "2022-03-17T07:17:54.139Z"
   },
   {
    "duration": 37,
    "start_time": "2022-03-17T07:17:54.164Z"
   },
   {
    "duration": 16,
    "start_time": "2022-03-17T07:17:54.204Z"
   },
   {
    "duration": 17,
    "start_time": "2022-03-17T07:17:54.223Z"
   },
   {
    "duration": 64,
    "start_time": "2022-03-17T07:17:54.243Z"
   },
   {
    "duration": 7,
    "start_time": "2022-03-17T07:17:54.309Z"
   },
   {
    "duration": 23,
    "start_time": "2022-03-17T07:17:54.318Z"
   },
   {
    "duration": 22,
    "start_time": "2022-03-17T07:17:54.343Z"
   },
   {
    "duration": 41,
    "start_time": "2022-03-17T07:17:54.368Z"
   },
   {
    "duration": 346,
    "start_time": "2022-03-17T07:17:54.412Z"
   },
   {
    "duration": 450,
    "start_time": "2022-03-17T07:18:07.827Z"
   },
   {
    "duration": 1203,
    "start_time": "2022-03-17T07:19:33.345Z"
   },
   {
    "duration": 35,
    "start_time": "2022-03-17T07:19:34.550Z"
   },
   {
    "duration": 26,
    "start_time": "2022-03-17T07:19:34.587Z"
   },
   {
    "duration": 12,
    "start_time": "2022-03-17T07:19:34.615Z"
   },
   {
    "duration": 3,
    "start_time": "2022-03-17T07:19:34.629Z"
   },
   {
    "duration": 31,
    "start_time": "2022-03-17T07:19:34.634Z"
   },
   {
    "duration": 44,
    "start_time": "2022-03-17T07:19:34.667Z"
   },
   {
    "duration": 17,
    "start_time": "2022-03-17T07:19:34.713Z"
   },
   {
    "duration": 12,
    "start_time": "2022-03-17T07:19:34.732Z"
   },
   {
    "duration": 15,
    "start_time": "2022-03-17T07:19:34.746Z"
   },
   {
    "duration": 38,
    "start_time": "2022-03-17T07:19:34.763Z"
   },
   {
    "duration": 5,
    "start_time": "2022-03-17T07:19:34.803Z"
   },
   {
    "duration": 39,
    "start_time": "2022-03-17T07:19:34.810Z"
   },
   {
    "duration": 6,
    "start_time": "2022-03-17T07:19:34.852Z"
   },
   {
    "duration": 48,
    "start_time": "2022-03-17T07:19:34.860Z"
   },
   {
    "duration": 18,
    "start_time": "2022-03-17T07:19:34.910Z"
   },
   {
    "duration": 21,
    "start_time": "2022-03-17T07:19:34.931Z"
   },
   {
    "duration": 471,
    "start_time": "2022-03-17T07:19:34.954Z"
   },
   {
    "duration": 443,
    "start_time": "2022-03-17T07:19:51.529Z"
   },
   {
    "duration": 273,
    "start_time": "2022-03-17T07:24:19.170Z"
   },
   {
    "duration": 367,
    "start_time": "2022-03-17T07:34:37.952Z"
   },
   {
    "duration": 8,
    "start_time": "2022-03-17T07:34:51.719Z"
   },
   {
    "duration": 14,
    "start_time": "2022-03-17T07:35:04.951Z"
   },
   {
    "duration": 591,
    "start_time": "2022-03-17T07:35:33.610Z"
   },
   {
    "duration": 5,
    "start_time": "2022-03-17T07:35:40.568Z"
   },
   {
    "duration": 286,
    "start_time": "2022-03-17T07:35:47.615Z"
   },
   {
    "duration": 5,
    "start_time": "2022-03-17T07:35:56.351Z"
   },
   {
    "duration": 6,
    "start_time": "2022-03-17T07:36:06.146Z"
   },
   {
    "duration": 7,
    "start_time": "2022-03-17T07:37:21.802Z"
   },
   {
    "duration": 298,
    "start_time": "2022-03-17T07:59:21.889Z"
   },
   {
    "duration": 5141,
    "start_time": "2022-03-17T07:59:56.393Z"
   },
   {
    "duration": 8213,
    "start_time": "2022-03-17T08:06:15.153Z"
   },
   {
    "duration": 8875,
    "start_time": "2022-03-17T08:06:41.633Z"
   },
   {
    "duration": 7671,
    "start_time": "2022-03-17T08:07:09.681Z"
   },
   {
    "duration": 543,
    "start_time": "2022-03-17T08:07:42.594Z"
   },
   {
    "duration": 8209,
    "start_time": "2022-03-17T08:08:01.962Z"
   },
   {
    "duration": 8421,
    "start_time": "2022-03-17T08:09:12.010Z"
   },
   {
    "duration": 281,
    "start_time": "2022-03-17T09:12:40.261Z"
   },
   {
    "duration": 1236,
    "start_time": "2022-03-17T09:12:50.335Z"
   },
   {
    "duration": 37,
    "start_time": "2022-03-17T09:12:51.573Z"
   },
   {
    "duration": 22,
    "start_time": "2022-03-17T09:12:51.613Z"
   },
   {
    "duration": 12,
    "start_time": "2022-03-17T09:12:51.637Z"
   },
   {
    "duration": 20,
    "start_time": "2022-03-17T09:12:51.651Z"
   },
   {
    "duration": 32,
    "start_time": "2022-03-17T09:12:51.673Z"
   },
   {
    "duration": 30,
    "start_time": "2022-03-17T09:12:51.707Z"
   },
   {
    "duration": 15,
    "start_time": "2022-03-17T09:12:51.739Z"
   },
   {
    "duration": 20,
    "start_time": "2022-03-17T09:12:51.757Z"
   },
   {
    "duration": 29,
    "start_time": "2022-03-17T09:12:51.781Z"
   },
   {
    "duration": 21,
    "start_time": "2022-03-17T09:12:51.813Z"
   },
   {
    "duration": 7,
    "start_time": "2022-03-17T09:12:51.836Z"
   },
   {
    "duration": 58,
    "start_time": "2022-03-17T09:12:51.845Z"
   },
   {
    "duration": 7,
    "start_time": "2022-03-17T09:12:51.906Z"
   },
   {
    "duration": 26,
    "start_time": "2022-03-17T09:12:51.915Z"
   },
   {
    "duration": 26,
    "start_time": "2022-03-17T09:12:51.944Z"
   },
   {
    "duration": 39,
    "start_time": "2022-03-17T09:12:51.972Z"
   },
   {
    "duration": 328,
    "start_time": "2022-03-17T09:12:52.014Z"
   },
   {
    "duration": 269,
    "start_time": "2022-03-17T09:12:52.344Z"
   },
   {
    "duration": 13,
    "start_time": "2022-03-17T09:12:52.616Z"
   },
   {
    "duration": 5,
    "start_time": "2022-03-17T09:12:52.631Z"
   },
   {
    "duration": 4949,
    "start_time": "2022-03-17T09:12:52.638Z"
   },
   {
    "duration": -1043,
    "start_time": "2022-03-17T09:12:58.633Z"
   },
   {
    "duration": 284,
    "start_time": "2022-03-17T09:13:30.387Z"
   },
   {
    "duration": 263,
    "start_time": "2022-03-17T09:15:35.189Z"
   },
   {
    "duration": 422,
    "start_time": "2022-03-17T09:25:07.696Z"
   },
   {
    "duration": 425,
    "start_time": "2022-03-17T09:25:29.251Z"
   },
   {
    "duration": 341,
    "start_time": "2022-03-17T09:38:07.146Z"
   },
   {
    "duration": 269,
    "start_time": "2022-03-17T09:38:29.105Z"
   },
   {
    "duration": 4670,
    "start_time": "2022-03-17T09:40:14.394Z"
   },
   {
    "duration": 6453,
    "start_time": "2022-03-17T09:42:33.797Z"
   },
   {
    "duration": 5,
    "start_time": "2022-03-17T09:44:04.085Z"
   },
   {
    "duration": 696,
    "start_time": "2022-03-17T09:44:05.341Z"
   },
   {
    "duration": 6,
    "start_time": "2022-03-17T09:44:26.956Z"
   },
   {
    "duration": 427,
    "start_time": "2022-03-17T09:44:27.933Z"
   },
   {
    "duration": 652,
    "start_time": "2022-03-17T09:45:10.645Z"
   },
   {
    "duration": 877,
    "start_time": "2022-03-17T09:45:23.045Z"
   },
   {
    "duration": 478,
    "start_time": "2022-03-17T09:45:26.534Z"
   },
   {
    "duration": 295,
    "start_time": "2022-03-17T10:12:02.378Z"
   },
   {
    "duration": 252,
    "start_time": "2022-03-17T10:40:44.032Z"
   },
   {
    "duration": 609,
    "start_time": "2022-03-17T10:46:34.474Z"
   },
   {
    "duration": 463,
    "start_time": "2022-03-17T10:47:02.041Z"
   },
   {
    "duration": 258,
    "start_time": "2022-03-17T10:47:55.138Z"
   },
   {
    "duration": 347,
    "start_time": "2022-03-17T10:48:03.118Z"
   },
   {
    "duration": 80,
    "start_time": "2022-03-17T10:50:09.626Z"
   },
   {
    "duration": 96,
    "start_time": "2022-03-17T10:50:49.855Z"
   },
   {
    "duration": 240,
    "start_time": "2022-03-17T10:51:03.523Z"
   },
   {
    "duration": 225,
    "start_time": "2022-03-17T10:51:09.554Z"
   },
   {
    "duration": 221,
    "start_time": "2022-03-17T10:51:21.810Z"
   },
   {
    "duration": 240,
    "start_time": "2022-03-17T10:51:41.386Z"
   },
   {
    "duration": 232,
    "start_time": "2022-03-17T10:51:48.915Z"
   },
   {
    "duration": 224,
    "start_time": "2022-03-17T10:51:54.659Z"
   },
   {
    "duration": 525,
    "start_time": "2022-03-17T10:56:09.331Z"
   },
   {
    "duration": 836,
    "start_time": "2022-03-17T10:56:18.195Z"
   },
   {
    "duration": 823,
    "start_time": "2022-03-17T11:00:01.012Z"
   },
   {
    "duration": 225,
    "start_time": "2022-03-17T11:02:13.863Z"
   },
   {
    "duration": 3006,
    "start_time": "2022-03-17T11:02:37.332Z"
   },
   {
    "duration": 54,
    "start_time": "2022-03-17T11:02:40.340Z"
   },
   {
    "duration": 34,
    "start_time": "2022-03-17T11:02:40.398Z"
   },
   {
    "duration": 16,
    "start_time": "2022-03-17T11:02:40.435Z"
   },
   {
    "duration": 4,
    "start_time": "2022-03-17T11:02:40.453Z"
   },
   {
    "duration": 53,
    "start_time": "2022-03-17T11:02:40.459Z"
   },
   {
    "duration": 21,
    "start_time": "2022-03-17T11:02:40.514Z"
   },
   {
    "duration": 16,
    "start_time": "2022-03-17T11:02:40.538Z"
   },
   {
    "duration": 10,
    "start_time": "2022-03-17T11:02:40.557Z"
   },
   {
    "duration": 16,
    "start_time": "2022-03-17T11:02:40.603Z"
   },
   {
    "duration": 36,
    "start_time": "2022-03-17T11:02:40.623Z"
   },
   {
    "duration": 5,
    "start_time": "2022-03-17T11:02:40.662Z"
   },
   {
    "duration": 50,
    "start_time": "2022-03-17T11:02:40.670Z"
   },
   {
    "duration": 7,
    "start_time": "2022-03-17T11:02:40.723Z"
   },
   {
    "duration": 32,
    "start_time": "2022-03-17T11:02:40.732Z"
   },
   {
    "duration": 43,
    "start_time": "2022-03-17T11:02:40.768Z"
   },
   {
    "duration": 25,
    "start_time": "2022-03-17T11:02:40.814Z"
   },
   {
    "duration": 677,
    "start_time": "2022-03-17T11:02:40.841Z"
   },
   {
    "duration": 14,
    "start_time": "2022-03-17T11:02:41.520Z"
   },
   {
    "duration": 21,
    "start_time": "2022-03-17T11:02:41.536Z"
   },
   {
    "duration": 18,
    "start_time": "2022-03-17T11:02:41.558Z"
   },
   {
    "duration": 424,
    "start_time": "2022-03-17T11:02:41.579Z"
   },
   {
    "duration": 585,
    "start_time": "2022-03-17T11:02:42.007Z"
   },
   {
    "duration": 632,
    "start_time": "2022-03-17T11:05:09.428Z"
   },
   {
    "duration": 1758,
    "start_time": "2022-03-18T04:10:12.239Z"
   },
   {
    "duration": 66,
    "start_time": "2022-03-18T04:10:14.001Z"
   },
   {
    "duration": 35,
    "start_time": "2022-03-18T04:10:14.069Z"
   },
   {
    "duration": 38,
    "start_time": "2022-03-18T04:10:14.107Z"
   },
   {
    "duration": 4,
    "start_time": "2022-03-18T04:10:14.148Z"
   },
   {
    "duration": 32,
    "start_time": "2022-03-18T04:10:14.154Z"
   },
   {
    "duration": 26,
    "start_time": "2022-03-18T04:10:14.188Z"
   },
   {
    "duration": 23,
    "start_time": "2022-03-18T04:10:14.242Z"
   },
   {
    "duration": 14,
    "start_time": "2022-03-18T04:10:14.268Z"
   },
   {
    "duration": 20,
    "start_time": "2022-03-18T04:10:14.286Z"
   },
   {
    "duration": 18,
    "start_time": "2022-03-18T04:10:14.344Z"
   },
   {
    "duration": 6,
    "start_time": "2022-03-18T04:10:14.364Z"
   },
   {
    "duration": 26,
    "start_time": "2022-03-18T04:10:14.373Z"
   },
   {
    "duration": 41,
    "start_time": "2022-03-18T04:10:14.402Z"
   },
   {
    "duration": 23,
    "start_time": "2022-03-18T04:10:14.446Z"
   },
   {
    "duration": 20,
    "start_time": "2022-03-18T04:10:14.472Z"
   },
   {
    "duration": 54,
    "start_time": "2022-03-18T04:10:14.494Z"
   },
   {
    "duration": 721,
    "start_time": "2022-03-18T04:10:14.551Z"
   },
   {
    "duration": 21,
    "start_time": "2022-03-18T04:10:15.275Z"
   },
   {
    "duration": 8,
    "start_time": "2022-03-18T04:10:15.298Z"
   },
   {
    "duration": 638,
    "start_time": "2022-03-18T04:10:15.308Z"
   },
   {
    "duration": 183,
    "start_time": "2022-03-18T05:30:47.701Z"
   },
   {
    "duration": 48,
    "start_time": "2022-03-18T05:31:07.543Z"
   },
   {
    "duration": 49,
    "start_time": "2022-03-18T05:31:39.215Z"
   },
   {
    "duration": 33,
    "start_time": "2022-03-18T05:32:35.383Z"
   },
   {
    "duration": 14,
    "start_time": "2022-03-18T05:36:33.111Z"
   },
   {
    "duration": 25,
    "start_time": "2022-03-18T05:42:23.992Z"
   },
   {
    "duration": 16,
    "start_time": "2022-03-18T05:46:43.457Z"
   },
   {
    "duration": 16,
    "start_time": "2022-03-18T05:46:52.337Z"
   },
   {
    "duration": 24,
    "start_time": "2022-03-18T05:47:04.497Z"
   },
   {
    "duration": 20,
    "start_time": "2022-03-18T05:47:25.857Z"
   },
   {
    "duration": 21,
    "start_time": "2022-03-18T05:47:34.793Z"
   },
   {
    "duration": 22,
    "start_time": "2022-03-18T05:48:30.474Z"
   },
   {
    "duration": 22,
    "start_time": "2022-03-18T05:52:54.051Z"
   },
   {
    "duration": 45,
    "start_time": "2022-03-18T05:54:30.260Z"
   },
   {
    "duration": 46,
    "start_time": "2022-03-18T05:55:06.812Z"
   },
   {
    "duration": 57,
    "start_time": "2022-03-18T05:55:56.228Z"
   },
   {
    "duration": 195,
    "start_time": "2022-03-18T06:01:22.591Z"
   },
   {
    "duration": 24,
    "start_time": "2022-03-18T06:01:26.877Z"
   },
   {
    "duration": 20,
    "start_time": "2022-03-18T06:01:37.053Z"
   },
   {
    "duration": 24,
    "start_time": "2022-03-18T06:01:47.381Z"
   },
   {
    "duration": 24,
    "start_time": "2022-03-18T06:01:59.276Z"
   },
   {
    "duration": 17,
    "start_time": "2022-03-18T06:02:08.741Z"
   },
   {
    "duration": 18,
    "start_time": "2022-03-18T06:02:18.942Z"
   },
   {
    "duration": 27,
    "start_time": "2022-03-18T06:04:28.366Z"
   },
   {
    "duration": 51,
    "start_time": "2022-03-18T06:04:39.848Z"
   },
   {
    "duration": 17,
    "start_time": "2022-03-18T06:17:25.640Z"
   },
   {
    "duration": 12,
    "start_time": "2022-03-18T06:18:01.865Z"
   },
   {
    "duration": 15,
    "start_time": "2022-03-18T06:18:20.186Z"
   },
   {
    "duration": 102,
    "start_time": "2022-03-18T06:24:53.675Z"
   },
   {
    "duration": 126,
    "start_time": "2022-03-18T06:26:17.292Z"
   },
   {
    "duration": 130,
    "start_time": "2022-03-18T06:50:31.682Z"
   },
   {
    "duration": 104,
    "start_time": "2022-03-18T06:54:20.427Z"
   },
   {
    "duration": 7,
    "start_time": "2022-03-18T08:18:49.618Z"
   },
   {
    "duration": 37,
    "start_time": "2022-03-18T08:18:57.849Z"
   },
   {
    "duration": 248,
    "start_time": "2022-03-18T08:37:03.910Z"
   },
   {
    "duration": 260,
    "start_time": "2022-03-18T08:37:12.575Z"
   },
   {
    "duration": 264,
    "start_time": "2022-03-18T08:37:29.350Z"
   },
   {
    "duration": 260,
    "start_time": "2022-03-18T08:38:08.247Z"
   },
   {
    "duration": 15,
    "start_time": "2022-03-18T08:39:47.976Z"
   },
   {
    "duration": 1600,
    "start_time": "2022-03-18T08:40:35.821Z"
   },
   {
    "duration": 53,
    "start_time": "2022-03-18T08:40:37.424Z"
   },
   {
    "duration": 37,
    "start_time": "2022-03-18T08:40:37.479Z"
   },
   {
    "duration": 37,
    "start_time": "2022-03-18T08:40:37.519Z"
   },
   {
    "duration": 4,
    "start_time": "2022-03-18T08:40:37.559Z"
   },
   {
    "duration": 30,
    "start_time": "2022-03-18T08:40:37.565Z"
   },
   {
    "duration": 56,
    "start_time": "2022-03-18T08:40:37.597Z"
   },
   {
    "duration": 21,
    "start_time": "2022-03-18T08:40:37.655Z"
   },
   {
    "duration": 12,
    "start_time": "2022-03-18T08:40:37.679Z"
   },
   {
    "duration": 20,
    "start_time": "2022-03-18T08:40:37.695Z"
   },
   {
    "duration": 16,
    "start_time": "2022-03-18T08:40:37.744Z"
   },
   {
    "duration": 5,
    "start_time": "2022-03-18T08:40:37.762Z"
   },
   {
    "duration": 32,
    "start_time": "2022-03-18T08:40:37.769Z"
   },
   {
    "duration": 7,
    "start_time": "2022-03-18T08:40:37.803Z"
   },
   {
    "duration": 23,
    "start_time": "2022-03-18T08:40:37.843Z"
   },
   {
    "duration": 18,
    "start_time": "2022-03-18T08:40:37.868Z"
   },
   {
    "duration": 17,
    "start_time": "2022-03-18T08:40:37.889Z"
   },
   {
    "duration": 761,
    "start_time": "2022-03-18T08:40:37.909Z"
   },
   {
    "duration": 19,
    "start_time": "2022-03-18T08:40:38.673Z"
   },
   {
    "duration": 15,
    "start_time": "2022-03-18T08:40:38.694Z"
   },
   {
    "duration": 676,
    "start_time": "2022-03-18T08:40:38.712Z"
   },
   {
    "duration": 4,
    "start_time": "2022-03-18T08:40:39.390Z"
   },
   {
    "duration": 392,
    "start_time": "2022-03-18T08:40:39.396Z"
   },
   {
    "duration": 49,
    "start_time": "2022-03-18T09:05:11.046Z"
   },
   {
    "duration": 9,
    "start_time": "2022-03-18T09:05:14.119Z"
   },
   {
    "duration": 10,
    "start_time": "2022-03-18T09:06:12.269Z"
   },
   {
    "duration": 14,
    "start_time": "2022-03-18T09:06:27.374Z"
   },
   {
    "duration": 10,
    "start_time": "2022-03-18T09:06:31.046Z"
   },
   {
    "duration": 7,
    "start_time": "2022-03-18T09:06:42.190Z"
   },
   {
    "duration": 8,
    "start_time": "2022-03-18T09:07:31.214Z"
   },
   {
    "duration": 250,
    "start_time": "2022-03-18T09:18:54.097Z"
   },
   {
    "duration": 13,
    "start_time": "2022-03-18T09:19:12.185Z"
   },
   {
    "duration": 179,
    "start_time": "2022-03-18T09:21:53.968Z"
   },
   {
    "duration": 13,
    "start_time": "2022-03-18T09:22:08.210Z"
   },
   {
    "duration": 152,
    "start_time": "2022-03-18T09:22:11.456Z"
   },
   {
    "duration": 12,
    "start_time": "2022-03-18T09:22:30.053Z"
   },
   {
    "duration": 12,
    "start_time": "2022-03-18T09:22:43.420Z"
   },
   {
    "duration": 1042,
    "start_time": "2022-03-18T09:22:44.929Z"
   },
   {
    "duration": 4,
    "start_time": "2022-03-18T09:37:29.094Z"
   },
   {
    "duration": 14,
    "start_time": "2022-03-18T09:37:37.225Z"
   },
   {
    "duration": 12,
    "start_time": "2022-03-18T09:39:33.606Z"
   },
   {
    "duration": 12,
    "start_time": "2022-03-18T09:40:28.839Z"
   },
   {
    "duration": 213,
    "start_time": "2022-03-18T09:41:29.431Z"
   },
   {
    "duration": 11,
    "start_time": "2022-03-18T09:41:32.433Z"
   },
   {
    "duration": 4,
    "start_time": "2022-03-18T09:43:21.463Z"
   },
   {
    "duration": 11,
    "start_time": "2022-03-18T09:43:28.791Z"
   },
   {
    "duration": 12,
    "start_time": "2022-03-18T09:44:54.392Z"
   },
   {
    "duration": 15,
    "start_time": "2022-03-18T09:45:47.287Z"
   },
   {
    "duration": 13,
    "start_time": "2022-03-18T09:45:58.568Z"
   },
   {
    "duration": 14,
    "start_time": "2022-03-18T09:46:01.280Z"
   },
   {
    "duration": 13,
    "start_time": "2022-03-18T09:46:26.176Z"
   },
   {
    "duration": 13,
    "start_time": "2022-03-18T09:49:13.617Z"
   },
   {
    "duration": 12,
    "start_time": "2022-03-18T09:49:36.378Z"
   },
   {
    "duration": 12,
    "start_time": "2022-03-18T09:52:13.722Z"
   },
   {
    "duration": 14,
    "start_time": "2022-03-18T09:56:04.278Z"
   },
   {
    "duration": 15,
    "start_time": "2022-03-18T10:20:52.144Z"
   },
   {
    "duration": 15,
    "start_time": "2022-03-18T10:21:03.457Z"
   },
   {
    "duration": 14,
    "start_time": "2022-03-18T10:21:20.081Z"
   },
   {
    "duration": 37,
    "start_time": "2022-03-18T10:21:26.281Z"
   },
   {
    "duration": 48,
    "start_time": "2022-03-18T10:21:48.875Z"
   },
   {
    "duration": 29,
    "start_time": "2022-03-18T10:22:22.098Z"
   },
   {
    "duration": 14,
    "start_time": "2022-03-18T10:22:31.466Z"
   },
   {
    "duration": 33,
    "start_time": "2022-03-18T10:22:50.322Z"
   },
   {
    "duration": 18,
    "start_time": "2022-03-18T10:23:52.561Z"
   },
   {
    "duration": 13,
    "start_time": "2022-03-18T10:23:59.369Z"
   },
   {
    "duration": 13,
    "start_time": "2022-03-18T10:24:49.681Z"
   },
   {
    "duration": 12,
    "start_time": "2022-03-18T10:24:59.466Z"
   },
   {
    "duration": 6,
    "start_time": "2022-03-18T10:25:16.747Z"
   },
   {
    "duration": 14,
    "start_time": "2022-03-18T10:25:53.946Z"
   },
   {
    "duration": 20,
    "start_time": "2022-03-18T10:26:03.814Z"
   },
   {
    "duration": 7,
    "start_time": "2022-03-18T10:26:17.547Z"
   },
   {
    "duration": 11,
    "start_time": "2022-03-18T10:26:27.899Z"
   },
   {
    "duration": 13,
    "start_time": "2022-03-18T10:26:32.978Z"
   },
   {
    "duration": 6,
    "start_time": "2022-03-18T10:26:46.996Z"
   },
   {
    "duration": 6,
    "start_time": "2022-03-18T10:26:57.338Z"
   },
   {
    "duration": 7,
    "start_time": "2022-03-18T10:27:04.298Z"
   },
   {
    "duration": 13,
    "start_time": "2022-03-18T10:28:38.467Z"
   },
   {
    "duration": 5,
    "start_time": "2022-03-18T10:28:46.748Z"
   },
   {
    "duration": 6,
    "start_time": "2022-03-18T10:34:51.381Z"
   },
   {
    "duration": 1600,
    "start_time": "2022-03-18T10:35:04.490Z"
   },
   {
    "duration": 57,
    "start_time": "2022-03-18T10:35:06.093Z"
   },
   {
    "duration": 38,
    "start_time": "2022-03-18T10:35:06.152Z"
   },
   {
    "duration": 20,
    "start_time": "2022-03-18T10:35:06.193Z"
   },
   {
    "duration": 28,
    "start_time": "2022-03-18T10:35:06.215Z"
   },
   {
    "duration": 37,
    "start_time": "2022-03-18T10:35:06.245Z"
   },
   {
    "duration": 38,
    "start_time": "2022-03-18T10:35:06.284Z"
   },
   {
    "duration": 31,
    "start_time": "2022-03-18T10:35:06.324Z"
   },
   {
    "duration": 20,
    "start_time": "2022-03-18T10:35:06.358Z"
   },
   {
    "duration": 29,
    "start_time": "2022-03-18T10:35:06.382Z"
   },
   {
    "duration": 32,
    "start_time": "2022-03-18T10:35:06.414Z"
   },
   {
    "duration": 7,
    "start_time": "2022-03-18T10:35:06.448Z"
   },
   {
    "duration": 37,
    "start_time": "2022-03-18T10:35:06.457Z"
   },
   {
    "duration": 7,
    "start_time": "2022-03-18T10:35:06.497Z"
   },
   {
    "duration": 39,
    "start_time": "2022-03-18T10:35:06.506Z"
   },
   {
    "duration": 24,
    "start_time": "2022-03-18T10:35:06.548Z"
   },
   {
    "duration": 6,
    "start_time": "2022-03-18T10:35:06.575Z"
   },
   {
    "duration": 31,
    "start_time": "2022-03-18T10:35:06.583Z"
   },
   {
    "duration": 759,
    "start_time": "2022-03-18T10:35:06.617Z"
   },
   {
    "duration": 18,
    "start_time": "2022-03-18T10:35:07.379Z"
   },
   {
    "duration": 58,
    "start_time": "2022-03-18T10:35:07.399Z"
   },
   {
    "duration": 7,
    "start_time": "2022-03-18T10:35:07.459Z"
   },
   {
    "duration": 644,
    "start_time": "2022-03-18T10:35:07.468Z"
   },
   {
    "duration": 3,
    "start_time": "2022-03-18T10:35:08.115Z"
   },
   {
    "duration": 393,
    "start_time": "2022-03-18T10:35:08.120Z"
   },
   {
    "duration": 0,
    "start_time": "2022-03-18T10:35:08.516Z"
   },
   {
    "duration": 0,
    "start_time": "2022-03-18T10:35:08.517Z"
   },
   {
    "duration": 7,
    "start_time": "2022-03-18T10:35:38.455Z"
   },
   {
    "duration": 35,
    "start_time": "2022-03-18T10:36:27.271Z"
   },
   {
    "duration": 36,
    "start_time": "2022-03-18T10:37:06.002Z"
   },
   {
    "duration": 1499,
    "start_time": "2022-03-18T10:39:26.370Z"
   },
   {
    "duration": 60,
    "start_time": "2022-03-18T10:39:27.872Z"
   },
   {
    "duration": 39,
    "start_time": "2022-03-18T10:39:27.934Z"
   },
   {
    "duration": 22,
    "start_time": "2022-03-18T10:39:27.977Z"
   },
   {
    "duration": 7,
    "start_time": "2022-03-18T10:39:28.001Z"
   },
   {
    "duration": 61,
    "start_time": "2022-03-18T10:39:28.010Z"
   },
   {
    "duration": 30,
    "start_time": "2022-03-18T10:39:28.074Z"
   },
   {
    "duration": 43,
    "start_time": "2022-03-18T10:39:28.106Z"
   },
   {
    "duration": 14,
    "start_time": "2022-03-18T10:39:28.151Z"
   },
   {
    "duration": 21,
    "start_time": "2022-03-18T10:39:28.169Z"
   },
   {
    "duration": 51,
    "start_time": "2022-03-18T10:39:28.193Z"
   },
   {
    "duration": 7,
    "start_time": "2022-03-18T10:39:28.246Z"
   },
   {
    "duration": 28,
    "start_time": "2022-03-18T10:39:28.256Z"
   },
   {
    "duration": 8,
    "start_time": "2022-03-18T10:39:28.287Z"
   },
   {
    "duration": 63,
    "start_time": "2022-03-18T10:39:28.297Z"
   },
   {
    "duration": 20,
    "start_time": "2022-03-18T10:39:28.364Z"
   },
   {
    "duration": 58,
    "start_time": "2022-03-18T10:39:28.386Z"
   },
   {
    "duration": 16,
    "start_time": "2022-03-18T10:39:28.446Z"
   },
   {
    "duration": 761,
    "start_time": "2022-03-18T10:39:28.464Z"
   },
   {
    "duration": 29,
    "start_time": "2022-03-18T10:39:29.227Z"
   },
   {
    "duration": 38,
    "start_time": "2022-03-18T10:39:29.258Z"
   },
   {
    "duration": 7,
    "start_time": "2022-03-18T10:39:29.299Z"
   },
   {
    "duration": 653,
    "start_time": "2022-03-18T10:39:29.342Z"
   },
   {
    "duration": 3,
    "start_time": "2022-03-18T10:39:29.998Z"
   },
   {
    "duration": 406,
    "start_time": "2022-03-18T10:39:30.005Z"
   },
   {
    "duration": 0,
    "start_time": "2022-03-18T10:39:30.414Z"
   },
   {
    "duration": 0,
    "start_time": "2022-03-18T10:39:30.416Z"
   },
   {
    "duration": 57,
    "start_time": "2022-03-18T10:46:54.830Z"
   },
   {
    "duration": 50,
    "start_time": "2022-03-18T10:47:07.942Z"
   },
   {
    "duration": 11,
    "start_time": "2022-03-18T10:48:12.459Z"
   },
   {
    "duration": 15,
    "start_time": "2022-03-18T10:48:27.007Z"
   },
   {
    "duration": 10,
    "start_time": "2022-03-18T10:48:30.567Z"
   },
   {
    "duration": 9,
    "start_time": "2022-03-18T10:48:32.791Z"
   },
   {
    "duration": 42,
    "start_time": "2022-03-18T10:48:37.598Z"
   },
   {
    "duration": 23,
    "start_time": "2022-03-18T10:50:40.430Z"
   },
   {
    "duration": 14,
    "start_time": "2022-03-18T10:50:53.823Z"
   },
   {
    "duration": 1442,
    "start_time": "2022-03-20T10:21:12.911Z"
   },
   {
    "duration": 36,
    "start_time": "2022-03-20T10:21:14.355Z"
   },
   {
    "duration": 24,
    "start_time": "2022-03-20T10:21:14.393Z"
   },
   {
    "duration": 30,
    "start_time": "2022-03-20T10:21:14.419Z"
   },
   {
    "duration": 5,
    "start_time": "2022-03-20T10:21:14.451Z"
   },
   {
    "duration": 20,
    "start_time": "2022-03-20T10:21:14.457Z"
   },
   {
    "duration": 26,
    "start_time": "2022-03-20T10:21:14.479Z"
   },
   {
    "duration": 53,
    "start_time": "2022-03-20T10:21:14.507Z"
   },
   {
    "duration": 8,
    "start_time": "2022-03-20T10:21:14.562Z"
   },
   {
    "duration": 13,
    "start_time": "2022-03-20T10:21:14.572Z"
   },
   {
    "duration": 9,
    "start_time": "2022-03-20T10:21:14.586Z"
   },
   {
    "duration": 3,
    "start_time": "2022-03-20T10:21:14.597Z"
   },
   {
    "duration": 53,
    "start_time": "2022-03-20T10:21:14.602Z"
   },
   {
    "duration": 5,
    "start_time": "2022-03-20T10:21:14.659Z"
   },
   {
    "duration": 16,
    "start_time": "2022-03-20T10:21:14.665Z"
   },
   {
    "duration": 13,
    "start_time": "2022-03-20T10:21:14.683Z"
   },
   {
    "duration": 46,
    "start_time": "2022-03-20T10:21:14.698Z"
   },
   {
    "duration": 12,
    "start_time": "2022-03-20T10:21:14.746Z"
   },
   {
    "duration": 425,
    "start_time": "2022-03-20T10:21:14.760Z"
   },
   {
    "duration": 14,
    "start_time": "2022-03-20T10:21:15.186Z"
   },
   {
    "duration": 45,
    "start_time": "2022-03-20T10:21:15.202Z"
   },
   {
    "duration": 4,
    "start_time": "2022-03-20T10:21:15.250Z"
   },
   {
    "duration": 348,
    "start_time": "2022-03-20T10:21:15.256Z"
   },
   {
    "duration": 2,
    "start_time": "2022-03-20T10:21:15.605Z"
   },
   {
    "duration": 303,
    "start_time": "2022-03-20T10:21:15.609Z"
   },
   {
    "duration": 0,
    "start_time": "2022-03-20T10:21:15.914Z"
   },
   {
    "duration": 0,
    "start_time": "2022-03-20T10:21:15.915Z"
   },
   {
    "duration": 0,
    "start_time": "2022-03-20T10:21:15.916Z"
   },
   {
    "duration": 0,
    "start_time": "2022-03-20T10:21:15.917Z"
   },
   {
    "duration": 17,
    "start_time": "2022-03-20T10:21:46.234Z"
   },
   {
    "duration": 104,
    "start_time": "2022-03-20T10:22:13.321Z"
   },
   {
    "duration": 1179,
    "start_time": "2022-03-20T10:22:58.586Z"
   },
   {
    "duration": 37,
    "start_time": "2022-03-20T10:22:59.767Z"
   },
   {
    "duration": 21,
    "start_time": "2022-03-20T10:22:59.806Z"
   },
   {
    "duration": 23,
    "start_time": "2022-03-20T10:22:59.833Z"
   },
   {
    "duration": 2,
    "start_time": "2022-03-20T10:22:59.859Z"
   },
   {
    "duration": 20,
    "start_time": "2022-03-20T10:22:59.863Z"
   },
   {
    "duration": 18,
    "start_time": "2022-03-20T10:22:59.885Z"
   },
   {
    "duration": 61,
    "start_time": "2022-03-20T10:22:59.905Z"
   },
   {
    "duration": 9,
    "start_time": "2022-03-20T10:22:59.968Z"
   },
   {
    "duration": 13,
    "start_time": "2022-03-20T10:22:59.978Z"
   },
   {
    "duration": 11,
    "start_time": "2022-03-20T10:22:59.992Z"
   },
   {
    "duration": 4,
    "start_time": "2022-03-20T10:23:00.004Z"
   },
   {
    "duration": 33,
    "start_time": "2022-03-20T10:23:00.010Z"
   },
   {
    "duration": 25,
    "start_time": "2022-03-20T10:23:00.047Z"
   },
   {
    "duration": 20,
    "start_time": "2022-03-20T10:23:00.074Z"
   },
   {
    "duration": 25,
    "start_time": "2022-03-20T10:23:00.096Z"
   },
   {
    "duration": 36,
    "start_time": "2022-03-20T10:23:00.123Z"
   },
   {
    "duration": 13,
    "start_time": "2022-03-20T10:23:00.161Z"
   },
   {
    "duration": 463,
    "start_time": "2022-03-20T10:23:00.176Z"
   },
   {
    "duration": 17,
    "start_time": "2022-03-20T10:23:00.642Z"
   },
   {
    "duration": 4,
    "start_time": "2022-03-20T10:23:00.661Z"
   },
   {
    "duration": 11,
    "start_time": "2022-03-20T10:23:00.667Z"
   },
   {
    "duration": 395,
    "start_time": "2022-03-20T10:23:00.681Z"
   },
   {
    "duration": 3,
    "start_time": "2022-03-20T10:23:01.077Z"
   },
   {
    "duration": 109,
    "start_time": "2022-03-20T10:23:01.081Z"
   },
   {
    "duration": 0,
    "start_time": "2022-03-20T10:23:01.191Z"
   },
   {
    "duration": 0,
    "start_time": "2022-03-20T10:23:01.193Z"
   },
   {
    "duration": 109,
    "start_time": "2022-03-20T10:23:12.847Z"
   },
   {
    "duration": 11,
    "start_time": "2022-03-20T10:23:57.647Z"
   },
   {
    "duration": 16,
    "start_time": "2022-03-20T10:24:10.712Z"
   },
   {
    "duration": 116,
    "start_time": "2022-03-20T10:25:11.836Z"
   },
   {
    "duration": 114,
    "start_time": "2022-03-20T10:26:56.458Z"
   },
   {
    "duration": 118,
    "start_time": "2022-03-20T10:27:38.321Z"
   },
   {
    "duration": 18,
    "start_time": "2022-03-20T10:27:46.156Z"
   },
   {
    "duration": 40,
    "start_time": "2022-03-20T10:28:18.329Z"
   },
   {
    "duration": 379,
    "start_time": "2022-03-20T10:28:24.137Z"
   },
   {
    "duration": 1111,
    "start_time": "2022-03-20T10:32:12.058Z"
   },
   {
    "duration": 37,
    "start_time": "2022-03-20T10:32:13.171Z"
   },
   {
    "duration": 31,
    "start_time": "2022-03-20T10:32:13.210Z"
   },
   {
    "duration": 21,
    "start_time": "2022-03-20T10:32:13.243Z"
   },
   {
    "duration": 12,
    "start_time": "2022-03-20T10:32:13.266Z"
   },
   {
    "duration": 24,
    "start_time": "2022-03-20T10:32:13.279Z"
   },
   {
    "duration": 16,
    "start_time": "2022-03-20T10:32:13.305Z"
   },
   {
    "duration": 43,
    "start_time": "2022-03-20T10:32:13.322Z"
   },
   {
    "duration": 19,
    "start_time": "2022-03-20T10:32:13.366Z"
   },
   {
    "duration": 13,
    "start_time": "2022-03-20T10:32:13.386Z"
   },
   {
    "duration": 11,
    "start_time": "2022-03-20T10:32:13.400Z"
   },
   {
    "duration": 4,
    "start_time": "2022-03-20T10:32:13.412Z"
   },
   {
    "duration": 32,
    "start_time": "2022-03-20T10:32:13.418Z"
   },
   {
    "duration": 5,
    "start_time": "2022-03-20T10:32:13.453Z"
   },
   {
    "duration": 28,
    "start_time": "2022-03-20T10:32:13.460Z"
   },
   {
    "duration": 14,
    "start_time": "2022-03-20T10:32:13.489Z"
   },
   {
    "duration": 21,
    "start_time": "2022-03-20T10:32:13.504Z"
   },
   {
    "duration": 25,
    "start_time": "2022-03-20T10:32:13.527Z"
   },
   {
    "duration": 435,
    "start_time": "2022-03-20T10:32:13.553Z"
   },
   {
    "duration": 12,
    "start_time": "2022-03-20T10:32:13.990Z"
   },
   {
    "duration": 2,
    "start_time": "2022-03-20T10:32:14.004Z"
   },
   {
    "duration": 4,
    "start_time": "2022-03-20T10:32:14.008Z"
   },
   {
    "duration": 402,
    "start_time": "2022-03-20T10:32:14.034Z"
   },
   {
    "duration": 9,
    "start_time": "2022-03-20T10:32:14.439Z"
   },
   {
    "duration": 30,
    "start_time": "2022-03-20T10:32:14.450Z"
   },
   {
    "duration": 4,
    "start_time": "2022-03-20T10:32:14.483Z"
   },
   {
    "duration": 461,
    "start_time": "2022-03-20T10:32:14.488Z"
   },
   {
    "duration": 1245,
    "start_time": "2022-03-20T10:35:34.072Z"
   },
   {
    "duration": 53,
    "start_time": "2022-03-20T10:35:35.319Z"
   },
   {
    "duration": 34,
    "start_time": "2022-03-20T10:35:35.374Z"
   },
   {
    "duration": 31,
    "start_time": "2022-03-20T10:35:35.411Z"
   },
   {
    "duration": 10,
    "start_time": "2022-03-20T10:35:35.445Z"
   },
   {
    "duration": 30,
    "start_time": "2022-03-20T10:35:35.457Z"
   },
   {
    "duration": 19,
    "start_time": "2022-03-20T10:35:35.488Z"
   },
   {
    "duration": 38,
    "start_time": "2022-03-20T10:35:35.509Z"
   },
   {
    "duration": 9,
    "start_time": "2022-03-20T10:35:35.550Z"
   },
   {
    "duration": 20,
    "start_time": "2022-03-20T10:35:35.563Z"
   },
   {
    "duration": 15,
    "start_time": "2022-03-20T10:35:35.585Z"
   },
   {
    "duration": 5,
    "start_time": "2022-03-20T10:35:35.602Z"
   },
   {
    "duration": 27,
    "start_time": "2022-03-20T10:35:35.633Z"
   },
   {
    "duration": 4,
    "start_time": "2022-03-20T10:35:35.662Z"
   },
   {
    "duration": 19,
    "start_time": "2022-03-20T10:35:35.667Z"
   },
   {
    "duration": 19,
    "start_time": "2022-03-20T10:35:35.688Z"
   },
   {
    "duration": 47,
    "start_time": "2022-03-20T10:35:35.708Z"
   },
   {
    "duration": 12,
    "start_time": "2022-03-20T10:35:35.757Z"
   },
   {
    "duration": 486,
    "start_time": "2022-03-20T10:35:35.771Z"
   },
   {
    "duration": 16,
    "start_time": "2022-03-20T10:35:36.258Z"
   },
   {
    "duration": 3,
    "start_time": "2022-03-20T10:35:36.275Z"
   },
   {
    "duration": 5,
    "start_time": "2022-03-20T10:35:36.280Z"
   },
   {
    "duration": 379,
    "start_time": "2022-03-20T10:35:36.287Z"
   },
   {
    "duration": 3,
    "start_time": "2022-03-20T10:35:36.670Z"
   },
   {
    "duration": 8,
    "start_time": "2022-03-20T10:35:36.675Z"
   },
   {
    "duration": 6,
    "start_time": "2022-03-20T10:35:36.685Z"
   },
   {
    "duration": 479,
    "start_time": "2022-03-20T10:35:36.692Z"
   },
   {
    "duration": 392,
    "start_time": "2022-03-20T10:37:16.920Z"
   },
   {
    "duration": 395,
    "start_time": "2022-03-20T10:37:37.184Z"
   },
   {
    "duration": 395,
    "start_time": "2022-03-20T10:37:51.854Z"
   },
   {
    "duration": 351,
    "start_time": "2022-03-20T10:47:27.489Z"
   },
   {
    "duration": 105,
    "start_time": "2022-03-20T10:47:51.738Z"
   },
   {
    "duration": 438,
    "start_time": "2022-03-20T10:48:17.113Z"
   },
   {
    "duration": 565,
    "start_time": "2022-03-20T10:49:40.062Z"
   },
   {
    "duration": 348,
    "start_time": "2022-03-20T10:51:35.869Z"
   },
   {
    "duration": 1456,
    "start_time": "2022-03-20T11:02:53.493Z"
   },
   {
    "duration": 41,
    "start_time": "2022-03-20T11:02:54.952Z"
   },
   {
    "duration": 23,
    "start_time": "2022-03-20T11:02:54.995Z"
   },
   {
    "duration": 15,
    "start_time": "2022-03-20T11:02:55.033Z"
   },
   {
    "duration": 3,
    "start_time": "2022-03-20T11:02:55.050Z"
   },
   {
    "duration": 21,
    "start_time": "2022-03-20T11:02:55.055Z"
   },
   {
    "duration": 16,
    "start_time": "2022-03-20T11:02:55.078Z"
   },
   {
    "duration": 16,
    "start_time": "2022-03-20T11:02:55.095Z"
   },
   {
    "duration": 20,
    "start_time": "2022-03-20T11:02:55.113Z"
   },
   {
    "duration": 15,
    "start_time": "2022-03-20T11:02:55.135Z"
   },
   {
    "duration": 12,
    "start_time": "2022-03-20T11:02:55.151Z"
   },
   {
    "duration": 4,
    "start_time": "2022-03-20T11:02:55.165Z"
   },
   {
    "duration": 19,
    "start_time": "2022-03-20T11:02:55.171Z"
   },
   {
    "duration": 4,
    "start_time": "2022-03-20T11:02:55.192Z"
   },
   {
    "duration": 17,
    "start_time": "2022-03-20T11:02:55.198Z"
   },
   {
    "duration": 17,
    "start_time": "2022-03-20T11:02:55.217Z"
   },
   {
    "duration": 25,
    "start_time": "2022-03-20T11:02:55.236Z"
   },
   {
    "duration": 12,
    "start_time": "2022-03-20T11:02:55.262Z"
   },
   {
    "duration": 397,
    "start_time": "2022-03-20T11:02:55.275Z"
   },
   {
    "duration": 13,
    "start_time": "2022-03-20T11:02:55.673Z"
   },
   {
    "duration": 2,
    "start_time": "2022-03-20T11:02:55.687Z"
   },
   {
    "duration": 6,
    "start_time": "2022-03-20T11:02:55.691Z"
   },
   {
    "duration": 538,
    "start_time": "2022-03-20T11:02:55.699Z"
   },
   {
    "duration": 3,
    "start_time": "2022-03-20T11:02:56.239Z"
   },
   {
    "duration": 7,
    "start_time": "2022-03-20T11:02:56.243Z"
   },
   {
    "duration": 4,
    "start_time": "2022-03-20T11:02:56.252Z"
   },
   {
    "duration": 665,
    "start_time": "2022-03-20T11:02:56.258Z"
   },
   {
    "duration": 348,
    "start_time": "2022-03-20T11:04:50.289Z"
   },
   {
    "duration": 33,
    "start_time": "2022-03-20T11:05:13.880Z"
   },
   {
    "duration": 31,
    "start_time": "2022-03-20T11:06:23.775Z"
   },
   {
    "duration": 27,
    "start_time": "2022-03-20T11:09:04.080Z"
   },
   {
    "duration": 29,
    "start_time": "2022-03-20T11:11:06.401Z"
   },
   {
    "duration": 26,
    "start_time": "2022-03-20T11:11:15.068Z"
   },
   {
    "duration": 28,
    "start_time": "2022-03-20T11:11:37.903Z"
   },
   {
    "duration": 21,
    "start_time": "2022-03-20T11:11:52.018Z"
   },
   {
    "duration": 20,
    "start_time": "2022-03-20T11:12:37.751Z"
   },
   {
    "duration": 21,
    "start_time": "2022-03-20T11:13:04.305Z"
   },
   {
    "duration": 20,
    "start_time": "2022-03-20T11:13:20.650Z"
   },
   {
    "duration": 104,
    "start_time": "2022-03-20T11:15:19.314Z"
   },
   {
    "duration": 1112,
    "start_time": "2022-03-20T11:15:38.526Z"
   },
   {
    "duration": 63,
    "start_time": "2022-03-20T11:15:39.640Z"
   },
   {
    "duration": 22,
    "start_time": "2022-03-20T11:15:39.704Z"
   },
   {
    "duration": 14,
    "start_time": "2022-03-20T11:15:39.728Z"
   },
   {
    "duration": 2,
    "start_time": "2022-03-20T11:15:39.744Z"
   },
   {
    "duration": 22,
    "start_time": "2022-03-20T11:15:39.748Z"
   },
   {
    "duration": 18,
    "start_time": "2022-03-20T11:15:39.771Z"
   },
   {
    "duration": 14,
    "start_time": "2022-03-20T11:15:39.790Z"
   },
   {
    "duration": 10,
    "start_time": "2022-03-20T11:15:39.832Z"
   },
   {
    "duration": 16,
    "start_time": "2022-03-20T11:15:39.845Z"
   },
   {
    "duration": 12,
    "start_time": "2022-03-20T11:15:39.863Z"
   },
   {
    "duration": 4,
    "start_time": "2022-03-20T11:15:39.877Z"
   },
   {
    "duration": 22,
    "start_time": "2022-03-20T11:15:39.883Z"
   },
   {
    "duration": 30,
    "start_time": "2022-03-20T11:15:39.906Z"
   },
   {
    "duration": 20,
    "start_time": "2022-03-20T11:15:39.938Z"
   },
   {
    "duration": 14,
    "start_time": "2022-03-20T11:15:39.960Z"
   },
   {
    "duration": 24,
    "start_time": "2022-03-20T11:15:39.976Z"
   },
   {
    "duration": 38,
    "start_time": "2022-03-20T11:15:40.002Z"
   },
   {
    "duration": 398,
    "start_time": "2022-03-20T11:15:40.042Z"
   },
   {
    "duration": 13,
    "start_time": "2022-03-20T11:15:40.442Z"
   },
   {
    "duration": 2,
    "start_time": "2022-03-20T11:15:40.457Z"
   },
   {
    "duration": 8,
    "start_time": "2022-03-20T11:15:40.460Z"
   },
   {
    "duration": 343,
    "start_time": "2022-03-20T11:15:40.469Z"
   },
   {
    "duration": 2,
    "start_time": "2022-03-20T11:15:40.814Z"
   },
   {
    "duration": 14,
    "start_time": "2022-03-20T11:15:40.818Z"
   },
   {
    "duration": 5,
    "start_time": "2022-03-20T11:15:40.834Z"
   },
   {
    "duration": 113,
    "start_time": "2022-03-20T11:15:40.841Z"
   },
   {
    "duration": 427,
    "start_time": "2022-03-20T11:16:15.635Z"
   },
   {
    "duration": 35,
    "start_time": "2022-03-20T11:20:54.876Z"
   },
   {
    "duration": 13,
    "start_time": "2022-03-20T11:21:58.179Z"
   },
   {
    "duration": 1133,
    "start_time": "2022-03-20T11:24:41.011Z"
   },
   {
    "duration": 37,
    "start_time": "2022-03-20T11:24:42.146Z"
   },
   {
    "duration": 24,
    "start_time": "2022-03-20T11:24:42.185Z"
   },
   {
    "duration": 29,
    "start_time": "2022-03-20T11:24:42.210Z"
   },
   {
    "duration": 3,
    "start_time": "2022-03-20T11:24:42.241Z"
   },
   {
    "duration": 21,
    "start_time": "2022-03-20T11:24:42.246Z"
   },
   {
    "duration": 18,
    "start_time": "2022-03-20T11:24:42.269Z"
   },
   {
    "duration": 14,
    "start_time": "2022-03-20T11:24:42.289Z"
   },
   {
    "duration": 33,
    "start_time": "2022-03-20T11:24:42.305Z"
   },
   {
    "duration": 14,
    "start_time": "2022-03-20T11:24:42.339Z"
   },
   {
    "duration": 11,
    "start_time": "2022-03-20T11:24:42.355Z"
   },
   {
    "duration": 5,
    "start_time": "2022-03-20T11:24:42.368Z"
   },
   {
    "duration": 59,
    "start_time": "2022-03-20T11:24:42.374Z"
   },
   {
    "duration": 5,
    "start_time": "2022-03-20T11:24:42.437Z"
   },
   {
    "duration": 22,
    "start_time": "2022-03-20T11:24:42.443Z"
   },
   {
    "duration": 15,
    "start_time": "2022-03-20T11:24:42.467Z"
   },
   {
    "duration": 24,
    "start_time": "2022-03-20T11:24:42.484Z"
   },
   {
    "duration": 32,
    "start_time": "2022-03-20T11:24:42.510Z"
   },
   {
    "duration": 408,
    "start_time": "2022-03-20T11:24:42.544Z"
   },
   {
    "duration": 14,
    "start_time": "2022-03-20T11:24:42.953Z"
   },
   {
    "duration": 7,
    "start_time": "2022-03-20T11:24:42.968Z"
   },
   {
    "duration": 5,
    "start_time": "2022-03-20T11:24:42.977Z"
   },
   {
    "duration": 361,
    "start_time": "2022-03-20T11:24:42.984Z"
   },
   {
    "duration": 3,
    "start_time": "2022-03-20T11:24:43.347Z"
   },
   {
    "duration": 9,
    "start_time": "2022-03-20T11:24:43.352Z"
   },
   {
    "duration": 6,
    "start_time": "2022-03-20T11:24:43.363Z"
   },
   {
    "duration": 111,
    "start_time": "2022-03-20T11:24:43.370Z"
   },
   {
    "duration": 39,
    "start_time": "2022-03-20T11:25:08.420Z"
   },
   {
    "duration": 44,
    "start_time": "2022-03-20T11:25:29.844Z"
   },
   {
    "duration": 1309,
    "start_time": "2022-03-20T11:27:21.647Z"
   },
   {
    "duration": 38,
    "start_time": "2022-03-20T11:27:22.958Z"
   },
   {
    "duration": 43,
    "start_time": "2022-03-20T11:27:22.998Z"
   },
   {
    "duration": 15,
    "start_time": "2022-03-20T11:27:23.043Z"
   },
   {
    "duration": 6,
    "start_time": "2022-03-20T11:27:23.061Z"
   },
   {
    "duration": 22,
    "start_time": "2022-03-20T11:27:23.068Z"
   },
   {
    "duration": 23,
    "start_time": "2022-03-20T11:27:23.092Z"
   },
   {
    "duration": 16,
    "start_time": "2022-03-20T11:27:23.133Z"
   },
   {
    "duration": 15,
    "start_time": "2022-03-20T11:27:23.150Z"
   },
   {
    "duration": 20,
    "start_time": "2022-03-20T11:27:23.169Z"
   },
   {
    "duration": 46,
    "start_time": "2022-03-20T11:27:23.191Z"
   },
   {
    "duration": 4,
    "start_time": "2022-03-20T11:27:23.239Z"
   },
   {
    "duration": 21,
    "start_time": "2022-03-20T11:27:23.245Z"
   },
   {
    "duration": 5,
    "start_time": "2022-03-20T11:27:23.268Z"
   },
   {
    "duration": 20,
    "start_time": "2022-03-20T11:27:23.275Z"
   },
   {
    "duration": 42,
    "start_time": "2022-03-20T11:27:23.296Z"
   },
   {
    "duration": 24,
    "start_time": "2022-03-20T11:27:23.340Z"
   },
   {
    "duration": 11,
    "start_time": "2022-03-20T11:27:23.366Z"
   },
   {
    "duration": 498,
    "start_time": "2022-03-20T11:27:23.378Z"
   },
   {
    "duration": 16,
    "start_time": "2022-03-20T11:27:23.878Z"
   },
   {
    "duration": 2,
    "start_time": "2022-03-20T11:27:23.896Z"
   },
   {
    "duration": 6,
    "start_time": "2022-03-20T11:27:23.900Z"
   },
   {
    "duration": 479,
    "start_time": "2022-03-20T11:27:23.908Z"
   },
   {
    "duration": 2,
    "start_time": "2022-03-20T11:27:24.389Z"
   },
   {
    "duration": 5,
    "start_time": "2022-03-20T11:27:24.393Z"
   },
   {
    "duration": 4,
    "start_time": "2022-03-20T11:27:24.400Z"
   },
   {
    "duration": 145,
    "start_time": "2022-03-20T11:27:24.406Z"
   },
   {
    "duration": 29,
    "start_time": "2022-03-20T11:28:48.372Z"
   },
   {
    "duration": 498,
    "start_time": "2022-03-20T11:29:11.110Z"
   },
   {
    "duration": 1193,
    "start_time": "2022-03-20T11:29:33.318Z"
   },
   {
    "duration": 38,
    "start_time": "2022-03-20T11:29:34.513Z"
   },
   {
    "duration": 22,
    "start_time": "2022-03-20T11:29:34.553Z"
   },
   {
    "duration": 14,
    "start_time": "2022-03-20T11:29:34.578Z"
   },
   {
    "duration": 5,
    "start_time": "2022-03-20T11:29:34.594Z"
   },
   {
    "duration": 45,
    "start_time": "2022-03-20T11:29:34.600Z"
   },
   {
    "duration": 16,
    "start_time": "2022-03-20T11:29:34.647Z"
   },
   {
    "duration": 15,
    "start_time": "2022-03-20T11:29:34.665Z"
   },
   {
    "duration": 12,
    "start_time": "2022-03-20T11:29:34.682Z"
   },
   {
    "duration": 39,
    "start_time": "2022-03-20T11:29:34.697Z"
   },
   {
    "duration": 20,
    "start_time": "2022-03-20T11:29:34.738Z"
   },
   {
    "duration": 5,
    "start_time": "2022-03-20T11:29:34.761Z"
   },
   {
    "duration": 31,
    "start_time": "2022-03-20T11:29:34.767Z"
   },
   {
    "duration": 34,
    "start_time": "2022-03-20T11:29:34.800Z"
   },
   {
    "duration": 15,
    "start_time": "2022-03-20T11:29:34.835Z"
   },
   {
    "duration": 15,
    "start_time": "2022-03-20T11:29:34.852Z"
   },
   {
    "duration": 24,
    "start_time": "2022-03-20T11:29:34.868Z"
   },
   {
    "duration": 12,
    "start_time": "2022-03-20T11:29:34.894Z"
   },
   {
    "duration": 396,
    "start_time": "2022-03-20T11:29:34.933Z"
   },
   {
    "duration": 14,
    "start_time": "2022-03-20T11:29:35.333Z"
   },
   {
    "duration": 3,
    "start_time": "2022-03-20T11:29:35.348Z"
   },
   {
    "duration": 8,
    "start_time": "2022-03-20T11:29:35.353Z"
   },
   {
    "duration": 355,
    "start_time": "2022-03-20T11:29:35.362Z"
   },
   {
    "duration": 3,
    "start_time": "2022-03-20T11:29:35.718Z"
   },
   {
    "duration": 3,
    "start_time": "2022-03-20T11:29:35.732Z"
   },
   {
    "duration": 6,
    "start_time": "2022-03-20T11:29:35.736Z"
   },
   {
    "duration": 421,
    "start_time": "2022-03-20T11:29:35.744Z"
   },
   {
    "duration": 1639,
    "start_time": "2022-03-20T11:32:38.323Z"
   },
   {
    "duration": 58,
    "start_time": "2022-03-20T11:32:39.965Z"
   },
   {
    "duration": 38,
    "start_time": "2022-03-20T11:32:40.025Z"
   },
   {
    "duration": 21,
    "start_time": "2022-03-20T11:32:40.065Z"
   },
   {
    "duration": 3,
    "start_time": "2022-03-20T11:32:40.089Z"
   },
   {
    "duration": 53,
    "start_time": "2022-03-20T11:32:40.094Z"
   },
   {
    "duration": 23,
    "start_time": "2022-03-20T11:32:40.149Z"
   },
   {
    "duration": 22,
    "start_time": "2022-03-20T11:32:40.175Z"
   },
   {
    "duration": 9,
    "start_time": "2022-03-20T11:32:40.198Z"
   },
   {
    "duration": 16,
    "start_time": "2022-03-20T11:32:40.234Z"
   },
   {
    "duration": 14,
    "start_time": "2022-03-20T11:32:40.252Z"
   },
   {
    "duration": 5,
    "start_time": "2022-03-20T11:32:40.268Z"
   },
   {
    "duration": 33,
    "start_time": "2022-03-20T11:32:40.275Z"
   },
   {
    "duration": 7,
    "start_time": "2022-03-20T11:32:40.332Z"
   },
   {
    "duration": 26,
    "start_time": "2022-03-20T11:32:40.341Z"
   },
   {
    "duration": 30,
    "start_time": "2022-03-20T11:32:40.369Z"
   },
   {
    "duration": 48,
    "start_time": "2022-03-20T11:32:40.402Z"
   },
   {
    "duration": 16,
    "start_time": "2022-03-20T11:32:40.452Z"
   },
   {
    "duration": 638,
    "start_time": "2022-03-20T11:32:40.470Z"
   },
   {
    "duration": 26,
    "start_time": "2022-03-20T11:32:41.110Z"
   },
   {
    "duration": 2,
    "start_time": "2022-03-20T11:32:41.138Z"
   },
   {
    "duration": 6,
    "start_time": "2022-03-20T11:32:41.142Z"
   },
   {
    "duration": 343,
    "start_time": "2022-03-20T11:32:41.150Z"
   },
   {
    "duration": 3,
    "start_time": "2022-03-20T11:32:41.494Z"
   },
   {
    "duration": 6,
    "start_time": "2022-03-20T11:32:41.498Z"
   },
   {
    "duration": 9,
    "start_time": "2022-03-20T11:32:41.505Z"
   },
   {
    "duration": 421,
    "start_time": "2022-03-20T11:32:41.516Z"
   },
   {
    "duration": 24,
    "start_time": "2022-03-20T11:33:08.966Z"
   },
   {
    "duration": 328,
    "start_time": "2022-03-20T11:34:39.431Z"
   },
   {
    "duration": 16,
    "start_time": "2022-03-20T11:44:11.666Z"
   },
   {
    "duration": 15,
    "start_time": "2022-03-20T11:44:38.561Z"
   },
   {
    "duration": 16,
    "start_time": "2022-03-20T11:44:51.070Z"
   },
   {
    "duration": 35,
    "start_time": "2022-03-20T11:45:05.519Z"
   },
   {
    "duration": 1204,
    "start_time": "2022-03-20T11:45:15.960Z"
   },
   {
    "duration": 38,
    "start_time": "2022-03-20T11:45:17.167Z"
   },
   {
    "duration": 26,
    "start_time": "2022-03-20T11:45:17.207Z"
   },
   {
    "duration": 15,
    "start_time": "2022-03-20T11:45:17.235Z"
   },
   {
    "duration": 3,
    "start_time": "2022-03-20T11:45:17.251Z"
   },
   {
    "duration": 20,
    "start_time": "2022-03-20T11:45:17.256Z"
   },
   {
    "duration": 23,
    "start_time": "2022-03-20T11:45:17.277Z"
   },
   {
    "duration": 54,
    "start_time": "2022-03-20T11:45:17.302Z"
   },
   {
    "duration": 10,
    "start_time": "2022-03-20T11:45:17.359Z"
   },
   {
    "duration": 14,
    "start_time": "2022-03-20T11:45:17.370Z"
   },
   {
    "duration": 13,
    "start_time": "2022-03-20T11:45:17.386Z"
   },
   {
    "duration": 4,
    "start_time": "2022-03-20T11:45:17.400Z"
   },
   {
    "duration": 22,
    "start_time": "2022-03-20T11:45:17.432Z"
   },
   {
    "duration": 6,
    "start_time": "2022-03-20T11:45:17.458Z"
   },
   {
    "duration": 15,
    "start_time": "2022-03-20T11:45:17.466Z"
   },
   {
    "duration": 15,
    "start_time": "2022-03-20T11:45:17.483Z"
   },
   {
    "duration": 48,
    "start_time": "2022-03-20T11:45:17.499Z"
   },
   {
    "duration": 11,
    "start_time": "2022-03-20T11:45:17.548Z"
   },
   {
    "duration": 429,
    "start_time": "2022-03-20T11:45:17.560Z"
   },
   {
    "duration": 12,
    "start_time": "2022-03-20T11:45:17.992Z"
   },
   {
    "duration": 47,
    "start_time": "2022-03-20T11:45:18.006Z"
   },
   {
    "duration": 3,
    "start_time": "2022-03-20T11:45:18.055Z"
   },
   {
    "duration": 364,
    "start_time": "2022-03-20T11:45:18.060Z"
   },
   {
    "duration": 2,
    "start_time": "2022-03-20T11:45:18.426Z"
   },
   {
    "duration": 18,
    "start_time": "2022-03-20T11:45:18.433Z"
   },
   {
    "duration": 8,
    "start_time": "2022-03-20T11:45:18.453Z"
   },
   {
    "duration": 41,
    "start_time": "2022-03-20T11:45:18.462Z"
   },
   {
    "duration": 150,
    "start_time": "2022-03-20T11:45:25.112Z"
   },
   {
    "duration": 10,
    "start_time": "2022-03-20T11:45:34.516Z"
   },
   {
    "duration": 1084,
    "start_time": "2022-03-20T11:45:46.270Z"
   },
   {
    "duration": 40,
    "start_time": "2022-03-20T11:45:47.356Z"
   },
   {
    "duration": 22,
    "start_time": "2022-03-20T11:45:47.398Z"
   },
   {
    "duration": 15,
    "start_time": "2022-03-20T11:45:47.432Z"
   },
   {
    "duration": 3,
    "start_time": "2022-03-20T11:45:47.449Z"
   },
   {
    "duration": 21,
    "start_time": "2022-03-20T11:45:47.453Z"
   },
   {
    "duration": 16,
    "start_time": "2022-03-20T11:45:47.476Z"
   },
   {
    "duration": 41,
    "start_time": "2022-03-20T11:45:47.493Z"
   },
   {
    "duration": 8,
    "start_time": "2022-03-20T11:45:47.536Z"
   },
   {
    "duration": 14,
    "start_time": "2022-03-20T11:45:47.545Z"
   },
   {
    "duration": 14,
    "start_time": "2022-03-20T11:45:47.561Z"
   },
   {
    "duration": 4,
    "start_time": "2022-03-20T11:45:47.576Z"
   },
   {
    "duration": 22,
    "start_time": "2022-03-20T11:45:47.582Z"
   },
   {
    "duration": 5,
    "start_time": "2022-03-20T11:45:47.632Z"
   },
   {
    "duration": 21,
    "start_time": "2022-03-20T11:45:47.639Z"
   },
   {
    "duration": 18,
    "start_time": "2022-03-20T11:45:47.661Z"
   },
   {
    "duration": 25,
    "start_time": "2022-03-20T11:45:47.681Z"
   },
   {
    "duration": 35,
    "start_time": "2022-03-20T11:45:47.707Z"
   },
   {
    "duration": 389,
    "start_time": "2022-03-20T11:45:47.743Z"
   },
   {
    "duration": 13,
    "start_time": "2022-03-20T11:45:48.134Z"
   },
   {
    "duration": 22,
    "start_time": "2022-03-20T11:45:48.149Z"
   },
   {
    "duration": 2,
    "start_time": "2022-03-20T11:45:48.173Z"
   },
   {
    "duration": 341,
    "start_time": "2022-03-20T11:45:48.177Z"
   },
   {
    "duration": 2,
    "start_time": "2022-03-20T11:45:48.520Z"
   },
   {
    "duration": 2,
    "start_time": "2022-03-20T11:45:48.532Z"
   },
   {
    "duration": 6,
    "start_time": "2022-03-20T11:45:48.536Z"
   },
   {
    "duration": 35,
    "start_time": "2022-03-20T11:45:48.544Z"
   },
   {
    "duration": 1128,
    "start_time": "2022-03-20T11:46:44.917Z"
   },
   {
    "duration": 39,
    "start_time": "2022-03-20T11:46:46.048Z"
   },
   {
    "duration": 23,
    "start_time": "2022-03-20T11:46:46.089Z"
   },
   {
    "duration": 27,
    "start_time": "2022-03-20T11:46:46.114Z"
   },
   {
    "duration": 3,
    "start_time": "2022-03-20T11:46:46.143Z"
   },
   {
    "duration": 20,
    "start_time": "2022-03-20T11:46:46.148Z"
   },
   {
    "duration": 16,
    "start_time": "2022-03-20T11:46:46.170Z"
   },
   {
    "duration": 14,
    "start_time": "2022-03-20T11:46:46.187Z"
   },
   {
    "duration": 34,
    "start_time": "2022-03-20T11:46:46.202Z"
   },
   {
    "duration": 14,
    "start_time": "2022-03-20T11:46:46.238Z"
   },
   {
    "duration": 13,
    "start_time": "2022-03-20T11:46:46.254Z"
   },
   {
    "duration": 6,
    "start_time": "2022-03-20T11:46:46.269Z"
   },
   {
    "duration": 19,
    "start_time": "2022-03-20T11:46:46.277Z"
   },
   {
    "duration": 5,
    "start_time": "2022-03-20T11:46:46.332Z"
   },
   {
    "duration": 14,
    "start_time": "2022-03-20T11:46:46.340Z"
   },
   {
    "duration": 14,
    "start_time": "2022-03-20T11:46:46.356Z"
   },
   {
    "duration": 23,
    "start_time": "2022-03-20T11:46:46.372Z"
   },
   {
    "duration": 43,
    "start_time": "2022-03-20T11:46:46.397Z"
   },
   {
    "duration": 380,
    "start_time": "2022-03-20T11:46:46.442Z"
   },
   {
    "duration": 17,
    "start_time": "2022-03-20T11:46:46.824Z"
   },
   {
    "duration": 23,
    "start_time": "2022-03-20T11:46:46.843Z"
   },
   {
    "duration": 3,
    "start_time": "2022-03-20T11:46:46.868Z"
   },
   {
    "duration": 350,
    "start_time": "2022-03-20T11:46:46.872Z"
   },
   {
    "duration": 2,
    "start_time": "2022-03-20T11:46:47.224Z"
   },
   {
    "duration": 8,
    "start_time": "2022-03-20T11:46:47.232Z"
   },
   {
    "duration": 15,
    "start_time": "2022-03-20T11:46:47.242Z"
   },
   {
    "duration": 220,
    "start_time": "2022-03-20T11:46:47.259Z"
   },
   {
    "duration": 1096,
    "start_time": "2022-03-20T11:47:12.741Z"
   },
   {
    "duration": 39,
    "start_time": "2022-03-20T11:47:13.839Z"
   },
   {
    "duration": 22,
    "start_time": "2022-03-20T11:47:13.880Z"
   },
   {
    "duration": 28,
    "start_time": "2022-03-20T11:47:13.905Z"
   },
   {
    "duration": 4,
    "start_time": "2022-03-20T11:47:13.934Z"
   },
   {
    "duration": 22,
    "start_time": "2022-03-20T11:47:13.939Z"
   },
   {
    "duration": 16,
    "start_time": "2022-03-20T11:47:13.963Z"
   },
   {
    "duration": 14,
    "start_time": "2022-03-20T11:47:13.981Z"
   },
   {
    "duration": 37,
    "start_time": "2022-03-20T11:47:13.997Z"
   },
   {
    "duration": 14,
    "start_time": "2022-03-20T11:47:14.037Z"
   },
   {
    "duration": 15,
    "start_time": "2022-03-20T11:47:14.053Z"
   },
   {
    "duration": 4,
    "start_time": "2022-03-20T11:47:14.070Z"
   },
   {
    "duration": 19,
    "start_time": "2022-03-20T11:47:14.075Z"
   },
   {
    "duration": 5,
    "start_time": "2022-03-20T11:47:14.095Z"
   },
   {
    "duration": 44,
    "start_time": "2022-03-20T11:47:14.101Z"
   },
   {
    "duration": 16,
    "start_time": "2022-03-20T11:47:14.147Z"
   },
   {
    "duration": 24,
    "start_time": "2022-03-20T11:47:14.165Z"
   },
   {
    "duration": 14,
    "start_time": "2022-03-20T11:47:14.191Z"
   },
   {
    "duration": 650,
    "start_time": "2022-03-20T11:47:14.206Z"
   },
   {
    "duration": 16,
    "start_time": "2022-03-20T11:47:14.858Z"
   },
   {
    "duration": 31,
    "start_time": "2022-03-20T11:47:14.876Z"
   },
   {
    "duration": 24,
    "start_time": "2022-03-20T11:47:14.909Z"
   },
   {
    "duration": 486,
    "start_time": "2022-03-20T11:47:14.935Z"
   },
   {
    "duration": 2,
    "start_time": "2022-03-20T11:47:15.423Z"
   },
   {
    "duration": 2,
    "start_time": "2022-03-20T11:47:15.432Z"
   },
   {
    "duration": 5,
    "start_time": "2022-03-20T11:47:15.436Z"
   },
   {
    "duration": 121,
    "start_time": "2022-03-20T11:47:15.443Z"
   },
   {
    "duration": 13,
    "start_time": "2022-03-20T11:47:32.296Z"
   },
   {
    "duration": 1083,
    "start_time": "2022-03-20T11:47:39.160Z"
   },
   {
    "duration": 38,
    "start_time": "2022-03-20T11:47:40.245Z"
   },
   {
    "duration": 22,
    "start_time": "2022-03-20T11:47:40.285Z"
   },
   {
    "duration": 26,
    "start_time": "2022-03-20T11:47:40.309Z"
   },
   {
    "duration": 7,
    "start_time": "2022-03-20T11:47:40.337Z"
   },
   {
    "duration": 19,
    "start_time": "2022-03-20T11:47:40.346Z"
   },
   {
    "duration": 17,
    "start_time": "2022-03-20T11:47:40.367Z"
   },
   {
    "duration": 13,
    "start_time": "2022-03-20T11:47:40.386Z"
   },
   {
    "duration": 33,
    "start_time": "2022-03-20T11:47:40.401Z"
   },
   {
    "duration": 14,
    "start_time": "2022-03-20T11:47:40.437Z"
   },
   {
    "duration": 15,
    "start_time": "2022-03-20T11:47:40.452Z"
   },
   {
    "duration": 4,
    "start_time": "2022-03-20T11:47:40.469Z"
   },
   {
    "duration": 21,
    "start_time": "2022-03-20T11:47:40.474Z"
   },
   {
    "duration": 4,
    "start_time": "2022-03-20T11:47:40.496Z"
   },
   {
    "duration": 40,
    "start_time": "2022-03-20T11:47:40.501Z"
   },
   {
    "duration": 19,
    "start_time": "2022-03-20T11:47:40.542Z"
   },
   {
    "duration": 22,
    "start_time": "2022-03-20T11:47:40.563Z"
   },
   {
    "duration": 10,
    "start_time": "2022-03-20T11:47:40.586Z"
   },
   {
    "duration": 389,
    "start_time": "2022-03-20T11:47:40.598Z"
   },
   {
    "duration": 12,
    "start_time": "2022-03-20T11:47:40.989Z"
   },
   {
    "duration": 35,
    "start_time": "2022-03-20T11:47:41.003Z"
   },
   {
    "duration": 3,
    "start_time": "2022-03-20T11:47:41.040Z"
   },
   {
    "duration": 340,
    "start_time": "2022-03-20T11:47:41.044Z"
   },
   {
    "duration": 3,
    "start_time": "2022-03-20T11:47:41.386Z"
   },
   {
    "duration": 9,
    "start_time": "2022-03-20T11:47:41.391Z"
   },
   {
    "duration": 8,
    "start_time": "2022-03-20T11:47:41.401Z"
   },
   {
    "duration": 222,
    "start_time": "2022-03-20T11:47:41.411Z"
   },
   {
    "duration": 14,
    "start_time": "2022-03-20T11:48:41.189Z"
   },
   {
    "duration": 1128,
    "start_time": "2022-03-20T11:48:55.311Z"
   },
   {
    "duration": 37,
    "start_time": "2022-03-20T11:48:56.441Z"
   },
   {
    "duration": 22,
    "start_time": "2022-03-20T11:48:56.480Z"
   },
   {
    "duration": 15,
    "start_time": "2022-03-20T11:48:56.505Z"
   },
   {
    "duration": 3,
    "start_time": "2022-03-20T11:48:56.533Z"
   },
   {
    "duration": 20,
    "start_time": "2022-03-20T11:48:56.538Z"
   },
   {
    "duration": 20,
    "start_time": "2022-03-20T11:48:56.560Z"
   },
   {
    "duration": 15,
    "start_time": "2022-03-20T11:48:56.581Z"
   },
   {
    "duration": 11,
    "start_time": "2022-03-20T11:48:56.597Z"
   },
   {
    "duration": 34,
    "start_time": "2022-03-20T11:48:56.611Z"
   },
   {
    "duration": 12,
    "start_time": "2022-03-20T11:48:56.647Z"
   },
   {
    "duration": 4,
    "start_time": "2022-03-20T11:48:56.661Z"
   },
   {
    "duration": 18,
    "start_time": "2022-03-20T11:48:56.666Z"
   },
   {
    "duration": 5,
    "start_time": "2022-03-20T11:48:56.685Z"
   },
   {
    "duration": 45,
    "start_time": "2022-03-20T11:48:56.691Z"
   },
   {
    "duration": 14,
    "start_time": "2022-03-20T11:48:56.738Z"
   },
   {
    "duration": 21,
    "start_time": "2022-03-20T11:48:56.754Z"
   },
   {
    "duration": 10,
    "start_time": "2022-03-20T11:48:56.777Z"
   },
   {
    "duration": 394,
    "start_time": "2022-03-20T11:48:56.789Z"
   },
   {
    "duration": 12,
    "start_time": "2022-03-20T11:48:57.185Z"
   },
   {
    "duration": 35,
    "start_time": "2022-03-20T11:48:57.199Z"
   },
   {
    "duration": 3,
    "start_time": "2022-03-20T11:48:57.235Z"
   },
   {
    "duration": 325,
    "start_time": "2022-03-20T11:48:57.240Z"
   },
   {
    "duration": 3,
    "start_time": "2022-03-20T11:48:57.566Z"
   },
   {
    "duration": 7,
    "start_time": "2022-03-20T11:48:57.571Z"
   },
   {
    "duration": 4,
    "start_time": "2022-03-20T11:48:57.580Z"
   },
   {
    "duration": 222,
    "start_time": "2022-03-20T11:48:57.586Z"
   },
   {
    "duration": 12,
    "start_time": "2022-03-20T11:49:19.410Z"
   },
   {
    "duration": 1104,
    "start_time": "2022-03-20T11:49:42.929Z"
   },
   {
    "duration": 37,
    "start_time": "2022-03-20T11:49:44.035Z"
   },
   {
    "duration": 23,
    "start_time": "2022-03-20T11:49:44.073Z"
   },
   {
    "duration": 13,
    "start_time": "2022-03-20T11:49:44.098Z"
   },
   {
    "duration": 20,
    "start_time": "2022-03-20T11:49:44.113Z"
   },
   {
    "duration": 21,
    "start_time": "2022-03-20T11:49:44.134Z"
   },
   {
    "duration": 17,
    "start_time": "2022-03-20T11:49:44.156Z"
   },
   {
    "duration": 14,
    "start_time": "2022-03-20T11:49:44.174Z"
   },
   {
    "duration": 14,
    "start_time": "2022-03-20T11:49:44.190Z"
   },
   {
    "duration": 37,
    "start_time": "2022-03-20T11:49:44.207Z"
   },
   {
    "duration": 14,
    "start_time": "2022-03-20T11:49:44.246Z"
   },
   {
    "duration": 6,
    "start_time": "2022-03-20T11:49:44.262Z"
   },
   {
    "duration": 22,
    "start_time": "2022-03-20T11:49:44.269Z"
   },
   {
    "duration": 4,
    "start_time": "2022-03-20T11:49:44.293Z"
   },
   {
    "duration": 40,
    "start_time": "2022-03-20T11:49:44.298Z"
   },
   {
    "duration": 16,
    "start_time": "2022-03-20T11:49:44.339Z"
   },
   {
    "duration": 22,
    "start_time": "2022-03-20T11:49:44.356Z"
   },
   {
    "duration": 10,
    "start_time": "2022-03-20T11:49:44.379Z"
   },
   {
    "duration": 383,
    "start_time": "2022-03-20T11:49:44.390Z"
   },
   {
    "duration": 12,
    "start_time": "2022-03-20T11:49:44.775Z"
   },
   {
    "duration": 23,
    "start_time": "2022-03-20T11:49:44.789Z"
   },
   {
    "duration": 21,
    "start_time": "2022-03-20T11:49:44.813Z"
   },
   {
    "duration": 333,
    "start_time": "2022-03-20T11:49:44.836Z"
   },
   {
    "duration": 2,
    "start_time": "2022-03-20T11:49:45.171Z"
   },
   {
    "duration": 5,
    "start_time": "2022-03-20T11:49:45.174Z"
   },
   {
    "duration": 10,
    "start_time": "2022-03-20T11:49:45.181Z"
   },
   {
    "duration": 46,
    "start_time": "2022-03-20T11:49:45.193Z"
   },
   {
    "duration": 143,
    "start_time": "2022-03-20T11:50:55.501Z"
   },
   {
    "duration": 1112,
    "start_time": "2022-03-20T11:51:02.221Z"
   },
   {
    "duration": 48,
    "start_time": "2022-03-20T11:51:03.335Z"
   },
   {
    "duration": 27,
    "start_time": "2022-03-20T11:51:03.385Z"
   },
   {
    "duration": 32,
    "start_time": "2022-03-20T11:51:03.415Z"
   },
   {
    "duration": 4,
    "start_time": "2022-03-20T11:51:03.449Z"
   },
   {
    "duration": 21,
    "start_time": "2022-03-20T11:51:03.454Z"
   },
   {
    "duration": 16,
    "start_time": "2022-03-20T11:51:03.476Z"
   },
   {
    "duration": 15,
    "start_time": "2022-03-20T11:51:03.494Z"
   },
   {
    "duration": 9,
    "start_time": "2022-03-20T11:51:03.533Z"
   },
   {
    "duration": 13,
    "start_time": "2022-03-20T11:51:03.546Z"
   },
   {
    "duration": 16,
    "start_time": "2022-03-20T11:51:03.561Z"
   },
   {
    "duration": 5,
    "start_time": "2022-03-20T11:51:03.579Z"
   },
   {
    "duration": 48,
    "start_time": "2022-03-20T11:51:03.586Z"
   },
   {
    "duration": 6,
    "start_time": "2022-03-20T11:51:03.636Z"
   },
   {
    "duration": 17,
    "start_time": "2022-03-20T11:51:03.643Z"
   },
   {
    "duration": 18,
    "start_time": "2022-03-20T11:51:03.661Z"
   },
   {
    "duration": 30,
    "start_time": "2022-03-20T11:51:03.681Z"
   },
   {
    "duration": 17,
    "start_time": "2022-03-20T11:51:03.739Z"
   },
   {
    "duration": 606,
    "start_time": "2022-03-20T11:51:03.758Z"
   },
   {
    "duration": 17,
    "start_time": "2022-03-20T11:51:04.366Z"
   },
   {
    "duration": 49,
    "start_time": "2022-03-20T11:51:04.385Z"
   },
   {
    "duration": 3,
    "start_time": "2022-03-20T11:51:04.436Z"
   },
   {
    "duration": 525,
    "start_time": "2022-03-20T11:51:04.440Z"
   },
   {
    "duration": 2,
    "start_time": "2022-03-20T11:51:04.967Z"
   },
   {
    "duration": 6,
    "start_time": "2022-03-20T11:51:04.971Z"
   },
   {
    "duration": 9,
    "start_time": "2022-03-20T11:51:04.978Z"
   },
   {
    "duration": 2320,
    "start_time": "2022-03-20T11:51:04.988Z"
   },
   {
    "duration": 13,
    "start_time": "2022-03-20T11:52:18.732Z"
   },
   {
    "duration": 1050,
    "start_time": "2022-03-20T11:52:25.584Z"
   },
   {
    "duration": 37,
    "start_time": "2022-03-20T11:52:26.636Z"
   },
   {
    "duration": 21,
    "start_time": "2022-03-20T11:52:26.677Z"
   },
   {
    "duration": 16,
    "start_time": "2022-03-20T11:52:26.700Z"
   },
   {
    "duration": 4,
    "start_time": "2022-03-20T11:52:26.733Z"
   },
   {
    "duration": 22,
    "start_time": "2022-03-20T11:52:26.739Z"
   },
   {
    "duration": 28,
    "start_time": "2022-03-20T11:52:26.763Z"
   },
   {
    "duration": 14,
    "start_time": "2022-03-20T11:52:26.793Z"
   },
   {
    "duration": 8,
    "start_time": "2022-03-20T11:52:26.809Z"
   },
   {
    "duration": 22,
    "start_time": "2022-03-20T11:52:26.832Z"
   },
   {
    "duration": 14,
    "start_time": "2022-03-20T11:52:26.855Z"
   },
   {
    "duration": 3,
    "start_time": "2022-03-20T11:52:26.871Z"
   },
   {
    "duration": 21,
    "start_time": "2022-03-20T11:52:26.876Z"
   },
   {
    "duration": 3,
    "start_time": "2022-03-20T11:52:26.899Z"
   },
   {
    "duration": 38,
    "start_time": "2022-03-20T11:52:26.904Z"
   },
   {
    "duration": 15,
    "start_time": "2022-03-20T11:52:26.943Z"
   },
   {
    "duration": 23,
    "start_time": "2022-03-20T11:52:26.960Z"
   },
   {
    "duration": 11,
    "start_time": "2022-03-20T11:52:26.985Z"
   },
   {
    "duration": 433,
    "start_time": "2022-03-20T11:52:26.998Z"
   },
   {
    "duration": 12,
    "start_time": "2022-03-20T11:52:27.432Z"
   },
   {
    "duration": 34,
    "start_time": "2022-03-20T11:52:27.446Z"
   },
   {
    "duration": 2,
    "start_time": "2022-03-20T11:52:27.482Z"
   },
   {
    "duration": 346,
    "start_time": "2022-03-20T11:52:27.486Z"
   },
   {
    "duration": 3,
    "start_time": "2022-03-20T11:52:27.834Z"
   },
   {
    "duration": 5,
    "start_time": "2022-03-20T11:52:27.838Z"
   },
   {
    "duration": 7,
    "start_time": "2022-03-20T11:52:27.845Z"
   },
   {
    "duration": 58,
    "start_time": "2022-03-20T11:52:27.855Z"
   },
   {
    "duration": 1075,
    "start_time": "2022-03-20T11:53:05.268Z"
   },
   {
    "duration": 39,
    "start_time": "2022-03-20T11:53:06.345Z"
   },
   {
    "duration": 22,
    "start_time": "2022-03-20T11:53:06.386Z"
   },
   {
    "duration": 26,
    "start_time": "2022-03-20T11:53:06.410Z"
   },
   {
    "duration": 3,
    "start_time": "2022-03-20T11:53:06.438Z"
   },
   {
    "duration": 21,
    "start_time": "2022-03-20T11:53:06.443Z"
   },
   {
    "duration": 16,
    "start_time": "2022-03-20T11:53:06.465Z"
   },
   {
    "duration": 14,
    "start_time": "2022-03-20T11:53:06.483Z"
   },
   {
    "duration": 38,
    "start_time": "2022-03-20T11:53:06.499Z"
   },
   {
    "duration": 15,
    "start_time": "2022-03-20T11:53:06.540Z"
   },
   {
    "duration": 14,
    "start_time": "2022-03-20T11:53:06.556Z"
   },
   {
    "duration": 4,
    "start_time": "2022-03-20T11:53:06.572Z"
   },
   {
    "duration": 21,
    "start_time": "2022-03-20T11:53:06.577Z"
   },
   {
    "duration": 4,
    "start_time": "2022-03-20T11:53:06.600Z"
   },
   {
    "duration": 15,
    "start_time": "2022-03-20T11:53:06.632Z"
   },
   {
    "duration": 13,
    "start_time": "2022-03-20T11:53:06.649Z"
   },
   {
    "duration": 22,
    "start_time": "2022-03-20T11:53:06.664Z"
   },
   {
    "duration": 10,
    "start_time": "2022-03-20T11:53:06.688Z"
   },
   {
    "duration": 435,
    "start_time": "2022-03-20T11:53:06.700Z"
   },
   {
    "duration": 14,
    "start_time": "2022-03-20T11:53:07.136Z"
   },
   {
    "duration": 23,
    "start_time": "2022-03-20T11:53:07.152Z"
   },
   {
    "duration": 2,
    "start_time": "2022-03-20T11:53:07.177Z"
   },
   {
    "duration": 347,
    "start_time": "2022-03-20T11:53:07.181Z"
   },
   {
    "duration": 2,
    "start_time": "2022-03-20T11:53:07.533Z"
   },
   {
    "duration": 6,
    "start_time": "2022-03-20T11:53:07.536Z"
   },
   {
    "duration": 6,
    "start_time": "2022-03-20T11:53:07.543Z"
   },
   {
    "duration": 16,
    "start_time": "2022-03-20T11:53:07.550Z"
   },
   {
    "duration": 1092,
    "start_time": "2022-03-20T11:53:47.671Z"
   },
   {
    "duration": 41,
    "start_time": "2022-03-20T11:53:48.765Z"
   },
   {
    "duration": 29,
    "start_time": "2022-03-20T11:53:48.808Z"
   },
   {
    "duration": 18,
    "start_time": "2022-03-20T11:53:48.839Z"
   },
   {
    "duration": 3,
    "start_time": "2022-03-20T11:53:48.860Z"
   },
   {
    "duration": 24,
    "start_time": "2022-03-20T11:53:48.866Z"
   },
   {
    "duration": 20,
    "start_time": "2022-03-20T11:53:48.891Z"
   },
   {
    "duration": 27,
    "start_time": "2022-03-20T11:53:48.913Z"
   },
   {
    "duration": 11,
    "start_time": "2022-03-20T11:53:48.942Z"
   },
   {
    "duration": 13,
    "start_time": "2022-03-20T11:53:48.954Z"
   },
   {
    "duration": 25,
    "start_time": "2022-03-20T11:53:48.969Z"
   },
   {
    "duration": 4,
    "start_time": "2022-03-20T11:53:48.995Z"
   },
   {
    "duration": 36,
    "start_time": "2022-03-20T11:53:49.001Z"
   },
   {
    "duration": 4,
    "start_time": "2022-03-20T11:53:49.040Z"
   },
   {
    "duration": 16,
    "start_time": "2022-03-20T11:53:49.046Z"
   },
   {
    "duration": 18,
    "start_time": "2022-03-20T11:53:49.064Z"
   },
   {
    "duration": 23,
    "start_time": "2022-03-20T11:53:49.084Z"
   },
   {
    "duration": 33,
    "start_time": "2022-03-20T11:53:49.109Z"
   },
   {
    "duration": 384,
    "start_time": "2022-03-20T11:53:49.143Z"
   },
   {
    "duration": 14,
    "start_time": "2022-03-20T11:53:49.532Z"
   },
   {
    "duration": 23,
    "start_time": "2022-03-20T11:53:49.547Z"
   },
   {
    "duration": 3,
    "start_time": "2022-03-20T11:53:49.571Z"
   },
   {
    "duration": 357,
    "start_time": "2022-03-20T11:53:49.575Z"
   },
   {
    "duration": 2,
    "start_time": "2022-03-20T11:53:49.934Z"
   },
   {
    "duration": 6,
    "start_time": "2022-03-20T11:53:49.938Z"
   },
   {
    "duration": 5,
    "start_time": "2022-03-20T11:53:49.945Z"
   },
   {
    "duration": 126,
    "start_time": "2022-03-20T11:53:49.951Z"
   },
   {
    "duration": 37,
    "start_time": "2022-03-20T11:53:59.903Z"
   },
   {
    "duration": 1164,
    "start_time": "2022-03-20T11:54:24.869Z"
   },
   {
    "duration": 38,
    "start_time": "2022-03-20T11:54:26.035Z"
   },
   {
    "duration": 26,
    "start_time": "2022-03-20T11:54:26.075Z"
   },
   {
    "duration": 13,
    "start_time": "2022-03-20T11:54:26.102Z"
   },
   {
    "duration": 3,
    "start_time": "2022-03-20T11:54:26.134Z"
   },
   {
    "duration": 31,
    "start_time": "2022-03-20T11:54:26.139Z"
   },
   {
    "duration": 17,
    "start_time": "2022-03-20T11:54:26.172Z"
   },
   {
    "duration": 14,
    "start_time": "2022-03-20T11:54:26.191Z"
   },
   {
    "duration": 30,
    "start_time": "2022-03-20T11:54:26.207Z"
   },
   {
    "duration": 14,
    "start_time": "2022-03-20T11:54:26.239Z"
   },
   {
    "duration": 14,
    "start_time": "2022-03-20T11:54:26.254Z"
   },
   {
    "duration": 4,
    "start_time": "2022-03-20T11:54:26.270Z"
   },
   {
    "duration": 20,
    "start_time": "2022-03-20T11:54:26.275Z"
   },
   {
    "duration": 5,
    "start_time": "2022-03-20T11:54:26.298Z"
   },
   {
    "duration": 46,
    "start_time": "2022-03-20T11:54:26.305Z"
   },
   {
    "duration": 18,
    "start_time": "2022-03-20T11:54:26.353Z"
   },
   {
    "duration": 23,
    "start_time": "2022-03-20T11:54:26.372Z"
   },
   {
    "duration": 11,
    "start_time": "2022-03-20T11:54:26.396Z"
   },
   {
    "duration": 405,
    "start_time": "2022-03-20T11:54:26.408Z"
   },
   {
    "duration": 22,
    "start_time": "2022-03-20T11:54:26.815Z"
   },
   {
    "duration": 27,
    "start_time": "2022-03-20T11:54:26.839Z"
   },
   {
    "duration": 3,
    "start_time": "2022-03-20T11:54:26.868Z"
   },
   {
    "duration": 554,
    "start_time": "2022-03-20T11:54:26.873Z"
   },
   {
    "duration": 2,
    "start_time": "2022-03-20T11:54:27.429Z"
   },
   {
    "duration": 11,
    "start_time": "2022-03-20T11:54:27.436Z"
   },
   {
    "duration": 5,
    "start_time": "2022-03-20T11:54:27.449Z"
   },
   {
    "duration": 212,
    "start_time": "2022-03-20T11:54:27.455Z"
   },
   {
    "duration": 1829,
    "start_time": "2022-03-20T14:06:26.366Z"
   },
   {
    "duration": 51,
    "start_time": "2022-03-20T14:06:28.198Z"
   },
   {
    "duration": 46,
    "start_time": "2022-03-20T14:06:28.251Z"
   },
   {
    "duration": 21,
    "start_time": "2022-03-20T14:06:28.300Z"
   },
   {
    "duration": 6,
    "start_time": "2022-03-20T14:06:28.323Z"
   },
   {
    "duration": 62,
    "start_time": "2022-03-20T14:06:28.331Z"
   },
   {
    "duration": 24,
    "start_time": "2022-03-20T14:06:28.395Z"
   },
   {
    "duration": 23,
    "start_time": "2022-03-20T14:06:28.421Z"
   },
   {
    "duration": 14,
    "start_time": "2022-03-20T14:06:28.475Z"
   },
   {
    "duration": 22,
    "start_time": "2022-03-20T14:06:28.493Z"
   },
   {
    "duration": 22,
    "start_time": "2022-03-20T14:06:28.517Z"
   },
   {
    "duration": 35,
    "start_time": "2022-03-20T14:06:28.542Z"
   },
   {
    "duration": 28,
    "start_time": "2022-03-20T14:06:28.579Z"
   },
   {
    "duration": 7,
    "start_time": "2022-03-20T14:06:28.610Z"
   },
   {
    "duration": 61,
    "start_time": "2022-03-20T14:06:28.620Z"
   },
   {
    "duration": 20,
    "start_time": "2022-03-20T14:06:28.684Z"
   },
   {
    "duration": 37,
    "start_time": "2022-03-20T14:06:28.707Z"
   },
   {
    "duration": 16,
    "start_time": "2022-03-20T14:06:28.775Z"
   },
   {
    "duration": 749,
    "start_time": "2022-03-20T14:06:28.793Z"
   },
   {
    "duration": 37,
    "start_time": "2022-03-20T14:06:29.544Z"
   },
   {
    "duration": 38,
    "start_time": "2022-03-20T14:06:29.583Z"
   },
   {
    "duration": 4,
    "start_time": "2022-03-20T14:06:29.623Z"
   },
   {
    "duration": 670,
    "start_time": "2022-03-20T14:06:29.630Z"
   },
   {
    "duration": 3,
    "start_time": "2022-03-20T14:06:30.302Z"
   },
   {
    "duration": 9,
    "start_time": "2022-03-20T14:06:30.307Z"
   },
   {
    "duration": 8,
    "start_time": "2022-03-20T14:06:30.319Z"
   },
   {
    "duration": 395,
    "start_time": "2022-03-20T14:06:30.330Z"
   },
   {
    "duration": 1571,
    "start_time": "2022-03-20T14:07:30.542Z"
   },
   {
    "duration": 57,
    "start_time": "2022-03-20T14:07:32.117Z"
   },
   {
    "duration": 40,
    "start_time": "2022-03-20T14:07:32.176Z"
   },
   {
    "duration": 24,
    "start_time": "2022-03-20T14:07:32.219Z"
   },
   {
    "duration": 29,
    "start_time": "2022-03-20T14:07:32.246Z"
   },
   {
    "duration": 35,
    "start_time": "2022-03-20T14:07:32.279Z"
   },
   {
    "duration": 58,
    "start_time": "2022-03-20T14:07:32.317Z"
   },
   {
    "duration": 24,
    "start_time": "2022-03-20T14:07:32.377Z"
   },
   {
    "duration": 17,
    "start_time": "2022-03-20T14:07:32.404Z"
   },
   {
    "duration": 53,
    "start_time": "2022-03-20T14:07:32.424Z"
   },
   {
    "duration": 23,
    "start_time": "2022-03-20T14:07:32.481Z"
   },
   {
    "duration": 8,
    "start_time": "2022-03-20T14:07:32.507Z"
   },
   {
    "duration": 59,
    "start_time": "2022-03-20T14:07:32.518Z"
   },
   {
    "duration": 9,
    "start_time": "2022-03-20T14:07:32.583Z"
   },
   {
    "duration": 47,
    "start_time": "2022-03-20T14:07:32.595Z"
   },
   {
    "duration": 49,
    "start_time": "2022-03-20T14:07:32.647Z"
   },
   {
    "duration": 83,
    "start_time": "2022-03-20T14:07:32.699Z"
   },
   {
    "duration": 25,
    "start_time": "2022-03-20T14:07:32.785Z"
   },
   {
    "duration": 847,
    "start_time": "2022-03-20T14:07:32.813Z"
   },
   {
    "duration": 36,
    "start_time": "2022-03-20T14:07:33.663Z"
   },
   {
    "duration": 41,
    "start_time": "2022-03-20T14:07:33.701Z"
   },
   {
    "duration": 3,
    "start_time": "2022-03-20T14:07:33.744Z"
   },
   {
    "duration": 667,
    "start_time": "2022-03-20T14:07:33.749Z"
   },
   {
    "duration": 4,
    "start_time": "2022-03-20T14:07:34.418Z"
   },
   {
    "duration": 15,
    "start_time": "2022-03-20T14:07:34.424Z"
   },
   {
    "duration": 5,
    "start_time": "2022-03-20T14:07:34.442Z"
   },
   {
    "duration": 623,
    "start_time": "2022-03-20T14:07:34.450Z"
   },
   {
    "duration": 21,
    "start_time": "2022-03-20T14:10:55.482Z"
   },
   {
    "duration": 1894,
    "start_time": "2022-03-20T14:11:32.167Z"
   },
   {
    "duration": 19,
    "start_time": "2022-03-20T14:11:57.372Z"
   },
   {
    "duration": 1732,
    "start_time": "2022-03-20T14:12:03.971Z"
   },
   {
    "duration": 55,
    "start_time": "2022-03-20T14:12:05.706Z"
   },
   {
    "duration": 40,
    "start_time": "2022-03-20T14:12:05.763Z"
   },
   {
    "duration": 24,
    "start_time": "2022-03-20T14:12:05.806Z"
   },
   {
    "duration": 5,
    "start_time": "2022-03-20T14:12:05.834Z"
   },
   {
    "duration": 45,
    "start_time": "2022-03-20T14:12:05.873Z"
   },
   {
    "duration": 35,
    "start_time": "2022-03-20T14:12:05.920Z"
   },
   {
    "duration": 40,
    "start_time": "2022-03-20T14:12:05.958Z"
   },
   {
    "duration": 12,
    "start_time": "2022-03-20T14:12:06.001Z"
   },
   {
    "duration": 19,
    "start_time": "2022-03-20T14:12:06.015Z"
   },
   {
    "duration": 47,
    "start_time": "2022-03-20T14:12:06.036Z"
   },
   {
    "duration": 10,
    "start_time": "2022-03-20T14:12:06.087Z"
   },
   {
    "duration": 42,
    "start_time": "2022-03-20T14:12:06.100Z"
   },
   {
    "duration": 29,
    "start_time": "2022-03-20T14:12:06.149Z"
   },
   {
    "duration": 41,
    "start_time": "2022-03-20T14:12:06.183Z"
   },
   {
    "duration": 30,
    "start_time": "2022-03-20T14:12:06.226Z"
   },
   {
    "duration": 53,
    "start_time": "2022-03-20T14:12:06.258Z"
   },
   {
    "duration": 19,
    "start_time": "2022-03-20T14:12:06.313Z"
   },
   {
    "duration": 769,
    "start_time": "2022-03-20T14:12:06.334Z"
   },
   {
    "duration": 19,
    "start_time": "2022-03-20T14:12:07.105Z"
   },
   {
    "duration": 78,
    "start_time": "2022-03-20T14:12:07.126Z"
   },
   {
    "duration": 4,
    "start_time": "2022-03-20T14:12:07.206Z"
   },
   {
    "duration": 796,
    "start_time": "2022-03-20T14:12:07.212Z"
   },
   {
    "duration": 3,
    "start_time": "2022-03-20T14:12:08.011Z"
   },
   {
    "duration": 7,
    "start_time": "2022-03-20T14:12:08.017Z"
   },
   {
    "duration": 5,
    "start_time": "2022-03-20T14:12:08.027Z"
   },
   {
    "duration": 99,
    "start_time": "2022-03-20T14:12:08.035Z"
   },
   {
    "duration": 2100,
    "start_time": "2022-03-20T14:12:08.136Z"
   },
   {
    "duration": 16,
    "start_time": "2022-03-20T14:13:19.070Z"
   },
   {
    "duration": 1551,
    "start_time": "2022-03-20T14:13:25.281Z"
   },
   {
    "duration": 56,
    "start_time": "2022-03-20T14:13:26.836Z"
   },
   {
    "duration": 46,
    "start_time": "2022-03-20T14:13:26.895Z"
   },
   {
    "duration": 41,
    "start_time": "2022-03-20T14:13:26.943Z"
   },
   {
    "duration": 5,
    "start_time": "2022-03-20T14:13:26.988Z"
   },
   {
    "duration": 48,
    "start_time": "2022-03-20T14:13:26.995Z"
   },
   {
    "duration": 47,
    "start_time": "2022-03-20T14:13:27.045Z"
   },
   {
    "duration": 24,
    "start_time": "2022-03-20T14:13:27.094Z"
   },
   {
    "duration": 12,
    "start_time": "2022-03-20T14:13:27.120Z"
   },
   {
    "duration": 58,
    "start_time": "2022-03-20T14:13:27.134Z"
   },
   {
    "duration": 18,
    "start_time": "2022-03-20T14:13:27.194Z"
   },
   {
    "duration": 5,
    "start_time": "2022-03-20T14:13:27.215Z"
   },
   {
    "duration": 52,
    "start_time": "2022-03-20T14:13:27.223Z"
   },
   {
    "duration": 149,
    "start_time": "2022-03-20T14:13:27.280Z"
   },
   {
    "duration": 29,
    "start_time": "2022-03-20T14:13:27.431Z"
   },
   {
    "duration": 19,
    "start_time": "2022-03-20T14:13:27.462Z"
   },
   {
    "duration": 42,
    "start_time": "2022-03-20T14:13:27.484Z"
   },
   {
    "duration": 16,
    "start_time": "2022-03-20T14:13:27.529Z"
   },
   {
    "duration": 754,
    "start_time": "2022-03-20T14:13:27.574Z"
   },
   {
    "duration": 20,
    "start_time": "2022-03-20T14:13:28.332Z"
   },
   {
    "duration": 40,
    "start_time": "2022-03-20T14:13:28.375Z"
   },
   {
    "duration": 4,
    "start_time": "2022-03-20T14:13:28.418Z"
   },
   {
    "duration": 670,
    "start_time": "2022-03-20T14:13:28.425Z"
   },
   {
    "duration": 3,
    "start_time": "2022-03-20T14:13:29.098Z"
   },
   {
    "duration": 18,
    "start_time": "2022-03-20T14:13:29.104Z"
   },
   {
    "duration": 8,
    "start_time": "2022-03-20T14:13:29.125Z"
   },
   {
    "duration": 79,
    "start_time": "2022-03-20T14:13:29.135Z"
   },
   {
    "duration": 1982,
    "start_time": "2022-03-20T14:13:29.216Z"
   },
   {
    "duration": 1522,
    "start_time": "2022-03-20T14:13:41.207Z"
   },
   {
    "duration": 55,
    "start_time": "2022-03-20T14:13:42.732Z"
   },
   {
    "duration": 37,
    "start_time": "2022-03-20T14:13:42.789Z"
   },
   {
    "duration": 21,
    "start_time": "2022-03-20T14:13:42.828Z"
   },
   {
    "duration": 4,
    "start_time": "2022-03-20T14:13:42.876Z"
   },
   {
    "duration": 31,
    "start_time": "2022-03-20T14:13:42.882Z"
   },
   {
    "duration": 29,
    "start_time": "2022-03-20T14:13:42.915Z"
   },
   {
    "duration": 46,
    "start_time": "2022-03-20T14:13:42.946Z"
   },
   {
    "duration": 13,
    "start_time": "2022-03-20T14:13:42.994Z"
   },
   {
    "duration": 19,
    "start_time": "2022-03-20T14:13:43.009Z"
   },
   {
    "duration": 59,
    "start_time": "2022-03-20T14:13:43.030Z"
   },
   {
    "duration": 7,
    "start_time": "2022-03-20T14:13:43.091Z"
   },
   {
    "duration": 34,
    "start_time": "2022-03-20T14:13:43.100Z"
   },
   {
    "duration": 36,
    "start_time": "2022-03-20T14:13:43.138Z"
   },
   {
    "duration": 25,
    "start_time": "2022-03-20T14:13:43.176Z"
   },
   {
    "duration": 24,
    "start_time": "2022-03-20T14:13:43.204Z"
   },
   {
    "duration": 90,
    "start_time": "2022-03-20T14:13:43.231Z"
   },
   {
    "duration": 18,
    "start_time": "2022-03-20T14:13:43.323Z"
   },
   {
    "duration": 765,
    "start_time": "2022-03-20T14:13:43.344Z"
   },
   {
    "duration": 22,
    "start_time": "2022-03-20T14:13:44.111Z"
   },
   {
    "duration": 66,
    "start_time": "2022-03-20T14:13:44.136Z"
   },
   {
    "duration": 4,
    "start_time": "2022-03-20T14:13:44.205Z"
   },
   {
    "duration": 731,
    "start_time": "2022-03-20T14:13:44.211Z"
   },
   {
    "duration": 4,
    "start_time": "2022-03-20T14:13:44.945Z"
   },
   {
    "duration": 34,
    "start_time": "2022-03-20T14:13:44.952Z"
   },
   {
    "duration": 49,
    "start_time": "2022-03-20T14:13:44.988Z"
   },
   {
    "duration": 1892,
    "start_time": "2022-03-20T14:13:45.041Z"
   },
   {
    "duration": 0,
    "start_time": "2022-03-20T14:13:46.936Z"
   },
   {
    "duration": 2094,
    "start_time": "2022-03-20T14:14:15.091Z"
   },
   {
    "duration": 79,
    "start_time": "2022-03-20T14:14:17.189Z"
   },
   {
    "duration": 42,
    "start_time": "2022-03-20T14:14:17.276Z"
   },
   {
    "duration": 35,
    "start_time": "2022-03-20T14:14:17.321Z"
   },
   {
    "duration": 18,
    "start_time": "2022-03-20T14:14:17.360Z"
   },
   {
    "duration": 66,
    "start_time": "2022-03-20T14:14:17.380Z"
   },
   {
    "duration": 42,
    "start_time": "2022-03-20T14:14:17.449Z"
   },
   {
    "duration": 30,
    "start_time": "2022-03-20T14:14:17.494Z"
   },
   {
    "duration": 39,
    "start_time": "2022-03-20T14:14:17.527Z"
   },
   {
    "duration": 26,
    "start_time": "2022-03-20T14:14:17.568Z"
   },
   {
    "duration": 17,
    "start_time": "2022-03-20T14:14:17.598Z"
   },
   {
    "duration": 6,
    "start_time": "2022-03-20T14:14:17.618Z"
   },
   {
    "duration": 67,
    "start_time": "2022-03-20T14:14:17.627Z"
   },
   {
    "duration": 6,
    "start_time": "2022-03-20T14:14:17.698Z"
   },
   {
    "duration": 26,
    "start_time": "2022-03-20T14:14:17.706Z"
   },
   {
    "duration": 43,
    "start_time": "2022-03-20T14:14:17.734Z"
   },
   {
    "duration": 46,
    "start_time": "2022-03-20T14:14:17.779Z"
   },
   {
    "duration": 18,
    "start_time": "2022-03-20T14:14:17.827Z"
   },
   {
    "duration": 1177,
    "start_time": "2022-03-20T14:14:17.847Z"
   },
   {
    "duration": 21,
    "start_time": "2022-03-20T14:14:19.027Z"
   },
   {
    "duration": 77,
    "start_time": "2022-03-20T14:14:19.051Z"
   },
   {
    "duration": 4,
    "start_time": "2022-03-20T14:14:19.131Z"
   },
   {
    "duration": 671,
    "start_time": "2022-03-20T14:14:19.138Z"
   },
   {
    "duration": 3,
    "start_time": "2022-03-20T14:14:19.812Z"
   },
   {
    "duration": 21,
    "start_time": "2022-03-20T14:14:19.817Z"
   },
   {
    "duration": 17,
    "start_time": "2022-03-20T14:14:19.840Z"
   },
   {
    "duration": 221,
    "start_time": "2022-03-20T14:14:19.859Z"
   },
   {
    "duration": 0,
    "start_time": "2022-03-20T14:14:20.087Z"
   },
   {
    "duration": 17,
    "start_time": "2022-03-20T14:17:52.840Z"
   },
   {
    "duration": 22,
    "start_time": "2022-03-20T14:18:00.736Z"
   },
   {
    "duration": 1434,
    "start_time": "2022-03-20T14:18:05.887Z"
   },
   {
    "duration": 53,
    "start_time": "2022-03-20T14:18:07.323Z"
   },
   {
    "duration": 35,
    "start_time": "2022-03-20T14:18:07.378Z"
   },
   {
    "duration": 22,
    "start_time": "2022-03-20T14:18:07.416Z"
   },
   {
    "duration": 33,
    "start_time": "2022-03-20T14:18:07.441Z"
   },
   {
    "duration": 31,
    "start_time": "2022-03-20T14:18:07.476Z"
   },
   {
    "duration": 24,
    "start_time": "2022-03-20T14:18:07.509Z"
   },
   {
    "duration": 51,
    "start_time": "2022-03-20T14:18:07.536Z"
   },
   {
    "duration": 12,
    "start_time": "2022-03-20T14:18:07.589Z"
   },
   {
    "duration": 21,
    "start_time": "2022-03-20T14:18:07.605Z"
   },
   {
    "duration": 15,
    "start_time": "2022-03-20T14:18:07.628Z"
   },
   {
    "duration": 33,
    "start_time": "2022-03-20T14:18:07.645Z"
   },
   {
    "duration": 27,
    "start_time": "2022-03-20T14:18:07.681Z"
   },
   {
    "duration": 5,
    "start_time": "2022-03-20T14:18:07.711Z"
   },
   {
    "duration": 26,
    "start_time": "2022-03-20T14:18:07.718Z"
   },
   {
    "duration": 19,
    "start_time": "2022-03-20T14:18:07.774Z"
   },
   {
    "duration": 42,
    "start_time": "2022-03-20T14:18:07.796Z"
   },
   {
    "duration": 43,
    "start_time": "2022-03-20T14:18:07.841Z"
   },
   {
    "duration": 723,
    "start_time": "2022-03-20T14:18:07.887Z"
   },
   {
    "duration": 18,
    "start_time": "2022-03-20T14:18:08.613Z"
   },
   {
    "duration": 58,
    "start_time": "2022-03-20T14:18:08.633Z"
   },
   {
    "duration": 4,
    "start_time": "2022-03-20T14:18:08.694Z"
   },
   {
    "duration": 643,
    "start_time": "2022-03-20T14:18:08.700Z"
   },
   {
    "duration": 3,
    "start_time": "2022-03-20T14:18:09.346Z"
   },
   {
    "duration": 7,
    "start_time": "2022-03-20T14:18:09.350Z"
   },
   {
    "duration": 3,
    "start_time": "2022-03-20T14:18:09.374Z"
   },
   {
    "duration": 61,
    "start_time": "2022-03-20T14:18:09.380Z"
   },
   {
    "duration": 1943,
    "start_time": "2022-03-20T14:18:09.445Z"
   },
   {
    "duration": 1600,
    "start_time": "2022-03-20T14:19:35.942Z"
   },
   {
    "duration": 57,
    "start_time": "2022-03-20T14:19:37.545Z"
   },
   {
    "duration": 39,
    "start_time": "2022-03-20T14:19:37.604Z"
   },
   {
    "duration": 38,
    "start_time": "2022-03-20T14:19:37.645Z"
   },
   {
    "duration": 6,
    "start_time": "2022-03-20T14:19:37.686Z"
   },
   {
    "duration": 36,
    "start_time": "2022-03-20T14:19:37.694Z"
   },
   {
    "duration": 55,
    "start_time": "2022-03-20T14:19:37.734Z"
   },
   {
    "duration": 26,
    "start_time": "2022-03-20T14:19:37.791Z"
   },
   {
    "duration": 13,
    "start_time": "2022-03-20T14:19:37.819Z"
   },
   {
    "duration": 48,
    "start_time": "2022-03-20T14:19:37.835Z"
   },
   {
    "duration": 20,
    "start_time": "2022-03-20T14:19:37.885Z"
   },
   {
    "duration": 7,
    "start_time": "2022-03-20T14:19:37.907Z"
   },
   {
    "duration": 34,
    "start_time": "2022-03-20T14:19:37.917Z"
   },
   {
    "duration": 8,
    "start_time": "2022-03-20T14:19:37.976Z"
   },
   {
    "duration": 29,
    "start_time": "2022-03-20T14:19:37.986Z"
   },
   {
    "duration": 22,
    "start_time": "2022-03-20T14:19:38.017Z"
   },
   {
    "duration": 45,
    "start_time": "2022-03-20T14:19:38.073Z"
   },
   {
    "duration": 18,
    "start_time": "2022-03-20T14:19:38.120Z"
   },
   {
    "duration": 767,
    "start_time": "2022-03-20T14:19:38.140Z"
   },
   {
    "duration": 20,
    "start_time": "2022-03-20T14:19:38.909Z"
   },
   {
    "duration": 57,
    "start_time": "2022-03-20T14:19:38.931Z"
   },
   {
    "duration": 4,
    "start_time": "2022-03-20T14:19:38.990Z"
   },
   {
    "duration": 638,
    "start_time": "2022-03-20T14:19:38.996Z"
   },
   {
    "duration": 3,
    "start_time": "2022-03-20T14:19:39.637Z"
   },
   {
    "duration": 5,
    "start_time": "2022-03-20T14:19:39.643Z"
   },
   {
    "duration": 24,
    "start_time": "2022-03-20T14:19:39.650Z"
   },
   {
    "duration": 197,
    "start_time": "2022-03-20T14:19:39.676Z"
   },
   {
    "duration": 0,
    "start_time": "2022-03-20T14:19:39.876Z"
   },
   {
    "duration": 1515,
    "start_time": "2022-03-20T14:22:09.379Z"
   },
   {
    "duration": 50,
    "start_time": "2022-03-20T14:22:10.897Z"
   },
   {
    "duration": 44,
    "start_time": "2022-03-20T14:22:10.949Z"
   },
   {
    "duration": 21,
    "start_time": "2022-03-20T14:22:10.995Z"
   },
   {
    "duration": 4,
    "start_time": "2022-03-20T14:22:11.020Z"
   },
   {
    "duration": 60,
    "start_time": "2022-03-20T14:22:11.025Z"
   },
   {
    "duration": 30,
    "start_time": "2022-03-20T14:22:11.088Z"
   },
   {
    "duration": 24,
    "start_time": "2022-03-20T14:22:11.120Z"
   },
   {
    "duration": 40,
    "start_time": "2022-03-20T14:22:11.146Z"
   },
   {
    "duration": 20,
    "start_time": "2022-03-20T14:22:11.188Z"
   },
   {
    "duration": 15,
    "start_time": "2022-03-20T14:22:11.210Z"
   },
   {
    "duration": 7,
    "start_time": "2022-03-20T14:22:11.227Z"
   },
   {
    "duration": 59,
    "start_time": "2022-03-20T14:22:11.237Z"
   },
   {
    "duration": 6,
    "start_time": "2022-03-20T14:22:11.302Z"
   },
   {
    "duration": 25,
    "start_time": "2022-03-20T14:22:11.310Z"
   },
   {
    "duration": 48,
    "start_time": "2022-03-20T14:22:11.337Z"
   },
   {
    "duration": 41,
    "start_time": "2022-03-20T14:22:11.388Z"
   },
   {
    "duration": 43,
    "start_time": "2022-03-20T14:22:11.431Z"
   },
   {
    "duration": 1074,
    "start_time": "2022-03-20T14:22:11.476Z"
   },
   {
    "duration": 27,
    "start_time": "2022-03-20T14:22:12.553Z"
   },
   {
    "duration": 39,
    "start_time": "2022-03-20T14:22:12.582Z"
   },
   {
    "duration": 3,
    "start_time": "2022-03-20T14:22:12.623Z"
   },
   {
    "duration": 654,
    "start_time": "2022-03-20T14:22:12.628Z"
   },
   {
    "duration": 3,
    "start_time": "2022-03-20T14:22:13.285Z"
   },
   {
    "duration": 7,
    "start_time": "2022-03-20T14:22:13.290Z"
   },
   {
    "duration": 6,
    "start_time": "2022-03-20T14:22:13.299Z"
   },
   {
    "duration": 193,
    "start_time": "2022-03-20T14:22:13.307Z"
   },
   {
    "duration": 0,
    "start_time": "2022-03-20T14:22:13.502Z"
   },
   {
    "duration": 1643,
    "start_time": "2022-03-20T14:22:24.091Z"
   },
   {
    "duration": 56,
    "start_time": "2022-03-20T14:22:25.737Z"
   },
   {
    "duration": 38,
    "start_time": "2022-03-20T14:22:25.796Z"
   },
   {
    "duration": 50,
    "start_time": "2022-03-20T14:22:25.837Z"
   },
   {
    "duration": 4,
    "start_time": "2022-03-20T14:22:25.891Z"
   },
   {
    "duration": 36,
    "start_time": "2022-03-20T14:22:25.897Z"
   },
   {
    "duration": 62,
    "start_time": "2022-03-20T14:22:25.935Z"
   },
   {
    "duration": 24,
    "start_time": "2022-03-20T14:22:26.000Z"
   },
   {
    "duration": 15,
    "start_time": "2022-03-20T14:22:26.027Z"
   },
   {
    "duration": 48,
    "start_time": "2022-03-20T14:22:26.044Z"
   },
   {
    "duration": 19,
    "start_time": "2022-03-20T14:22:26.095Z"
   },
   {
    "duration": 6,
    "start_time": "2022-03-20T14:22:26.118Z"
   },
   {
    "duration": 68,
    "start_time": "2022-03-20T14:22:26.129Z"
   },
   {
    "duration": 7,
    "start_time": "2022-03-20T14:22:26.201Z"
   },
   {
    "duration": 27,
    "start_time": "2022-03-20T14:22:26.210Z"
   },
   {
    "duration": 48,
    "start_time": "2022-03-20T14:22:26.239Z"
   },
   {
    "duration": 42,
    "start_time": "2022-03-20T14:22:26.289Z"
   },
   {
    "duration": 42,
    "start_time": "2022-03-20T14:22:26.334Z"
   },
   {
    "duration": 1032,
    "start_time": "2022-03-20T14:22:26.378Z"
   },
   {
    "duration": 20,
    "start_time": "2022-03-20T14:22:27.412Z"
   },
   {
    "duration": 83,
    "start_time": "2022-03-20T14:22:27.434Z"
   },
   {
    "duration": 4,
    "start_time": "2022-03-20T14:22:27.519Z"
   },
   {
    "duration": 653,
    "start_time": "2022-03-20T14:22:27.526Z"
   },
   {
    "duration": 3,
    "start_time": "2022-03-20T14:22:28.181Z"
   },
   {
    "duration": 7,
    "start_time": "2022-03-20T14:22:28.187Z"
   },
   {
    "duration": 11,
    "start_time": "2022-03-20T14:22:28.197Z"
   },
   {
    "duration": 74,
    "start_time": "2022-03-20T14:22:28.211Z"
   },
   {
    "duration": 1743,
    "start_time": "2022-03-20T14:22:28.288Z"
   },
   {
    "duration": 15,
    "start_time": "2022-03-20T14:22:46.260Z"
   },
   {
    "duration": 1455,
    "start_time": "2022-03-20T14:22:51.090Z"
   },
   {
    "duration": 49,
    "start_time": "2022-03-20T14:22:52.548Z"
   },
   {
    "duration": 41,
    "start_time": "2022-03-20T14:22:52.599Z"
   },
   {
    "duration": 43,
    "start_time": "2022-03-20T14:22:52.645Z"
   },
   {
    "duration": 8,
    "start_time": "2022-03-20T14:22:52.691Z"
   },
   {
    "duration": 34,
    "start_time": "2022-03-20T14:22:52.701Z"
   },
   {
    "duration": 61,
    "start_time": "2022-03-20T14:22:52.737Z"
   },
   {
    "duration": 26,
    "start_time": "2022-03-20T14:22:52.800Z"
   },
   {
    "duration": 12,
    "start_time": "2022-03-20T14:22:52.828Z"
   },
   {
    "duration": 53,
    "start_time": "2022-03-20T14:22:52.844Z"
   },
   {
    "duration": 17,
    "start_time": "2022-03-20T14:22:52.899Z"
   },
   {
    "duration": 6,
    "start_time": "2022-03-20T14:22:52.918Z"
   },
   {
    "duration": 61,
    "start_time": "2022-03-20T14:22:52.926Z"
   },
   {
    "duration": 7,
    "start_time": "2022-03-20T14:22:52.989Z"
   },
   {
    "duration": 28,
    "start_time": "2022-03-20T14:22:52.998Z"
   },
   {
    "duration": 47,
    "start_time": "2022-03-20T14:22:53.029Z"
   },
   {
    "duration": 42,
    "start_time": "2022-03-20T14:22:53.079Z"
   },
   {
    "duration": 16,
    "start_time": "2022-03-20T14:22:53.124Z"
   },
   {
    "duration": 762,
    "start_time": "2022-03-20T14:22:53.142Z"
   },
   {
    "duration": 19,
    "start_time": "2022-03-20T14:22:53.907Z"
   },
   {
    "duration": 61,
    "start_time": "2022-03-20T14:22:53.928Z"
   },
   {
    "duration": 5,
    "start_time": "2022-03-20T14:22:53.991Z"
   },
   {
    "duration": 643,
    "start_time": "2022-03-20T14:22:53.998Z"
   },
   {
    "duration": 3,
    "start_time": "2022-03-20T14:22:54.644Z"
   },
   {
    "duration": 6,
    "start_time": "2022-03-20T14:22:54.649Z"
   },
   {
    "duration": 26,
    "start_time": "2022-03-20T14:22:54.658Z"
   },
   {
    "duration": 55,
    "start_time": "2022-03-20T14:22:54.686Z"
   },
   {
    "duration": 1844,
    "start_time": "2022-03-20T14:22:54.746Z"
   },
   {
    "duration": 1563,
    "start_time": "2022-03-20T14:23:36.467Z"
   },
   {
    "duration": 52,
    "start_time": "2022-03-20T14:23:38.033Z"
   },
   {
    "duration": 38,
    "start_time": "2022-03-20T14:23:38.087Z"
   },
   {
    "duration": 21,
    "start_time": "2022-03-20T14:23:38.128Z"
   },
   {
    "duration": 5,
    "start_time": "2022-03-20T14:23:38.174Z"
   },
   {
    "duration": 33,
    "start_time": "2022-03-20T14:23:38.182Z"
   },
   {
    "duration": 27,
    "start_time": "2022-03-20T14:23:38.217Z"
   },
   {
    "duration": 24,
    "start_time": "2022-03-20T14:23:38.273Z"
   },
   {
    "duration": 26,
    "start_time": "2022-03-20T14:23:38.299Z"
   },
   {
    "duration": 21,
    "start_time": "2022-03-20T14:23:38.330Z"
   },
   {
    "duration": 34,
    "start_time": "2022-03-20T14:23:38.355Z"
   },
   {
    "duration": 9,
    "start_time": "2022-03-20T14:23:38.391Z"
   },
   {
    "duration": 32,
    "start_time": "2022-03-20T14:23:38.403Z"
   },
   {
    "duration": 14,
    "start_time": "2022-03-20T14:23:38.437Z"
   },
   {
    "duration": 48,
    "start_time": "2022-03-20T14:23:38.454Z"
   },
   {
    "duration": 21,
    "start_time": "2022-03-20T14:23:38.505Z"
   },
   {
    "duration": 59,
    "start_time": "2022-03-20T14:23:38.528Z"
   },
   {
    "duration": 16,
    "start_time": "2022-03-20T14:23:38.589Z"
   },
   {
    "duration": 726,
    "start_time": "2022-03-20T14:23:38.608Z"
   },
   {
    "duration": 18,
    "start_time": "2022-03-20T14:23:39.337Z"
   },
   {
    "duration": 39,
    "start_time": "2022-03-20T14:23:39.374Z"
   },
   {
    "duration": 2,
    "start_time": "2022-03-20T14:23:39.415Z"
   },
   {
    "duration": 653,
    "start_time": "2022-03-20T14:23:39.420Z"
   },
   {
    "duration": 4,
    "start_time": "2022-03-20T14:23:40.075Z"
   },
   {
    "duration": 15,
    "start_time": "2022-03-20T14:23:40.081Z"
   },
   {
    "duration": 19,
    "start_time": "2022-03-20T14:23:40.098Z"
   },
   {
    "duration": 63,
    "start_time": "2022-03-20T14:23:40.119Z"
   },
   {
    "duration": 1840,
    "start_time": "2022-03-20T14:23:40.186Z"
   },
   {
    "duration": 5,
    "start_time": "2022-03-20T14:25:05.457Z"
   },
   {
    "duration": 1442,
    "start_time": "2022-03-20T14:25:12.042Z"
   },
   {
    "duration": 48,
    "start_time": "2022-03-20T14:25:13.488Z"
   },
   {
    "duration": 49,
    "start_time": "2022-03-20T14:25:13.538Z"
   },
   {
    "duration": 21,
    "start_time": "2022-03-20T14:25:13.592Z"
   },
   {
    "duration": 4,
    "start_time": "2022-03-20T14:25:13.615Z"
   },
   {
    "duration": 59,
    "start_time": "2022-03-20T14:25:13.621Z"
   },
   {
    "duration": 25,
    "start_time": "2022-03-20T14:25:13.682Z"
   },
   {
    "duration": 23,
    "start_time": "2022-03-20T14:25:13.709Z"
   },
   {
    "duration": 40,
    "start_time": "2022-03-20T14:25:13.734Z"
   },
   {
    "duration": 19,
    "start_time": "2022-03-20T14:25:13.778Z"
   },
   {
    "duration": 16,
    "start_time": "2022-03-20T14:25:13.799Z"
   },
   {
    "duration": 5,
    "start_time": "2022-03-20T14:25:13.817Z"
   },
   {
    "duration": 59,
    "start_time": "2022-03-20T14:25:13.824Z"
   },
   {
    "duration": 7,
    "start_time": "2022-03-20T14:25:13.885Z"
   },
   {
    "duration": 27,
    "start_time": "2022-03-20T14:25:13.894Z"
   },
   {
    "duration": 19,
    "start_time": "2022-03-20T14:25:13.923Z"
   },
   {
    "duration": 68,
    "start_time": "2022-03-20T14:25:13.945Z"
   },
   {
    "duration": 18,
    "start_time": "2022-03-20T14:25:14.015Z"
   },
   {
    "duration": 781,
    "start_time": "2022-03-20T14:25:14.035Z"
   },
   {
    "duration": 20,
    "start_time": "2022-03-20T14:25:14.819Z"
   },
   {
    "duration": 63,
    "start_time": "2022-03-20T14:25:14.842Z"
   },
   {
    "duration": 4,
    "start_time": "2022-03-20T14:25:14.907Z"
   },
   {
    "duration": 652,
    "start_time": "2022-03-20T14:25:14.913Z"
   },
   {
    "duration": 3,
    "start_time": "2022-03-20T14:25:15.573Z"
   },
   {
    "duration": 6,
    "start_time": "2022-03-20T14:25:15.578Z"
   },
   {
    "duration": 8,
    "start_time": "2022-03-20T14:25:15.587Z"
   },
   {
    "duration": 10,
    "start_time": "2022-03-20T14:25:15.597Z"
   },
   {
    "duration": 0,
    "start_time": "2022-03-20T14:25:15.609Z"
   },
   {
    "duration": 1383,
    "start_time": "2022-03-20T14:27:19.611Z"
   },
   {
    "duration": 48,
    "start_time": "2022-03-20T14:27:20.997Z"
   },
   {
    "duration": 45,
    "start_time": "2022-03-20T14:27:21.047Z"
   },
   {
    "duration": 22,
    "start_time": "2022-03-20T14:27:21.095Z"
   },
   {
    "duration": 8,
    "start_time": "2022-03-20T14:27:21.119Z"
   },
   {
    "duration": 56,
    "start_time": "2022-03-20T14:27:21.129Z"
   },
   {
    "duration": 25,
    "start_time": "2022-03-20T14:27:21.187Z"
   },
   {
    "duration": 22,
    "start_time": "2022-03-20T14:27:21.214Z"
   },
   {
    "duration": 43,
    "start_time": "2022-03-20T14:27:21.238Z"
   },
   {
    "duration": 20,
    "start_time": "2022-03-20T14:27:21.285Z"
   },
   {
    "duration": 18,
    "start_time": "2022-03-20T14:27:21.308Z"
   },
   {
    "duration": 7,
    "start_time": "2022-03-20T14:27:21.329Z"
   },
   {
    "duration": 29,
    "start_time": "2022-03-20T14:27:21.374Z"
   },
   {
    "duration": 8,
    "start_time": "2022-03-20T14:27:21.405Z"
   },
   {
    "duration": 26,
    "start_time": "2022-03-20T14:27:21.416Z"
   },
   {
    "duration": 19,
    "start_time": "2022-03-20T14:27:21.473Z"
   },
   {
    "duration": 41,
    "start_time": "2022-03-20T14:27:21.495Z"
   },
   {
    "duration": 41,
    "start_time": "2022-03-20T14:27:21.538Z"
   },
   {
    "duration": 723,
    "start_time": "2022-03-20T14:27:21.582Z"
   },
   {
    "duration": 19,
    "start_time": "2022-03-20T14:27:22.308Z"
   },
   {
    "duration": 65,
    "start_time": "2022-03-20T14:27:22.329Z"
   },
   {
    "duration": 3,
    "start_time": "2022-03-20T14:27:22.397Z"
   },
   {
    "duration": 642,
    "start_time": "2022-03-20T14:27:22.403Z"
   },
   {
    "duration": 4,
    "start_time": "2022-03-20T14:27:23.048Z"
   },
   {
    "duration": 22,
    "start_time": "2022-03-20T14:27:23.054Z"
   },
   {
    "duration": 6,
    "start_time": "2022-03-20T14:27:23.078Z"
   },
   {
    "duration": 2034,
    "start_time": "2022-03-20T14:27:23.086Z"
   },
   {
    "duration": 0,
    "start_time": "2022-03-20T14:27:25.123Z"
   },
   {
    "duration": 1492,
    "start_time": "2022-03-20T14:35:29.216Z"
   },
   {
    "duration": 77,
    "start_time": "2022-03-20T14:35:30.710Z"
   },
   {
    "duration": 59,
    "start_time": "2022-03-20T14:35:30.791Z"
   },
   {
    "duration": 49,
    "start_time": "2022-03-20T14:35:30.854Z"
   },
   {
    "duration": 4,
    "start_time": "2022-03-20T14:35:30.906Z"
   },
   {
    "duration": 48,
    "start_time": "2022-03-20T14:35:30.912Z"
   },
   {
    "duration": 46,
    "start_time": "2022-03-20T14:35:30.962Z"
   },
   {
    "duration": 24,
    "start_time": "2022-03-20T14:35:31.010Z"
   },
   {
    "duration": 37,
    "start_time": "2022-03-20T14:35:31.037Z"
   },
   {
    "duration": 22,
    "start_time": "2022-03-20T14:35:31.078Z"
   },
   {
    "duration": 20,
    "start_time": "2022-03-20T14:35:31.102Z"
   },
   {
    "duration": 6,
    "start_time": "2022-03-20T14:35:31.125Z"
   },
   {
    "duration": 71,
    "start_time": "2022-03-20T14:35:31.134Z"
   },
   {
    "duration": 8,
    "start_time": "2022-03-20T14:35:31.208Z"
   },
   {
    "duration": 38,
    "start_time": "2022-03-20T14:35:31.218Z"
   },
   {
    "duration": 34,
    "start_time": "2022-03-20T14:35:31.259Z"
   },
   {
    "duration": 44,
    "start_time": "2022-03-20T14:35:31.296Z"
   },
   {
    "duration": 46,
    "start_time": "2022-03-20T14:35:31.343Z"
   },
   {
    "duration": 798,
    "start_time": "2022-03-20T14:35:31.391Z"
   },
   {
    "duration": 30,
    "start_time": "2022-03-20T14:35:32.192Z"
   },
   {
    "duration": 63,
    "start_time": "2022-03-20T14:35:32.225Z"
   },
   {
    "duration": 686,
    "start_time": "2022-03-20T14:35:32.290Z"
   },
   {
    "duration": 7,
    "start_time": "2022-03-20T14:35:32.979Z"
   },
   {
    "duration": 0,
    "start_time": "2022-03-20T14:35:32.988Z"
   },
   {
    "duration": 1954,
    "start_time": "2022-03-20T14:35:41.403Z"
   },
   {
    "duration": 75,
    "start_time": "2022-03-20T14:35:43.361Z"
   },
   {
    "duration": 72,
    "start_time": "2022-03-20T14:35:43.444Z"
   },
   {
    "duration": 32,
    "start_time": "2022-03-20T14:35:43.519Z"
   },
   {
    "duration": 21,
    "start_time": "2022-03-20T14:35:43.553Z"
   },
   {
    "duration": 31,
    "start_time": "2022-03-20T14:35:43.576Z"
   },
   {
    "duration": 29,
    "start_time": "2022-03-20T14:35:43.609Z"
   },
   {
    "duration": 58,
    "start_time": "2022-03-20T14:35:43.640Z"
   },
   {
    "duration": 12,
    "start_time": "2022-03-20T14:35:43.702Z"
   },
   {
    "duration": 59,
    "start_time": "2022-03-20T14:35:43.716Z"
   },
   {
    "duration": 22,
    "start_time": "2022-03-20T14:35:43.778Z"
   },
   {
    "duration": 7,
    "start_time": "2022-03-20T14:35:43.802Z"
   },
   {
    "duration": 31,
    "start_time": "2022-03-20T14:35:43.811Z"
   },
   {
    "duration": 35,
    "start_time": "2022-03-20T14:35:43.844Z"
   },
   {
    "duration": 37,
    "start_time": "2022-03-20T14:35:43.883Z"
   },
   {
    "duration": 29,
    "start_time": "2022-03-20T14:35:43.922Z"
   },
   {
    "duration": 59,
    "start_time": "2022-03-20T14:35:43.975Z"
   },
   {
    "duration": 38,
    "start_time": "2022-03-20T14:35:44.037Z"
   },
   {
    "duration": 899,
    "start_time": "2022-03-20T14:35:44.078Z"
   },
   {
    "duration": 21,
    "start_time": "2022-03-20T14:35:44.979Z"
   },
   {
    "duration": 52,
    "start_time": "2022-03-20T14:35:45.003Z"
   },
   {
    "duration": 641,
    "start_time": "2022-03-20T14:35:45.074Z"
   },
   {
    "duration": 1804,
    "start_time": "2022-03-20T14:35:45.717Z"
   },
   {
    "duration": 0,
    "start_time": "2022-03-20T14:35:47.524Z"
   },
   {
    "duration": 1493,
    "start_time": "2022-03-20T14:37:59.103Z"
   },
   {
    "duration": 49,
    "start_time": "2022-03-20T14:38:00.599Z"
   },
   {
    "duration": 45,
    "start_time": "2022-03-20T14:38:00.650Z"
   },
   {
    "duration": 22,
    "start_time": "2022-03-20T14:38:00.697Z"
   },
   {
    "duration": 10,
    "start_time": "2022-03-20T14:38:00.722Z"
   },
   {
    "duration": 58,
    "start_time": "2022-03-20T14:38:00.735Z"
   },
   {
    "duration": 38,
    "start_time": "2022-03-20T14:38:00.795Z"
   },
   {
    "duration": 27,
    "start_time": "2022-03-20T14:38:00.835Z"
   },
   {
    "duration": 29,
    "start_time": "2022-03-20T14:38:00.864Z"
   },
   {
    "duration": 38,
    "start_time": "2022-03-20T14:38:00.896Z"
   },
   {
    "duration": 37,
    "start_time": "2022-03-20T14:38:00.937Z"
   },
   {
    "duration": 29,
    "start_time": "2022-03-20T14:38:00.976Z"
   },
   {
    "duration": 50,
    "start_time": "2022-03-20T14:38:01.008Z"
   },
   {
    "duration": 6,
    "start_time": "2022-03-20T14:38:01.062Z"
   },
   {
    "duration": 50,
    "start_time": "2022-03-20T14:38:01.070Z"
   },
   {
    "duration": 44,
    "start_time": "2022-03-20T14:38:01.122Z"
   },
   {
    "duration": 76,
    "start_time": "2022-03-20T14:38:01.169Z"
   },
   {
    "duration": 19,
    "start_time": "2022-03-20T14:38:01.248Z"
   },
   {
    "duration": 725,
    "start_time": "2022-03-20T14:38:01.269Z"
   },
   {
    "duration": 20,
    "start_time": "2022-03-20T14:38:01.996Z"
   },
   {
    "duration": 61,
    "start_time": "2022-03-20T14:38:02.018Z"
   },
   {
    "duration": 639,
    "start_time": "2022-03-20T14:38:02.081Z"
   },
   {
    "duration": 68,
    "start_time": "2022-03-20T14:38:02.723Z"
   },
   {
    "duration": 1725,
    "start_time": "2022-03-20T14:38:02.794Z"
   },
   {
    "duration": 46,
    "start_time": "2022-03-21T02:54:24.361Z"
   },
   {
    "duration": 1255,
    "start_time": "2022-03-21T02:54:30.483Z"
   },
   {
    "duration": 39,
    "start_time": "2022-03-21T02:54:31.740Z"
   },
   {
    "duration": 23,
    "start_time": "2022-03-21T02:54:31.781Z"
   },
   {
    "duration": 16,
    "start_time": "2022-03-21T02:54:31.806Z"
   },
   {
    "duration": 3,
    "start_time": "2022-03-21T02:54:31.824Z"
   },
   {
    "duration": 36,
    "start_time": "2022-03-21T02:54:31.828Z"
   },
   {
    "duration": 16,
    "start_time": "2022-03-21T02:54:31.865Z"
   },
   {
    "duration": 15,
    "start_time": "2022-03-21T02:54:31.883Z"
   },
   {
    "duration": 8,
    "start_time": "2022-03-21T02:54:31.900Z"
   },
   {
    "duration": 13,
    "start_time": "2022-03-21T02:54:31.911Z"
   },
   {
    "duration": 40,
    "start_time": "2022-03-21T02:54:31.926Z"
   },
   {
    "duration": 4,
    "start_time": "2022-03-21T02:54:31.967Z"
   },
   {
    "duration": 20,
    "start_time": "2022-03-21T02:54:31.973Z"
   },
   {
    "duration": 4,
    "start_time": "2022-03-21T02:54:31.994Z"
   },
   {
    "duration": 15,
    "start_time": "2022-03-21T02:54:32.000Z"
   },
   {
    "duration": 14,
    "start_time": "2022-03-21T02:54:32.016Z"
   },
   {
    "duration": 54,
    "start_time": "2022-03-21T02:54:32.031Z"
   },
   {
    "duration": 12,
    "start_time": "2022-03-21T02:54:32.086Z"
   },
   {
    "duration": 399,
    "start_time": "2022-03-21T02:54:32.099Z"
   },
   {
    "duration": 15,
    "start_time": "2022-03-21T02:54:32.499Z"
   },
   {
    "duration": 27,
    "start_time": "2022-03-21T02:54:32.515Z"
   },
   {
    "duration": 352,
    "start_time": "2022-03-21T02:54:32.544Z"
   },
   {
    "duration": 3,
    "start_time": "2022-03-21T02:54:32.898Z"
   },
   {
    "duration": 101,
    "start_time": "2022-03-21T02:54:32.902Z"
   },
   {
    "duration": 5,
    "start_time": "2022-03-21T02:54:54.790Z"
   },
   {
    "duration": 23,
    "start_time": "2022-03-21T02:55:01.403Z"
   },
   {
    "duration": 11,
    "start_time": "2022-03-21T02:55:34.884Z"
   },
   {
    "duration": 25,
    "start_time": "2022-03-21T02:55:40.482Z"
   },
   {
    "duration": 23,
    "start_time": "2022-03-21T02:56:14.635Z"
   },
   {
    "duration": 302,
    "start_time": "2022-03-21T02:56:58.499Z"
   },
   {
    "duration": 1103,
    "start_time": "2022-03-21T02:58:37.182Z"
   },
   {
    "duration": 38,
    "start_time": "2022-03-21T02:58:38.289Z"
   },
   {
    "duration": 22,
    "start_time": "2022-03-21T02:58:38.329Z"
   },
   {
    "duration": 14,
    "start_time": "2022-03-21T02:58:38.364Z"
   },
   {
    "duration": 4,
    "start_time": "2022-03-21T02:58:38.380Z"
   },
   {
    "duration": 22,
    "start_time": "2022-03-21T02:58:38.385Z"
   },
   {
    "duration": 19,
    "start_time": "2022-03-21T02:58:38.408Z"
   },
   {
    "duration": 43,
    "start_time": "2022-03-21T02:58:38.428Z"
   },
   {
    "duration": 8,
    "start_time": "2022-03-21T02:58:38.473Z"
   },
   {
    "duration": 12,
    "start_time": "2022-03-21T02:58:38.482Z"
   },
   {
    "duration": 9,
    "start_time": "2022-03-21T02:58:38.496Z"
   },
   {
    "duration": 3,
    "start_time": "2022-03-21T02:58:38.507Z"
   },
   {
    "duration": 17,
    "start_time": "2022-03-21T02:58:38.512Z"
   },
   {
    "duration": 4,
    "start_time": "2022-03-21T02:58:38.531Z"
   },
   {
    "duration": 13,
    "start_time": "2022-03-21T02:58:38.563Z"
   },
   {
    "duration": 13,
    "start_time": "2022-03-21T02:58:38.578Z"
   },
   {
    "duration": 21,
    "start_time": "2022-03-21T02:58:38.592Z"
   },
   {
    "duration": 10,
    "start_time": "2022-03-21T02:58:38.614Z"
   },
   {
    "duration": 408,
    "start_time": "2022-03-21T02:58:38.625Z"
   },
   {
    "duration": 14,
    "start_time": "2022-03-21T02:58:39.034Z"
   },
   {
    "duration": 25,
    "start_time": "2022-03-21T02:58:39.062Z"
   },
   {
    "duration": 347,
    "start_time": "2022-03-21T02:58:39.088Z"
   },
   {
    "duration": 3,
    "start_time": "2022-03-21T02:58:39.437Z"
   },
   {
    "duration": 33,
    "start_time": "2022-03-21T02:58:39.441Z"
   },
   {
    "duration": 404,
    "start_time": "2022-03-21T02:58:39.476Z"
   },
   {
    "duration": 309,
    "start_time": "2022-03-21T02:59:06.443Z"
   },
   {
    "duration": 325,
    "start_time": "2022-03-21T02:59:10.140Z"
   },
   {
    "duration": 13,
    "start_time": "2022-03-21T03:02:51.022Z"
   },
   {
    "duration": 25,
    "start_time": "2022-03-21T03:03:09.500Z"
   },
   {
    "duration": 23,
    "start_time": "2022-03-21T03:04:12.613Z"
   },
   {
    "duration": 1160,
    "start_time": "2022-03-21T03:04:34.290Z"
   },
   {
    "duration": 37,
    "start_time": "2022-03-21T03:04:35.452Z"
   },
   {
    "duration": 23,
    "start_time": "2022-03-21T03:04:35.491Z"
   },
   {
    "duration": 15,
    "start_time": "2022-03-21T03:04:35.517Z"
   },
   {
    "duration": 3,
    "start_time": "2022-03-21T03:04:35.533Z"
   },
   {
    "duration": 43,
    "start_time": "2022-03-21T03:04:35.538Z"
   },
   {
    "duration": 21,
    "start_time": "2022-03-21T03:04:35.583Z"
   },
   {
    "duration": 15,
    "start_time": "2022-03-21T03:04:35.605Z"
   },
   {
    "duration": 12,
    "start_time": "2022-03-21T03:04:35.621Z"
   },
   {
    "duration": 36,
    "start_time": "2022-03-21T03:04:35.636Z"
   },
   {
    "duration": 10,
    "start_time": "2022-03-21T03:04:35.674Z"
   },
   {
    "duration": 4,
    "start_time": "2022-03-21T03:04:35.686Z"
   },
   {
    "duration": 20,
    "start_time": "2022-03-21T03:04:35.691Z"
   },
   {
    "duration": 5,
    "start_time": "2022-03-21T03:04:35.712Z"
   },
   {
    "duration": 18,
    "start_time": "2022-03-21T03:04:35.718Z"
   },
   {
    "duration": 34,
    "start_time": "2022-03-21T03:04:35.738Z"
   },
   {
    "duration": 22,
    "start_time": "2022-03-21T03:04:35.774Z"
   },
   {
    "duration": 10,
    "start_time": "2022-03-21T03:04:35.798Z"
   },
   {
    "duration": 413,
    "start_time": "2022-03-21T03:04:35.810Z"
   },
   {
    "duration": 14,
    "start_time": "2022-03-21T03:04:36.225Z"
   },
   {
    "duration": 40,
    "start_time": "2022-03-21T03:04:36.241Z"
   },
   {
    "duration": 336,
    "start_time": "2022-03-21T03:04:36.282Z"
   },
   {
    "duration": 3,
    "start_time": "2022-03-21T03:04:36.619Z"
   },
   {
    "duration": 40,
    "start_time": "2022-03-21T03:04:36.624Z"
   },
   {
    "duration": 432,
    "start_time": "2022-03-21T03:04:36.665Z"
   },
   {
    "duration": 28,
    "start_time": "2022-03-21T03:04:53.648Z"
   },
   {
    "duration": 26,
    "start_time": "2022-03-21T03:06:45.280Z"
   },
   {
    "duration": 14,
    "start_time": "2022-03-21T03:07:36.369Z"
   },
   {
    "duration": 21,
    "start_time": "2022-03-21T03:07:43.385Z"
   },
   {
    "duration": 20,
    "start_time": "2022-03-21T03:09:35.241Z"
   },
   {
    "duration": 142,
    "start_time": "2022-03-21T03:12:53.994Z"
   },
   {
    "duration": 21,
    "start_time": "2022-03-21T03:13:00.282Z"
   },
   {
    "duration": 23,
    "start_time": "2022-03-21T03:15:47.499Z"
   },
   {
    "duration": 13,
    "start_time": "2022-03-21T03:19:26.475Z"
   },
   {
    "duration": 11,
    "start_time": "2022-03-21T03:20:11.516Z"
   },
   {
    "duration": 3,
    "start_time": "2022-03-21T03:20:29.163Z"
   },
   {
    "duration": 5,
    "start_time": "2022-03-21T03:20:35.411Z"
   },
   {
    "duration": 17,
    "start_time": "2022-03-21T03:21:27.052Z"
   },
   {
    "duration": 15,
    "start_time": "2022-03-21T03:21:36.420Z"
   },
   {
    "duration": 21,
    "start_time": "2022-03-21T03:22:06.364Z"
   },
   {
    "duration": 18,
    "start_time": "2022-03-21T03:22:54.656Z"
   },
   {
    "duration": 50,
    "start_time": "2022-03-21T04:08:18.023Z"
   },
   {
    "duration": 7,
    "start_time": "2022-03-21T04:08:23.380Z"
   },
   {
    "duration": 1184,
    "start_time": "2022-03-21T04:08:29.437Z"
   },
   {
    "duration": 44,
    "start_time": "2022-03-21T04:08:30.623Z"
   },
   {
    "duration": 23,
    "start_time": "2022-03-21T04:08:30.669Z"
   },
   {
    "duration": 14,
    "start_time": "2022-03-21T04:08:30.694Z"
   },
   {
    "duration": 2,
    "start_time": "2022-03-21T04:08:30.710Z"
   },
   {
    "duration": 29,
    "start_time": "2022-03-21T04:08:30.714Z"
   },
   {
    "duration": 18,
    "start_time": "2022-03-21T04:08:30.763Z"
   },
   {
    "duration": 15,
    "start_time": "2022-03-21T04:08:30.782Z"
   },
   {
    "duration": 19,
    "start_time": "2022-03-21T04:08:30.799Z"
   },
   {
    "duration": 13,
    "start_time": "2022-03-21T04:08:30.821Z"
   },
   {
    "duration": 28,
    "start_time": "2022-03-21T04:08:30.835Z"
   },
   {
    "duration": 5,
    "start_time": "2022-03-21T04:08:30.865Z"
   },
   {
    "duration": 23,
    "start_time": "2022-03-21T04:08:30.872Z"
   },
   {
    "duration": 4,
    "start_time": "2022-03-21T04:08:30.897Z"
   },
   {
    "duration": 17,
    "start_time": "2022-03-21T04:08:30.902Z"
   },
   {
    "duration": 15,
    "start_time": "2022-03-21T04:08:30.920Z"
   },
   {
    "duration": 45,
    "start_time": "2022-03-21T04:08:30.937Z"
   },
   {
    "duration": 13,
    "start_time": "2022-03-21T04:08:30.983Z"
   },
   {
    "duration": 406,
    "start_time": "2022-03-21T04:08:30.997Z"
   },
   {
    "duration": 11,
    "start_time": "2022-03-21T04:08:31.404Z"
   },
   {
    "duration": 47,
    "start_time": "2022-03-21T04:08:31.417Z"
   },
   {
    "duration": 225,
    "start_time": "2022-03-21T04:08:31.466Z"
   },
   {
    "duration": 95,
    "start_time": "2022-03-21T04:08:31.693Z"
   },
   {
    "duration": 0,
    "start_time": "2022-03-21T04:08:31.790Z"
   },
   {
    "duration": 0,
    "start_time": "2022-03-21T04:08:31.791Z"
   },
   {
    "duration": 0,
    "start_time": "2022-03-21T04:08:31.792Z"
   },
   {
    "duration": 0,
    "start_time": "2022-03-21T04:08:31.793Z"
   },
   {
    "duration": 15,
    "start_time": "2022-03-21T04:09:29.351Z"
   },
   {
    "duration": 15,
    "start_time": "2022-03-21T04:32:17.499Z"
   },
   {
    "duration": 20,
    "start_time": "2022-03-21T04:32:32.787Z"
   },
   {
    "duration": 21,
    "start_time": "2022-03-21T04:33:36.539Z"
   },
   {
    "duration": 22,
    "start_time": "2022-03-21T04:33:41.531Z"
   },
   {
    "duration": 199,
    "start_time": "2022-03-21T04:33:42.410Z"
   },
   {
    "duration": 1092,
    "start_time": "2022-03-21T04:33:50.463Z"
   },
   {
    "duration": 47,
    "start_time": "2022-03-21T04:33:51.558Z"
   },
   {
    "duration": 23,
    "start_time": "2022-03-21T04:33:51.606Z"
   },
   {
    "duration": 13,
    "start_time": "2022-03-21T04:33:51.631Z"
   },
   {
    "duration": 3,
    "start_time": "2022-03-21T04:33:51.646Z"
   },
   {
    "duration": 28,
    "start_time": "2022-03-21T04:33:51.650Z"
   },
   {
    "duration": 17,
    "start_time": "2022-03-21T04:33:51.680Z"
   },
   {
    "duration": 14,
    "start_time": "2022-03-21T04:33:51.698Z"
   },
   {
    "duration": 10,
    "start_time": "2022-03-21T04:33:51.714Z"
   },
   {
    "duration": 38,
    "start_time": "2022-03-21T04:33:51.727Z"
   },
   {
    "duration": 10,
    "start_time": "2022-03-21T04:33:51.767Z"
   },
   {
    "duration": 4,
    "start_time": "2022-03-21T04:33:51.778Z"
   },
   {
    "duration": 22,
    "start_time": "2022-03-21T04:33:51.784Z"
   },
   {
    "duration": 5,
    "start_time": "2022-03-21T04:33:51.808Z"
   },
   {
    "duration": 17,
    "start_time": "2022-03-21T04:33:51.815Z"
   },
   {
    "duration": 43,
    "start_time": "2022-03-21T04:33:51.833Z"
   },
   {
    "duration": 24,
    "start_time": "2022-03-21T04:33:51.877Z"
   },
   {
    "duration": 10,
    "start_time": "2022-03-21T04:33:51.903Z"
   },
   {
    "duration": 393,
    "start_time": "2022-03-21T04:33:51.915Z"
   },
   {
    "duration": 16,
    "start_time": "2022-03-21T04:33:52.310Z"
   },
   {
    "duration": 3,
    "start_time": "2022-03-21T04:33:52.327Z"
   },
   {
    "duration": 114,
    "start_time": "2022-03-21T04:33:52.331Z"
   },
   {
    "duration": 0,
    "start_time": "2022-03-21T04:33:52.447Z"
   },
   {
    "duration": 0,
    "start_time": "2022-03-21T04:33:52.448Z"
   },
   {
    "duration": 0,
    "start_time": "2022-03-21T04:33:52.449Z"
   },
   {
    "duration": 0,
    "start_time": "2022-03-21T04:33:52.450Z"
   },
   {
    "duration": 0,
    "start_time": "2022-03-21T04:33:52.462Z"
   },
   {
    "duration": 19,
    "start_time": "2022-03-21T04:34:31.884Z"
   },
   {
    "duration": 277,
    "start_time": "2022-03-21T04:34:34.213Z"
   },
   {
    "duration": 315,
    "start_time": "2022-03-21T04:34:44.188Z"
   },
   {
    "duration": 1051,
    "start_time": "2022-03-21T04:34:50.810Z"
   },
   {
    "duration": 36,
    "start_time": "2022-03-21T04:34:51.863Z"
   },
   {
    "duration": 22,
    "start_time": "2022-03-21T04:34:51.901Z"
   },
   {
    "duration": 14,
    "start_time": "2022-03-21T04:34:51.925Z"
   },
   {
    "duration": 3,
    "start_time": "2022-03-21T04:34:51.940Z"
   },
   {
    "duration": 21,
    "start_time": "2022-03-21T04:34:51.963Z"
   },
   {
    "duration": 18,
    "start_time": "2022-03-21T04:34:51.985Z"
   },
   {
    "duration": 14,
    "start_time": "2022-03-21T04:34:52.004Z"
   },
   {
    "duration": 9,
    "start_time": "2022-03-21T04:34:52.020Z"
   },
   {
    "duration": 34,
    "start_time": "2022-03-21T04:34:52.031Z"
   },
   {
    "duration": 10,
    "start_time": "2022-03-21T04:34:52.067Z"
   },
   {
    "duration": 6,
    "start_time": "2022-03-21T04:34:52.079Z"
   },
   {
    "duration": 22,
    "start_time": "2022-03-21T04:34:52.086Z"
   },
   {
    "duration": 5,
    "start_time": "2022-03-21T04:34:52.109Z"
   },
   {
    "duration": 19,
    "start_time": "2022-03-21T04:34:52.115Z"
   },
   {
    "duration": 34,
    "start_time": "2022-03-21T04:34:52.136Z"
   },
   {
    "duration": 22,
    "start_time": "2022-03-21T04:34:52.172Z"
   },
   {
    "duration": 11,
    "start_time": "2022-03-21T04:34:52.196Z"
   },
   {
    "duration": 395,
    "start_time": "2022-03-21T04:34:52.209Z"
   },
   {
    "duration": 19,
    "start_time": "2022-03-21T04:34:52.605Z"
   },
   {
    "duration": 330,
    "start_time": "2022-03-21T04:34:52.625Z"
   },
   {
    "duration": 7,
    "start_time": "2022-03-21T04:34:52.956Z"
   },
   {
    "duration": 6,
    "start_time": "2022-03-21T04:34:52.964Z"
   },
   {
    "duration": 5,
    "start_time": "2022-03-21T04:34:52.971Z"
   },
   {
    "duration": 18,
    "start_time": "2022-03-21T04:34:52.977Z"
   },
   {
    "duration": 108,
    "start_time": "2022-03-21T04:34:52.996Z"
   },
   {
    "duration": 20,
    "start_time": "2022-03-21T04:35:17.634Z"
   },
   {
    "duration": 32,
    "start_time": "2022-03-21T04:35:49.738Z"
   },
   {
    "duration": 209,
    "start_time": "2022-03-21T04:35:52.450Z"
   },
   {
    "duration": 202,
    "start_time": "2022-03-21T04:36:10.611Z"
   },
   {
    "duration": 200,
    "start_time": "2022-03-21T04:36:51.730Z"
   },
   {
    "duration": 319,
    "start_time": "2022-03-21T04:51:51.733Z"
   },
   {
    "duration": 8,
    "start_time": "2022-03-21T05:43:45.523Z"
   },
   {
    "duration": 11,
    "start_time": "2022-03-21T05:46:20.027Z"
   },
   {
    "duration": 535,
    "start_time": "2022-03-21T05:47:10.749Z"
   },
   {
    "duration": 7,
    "start_time": "2022-03-21T05:47:34.510Z"
   },
   {
    "duration": 332,
    "start_time": "2022-03-21T05:47:35.700Z"
   },
   {
    "duration": 8,
    "start_time": "2022-03-21T05:48:22.853Z"
   },
   {
    "duration": 256,
    "start_time": "2022-03-21T05:48:23.756Z"
   },
   {
    "duration": 8,
    "start_time": "2022-03-21T05:48:59.812Z"
   },
   {
    "duration": 255,
    "start_time": "2022-03-21T05:49:00.636Z"
   },
   {
    "duration": 7,
    "start_time": "2022-03-21T05:49:10.812Z"
   },
   {
    "duration": 257,
    "start_time": "2022-03-21T05:49:11.725Z"
   },
   {
    "duration": 7,
    "start_time": "2022-03-21T05:49:22.476Z"
   },
   {
    "duration": 265,
    "start_time": "2022-03-21T05:49:24.300Z"
   },
   {
    "duration": 8,
    "start_time": "2022-03-21T05:49:45.636Z"
   },
   {
    "duration": 427,
    "start_time": "2022-03-21T05:49:46.741Z"
   },
   {
    "duration": 7,
    "start_time": "2022-03-21T05:50:03.853Z"
   },
   {
    "duration": 263,
    "start_time": "2022-03-21T05:50:04.973Z"
   },
   {
    "duration": 131,
    "start_time": "2022-03-21T07:39:47.661Z"
   },
   {
    "duration": 32,
    "start_time": "2022-03-21T07:40:40.466Z"
   },
   {
    "duration": 135,
    "start_time": "2022-03-21T07:40:51.308Z"
   },
   {
    "duration": 219,
    "start_time": "2022-03-21T07:40:54.450Z"
   },
   {
    "duration": 140,
    "start_time": "2022-03-21T07:44:47.416Z"
   },
   {
    "duration": 131,
    "start_time": "2022-03-21T07:45:15.387Z"
   },
   {
    "duration": 144,
    "start_time": "2022-03-21T07:46:03.996Z"
   },
   {
    "duration": 136,
    "start_time": "2022-03-21T07:47:13.445Z"
   },
   {
    "duration": 22,
    "start_time": "2022-03-21T07:47:43.261Z"
   },
   {
    "duration": 21,
    "start_time": "2022-03-21T07:47:59.829Z"
   },
   {
    "duration": 21,
    "start_time": "2022-03-21T07:49:14.597Z"
   },
   {
    "duration": 177,
    "start_time": "2022-03-21T07:49:24.433Z"
   },
   {
    "duration": 166,
    "start_time": "2022-03-21T07:49:34.318Z"
   },
   {
    "duration": 170,
    "start_time": "2022-03-21T07:50:18.005Z"
   },
   {
    "duration": 118,
    "start_time": "2022-03-21T07:53:59.246Z"
   },
   {
    "duration": 121,
    "start_time": "2022-03-21T07:54:06.911Z"
   },
   {
    "duration": 180,
    "start_time": "2022-03-21T07:54:21.111Z"
   },
   {
    "duration": 186,
    "start_time": "2022-03-21T07:54:30.294Z"
   },
   {
    "duration": 296,
    "start_time": "2022-03-21T07:55:24.295Z"
   },
   {
    "duration": 194,
    "start_time": "2022-03-21T07:58:42.200Z"
   },
   {
    "duration": 9,
    "start_time": "2022-03-21T08:02:53.162Z"
   },
   {
    "duration": 7,
    "start_time": "2022-03-21T08:06:24.576Z"
   },
   {
    "duration": 122,
    "start_time": "2022-03-21T08:07:05.746Z"
   },
   {
    "duration": 229,
    "start_time": "2022-03-21T08:24:57.583Z"
   },
   {
    "duration": 156,
    "start_time": "2022-03-21T08:25:09.295Z"
   },
   {
    "duration": 190,
    "start_time": "2022-03-21T08:25:16.903Z"
   },
   {
    "duration": 769,
    "start_time": "2022-03-21T08:25:27.671Z"
   },
   {
    "duration": 721,
    "start_time": "2022-03-21T08:26:50.603Z"
   },
   {
    "duration": 1251,
    "start_time": "2022-03-21T08:27:47.637Z"
   },
   {
    "duration": 39,
    "start_time": "2022-03-21T08:27:48.890Z"
   },
   {
    "duration": 23,
    "start_time": "2022-03-21T08:27:48.930Z"
   },
   {
    "duration": 15,
    "start_time": "2022-03-21T08:27:48.964Z"
   },
   {
    "duration": 3,
    "start_time": "2022-03-21T08:27:48.980Z"
   },
   {
    "duration": 21,
    "start_time": "2022-03-21T08:27:48.985Z"
   },
   {
    "duration": 18,
    "start_time": "2022-03-21T08:27:49.008Z"
   },
   {
    "duration": 40,
    "start_time": "2022-03-21T08:27:49.028Z"
   },
   {
    "duration": 14,
    "start_time": "2022-03-21T08:27:49.069Z"
   },
   {
    "duration": 14,
    "start_time": "2022-03-21T08:27:49.086Z"
   },
   {
    "duration": 13,
    "start_time": "2022-03-21T08:27:49.101Z"
   },
   {
    "duration": 4,
    "start_time": "2022-03-21T08:27:49.115Z"
   },
   {
    "duration": 47,
    "start_time": "2022-03-21T08:27:49.120Z"
   },
   {
    "duration": 5,
    "start_time": "2022-03-21T08:27:49.169Z"
   },
   {
    "duration": 15,
    "start_time": "2022-03-21T08:27:49.175Z"
   },
   {
    "duration": 15,
    "start_time": "2022-03-21T08:27:49.192Z"
   },
   {
    "duration": 24,
    "start_time": "2022-03-21T08:27:49.209Z"
   },
   {
    "duration": 37,
    "start_time": "2022-03-21T08:27:49.235Z"
   },
   {
    "duration": 432,
    "start_time": "2022-03-21T08:27:49.273Z"
   },
   {
    "duration": 21,
    "start_time": "2022-03-21T08:27:49.707Z"
   },
   {
    "duration": 357,
    "start_time": "2022-03-21T08:27:49.730Z"
   },
   {
    "duration": 35,
    "start_time": "2022-03-21T08:27:50.089Z"
   },
   {
    "duration": 277,
    "start_time": "2022-03-21T08:27:50.126Z"
   },
   {
    "duration": 9,
    "start_time": "2022-03-21T08:27:50.406Z"
   },
   {
    "duration": 373,
    "start_time": "2022-03-21T08:27:50.417Z"
   },
   {
    "duration": 222,
    "start_time": "2022-03-21T08:27:50.792Z"
   },
   {
    "duration": 7,
    "start_time": "2022-03-21T08:27:51.016Z"
   },
   {
    "duration": 140,
    "start_time": "2022-03-21T08:27:51.025Z"
   },
   {
    "duration": 860,
    "start_time": "2022-03-21T08:27:51.167Z"
   },
   {
    "duration": 25,
    "start_time": "2022-03-21T08:34:46.169Z"
   },
   {
    "duration": 1213,
    "start_time": "2022-03-21T08:35:19.261Z"
   },
   {
    "duration": 39,
    "start_time": "2022-03-21T08:35:20.476Z"
   },
   {
    "duration": 24,
    "start_time": "2022-03-21T08:35:20.516Z"
   },
   {
    "duration": 29,
    "start_time": "2022-03-21T08:35:20.542Z"
   },
   {
    "duration": 4,
    "start_time": "2022-03-21T08:35:20.573Z"
   },
   {
    "duration": 23,
    "start_time": "2022-03-21T08:35:20.579Z"
   },
   {
    "duration": 18,
    "start_time": "2022-03-21T08:35:20.605Z"
   },
   {
    "duration": 46,
    "start_time": "2022-03-21T08:35:20.625Z"
   },
   {
    "duration": 12,
    "start_time": "2022-03-21T08:35:20.673Z"
   },
   {
    "duration": 15,
    "start_time": "2022-03-21T08:35:20.688Z"
   },
   {
    "duration": 125,
    "start_time": "2022-03-21T08:35:20.705Z"
   },
   {
    "duration": 0,
    "start_time": "2022-03-21T08:35:20.832Z"
   },
   {
    "duration": 0,
    "start_time": "2022-03-21T08:35:20.834Z"
   },
   {
    "duration": 0,
    "start_time": "2022-03-21T08:35:20.835Z"
   },
   {
    "duration": 0,
    "start_time": "2022-03-21T08:35:20.836Z"
   },
   {
    "duration": 0,
    "start_time": "2022-03-21T08:35:20.838Z"
   },
   {
    "duration": 0,
    "start_time": "2022-03-21T08:35:20.839Z"
   },
   {
    "duration": 0,
    "start_time": "2022-03-21T08:35:20.840Z"
   },
   {
    "duration": 0,
    "start_time": "2022-03-21T08:35:20.842Z"
   },
   {
    "duration": 0,
    "start_time": "2022-03-21T08:35:20.863Z"
   },
   {
    "duration": 0,
    "start_time": "2022-03-21T08:35:20.864Z"
   },
   {
    "duration": 0,
    "start_time": "2022-03-21T08:35:20.866Z"
   },
   {
    "duration": 0,
    "start_time": "2022-03-21T08:35:20.867Z"
   },
   {
    "duration": 0,
    "start_time": "2022-03-21T08:35:20.869Z"
   },
   {
    "duration": 0,
    "start_time": "2022-03-21T08:35:20.870Z"
   },
   {
    "duration": 0,
    "start_time": "2022-03-21T08:35:20.874Z"
   },
   {
    "duration": 0,
    "start_time": "2022-03-21T08:35:20.876Z"
   },
   {
    "duration": 0,
    "start_time": "2022-03-21T08:35:20.877Z"
   },
   {
    "duration": 0,
    "start_time": "2022-03-21T08:35:20.879Z"
   },
   {
    "duration": 20,
    "start_time": "2022-03-21T08:35:48.125Z"
   },
   {
    "duration": 11,
    "start_time": "2022-03-21T08:42:14.971Z"
   },
   {
    "duration": 1213,
    "start_time": "2022-03-21T08:42:21.450Z"
   },
   {
    "duration": 38,
    "start_time": "2022-03-21T08:42:22.665Z"
   },
   {
    "duration": 23,
    "start_time": "2022-03-21T08:42:22.704Z"
   },
   {
    "duration": 13,
    "start_time": "2022-03-21T08:42:22.729Z"
   },
   {
    "duration": 19,
    "start_time": "2022-03-21T08:42:22.744Z"
   },
   {
    "duration": 19,
    "start_time": "2022-03-21T08:42:22.764Z"
   },
   {
    "duration": 21,
    "start_time": "2022-03-21T08:42:22.784Z"
   },
   {
    "duration": 14,
    "start_time": "2022-03-21T08:42:22.807Z"
   },
   {
    "duration": 10,
    "start_time": "2022-03-21T08:42:22.823Z"
   },
   {
    "duration": 37,
    "start_time": "2022-03-21T08:42:22.835Z"
   },
   {
    "duration": 13,
    "start_time": "2022-03-21T08:42:22.873Z"
   },
   {
    "duration": 7,
    "start_time": "2022-03-21T08:42:22.887Z"
   },
   {
    "duration": 37,
    "start_time": "2022-03-21T08:42:22.896Z"
   },
   {
    "duration": 17,
    "start_time": "2022-03-21T08:42:22.935Z"
   },
   {
    "duration": 17,
    "start_time": "2022-03-21T08:42:22.954Z"
   },
   {
    "duration": 15,
    "start_time": "2022-03-21T08:42:22.973Z"
   },
   {
    "duration": 25,
    "start_time": "2022-03-21T08:42:22.990Z"
   },
   {
    "duration": 11,
    "start_time": "2022-03-21T08:42:23.017Z"
   },
   {
    "duration": 415,
    "start_time": "2022-03-21T08:42:23.030Z"
   },
   {
    "duration": 26,
    "start_time": "2022-03-21T08:42:23.447Z"
   },
   {
    "duration": 328,
    "start_time": "2022-03-21T08:42:23.474Z"
   },
   {
    "duration": 32,
    "start_time": "2022-03-21T08:42:23.804Z"
   },
   {
    "duration": 242,
    "start_time": "2022-03-21T08:42:23.837Z"
   },
   {
    "duration": 7,
    "start_time": "2022-03-21T08:42:24.081Z"
   },
   {
    "duration": 263,
    "start_time": "2022-03-21T08:42:24.090Z"
   },
   {
    "duration": 190,
    "start_time": "2022-03-21T08:42:24.363Z"
   },
   {
    "duration": 6,
    "start_time": "2022-03-21T08:42:24.562Z"
   },
   {
    "duration": 136,
    "start_time": "2022-03-21T08:42:24.571Z"
   },
   {
    "duration": 6,
    "start_time": "2022-03-21T08:42:24.708Z"
   },
   {
    "duration": 131,
    "start_time": "2022-03-21T08:42:49.375Z"
   },
   {
    "duration": 3,
    "start_time": "2022-03-21T09:04:32.005Z"
   },
   {
    "duration": 91,
    "start_time": "2022-03-21T09:09:17.759Z"
   },
   {
    "duration": 7,
    "start_time": "2022-03-21T09:09:23.319Z"
   },
   {
    "duration": 8,
    "start_time": "2022-03-21T09:09:48.318Z"
   },
   {
    "duration": 16,
    "start_time": "2022-03-21T09:13:49.778Z"
   },
   {
    "duration": 5,
    "start_time": "2022-03-21T09:14:35.592Z"
   },
   {
    "duration": 18,
    "start_time": "2022-03-21T09:14:39.744Z"
   },
   {
    "duration": 17,
    "start_time": "2022-03-21T09:14:47.944Z"
   },
   {
    "duration": 12,
    "start_time": "2022-03-21T09:15:01.785Z"
   },
   {
    "duration": 11,
    "start_time": "2022-03-21T09:15:05.585Z"
   },
   {
    "duration": 9,
    "start_time": "2022-03-21T09:15:08.504Z"
   },
   {
    "duration": 8,
    "start_time": "2022-03-21T09:16:45.833Z"
   },
   {
    "duration": 8,
    "start_time": "2022-03-21T09:16:53.121Z"
   },
   {
    "duration": 7,
    "start_time": "2022-03-21T09:17:28.657Z"
   },
   {
    "duration": 15,
    "start_time": "2022-03-21T09:17:32.841Z"
   },
   {
    "duration": 248,
    "start_time": "2022-03-21T09:17:44.921Z"
   },
   {
    "duration": 8,
    "start_time": "2022-03-21T09:18:49.930Z"
   },
   {
    "duration": 10,
    "start_time": "2022-03-21T09:19:40.822Z"
   },
   {
    "duration": 9,
    "start_time": "2022-03-21T09:19:45.353Z"
   },
   {
    "duration": 9,
    "start_time": "2022-03-21T09:20:03.924Z"
   },
   {
    "duration": 1348,
    "start_time": "2022-03-21T09:20:25.541Z"
   },
   {
    "duration": 38,
    "start_time": "2022-03-21T09:20:26.892Z"
   },
   {
    "duration": 33,
    "start_time": "2022-03-21T09:20:26.932Z"
   },
   {
    "duration": 14,
    "start_time": "2022-03-21T09:20:26.968Z"
   },
   {
    "duration": 3,
    "start_time": "2022-03-21T09:20:26.984Z"
   },
   {
    "duration": 23,
    "start_time": "2022-03-21T09:20:26.988Z"
   },
   {
    "duration": 22,
    "start_time": "2022-03-21T09:20:27.013Z"
   },
   {
    "duration": 38,
    "start_time": "2022-03-21T09:20:27.037Z"
   },
   {
    "duration": 8,
    "start_time": "2022-03-21T09:20:27.077Z"
   },
   {
    "duration": 12,
    "start_time": "2022-03-21T09:20:27.088Z"
   },
   {
    "duration": 9,
    "start_time": "2022-03-21T09:20:27.102Z"
   },
   {
    "duration": 4,
    "start_time": "2022-03-21T09:20:27.113Z"
   },
   {
    "duration": 53,
    "start_time": "2022-03-21T09:20:27.119Z"
   },
   {
    "duration": 4,
    "start_time": "2022-03-21T09:20:27.174Z"
   },
   {
    "duration": 17,
    "start_time": "2022-03-21T09:20:27.180Z"
   },
   {
    "duration": 15,
    "start_time": "2022-03-21T09:20:27.199Z"
   },
   {
    "duration": 24,
    "start_time": "2022-03-21T09:20:27.215Z"
   },
   {
    "duration": 12,
    "start_time": "2022-03-21T09:20:27.262Z"
   },
   {
    "duration": 446,
    "start_time": "2022-03-21T09:20:27.276Z"
   },
   {
    "duration": 20,
    "start_time": "2022-03-21T09:20:27.724Z"
   },
   {
    "duration": 403,
    "start_time": "2022-03-21T09:20:27.745Z"
   },
   {
    "duration": 40,
    "start_time": "2022-03-21T09:20:28.149Z"
   },
   {
    "duration": 240,
    "start_time": "2022-03-21T09:20:28.191Z"
   },
   {
    "duration": 8,
    "start_time": "2022-03-21T09:20:28.433Z"
   },
   {
    "duration": 277,
    "start_time": "2022-03-21T09:20:28.443Z"
   },
   {
    "duration": 315,
    "start_time": "2022-03-21T09:20:28.722Z"
   },
   {
    "duration": 7,
    "start_time": "2022-03-21T09:20:29.038Z"
   },
   {
    "duration": 135,
    "start_time": "2022-03-21T09:20:29.048Z"
   },
   {
    "duration": 7,
    "start_time": "2022-03-21T09:20:29.185Z"
   },
   {
    "duration": 145,
    "start_time": "2022-03-21T09:20:29.194Z"
   },
   {
    "duration": 8,
    "start_time": "2022-03-21T09:20:29.341Z"
   },
   {
    "duration": 246,
    "start_time": "2022-03-21T09:20:29.363Z"
   },
   {
    "duration": 102,
    "start_time": "2022-03-21T09:29:29.145Z"
   },
   {
    "duration": 11,
    "start_time": "2022-03-21T09:30:10.137Z"
   },
   {
    "duration": 225,
    "start_time": "2022-03-21T09:30:13.905Z"
   },
   {
    "duration": 156,
    "start_time": "2022-03-21T09:34:23.002Z"
   },
   {
    "duration": 223,
    "start_time": "2022-03-21T09:34:40.562Z"
   },
   {
    "duration": 237,
    "start_time": "2022-03-21T09:36:02.154Z"
   },
   {
    "duration": 1481,
    "start_time": "2022-03-21T15:10:40.778Z"
   },
   {
    "duration": 53,
    "start_time": "2022-03-21T15:10:42.261Z"
   },
   {
    "duration": 28,
    "start_time": "2022-03-21T15:10:42.315Z"
   },
   {
    "duration": 17,
    "start_time": "2022-03-21T15:10:42.345Z"
   },
   {
    "duration": 6,
    "start_time": "2022-03-21T15:10:42.363Z"
   },
   {
    "duration": 44,
    "start_time": "2022-03-21T15:10:42.371Z"
   },
   {
    "duration": 33,
    "start_time": "2022-03-21T15:10:42.417Z"
   },
   {
    "duration": 21,
    "start_time": "2022-03-21T15:10:42.451Z"
   },
   {
    "duration": 10,
    "start_time": "2022-03-21T15:10:42.473Z"
   },
   {
    "duration": 15,
    "start_time": "2022-03-21T15:10:42.501Z"
   },
   {
    "duration": 12,
    "start_time": "2022-03-21T15:10:42.517Z"
   },
   {
    "duration": 18,
    "start_time": "2022-03-21T15:10:42.531Z"
   },
   {
    "duration": 38,
    "start_time": "2022-03-21T15:10:42.551Z"
   },
   {
    "duration": 19,
    "start_time": "2022-03-21T15:10:42.591Z"
   },
   {
    "duration": 35,
    "start_time": "2022-03-21T15:10:42.611Z"
   },
   {
    "duration": 49,
    "start_time": "2022-03-21T15:10:42.647Z"
   },
   {
    "duration": 46,
    "start_time": "2022-03-21T15:10:42.698Z"
   },
   {
    "duration": 15,
    "start_time": "2022-03-21T15:10:42.746Z"
   },
   {
    "duration": 446,
    "start_time": "2022-03-21T15:10:42.763Z"
   },
   {
    "duration": 21,
    "start_time": "2022-03-21T15:10:43.211Z"
   },
   {
    "duration": 384,
    "start_time": "2022-03-21T15:10:43.233Z"
   },
   {
    "duration": 38,
    "start_time": "2022-03-21T15:10:43.619Z"
   },
   {
    "duration": 294,
    "start_time": "2022-03-21T15:10:43.660Z"
   },
   {
    "duration": 8,
    "start_time": "2022-03-21T15:10:43.956Z"
   },
   {
    "duration": 322,
    "start_time": "2022-03-21T15:10:43.966Z"
   },
   {
    "duration": 238,
    "start_time": "2022-03-21T15:10:44.290Z"
   },
   {
    "duration": 7,
    "start_time": "2022-03-21T15:10:44.530Z"
   },
   {
    "duration": 166,
    "start_time": "2022-03-21T15:10:44.541Z"
   },
   {
    "duration": 7,
    "start_time": "2022-03-21T15:10:44.708Z"
   },
   {
    "duration": 162,
    "start_time": "2022-03-21T15:10:44.717Z"
   },
   {
    "duration": 21,
    "start_time": "2022-03-21T15:10:44.882Z"
   },
   {
    "duration": 367,
    "start_time": "2022-03-21T15:10:44.906Z"
   },
   {
    "duration": 2943,
    "start_time": "2022-03-21T15:12:41.756Z"
   },
   {
    "duration": 4,
    "start_time": "2022-03-21T15:13:21.092Z"
   },
   {
    "duration": 7,
    "start_time": "2022-03-21T15:13:30.067Z"
   },
   {
    "duration": 9,
    "start_time": "2022-03-21T15:14:00.443Z"
   },
   {
    "duration": 1634,
    "start_time": "2022-03-21T15:15:02.627Z"
   },
   {
    "duration": 1575,
    "start_time": "2022-03-21T15:15:15.227Z"
   },
   {
    "duration": 26,
    "start_time": "2022-03-21T15:15:41.610Z"
   },
   {
    "duration": 10,
    "start_time": "2022-03-21T15:18:40.218Z"
   },
   {
    "duration": 10,
    "start_time": "2022-03-21T15:19:04.750Z"
   },
   {
    "duration": 9,
    "start_time": "2022-03-21T15:21:14.781Z"
   },
   {
    "duration": 242,
    "start_time": "2022-03-21T15:30:01.885Z"
   },
   {
    "duration": 14,
    "start_time": "2022-03-21T15:30:07.070Z"
   },
   {
    "duration": 26,
    "start_time": "2022-03-21T15:30:12.349Z"
   },
   {
    "duration": 17,
    "start_time": "2022-03-21T15:30:25.255Z"
   },
   {
    "duration": 31,
    "start_time": "2022-03-21T15:30:27.997Z"
   },
   {
    "duration": 11,
    "start_time": "2022-03-21T15:31:21.669Z"
   },
   {
    "duration": 18,
    "start_time": "2022-03-21T15:31:27.036Z"
   },
   {
    "duration": 20,
    "start_time": "2022-03-21T15:31:49.668Z"
   },
   {
    "duration": 171,
    "start_time": "2022-03-21T15:32:39.556Z"
   },
   {
    "duration": 21,
    "start_time": "2022-03-21T15:32:50.723Z"
   },
   {
    "duration": 205,
    "start_time": "2022-03-21T15:34:34.714Z"
   },
   {
    "duration": 25,
    "start_time": "2022-03-21T15:37:02.658Z"
   },
   {
    "duration": 210,
    "start_time": "2022-03-21T15:37:25.752Z"
   },
   {
    "duration": 224,
    "start_time": "2022-03-21T15:38:46.111Z"
   },
   {
    "duration": 214,
    "start_time": "2022-03-21T15:39:42.847Z"
   },
   {
    "duration": 12,
    "start_time": "2022-03-21T15:57:33.121Z"
   },
   {
    "duration": 235,
    "start_time": "2022-03-21T15:57:50.024Z"
   },
   {
    "duration": 19,
    "start_time": "2022-03-21T15:58:01.768Z"
   },
   {
    "duration": 244,
    "start_time": "2022-03-21T15:58:03.489Z"
   },
   {
    "duration": 237,
    "start_time": "2022-03-21T16:00:34.502Z"
   },
   {
    "duration": 233,
    "start_time": "2022-03-21T16:00:44.638Z"
   },
   {
    "duration": 19,
    "start_time": "2022-03-21T16:01:41.861Z"
   },
   {
    "duration": 212,
    "start_time": "2022-03-21T16:01:44.075Z"
   },
   {
    "duration": 18,
    "start_time": "2022-03-21T16:01:57.717Z"
   },
   {
    "duration": 218,
    "start_time": "2022-03-21T16:02:00.094Z"
   },
   {
    "duration": 22,
    "start_time": "2022-03-21T16:06:21.466Z"
   },
   {
    "duration": 20,
    "start_time": "2022-03-21T16:06:40.266Z"
   },
   {
    "duration": 1270,
    "start_time": "2022-03-22T04:31:28.836Z"
   },
   {
    "duration": 39,
    "start_time": "2022-03-22T04:31:30.109Z"
   },
   {
    "duration": 23,
    "start_time": "2022-03-22T04:31:30.150Z"
   },
   {
    "duration": 24,
    "start_time": "2022-03-22T04:31:30.175Z"
   },
   {
    "duration": 4,
    "start_time": "2022-03-22T04:31:30.201Z"
   },
   {
    "duration": 32,
    "start_time": "2022-03-22T04:31:30.207Z"
   },
   {
    "duration": 29,
    "start_time": "2022-03-22T04:31:30.241Z"
   },
   {
    "duration": 15,
    "start_time": "2022-03-22T04:31:30.272Z"
   },
   {
    "duration": 15,
    "start_time": "2022-03-22T04:31:30.289Z"
   },
   {
    "duration": 18,
    "start_time": "2022-03-22T04:31:30.306Z"
   },
   {
    "duration": 10,
    "start_time": "2022-03-22T04:31:30.332Z"
   },
   {
    "duration": 16,
    "start_time": "2022-03-22T04:31:30.344Z"
   },
   {
    "duration": 22,
    "start_time": "2022-03-22T04:31:30.362Z"
   },
   {
    "duration": 5,
    "start_time": "2022-03-22T04:31:30.385Z"
   },
   {
    "duration": 24,
    "start_time": "2022-03-22T04:31:30.392Z"
   },
   {
    "duration": 28,
    "start_time": "2022-03-22T04:31:30.418Z"
   },
   {
    "duration": 29,
    "start_time": "2022-03-22T04:31:30.447Z"
   },
   {
    "duration": 10,
    "start_time": "2022-03-22T04:31:30.478Z"
   },
   {
    "duration": 390,
    "start_time": "2022-03-22T04:31:30.489Z"
   },
   {
    "duration": 19,
    "start_time": "2022-03-22T04:31:30.880Z"
   },
   {
    "duration": 348,
    "start_time": "2022-03-22T04:31:30.901Z"
   },
   {
    "duration": 31,
    "start_time": "2022-03-22T04:31:31.251Z"
   },
   {
    "duration": 233,
    "start_time": "2022-03-22T04:31:31.284Z"
   },
   {
    "duration": 7,
    "start_time": "2022-03-22T04:31:31.519Z"
   },
   {
    "duration": 253,
    "start_time": "2022-03-22T04:31:31.528Z"
   },
   {
    "duration": 196,
    "start_time": "2022-03-22T04:31:31.783Z"
   },
   {
    "duration": 7,
    "start_time": "2022-03-22T04:31:31.980Z"
   },
   {
    "duration": 128,
    "start_time": "2022-03-22T04:31:31.990Z"
   },
   {
    "duration": 15,
    "start_time": "2022-03-22T04:31:32.120Z"
   },
   {
    "duration": 129,
    "start_time": "2022-03-22T04:31:32.137Z"
   },
   {
    "duration": 13,
    "start_time": "2022-03-22T04:31:32.268Z"
   },
   {
    "duration": 297,
    "start_time": "2022-03-22T04:31:32.282Z"
   },
   {
    "duration": 15,
    "start_time": "2022-03-22T04:31:32.581Z"
   },
   {
    "duration": 109,
    "start_time": "2022-03-22T04:31:32.598Z"
   },
   {
    "duration": 0,
    "start_time": "2022-03-22T04:31:32.709Z"
   },
   {
    "duration": 0,
    "start_time": "2022-03-22T04:31:32.711Z"
   },
   {
    "duration": 0,
    "start_time": "2022-03-22T04:31:32.712Z"
   },
   {
    "duration": 0,
    "start_time": "2022-03-22T04:31:32.713Z"
   },
   {
    "duration": 1077,
    "start_time": "2022-03-22T04:31:43.065Z"
   },
   {
    "duration": 36,
    "start_time": "2022-03-22T04:31:44.144Z"
   },
   {
    "duration": 22,
    "start_time": "2022-03-22T04:31:44.182Z"
   },
   {
    "duration": 29,
    "start_time": "2022-03-22T04:31:44.205Z"
   },
   {
    "duration": 3,
    "start_time": "2022-03-22T04:31:44.235Z"
   },
   {
    "duration": 20,
    "start_time": "2022-03-22T04:31:44.240Z"
   },
   {
    "duration": 16,
    "start_time": "2022-03-22T04:31:44.262Z"
   },
   {
    "duration": 15,
    "start_time": "2022-03-22T04:31:44.280Z"
   },
   {
    "duration": 37,
    "start_time": "2022-03-22T04:31:44.296Z"
   },
   {
    "duration": 15,
    "start_time": "2022-03-22T04:31:44.335Z"
   },
   {
    "duration": 11,
    "start_time": "2022-03-22T04:31:44.351Z"
   },
   {
    "duration": 4,
    "start_time": "2022-03-22T04:31:44.363Z"
   },
   {
    "duration": 21,
    "start_time": "2022-03-22T04:31:44.368Z"
   },
   {
    "duration": 4,
    "start_time": "2022-03-22T04:31:44.391Z"
   },
   {
    "duration": 40,
    "start_time": "2022-03-22T04:31:44.397Z"
   },
   {
    "duration": 13,
    "start_time": "2022-03-22T04:31:44.438Z"
   },
   {
    "duration": 22,
    "start_time": "2022-03-22T04:31:44.453Z"
   },
   {
    "duration": 10,
    "start_time": "2022-03-22T04:31:44.477Z"
   },
   {
    "duration": 395,
    "start_time": "2022-03-22T04:31:44.488Z"
   },
   {
    "duration": 17,
    "start_time": "2022-03-22T04:31:44.885Z"
   },
   {
    "duration": 339,
    "start_time": "2022-03-22T04:31:44.904Z"
   },
   {
    "duration": 33,
    "start_time": "2022-03-22T04:31:45.244Z"
   },
   {
    "duration": 242,
    "start_time": "2022-03-22T04:31:45.279Z"
   },
   {
    "duration": 8,
    "start_time": "2022-03-22T04:31:45.523Z"
   },
   {
    "duration": 265,
    "start_time": "2022-03-22T04:31:45.532Z"
   },
   {
    "duration": 198,
    "start_time": "2022-03-22T04:31:45.799Z"
   },
   {
    "duration": 6,
    "start_time": "2022-03-22T04:31:45.999Z"
   },
   {
    "duration": 137,
    "start_time": "2022-03-22T04:31:46.009Z"
   },
   {
    "duration": 6,
    "start_time": "2022-03-22T04:31:46.148Z"
   },
   {
    "duration": 140,
    "start_time": "2022-03-22T04:31:46.156Z"
   },
   {
    "duration": 11,
    "start_time": "2022-03-22T04:31:46.298Z"
   },
   {
    "duration": 296,
    "start_time": "2022-03-22T04:31:46.311Z"
   },
   {
    "duration": 24,
    "start_time": "2022-03-22T04:31:46.609Z"
   },
   {
    "duration": 16,
    "start_time": "2022-03-22T04:31:46.635Z"
   },
   {
    "duration": 199,
    "start_time": "2022-03-22T04:31:46.652Z"
   },
   {
    "duration": 16,
    "start_time": "2022-03-22T04:31:46.853Z"
   },
   {
    "duration": 193,
    "start_time": "2022-03-22T04:31:46.871Z"
   },
   {
    "duration": 123,
    "start_time": "2022-03-22T04:55:03.867Z"
   },
   {
    "duration": 110,
    "start_time": "2022-03-22T04:55:28.959Z"
   },
   {
    "duration": 88,
    "start_time": "2022-03-22T04:55:45.864Z"
   },
   {
    "duration": 11,
    "start_time": "2022-03-22T04:56:17.175Z"
   },
   {
    "duration": 47,
    "start_time": "2022-03-22T04:56:53.015Z"
   },
   {
    "duration": 43,
    "start_time": "2022-03-22T04:57:01.928Z"
   },
   {
    "duration": 48,
    "start_time": "2022-03-22T04:57:07.063Z"
   },
   {
    "duration": 8,
    "start_time": "2022-03-22T04:57:20.887Z"
   },
   {
    "duration": 13,
    "start_time": "2022-03-22T05:00:24.968Z"
   },
   {
    "duration": 9,
    "start_time": "2022-03-22T05:09:57.107Z"
   },
   {
    "duration": 105,
    "start_time": "2022-03-22T05:12:57.012Z"
   },
   {
    "duration": 175,
    "start_time": "2022-03-22T05:25:22.758Z"
   },
   {
    "duration": 10,
    "start_time": "2022-03-22T05:25:48.824Z"
   },
   {
    "duration": 164,
    "start_time": "2022-03-22T05:25:55.846Z"
   },
   {
    "duration": 949,
    "start_time": "2022-03-22T05:35:57.759Z"
   },
   {
    "duration": 930,
    "start_time": "2022-03-22T05:36:25.888Z"
   },
   {
    "duration": 790,
    "start_time": "2022-03-22T05:41:45.801Z"
   },
   {
    "duration": 1133,
    "start_time": "2022-03-22T06:02:38.317Z"
   },
   {
    "duration": 37,
    "start_time": "2022-03-22T06:02:39.452Z"
   },
   {
    "duration": 21,
    "start_time": "2022-03-22T06:02:39.491Z"
   },
   {
    "duration": 26,
    "start_time": "2022-03-22T06:02:39.515Z"
   },
   {
    "duration": 3,
    "start_time": "2022-03-22T06:02:39.543Z"
   },
   {
    "duration": 23,
    "start_time": "2022-03-22T06:02:39.547Z"
   },
   {
    "duration": 23,
    "start_time": "2022-03-22T06:02:39.572Z"
   },
   {
    "duration": 15,
    "start_time": "2022-03-22T06:02:39.597Z"
   },
   {
    "duration": 9,
    "start_time": "2022-03-22T06:02:39.633Z"
   },
   {
    "duration": 14,
    "start_time": "2022-03-22T06:02:39.645Z"
   },
   {
    "duration": 11,
    "start_time": "2022-03-22T06:02:39.660Z"
   },
   {
    "duration": 11,
    "start_time": "2022-03-22T06:02:39.673Z"
   },
   {
    "duration": 22,
    "start_time": "2022-03-22T06:02:39.686Z"
   },
   {
    "duration": 5,
    "start_time": "2022-03-22T06:02:39.732Z"
   },
   {
    "duration": 27,
    "start_time": "2022-03-22T06:02:39.739Z"
   },
   {
    "duration": 23,
    "start_time": "2022-03-22T06:02:39.767Z"
   },
   {
    "duration": 22,
    "start_time": "2022-03-22T06:02:39.792Z"
   },
   {
    "duration": 10,
    "start_time": "2022-03-22T06:02:39.816Z"
   },
   {
    "duration": 424,
    "start_time": "2022-03-22T06:02:39.827Z"
   },
   {
    "duration": 18,
    "start_time": "2022-03-22T06:02:40.253Z"
   },
   {
    "duration": 347,
    "start_time": "2022-03-22T06:02:40.272Z"
   },
   {
    "duration": 31,
    "start_time": "2022-03-22T06:02:40.621Z"
   },
   {
    "duration": 236,
    "start_time": "2022-03-22T06:02:40.653Z"
   },
   {
    "duration": 7,
    "start_time": "2022-03-22T06:02:40.891Z"
   },
   {
    "duration": 263,
    "start_time": "2022-03-22T06:02:40.900Z"
   },
   {
    "duration": 208,
    "start_time": "2022-03-22T06:02:41.164Z"
   },
   {
    "duration": 7,
    "start_time": "2022-03-22T06:02:41.374Z"
   },
   {
    "duration": 952,
    "start_time": "2022-03-22T06:02:41.385Z"
   },
   {
    "duration": 7,
    "start_time": "2022-03-22T06:02:42.339Z"
   },
   {
    "duration": 809,
    "start_time": "2022-03-22T06:02:42.348Z"
   },
   {
    "duration": 11,
    "start_time": "2022-03-22T06:02:43.159Z"
   },
   {
    "duration": 307,
    "start_time": "2022-03-22T06:02:43.172Z"
   },
   {
    "duration": 14,
    "start_time": "2022-03-22T06:02:43.480Z"
   },
   {
    "duration": 27,
    "start_time": "2022-03-22T06:02:43.495Z"
   },
   {
    "duration": 190,
    "start_time": "2022-03-22T06:02:43.532Z"
   },
   {
    "duration": 15,
    "start_time": "2022-03-22T06:02:43.724Z"
   },
   {
    "duration": 191,
    "start_time": "2022-03-22T06:02:43.741Z"
   },
   {
    "duration": 12,
    "start_time": "2022-03-22T06:02:43.934Z"
   },
   {
    "duration": 187,
    "start_time": "2022-03-22T06:02:43.947Z"
   },
   {
    "duration": 183,
    "start_time": "2022-03-22T06:02:44.136Z"
   },
   {
    "duration": 12,
    "start_time": "2022-03-22T06:02:44.321Z"
   },
   {
    "duration": 911,
    "start_time": "2022-03-22T06:02:44.335Z"
   },
   {
    "duration": 799,
    "start_time": "2022-03-22T06:02:45.247Z"
   },
   {
    "duration": 3,
    "start_time": "2022-03-22T06:04:44.282Z"
   },
   {
    "duration": 4109,
    "start_time": "2022-03-22T06:18:15.310Z"
   },
   {
    "duration": 5,
    "start_time": "2022-03-22T06:18:45.263Z"
   },
   {
    "duration": 16,
    "start_time": "2022-03-22T06:18:55.871Z"
   },
   {
    "duration": 18,
    "start_time": "2022-03-22T06:19:49.871Z"
   },
   {
    "duration": 9,
    "start_time": "2022-03-22T06:20:18.887Z"
   },
   {
    "duration": 16,
    "start_time": "2022-03-22T06:20:25.808Z"
   },
   {
    "duration": 27,
    "start_time": "2022-03-22T06:21:56.767Z"
   },
   {
    "duration": 21,
    "start_time": "2022-03-22T06:23:21.130Z"
   },
   {
    "duration": 22,
    "start_time": "2022-03-22T06:23:49.199Z"
   },
   {
    "duration": 22,
    "start_time": "2022-03-22T06:24:24.975Z"
   },
   {
    "duration": 1208,
    "start_time": "2022-03-22T06:24:43.855Z"
   },
   {
    "duration": 44,
    "start_time": "2022-03-22T06:24:45.065Z"
   },
   {
    "duration": 24,
    "start_time": "2022-03-22T06:24:45.110Z"
   },
   {
    "duration": 15,
    "start_time": "2022-03-22T06:24:45.136Z"
   },
   {
    "duration": 9,
    "start_time": "2022-03-22T06:24:45.153Z"
   },
   {
    "duration": 27,
    "start_time": "2022-03-22T06:24:45.163Z"
   },
   {
    "duration": 16,
    "start_time": "2022-03-22T06:24:45.192Z"
   },
   {
    "duration": 34,
    "start_time": "2022-03-22T06:24:45.210Z"
   },
   {
    "duration": 12,
    "start_time": "2022-03-22T06:24:45.245Z"
   },
   {
    "duration": 14,
    "start_time": "2022-03-22T06:24:45.259Z"
   },
   {
    "duration": 13,
    "start_time": "2022-03-22T06:24:45.274Z"
   },
   {
    "duration": 4,
    "start_time": "2022-03-22T06:24:45.289Z"
   },
   {
    "duration": 44,
    "start_time": "2022-03-22T06:24:45.295Z"
   },
   {
    "duration": 5,
    "start_time": "2022-03-22T06:24:45.341Z"
   },
   {
    "duration": 17,
    "start_time": "2022-03-22T06:24:45.347Z"
   },
   {
    "duration": 19,
    "start_time": "2022-03-22T06:24:45.365Z"
   },
   {
    "duration": 25,
    "start_time": "2022-03-22T06:24:45.386Z"
   },
   {
    "duration": 31,
    "start_time": "2022-03-22T06:24:45.412Z"
   },
   {
    "duration": 404,
    "start_time": "2022-03-22T06:24:45.444Z"
   },
   {
    "duration": 19,
    "start_time": "2022-03-22T06:24:45.849Z"
   },
   {
    "duration": 362,
    "start_time": "2022-03-22T06:24:45.870Z"
   },
   {
    "duration": 32,
    "start_time": "2022-03-22T06:24:46.233Z"
   },
   {
    "duration": 242,
    "start_time": "2022-03-22T06:24:46.267Z"
   },
   {
    "duration": 8,
    "start_time": "2022-03-22T06:24:46.511Z"
   },
   {
    "duration": 264,
    "start_time": "2022-03-22T06:24:46.520Z"
   },
   {
    "duration": 207,
    "start_time": "2022-03-22T06:24:46.786Z"
   },
   {
    "duration": 8,
    "start_time": "2022-03-22T06:24:46.995Z"
   },
   {
    "duration": 927,
    "start_time": "2022-03-22T06:24:47.008Z"
   },
   {
    "duration": 8,
    "start_time": "2022-03-22T06:24:47.937Z"
   },
   {
    "duration": 886,
    "start_time": "2022-03-22T06:24:47.946Z"
   },
   {
    "duration": 12,
    "start_time": "2022-03-22T06:24:48.835Z"
   },
   {
    "duration": 326,
    "start_time": "2022-03-22T06:24:48.849Z"
   },
   {
    "duration": 16,
    "start_time": "2022-03-22T06:24:49.177Z"
   },
   {
    "duration": 11,
    "start_time": "2022-03-22T06:24:49.195Z"
   },
   {
    "duration": 47,
    "start_time": "2022-03-22T06:24:49.208Z"
   },
   {
    "duration": 229,
    "start_time": "2022-03-22T06:24:49.259Z"
   },
   {
    "duration": 16,
    "start_time": "2022-03-22T06:24:49.490Z"
   },
   {
    "duration": 212,
    "start_time": "2022-03-22T06:24:49.508Z"
   },
   {
    "duration": 17,
    "start_time": "2022-03-22T06:24:49.722Z"
   },
   {
    "duration": 194,
    "start_time": "2022-03-22T06:24:49.741Z"
   },
   {
    "duration": 191,
    "start_time": "2022-03-22T06:24:49.936Z"
   },
   {
    "duration": 22,
    "start_time": "2022-03-22T06:24:50.128Z"
   },
   {
    "duration": 118,
    "start_time": "2022-03-22T06:24:50.151Z"
   },
   {
    "duration": 189,
    "start_time": "2022-03-22T06:25:51.884Z"
   },
   {
    "duration": 14,
    "start_time": "2022-03-22T06:27:23.275Z"
   },
   {
    "duration": 13,
    "start_time": "2022-03-22T06:27:35.516Z"
   },
   {
    "duration": 15,
    "start_time": "2022-03-22T06:27:45.539Z"
   },
   {
    "duration": 18,
    "start_time": "2022-03-22T08:16:39.307Z"
   },
   {
    "duration": 200,
    "start_time": "2022-03-22T08:18:30.586Z"
   },
   {
    "duration": 202,
    "start_time": "2022-03-22T08:21:14.732Z"
   },
   {
    "duration": 349,
    "start_time": "2022-03-22T08:22:47.426Z"
   },
   {
    "duration": 4,
    "start_time": "2022-03-22T08:25:59.178Z"
   },
   {
    "duration": 3,
    "start_time": "2022-03-22T08:26:05.619Z"
   },
   {
    "duration": 5,
    "start_time": "2022-03-22T08:27:51.131Z"
   },
   {
    "duration": 5613,
    "start_time": "2022-03-22T08:27:55.361Z"
   },
   {
    "duration": 31,
    "start_time": "2022-03-22T08:28:34.819Z"
   },
   {
    "duration": 345,
    "start_time": "2022-03-22T08:29:02.890Z"
   },
   {
    "duration": 342,
    "start_time": "2022-03-22T08:46:19.065Z"
   },
   {
    "duration": 414,
    "start_time": "2022-03-22T08:46:34.261Z"
   },
   {
    "duration": 10,
    "start_time": "2022-03-22T10:01:21.390Z"
   },
   {
    "duration": 5,
    "start_time": "2022-03-23T05:07:52.128Z"
   },
   {
    "duration": 79,
    "start_time": "2022-03-23T05:09:24.525Z"
   },
   {
    "duration": 1808,
    "start_time": "2022-03-23T05:09:32.135Z"
   },
   {
    "duration": 51,
    "start_time": "2022-03-23T05:09:33.946Z"
   },
   {
    "duration": 44,
    "start_time": "2022-03-23T05:09:34.000Z"
   },
   {
    "duration": 21,
    "start_time": "2022-03-23T05:09:34.047Z"
   },
   {
    "duration": 4,
    "start_time": "2022-03-23T05:09:34.071Z"
   },
   {
    "duration": 31,
    "start_time": "2022-03-23T05:09:34.078Z"
   },
   {
    "duration": 55,
    "start_time": "2022-03-23T05:09:34.111Z"
   },
   {
    "duration": 21,
    "start_time": "2022-03-23T05:09:34.168Z"
   },
   {
    "duration": 11,
    "start_time": "2022-03-23T05:09:34.192Z"
   },
   {
    "duration": 46,
    "start_time": "2022-03-23T05:09:34.207Z"
   },
   {
    "duration": 16,
    "start_time": "2022-03-23T05:09:34.256Z"
   },
   {
    "duration": 5,
    "start_time": "2022-03-23T05:09:34.274Z"
   },
   {
    "duration": 26,
    "start_time": "2022-03-23T05:09:34.281Z"
   },
   {
    "duration": 37,
    "start_time": "2022-03-23T05:09:34.309Z"
   },
   {
    "duration": 22,
    "start_time": "2022-03-23T05:09:34.348Z"
   },
   {
    "duration": 20,
    "start_time": "2022-03-23T05:09:34.372Z"
   },
   {
    "duration": 69,
    "start_time": "2022-03-23T05:09:34.394Z"
   },
   {
    "duration": 16,
    "start_time": "2022-03-23T05:09:34.465Z"
   },
   {
    "duration": 691,
    "start_time": "2022-03-23T05:09:34.483Z"
   },
   {
    "duration": 27,
    "start_time": "2022-03-23T05:09:35.176Z"
   },
   {
    "duration": 598,
    "start_time": "2022-03-23T05:09:35.205Z"
   },
   {
    "duration": 59,
    "start_time": "2022-03-23T05:09:35.805Z"
   },
   {
    "duration": 393,
    "start_time": "2022-03-23T05:09:35.866Z"
   },
   {
    "duration": 9,
    "start_time": "2022-03-23T05:09:36.262Z"
   },
   {
    "duration": 429,
    "start_time": "2022-03-23T05:09:36.274Z"
   },
   {
    "duration": 327,
    "start_time": "2022-03-23T05:09:36.705Z"
   },
   {
    "duration": 12,
    "start_time": "2022-03-23T05:09:37.034Z"
   },
   {
    "duration": 1380,
    "start_time": "2022-03-23T05:09:37.051Z"
   },
   {
    "duration": 13,
    "start_time": "2022-03-23T05:09:38.433Z"
   },
   {
    "duration": 1152,
    "start_time": "2022-03-23T05:09:38.448Z"
   },
   {
    "duration": 599,
    "start_time": "2022-03-23T05:09:39.602Z"
   },
   {
    "duration": 16,
    "start_time": "2022-03-23T05:09:40.203Z"
   },
   {
    "duration": 412,
    "start_time": "2022-03-23T05:09:40.222Z"
   },
   {
    "duration": 27,
    "start_time": "2022-03-23T05:09:40.636Z"
   },
   {
    "duration": 23,
    "start_time": "2022-03-23T05:09:40.665Z"
   },
   {
    "duration": 343,
    "start_time": "2022-03-23T05:09:40.690Z"
   },
   {
    "duration": 24,
    "start_time": "2022-03-23T05:09:41.042Z"
   },
   {
    "duration": 334,
    "start_time": "2022-03-23T05:09:41.072Z"
   },
   {
    "duration": 18,
    "start_time": "2022-03-23T05:09:41.408Z"
   },
   {
    "duration": 310,
    "start_time": "2022-03-23T05:09:41.428Z"
   },
   {
    "duration": 316,
    "start_time": "2022-03-23T05:09:41.742Z"
   },
   {
    "duration": 23,
    "start_time": "2022-03-23T05:09:42.061Z"
   },
   {
    "duration": 346,
    "start_time": "2022-03-23T05:09:42.086Z"
   },
   {
    "duration": 174,
    "start_time": "2022-03-23T05:09:42.434Z"
   },
   {
    "duration": 1466,
    "start_time": "2022-03-23T05:10:19.292Z"
   },
   {
    "duration": 54,
    "start_time": "2022-03-23T05:10:20.760Z"
   },
   {
    "duration": 43,
    "start_time": "2022-03-23T05:10:20.816Z"
   },
   {
    "duration": 21,
    "start_time": "2022-03-23T05:10:20.862Z"
   },
   {
    "duration": 4,
    "start_time": "2022-03-23T05:10:20.885Z"
   },
   {
    "duration": 57,
    "start_time": "2022-03-23T05:10:20.892Z"
   },
   {
    "duration": 24,
    "start_time": "2022-03-23T05:10:20.952Z"
   },
   {
    "duration": 71,
    "start_time": "2022-03-23T05:10:20.979Z"
   },
   {
    "duration": 12,
    "start_time": "2022-03-23T05:10:21.052Z"
   },
   {
    "duration": 19,
    "start_time": "2022-03-23T05:10:21.068Z"
   },
   {
    "duration": 17,
    "start_time": "2022-03-23T05:10:21.142Z"
   },
   {
    "duration": 6,
    "start_time": "2022-03-23T05:10:21.161Z"
   },
   {
    "duration": 77,
    "start_time": "2022-03-23T05:10:21.169Z"
   },
   {
    "duration": 7,
    "start_time": "2022-03-23T05:10:21.248Z"
   },
   {
    "duration": 26,
    "start_time": "2022-03-23T05:10:21.257Z"
   },
   {
    "duration": 72,
    "start_time": "2022-03-23T05:10:21.285Z"
   },
   {
    "duration": 89,
    "start_time": "2022-03-23T05:10:21.360Z"
   },
   {
    "duration": 16,
    "start_time": "2022-03-23T05:10:21.452Z"
   },
   {
    "duration": 1391,
    "start_time": "2022-03-23T05:10:21.470Z"
   },
   {
    "duration": 84,
    "start_time": "2022-03-23T05:10:22.863Z"
   },
   {
    "duration": 1064,
    "start_time": "2022-03-23T05:10:22.949Z"
   },
   {
    "duration": 67,
    "start_time": "2022-03-23T05:10:24.015Z"
   },
   {
    "duration": 383,
    "start_time": "2022-03-23T05:10:24.084Z"
   },
   {
    "duration": 10,
    "start_time": "2022-03-23T05:10:24.470Z"
   },
   {
    "duration": 450,
    "start_time": "2022-03-23T05:10:24.482Z"
   },
   {
    "duration": 328,
    "start_time": "2022-03-23T05:10:24.934Z"
   },
   {
    "duration": 8,
    "start_time": "2022-03-23T05:10:25.264Z"
   },
   {
    "duration": 1248,
    "start_time": "2022-03-23T05:10:25.279Z"
   },
   {
    "duration": 16,
    "start_time": "2022-03-23T05:10:26.529Z"
   },
   {
    "duration": 1120,
    "start_time": "2022-03-23T05:10:26.548Z"
   },
   {
    "duration": 554,
    "start_time": "2022-03-23T05:10:27.670Z"
   },
   {
    "duration": 31,
    "start_time": "2022-03-23T05:10:28.226Z"
   },
   {
    "duration": 422,
    "start_time": "2022-03-23T05:10:28.259Z"
   },
   {
    "duration": 22,
    "start_time": "2022-03-23T05:10:28.684Z"
   },
   {
    "duration": 47,
    "start_time": "2022-03-23T05:10:28.709Z"
   },
   {
    "duration": 353,
    "start_time": "2022-03-23T05:10:28.759Z"
   },
   {
    "duration": 43,
    "start_time": "2022-03-23T05:10:29.115Z"
   },
   {
    "duration": 331,
    "start_time": "2022-03-23T05:10:29.161Z"
   },
   {
    "duration": 20,
    "start_time": "2022-03-23T05:10:29.495Z"
   },
   {
    "duration": 316,
    "start_time": "2022-03-23T05:10:29.518Z"
   },
   {
    "duration": 306,
    "start_time": "2022-03-23T05:10:29.837Z"
   },
   {
    "duration": 25,
    "start_time": "2022-03-23T05:10:30.146Z"
   },
   {
    "duration": 348,
    "start_time": "2022-03-23T05:10:30.174Z"
   },
   {
    "duration": 27,
    "start_time": "2022-03-23T05:10:30.525Z"
   },
   {
    "duration": 161,
    "start_time": "2022-03-23T05:12:35.126Z"
   },
   {
    "duration": 2624,
    "start_time": "2022-03-23T05:13:28.946Z"
   },
   {
    "duration": 97,
    "start_time": "2022-03-23T05:13:31.573Z"
   },
   {
    "duration": 90,
    "start_time": "2022-03-23T05:13:31.672Z"
   },
   {
    "duration": 20,
    "start_time": "2022-03-23T05:13:31.765Z"
   },
   {
    "duration": 4,
    "start_time": "2022-03-23T05:13:31.844Z"
   },
   {
    "duration": 33,
    "start_time": "2022-03-23T05:13:31.850Z"
   },
   {
    "duration": 74,
    "start_time": "2022-03-23T05:13:31.885Z"
   },
   {
    "duration": 82,
    "start_time": "2022-03-23T05:13:31.961Z"
   },
   {
    "duration": 11,
    "start_time": "2022-03-23T05:13:32.046Z"
   },
   {
    "duration": 18,
    "start_time": "2022-03-23T05:13:32.061Z"
   },
   {
    "duration": 71,
    "start_time": "2022-03-23T05:13:32.082Z"
   },
   {
    "duration": 5,
    "start_time": "2022-03-23T05:13:32.156Z"
   },
   {
    "duration": 79,
    "start_time": "2022-03-23T05:13:32.164Z"
   },
   {
    "duration": 7,
    "start_time": "2022-03-23T05:13:32.246Z"
   },
   {
    "duration": 23,
    "start_time": "2022-03-23T05:13:32.255Z"
   },
   {
    "duration": 21,
    "start_time": "2022-03-23T05:13:32.280Z"
   },
   {
    "duration": 72,
    "start_time": "2022-03-23T05:13:32.303Z"
   },
   {
    "duration": 22,
    "start_time": "2022-03-23T05:13:32.378Z"
   },
   {
    "duration": 1005,
    "start_time": "2022-03-23T05:13:32.402Z"
   },
   {
    "duration": 50,
    "start_time": "2022-03-23T05:13:33.409Z"
   },
   {
    "duration": 618,
    "start_time": "2022-03-23T05:13:33.462Z"
   },
   {
    "duration": 62,
    "start_time": "2022-03-23T05:13:34.082Z"
   },
   {
    "duration": 380,
    "start_time": "2022-03-23T05:13:34.147Z"
   },
   {
    "duration": 11,
    "start_time": "2022-03-23T05:13:34.530Z"
   },
   {
    "duration": 450,
    "start_time": "2022-03-23T05:13:34.544Z"
   },
   {
    "duration": 335,
    "start_time": "2022-03-23T05:13:34.997Z"
   },
   {
    "duration": 13,
    "start_time": "2022-03-23T05:13:35.335Z"
   },
   {
    "duration": 1291,
    "start_time": "2022-03-23T05:13:35.353Z"
   },
   {
    "duration": 7,
    "start_time": "2022-03-23T05:13:36.646Z"
   },
   {
    "duration": 1133,
    "start_time": "2022-03-23T05:13:36.655Z"
   },
   {
    "duration": 578,
    "start_time": "2022-03-23T05:13:37.791Z"
   },
   {
    "duration": 15,
    "start_time": "2022-03-23T05:13:38.372Z"
   },
   {
    "duration": 432,
    "start_time": "2022-03-23T05:13:38.390Z"
   },
   {
    "duration": 34,
    "start_time": "2022-03-23T05:13:38.824Z"
   },
   {
    "duration": 25,
    "start_time": "2022-03-23T05:13:38.860Z"
   },
   {
    "duration": 380,
    "start_time": "2022-03-23T05:13:38.887Z"
   },
   {
    "duration": 24,
    "start_time": "2022-03-23T05:13:39.270Z"
   },
   {
    "duration": 349,
    "start_time": "2022-03-23T05:13:39.297Z"
   },
   {
    "duration": 19,
    "start_time": "2022-03-23T05:13:39.648Z"
   },
   {
    "duration": 330,
    "start_time": "2022-03-23T05:13:39.669Z"
   },
   {
    "duration": 310,
    "start_time": "2022-03-23T05:13:40.001Z"
   },
   {
    "duration": 36,
    "start_time": "2022-03-23T05:13:40.313Z"
   },
   {
    "duration": 329,
    "start_time": "2022-03-23T05:13:40.351Z"
   },
   {
    "duration": 14,
    "start_time": "2022-03-23T05:13:40.683Z"
   },
   {
    "duration": 7,
    "start_time": "2022-03-23T05:13:40.699Z"
   },
   {
    "duration": 192,
    "start_time": "2022-03-23T05:19:21.989Z"
   },
   {
    "duration": 14,
    "start_time": "2022-03-23T05:20:05.523Z"
   },
   {
    "duration": 12,
    "start_time": "2022-03-23T05:24:41.226Z"
   },
   {
    "duration": 208,
    "start_time": "2022-03-23T05:28:17.681Z"
   },
   {
    "duration": 153,
    "start_time": "2022-03-23T05:28:29.178Z"
   },
   {
    "duration": 3268,
    "start_time": "2022-03-23T05:30:59.060Z"
   },
   {
    "duration": 14,
    "start_time": "2022-03-23T05:31:14.635Z"
   },
   {
    "duration": 16,
    "start_time": "2022-03-23T05:33:25.380Z"
   },
   {
    "duration": 22,
    "start_time": "2022-03-23T05:33:57.719Z"
   },
   {
    "duration": 24,
    "start_time": "2022-03-23T05:34:24.020Z"
   },
   {
    "duration": 15,
    "start_time": "2022-03-23T05:34:41.940Z"
   },
   {
    "duration": 26,
    "start_time": "2022-03-23T05:36:44.164Z"
   },
   {
    "duration": 1511,
    "start_time": "2022-03-23T05:37:02.360Z"
   },
   {
    "duration": 63,
    "start_time": "2022-03-23T05:37:03.874Z"
   },
   {
    "duration": 36,
    "start_time": "2022-03-23T05:37:03.939Z"
   },
   {
    "duration": 21,
    "start_time": "2022-03-23T05:37:03.979Z"
   },
   {
    "duration": 4,
    "start_time": "2022-03-23T05:37:04.002Z"
   },
   {
    "duration": 61,
    "start_time": "2022-03-23T05:37:04.007Z"
   },
   {
    "duration": 26,
    "start_time": "2022-03-23T05:37:04.070Z"
   },
   {
    "duration": 22,
    "start_time": "2022-03-23T05:37:04.098Z"
   },
   {
    "duration": 11,
    "start_time": "2022-03-23T05:37:04.143Z"
   },
   {
    "duration": 18,
    "start_time": "2022-03-23T05:37:04.159Z"
   },
   {
    "duration": 15,
    "start_time": "2022-03-23T05:37:04.179Z"
   },
   {
    "duration": 6,
    "start_time": "2022-03-23T05:37:04.197Z"
   },
   {
    "duration": 68,
    "start_time": "2022-03-23T05:37:04.205Z"
   },
   {
    "duration": 6,
    "start_time": "2022-03-23T05:37:04.275Z"
   },
   {
    "duration": 36,
    "start_time": "2022-03-23T05:37:04.283Z"
   },
   {
    "duration": 39,
    "start_time": "2022-03-23T05:37:04.321Z"
   },
   {
    "duration": 38,
    "start_time": "2022-03-23T05:37:04.362Z"
   },
   {
    "duration": 49,
    "start_time": "2022-03-23T05:37:04.403Z"
   },
   {
    "duration": 806,
    "start_time": "2022-03-23T05:37:04.454Z"
   },
   {
    "duration": 27,
    "start_time": "2022-03-23T05:37:05.262Z"
   },
   {
    "duration": 610,
    "start_time": "2022-03-23T05:37:05.292Z"
   },
   {
    "duration": 61,
    "start_time": "2022-03-23T05:37:05.904Z"
   },
   {
    "duration": 384,
    "start_time": "2022-03-23T05:37:05.968Z"
   },
   {
    "duration": 9,
    "start_time": "2022-03-23T05:37:06.354Z"
   },
   {
    "duration": 443,
    "start_time": "2022-03-23T05:37:06.365Z"
   },
   {
    "duration": 337,
    "start_time": "2022-03-23T05:37:06.810Z"
   },
   {
    "duration": 8,
    "start_time": "2022-03-23T05:37:07.149Z"
   },
   {
    "duration": 1282,
    "start_time": "2022-03-23T05:37:07.163Z"
   },
   {
    "duration": 8,
    "start_time": "2022-03-23T05:37:08.447Z"
   },
   {
    "duration": 1243,
    "start_time": "2022-03-23T05:37:08.457Z"
   },
   {
    "duration": 583,
    "start_time": "2022-03-23T05:37:09.702Z"
   },
   {
    "duration": 16,
    "start_time": "2022-03-23T05:37:10.287Z"
   },
   {
    "duration": 427,
    "start_time": "2022-03-23T05:37:10.305Z"
   },
   {
    "duration": 27,
    "start_time": "2022-03-23T05:37:10.734Z"
   },
   {
    "duration": 34,
    "start_time": "2022-03-23T05:37:10.763Z"
   },
   {
    "duration": 352,
    "start_time": "2022-03-23T05:37:10.800Z"
   },
   {
    "duration": 24,
    "start_time": "2022-03-23T05:37:11.154Z"
   },
   {
    "duration": 337,
    "start_time": "2022-03-23T05:37:11.180Z"
   },
   {
    "duration": 33,
    "start_time": "2022-03-23T05:37:11.520Z"
   },
   {
    "duration": 310,
    "start_time": "2022-03-23T05:37:11.555Z"
   },
   {
    "duration": 310,
    "start_time": "2022-03-23T05:37:11.867Z"
   },
   {
    "duration": 23,
    "start_time": "2022-03-23T05:37:12.180Z"
   },
   {
    "duration": 349,
    "start_time": "2022-03-23T05:37:12.205Z"
   },
   {
    "duration": 13,
    "start_time": "2022-03-23T05:37:12.557Z"
   },
   {
    "duration": 7,
    "start_time": "2022-03-23T05:37:12.573Z"
   },
   {
    "duration": 17,
    "start_time": "2022-03-23T05:37:12.582Z"
   },
   {
    "duration": 14,
    "start_time": "2022-03-23T05:37:23.160Z"
   },
   {
    "duration": 7,
    "start_time": "2022-03-23T05:38:59.475Z"
   },
   {
    "duration": 18,
    "start_time": "2022-03-23T05:41:15.316Z"
   },
   {
    "duration": 17,
    "start_time": "2022-03-23T05:41:23.628Z"
   },
   {
    "duration": 16,
    "start_time": "2022-03-23T05:41:31.508Z"
   },
   {
    "duration": 7,
    "start_time": "2022-03-23T05:41:35.412Z"
   },
   {
    "duration": 198,
    "start_time": "2022-03-23T05:44:36.765Z"
   },
   {
    "duration": 7,
    "start_time": "2022-03-23T05:44:43.933Z"
   },
   {
    "duration": 12,
    "start_time": "2022-03-23T05:44:53.905Z"
   },
   {
    "duration": 7,
    "start_time": "2022-03-23T05:45:44.166Z"
   },
   {
    "duration": 45,
    "start_time": "2022-03-23T05:46:21.798Z"
   },
   {
    "duration": 43,
    "start_time": "2022-03-23T05:46:33.703Z"
   },
   {
    "duration": 34,
    "start_time": "2022-03-23T05:47:55.841Z"
   },
   {
    "duration": 12,
    "start_time": "2022-03-23T05:50:33.239Z"
   },
   {
    "duration": 12,
    "start_time": "2022-03-23T05:50:40.254Z"
   },
   {
    "duration": 13,
    "start_time": "2022-03-23T05:59:36.228Z"
   },
   {
    "duration": 1599,
    "start_time": "2022-03-23T05:59:43.645Z"
   },
   {
    "duration": 52,
    "start_time": "2022-03-23T05:59:45.247Z"
   },
   {
    "duration": 43,
    "start_time": "2022-03-23T05:59:45.301Z"
   },
   {
    "duration": 21,
    "start_time": "2022-03-23T05:59:45.347Z"
   },
   {
    "duration": 6,
    "start_time": "2022-03-23T05:59:45.370Z"
   },
   {
    "duration": 31,
    "start_time": "2022-03-23T05:59:45.378Z"
   },
   {
    "duration": 24,
    "start_time": "2022-03-23T05:59:45.443Z"
   },
   {
    "duration": 21,
    "start_time": "2022-03-23T05:59:45.469Z"
   },
   {
    "duration": 18,
    "start_time": "2022-03-23T05:59:45.492Z"
   },
   {
    "duration": 46,
    "start_time": "2022-03-23T05:59:45.513Z"
   },
   {
    "duration": 14,
    "start_time": "2022-03-23T05:59:45.561Z"
   },
   {
    "duration": 6,
    "start_time": "2022-03-23T05:59:45.577Z"
   },
   {
    "duration": 62,
    "start_time": "2022-03-23T05:59:45.585Z"
   },
   {
    "duration": 7,
    "start_time": "2022-03-23T05:59:45.649Z"
   },
   {
    "duration": 29,
    "start_time": "2022-03-23T05:59:45.658Z"
   },
   {
    "duration": 18,
    "start_time": "2022-03-23T05:59:45.689Z"
   },
   {
    "duration": 68,
    "start_time": "2022-03-23T05:59:45.709Z"
   },
   {
    "duration": 34,
    "start_time": "2022-03-23T05:59:45.780Z"
   },
   {
    "duration": 39,
    "start_time": "2022-03-23T05:59:45.817Z"
   },
   {
    "duration": 705,
    "start_time": "2022-03-23T05:59:45.858Z"
   },
   {
    "duration": 27,
    "start_time": "2022-03-23T05:59:46.565Z"
   },
   {
    "duration": 709,
    "start_time": "2022-03-23T05:59:46.594Z"
   },
   {
    "duration": 60,
    "start_time": "2022-03-23T05:59:47.305Z"
   },
   {
    "duration": 388,
    "start_time": "2022-03-23T05:59:47.367Z"
   },
   {
    "duration": 9,
    "start_time": "2022-03-23T05:59:47.758Z"
   },
   {
    "duration": 440,
    "start_time": "2022-03-23T05:59:47.770Z"
   },
   {
    "duration": 334,
    "start_time": "2022-03-23T05:59:48.213Z"
   },
   {
    "duration": 8,
    "start_time": "2022-03-23T05:59:48.554Z"
   },
   {
    "duration": 1268,
    "start_time": "2022-03-23T05:59:48.564Z"
   },
   {
    "duration": 11,
    "start_time": "2022-03-23T05:59:49.835Z"
   },
   {
    "duration": 202,
    "start_time": "2022-03-23T05:59:49.848Z"
   },
   {
    "duration": 541,
    "start_time": "2022-03-23T05:59:50.052Z"
   },
   {
    "duration": 16,
    "start_time": "2022-03-23T05:59:50.595Z"
   },
   {
    "duration": 440,
    "start_time": "2022-03-23T05:59:50.613Z"
   },
   {
    "duration": 22,
    "start_time": "2022-03-23T05:59:51.056Z"
   },
   {
    "duration": 27,
    "start_time": "2022-03-23T05:59:51.080Z"
   },
   {
    "duration": 359,
    "start_time": "2022-03-23T05:59:51.109Z"
   },
   {
    "duration": 26,
    "start_time": "2022-03-23T05:59:51.470Z"
   },
   {
    "duration": 338,
    "start_time": "2022-03-23T05:59:51.498Z"
   },
   {
    "duration": 18,
    "start_time": "2022-03-23T05:59:51.838Z"
   },
   {
    "duration": 323,
    "start_time": "2022-03-23T05:59:51.858Z"
   },
   {
    "duration": 299,
    "start_time": "2022-03-23T05:59:52.184Z"
   },
   {
    "duration": 23,
    "start_time": "2022-03-23T05:59:52.485Z"
   },
   {
    "duration": 351,
    "start_time": "2022-03-23T05:59:52.510Z"
   },
   {
    "duration": 13,
    "start_time": "2022-03-23T05:59:52.864Z"
   },
   {
    "duration": 10,
    "start_time": "2022-03-23T05:59:52.879Z"
   },
   {
    "duration": 18,
    "start_time": "2022-03-23T05:59:52.891Z"
   },
   {
    "duration": 11,
    "start_time": "2022-03-23T06:00:38.973Z"
   },
   {
    "duration": 5,
    "start_time": "2022-03-23T06:00:41.885Z"
   },
   {
    "duration": 26,
    "start_time": "2022-03-23T06:00:42.820Z"
   },
   {
    "duration": 7,
    "start_time": "2022-03-23T06:00:45.892Z"
   },
   {
    "duration": 25,
    "start_time": "2022-03-23T06:00:47.653Z"
   },
   {
    "duration": 19,
    "start_time": "2022-03-23T06:00:50.133Z"
   },
   {
    "duration": 13,
    "start_time": "2022-03-23T06:00:55.294Z"
   },
   {
    "duration": 7,
    "start_time": "2022-03-23T06:00:59.270Z"
   },
   {
    "duration": 9,
    "start_time": "2022-03-23T06:01:35.642Z"
   },
   {
    "duration": 1643,
    "start_time": "2022-03-23T06:01:41.615Z"
   },
   {
    "duration": 62,
    "start_time": "2022-03-23T06:01:43.260Z"
   },
   {
    "duration": 35,
    "start_time": "2022-03-23T06:01:43.324Z"
   },
   {
    "duration": 20,
    "start_time": "2022-03-23T06:01:43.362Z"
   },
   {
    "duration": 4,
    "start_time": "2022-03-23T06:01:43.384Z"
   },
   {
    "duration": 61,
    "start_time": "2022-03-23T06:01:43.390Z"
   },
   {
    "duration": 26,
    "start_time": "2022-03-23T06:01:43.453Z"
   },
   {
    "duration": 22,
    "start_time": "2022-03-23T06:01:43.481Z"
   },
   {
    "duration": 44,
    "start_time": "2022-03-23T06:01:43.505Z"
   },
   {
    "duration": 20,
    "start_time": "2022-03-23T06:01:43.553Z"
   },
   {
    "duration": 190,
    "start_time": "2022-03-23T06:01:43.575Z"
   },
   {
    "duration": 1,
    "start_time": "2022-03-23T06:01:43.768Z"
   },
   {
    "duration": 0,
    "start_time": "2022-03-23T06:01:43.770Z"
   },
   {
    "duration": 0,
    "start_time": "2022-03-23T06:01:43.772Z"
   },
   {
    "duration": 0,
    "start_time": "2022-03-23T06:01:43.774Z"
   },
   {
    "duration": 0,
    "start_time": "2022-03-23T06:01:43.775Z"
   },
   {
    "duration": 0,
    "start_time": "2022-03-23T06:01:43.777Z"
   },
   {
    "duration": 0,
    "start_time": "2022-03-23T06:01:43.778Z"
   },
   {
    "duration": 0,
    "start_time": "2022-03-23T06:01:43.779Z"
   },
   {
    "duration": 0,
    "start_time": "2022-03-23T06:01:43.781Z"
   },
   {
    "duration": 0,
    "start_time": "2022-03-23T06:01:43.783Z"
   },
   {
    "duration": 0,
    "start_time": "2022-03-23T06:01:43.784Z"
   },
   {
    "duration": 0,
    "start_time": "2022-03-23T06:01:43.786Z"
   },
   {
    "duration": 0,
    "start_time": "2022-03-23T06:01:43.787Z"
   },
   {
    "duration": 1,
    "start_time": "2022-03-23T06:01:43.788Z"
   },
   {
    "duration": 0,
    "start_time": "2022-03-23T06:01:43.790Z"
   },
   {
    "duration": 0,
    "start_time": "2022-03-23T06:01:43.792Z"
   },
   {
    "duration": 0,
    "start_time": "2022-03-23T06:01:43.793Z"
   },
   {
    "duration": 0,
    "start_time": "2022-03-23T06:01:43.795Z"
   },
   {
    "duration": 0,
    "start_time": "2022-03-23T06:01:43.797Z"
   },
   {
    "duration": 0,
    "start_time": "2022-03-23T06:01:43.842Z"
   },
   {
    "duration": 0,
    "start_time": "2022-03-23T06:01:43.844Z"
   },
   {
    "duration": 0,
    "start_time": "2022-03-23T06:01:43.845Z"
   },
   {
    "duration": 0,
    "start_time": "2022-03-23T06:01:43.847Z"
   },
   {
    "duration": 0,
    "start_time": "2022-03-23T06:01:43.849Z"
   },
   {
    "duration": 0,
    "start_time": "2022-03-23T06:01:43.850Z"
   },
   {
    "duration": 0,
    "start_time": "2022-03-23T06:01:43.852Z"
   },
   {
    "duration": 0,
    "start_time": "2022-03-23T06:01:43.853Z"
   },
   {
    "duration": 0,
    "start_time": "2022-03-23T06:01:43.854Z"
   },
   {
    "duration": 0,
    "start_time": "2022-03-23T06:01:43.856Z"
   },
   {
    "duration": 0,
    "start_time": "2022-03-23T06:01:43.857Z"
   },
   {
    "duration": 0,
    "start_time": "2022-03-23T06:01:43.858Z"
   },
   {
    "duration": 0,
    "start_time": "2022-03-23T06:01:43.860Z"
   },
   {
    "duration": 0,
    "start_time": "2022-03-23T06:01:43.861Z"
   },
   {
    "duration": 0,
    "start_time": "2022-03-23T06:01:43.862Z"
   },
   {
    "duration": 0,
    "start_time": "2022-03-23T06:01:43.864Z"
   },
   {
    "duration": 0,
    "start_time": "2022-03-23T06:01:43.865Z"
   },
   {
    "duration": 1563,
    "start_time": "2022-03-23T06:02:38.496Z"
   },
   {
    "duration": 52,
    "start_time": "2022-03-23T06:02:40.062Z"
   },
   {
    "duration": 39,
    "start_time": "2022-03-23T06:02:40.116Z"
   },
   {
    "duration": 20,
    "start_time": "2022-03-23T06:02:40.158Z"
   },
   {
    "duration": 4,
    "start_time": "2022-03-23T06:02:40.180Z"
   },
   {
    "duration": 58,
    "start_time": "2022-03-23T06:02:40.186Z"
   },
   {
    "duration": 24,
    "start_time": "2022-03-23T06:02:40.246Z"
   },
   {
    "duration": 23,
    "start_time": "2022-03-23T06:02:40.272Z"
   },
   {
    "duration": 22,
    "start_time": "2022-03-23T06:02:40.297Z"
   },
   {
    "duration": 19,
    "start_time": "2022-03-23T06:02:40.343Z"
   },
   {
    "duration": 11,
    "start_time": "2022-03-23T06:02:40.364Z"
   },
   {
    "duration": 12,
    "start_time": "2022-03-23T06:02:40.376Z"
   },
   {
    "duration": 42,
    "start_time": "2022-03-23T06:02:40.390Z"
   },
   {
    "duration": 6,
    "start_time": "2022-03-23T06:02:40.443Z"
   },
   {
    "duration": 29,
    "start_time": "2022-03-23T06:02:40.452Z"
   },
   {
    "duration": 29,
    "start_time": "2022-03-23T06:02:40.483Z"
   },
   {
    "duration": 29,
    "start_time": "2022-03-23T06:02:40.515Z"
   },
   {
    "duration": 40,
    "start_time": "2022-03-23T06:02:40.546Z"
   },
   {
    "duration": 16,
    "start_time": "2022-03-23T06:02:40.588Z"
   },
   {
    "duration": 731,
    "start_time": "2022-03-23T06:02:40.606Z"
   },
   {
    "duration": 28,
    "start_time": "2022-03-23T06:02:41.339Z"
   },
   {
    "duration": 627,
    "start_time": "2022-03-23T06:02:41.369Z"
   },
   {
    "duration": 57,
    "start_time": "2022-03-23T06:02:41.998Z"
   },
   {
    "duration": 378,
    "start_time": "2022-03-23T06:02:42.057Z"
   },
   {
    "duration": 10,
    "start_time": "2022-03-23T06:02:42.437Z"
   },
   {
    "duration": 453,
    "start_time": "2022-03-23T06:02:42.449Z"
   },
   {
    "duration": 330,
    "start_time": "2022-03-23T06:02:42.904Z"
   },
   {
    "duration": 8,
    "start_time": "2022-03-23T06:02:43.242Z"
   },
   {
    "duration": 1275,
    "start_time": "2022-03-23T06:02:43.252Z"
   },
   {
    "duration": 985,
    "start_time": "2022-03-23T06:02:44.529Z"
   },
   {
    "duration": 0,
    "start_time": "2022-03-23T06:02:45.517Z"
   },
   {
    "duration": 0,
    "start_time": "2022-03-23T06:02:45.519Z"
   },
   {
    "duration": 0,
    "start_time": "2022-03-23T06:02:45.521Z"
   },
   {
    "duration": 0,
    "start_time": "2022-03-23T06:02:45.522Z"
   },
   {
    "duration": 0,
    "start_time": "2022-03-23T06:02:45.523Z"
   },
   {
    "duration": 0,
    "start_time": "2022-03-23T06:02:45.525Z"
   },
   {
    "duration": 0,
    "start_time": "2022-03-23T06:02:45.527Z"
   },
   {
    "duration": 0,
    "start_time": "2022-03-23T06:02:45.528Z"
   },
   {
    "duration": 0,
    "start_time": "2022-03-23T06:02:45.529Z"
   },
   {
    "duration": 0,
    "start_time": "2022-03-23T06:02:45.530Z"
   },
   {
    "duration": 1,
    "start_time": "2022-03-23T06:02:45.531Z"
   },
   {
    "duration": 0,
    "start_time": "2022-03-23T06:02:45.533Z"
   },
   {
    "duration": 0,
    "start_time": "2022-03-23T06:02:45.535Z"
   },
   {
    "duration": 0,
    "start_time": "2022-03-23T06:02:45.537Z"
   },
   {
    "duration": 0,
    "start_time": "2022-03-23T06:02:45.539Z"
   },
   {
    "duration": 0,
    "start_time": "2022-03-23T06:02:45.541Z"
   },
   {
    "duration": 0,
    "start_time": "2022-03-23T06:02:45.542Z"
   },
   {
    "duration": 16,
    "start_time": "2022-03-23T06:10:20.319Z"
   },
   {
    "duration": 15,
    "start_time": "2022-03-23T06:10:42.625Z"
   },
   {
    "duration": 1531,
    "start_time": "2022-03-23T06:10:48.815Z"
   },
   {
    "duration": 50,
    "start_time": "2022-03-23T06:10:50.349Z"
   },
   {
    "duration": 42,
    "start_time": "2022-03-23T06:10:50.401Z"
   },
   {
    "duration": 21,
    "start_time": "2022-03-23T06:10:50.445Z"
   },
   {
    "duration": 5,
    "start_time": "2022-03-23T06:10:50.468Z"
   },
   {
    "duration": 30,
    "start_time": "2022-03-23T06:10:50.475Z"
   },
   {
    "duration": 53,
    "start_time": "2022-03-23T06:10:50.507Z"
   },
   {
    "duration": 22,
    "start_time": "2022-03-23T06:10:50.562Z"
   },
   {
    "duration": 13,
    "start_time": "2022-03-23T06:10:50.586Z"
   },
   {
    "duration": 47,
    "start_time": "2022-03-23T06:10:50.602Z"
   },
   {
    "duration": 15,
    "start_time": "2022-03-23T06:10:50.651Z"
   },
   {
    "duration": 6,
    "start_time": "2022-03-23T06:10:50.667Z"
   },
   {
    "duration": 31,
    "start_time": "2022-03-23T06:10:50.675Z"
   },
   {
    "duration": 6,
    "start_time": "2022-03-23T06:10:50.708Z"
   },
   {
    "duration": 27,
    "start_time": "2022-03-23T06:10:50.744Z"
   },
   {
    "duration": 22,
    "start_time": "2022-03-23T06:10:50.773Z"
   },
   {
    "duration": 7,
    "start_time": "2022-03-23T06:10:50.797Z"
   },
   {
    "duration": 39,
    "start_time": "2022-03-23T06:10:50.842Z"
   },
   {
    "duration": 16,
    "start_time": "2022-03-23T06:10:50.883Z"
   },
   {
    "duration": 716,
    "start_time": "2022-03-23T06:10:50.901Z"
   },
   {
    "duration": 35,
    "start_time": "2022-03-23T06:10:51.619Z"
   },
   {
    "duration": 619,
    "start_time": "2022-03-23T06:10:51.657Z"
   },
   {
    "duration": 65,
    "start_time": "2022-03-23T06:10:52.279Z"
   },
   {
    "duration": 413,
    "start_time": "2022-03-23T06:10:52.347Z"
   },
   {
    "duration": 11,
    "start_time": "2022-03-23T06:10:52.763Z"
   },
   {
    "duration": 460,
    "start_time": "2022-03-23T06:10:52.776Z"
   },
   {
    "duration": 339,
    "start_time": "2022-03-23T06:10:53.243Z"
   },
   {
    "duration": 9,
    "start_time": "2022-03-23T06:10:53.589Z"
   },
   {
    "duration": 1324,
    "start_time": "2022-03-23T06:10:53.601Z"
   },
   {
    "duration": 18,
    "start_time": "2022-03-23T06:10:54.928Z"
   },
   {
    "duration": 1359,
    "start_time": "2022-03-23T06:10:54.949Z"
   },
   {
    "duration": 567,
    "start_time": "2022-03-23T06:10:56.310Z"
   },
   {
    "duration": 16,
    "start_time": "2022-03-23T06:10:56.880Z"
   },
   {
    "duration": 433,
    "start_time": "2022-03-23T06:10:56.898Z"
   },
   {
    "duration": 28,
    "start_time": "2022-03-23T06:10:57.333Z"
   },
   {
    "duration": 26,
    "start_time": "2022-03-23T06:10:57.364Z"
   },
   {
    "duration": 503,
    "start_time": "2022-03-23T06:10:57.392Z"
   },
   {
    "duration": 25,
    "start_time": "2022-03-23T06:10:57.897Z"
   },
   {
    "duration": 334,
    "start_time": "2022-03-23T06:10:57.924Z"
   },
   {
    "duration": 20,
    "start_time": "2022-03-23T06:10:58.260Z"
   },
   {
    "duration": 324,
    "start_time": "2022-03-23T06:10:58.283Z"
   },
   {
    "duration": 317,
    "start_time": "2022-03-23T06:10:58.609Z"
   },
   {
    "duration": 28,
    "start_time": "2022-03-23T06:10:58.928Z"
   },
   {
    "duration": 474,
    "start_time": "2022-03-23T06:10:58.959Z"
   },
   {
    "duration": 18,
    "start_time": "2022-03-23T06:10:59.436Z"
   },
   {
    "duration": 12,
    "start_time": "2022-03-23T06:10:59.456Z"
   },
   {
    "duration": 17,
    "start_time": "2022-03-23T06:10:59.471Z"
   },
   {
    "duration": 17,
    "start_time": "2022-03-23T06:15:59.132Z"
   },
   {
    "duration": 1627,
    "start_time": "2022-03-23T06:16:43.323Z"
   },
   {
    "duration": 62,
    "start_time": "2022-03-23T06:16:44.952Z"
   },
   {
    "duration": 37,
    "start_time": "2022-03-23T06:16:45.016Z"
   },
   {
    "duration": 19,
    "start_time": "2022-03-23T06:16:45.057Z"
   },
   {
    "duration": 10,
    "start_time": "2022-03-23T06:16:45.079Z"
   },
   {
    "duration": 52,
    "start_time": "2022-03-23T06:16:45.092Z"
   },
   {
    "duration": 24,
    "start_time": "2022-03-23T06:16:45.146Z"
   },
   {
    "duration": 21,
    "start_time": "2022-03-23T06:16:45.172Z"
   },
   {
    "duration": 11,
    "start_time": "2022-03-23T06:16:45.195Z"
   },
   {
    "duration": 19,
    "start_time": "2022-03-23T06:16:45.243Z"
   },
   {
    "duration": 15,
    "start_time": "2022-03-23T06:16:45.265Z"
   },
   {
    "duration": 5,
    "start_time": "2022-03-23T06:16:45.282Z"
   },
   {
    "duration": 57,
    "start_time": "2022-03-23T06:16:45.289Z"
   },
   {
    "duration": 8,
    "start_time": "2022-03-23T06:16:45.349Z"
   },
   {
    "duration": 34,
    "start_time": "2022-03-23T06:16:45.359Z"
   },
   {
    "duration": 20,
    "start_time": "2022-03-23T06:16:45.396Z"
   },
   {
    "duration": 28,
    "start_time": "2022-03-23T06:16:45.419Z"
   },
   {
    "duration": 37,
    "start_time": "2022-03-23T06:16:45.449Z"
   },
   {
    "duration": 54,
    "start_time": "2022-03-23T06:16:45.489Z"
   },
   {
    "duration": 855,
    "start_time": "2022-03-23T06:16:45.546Z"
   },
   {
    "duration": 39,
    "start_time": "2022-03-23T06:16:46.404Z"
   },
   {
    "duration": 706,
    "start_time": "2022-03-23T06:16:46.445Z"
   },
   {
    "duration": 50,
    "start_time": "2022-03-23T06:16:47.153Z"
   },
   {
    "duration": 518,
    "start_time": "2022-03-23T06:16:47.205Z"
   },
   {
    "duration": 9,
    "start_time": "2022-03-23T06:16:47.726Z"
   },
   {
    "duration": 451,
    "start_time": "2022-03-23T06:16:47.737Z"
   },
   {
    "duration": 367,
    "start_time": "2022-03-23T06:16:48.190Z"
   },
   {
    "duration": 8,
    "start_time": "2022-03-23T06:16:48.563Z"
   },
   {
    "duration": 1461,
    "start_time": "2022-03-23T06:16:48.573Z"
   },
   {
    "duration": 13,
    "start_time": "2022-03-23T06:16:50.037Z"
   },
   {
    "duration": 1311,
    "start_time": "2022-03-23T06:16:50.052Z"
   },
   {
    "duration": 597,
    "start_time": "2022-03-23T06:16:51.366Z"
   },
   {
    "duration": 18,
    "start_time": "2022-03-23T06:16:51.966Z"
   },
   {
    "duration": 443,
    "start_time": "2022-03-23T06:16:51.986Z"
   },
   {
    "duration": 31,
    "start_time": "2022-03-23T06:16:52.432Z"
   },
   {
    "duration": 25,
    "start_time": "2022-03-23T06:16:52.466Z"
   },
   {
    "duration": 429,
    "start_time": "2022-03-23T06:16:52.493Z"
   },
   {
    "duration": 34,
    "start_time": "2022-03-23T06:16:52.924Z"
   },
   {
    "duration": 362,
    "start_time": "2022-03-23T06:16:52.961Z"
   },
   {
    "duration": 29,
    "start_time": "2022-03-23T06:16:53.325Z"
   },
   {
    "duration": 416,
    "start_time": "2022-03-23T06:16:53.356Z"
   },
   {
    "duration": 386,
    "start_time": "2022-03-23T06:16:53.775Z"
   },
   {
    "duration": 25,
    "start_time": "2022-03-23T06:16:54.164Z"
   },
   {
    "duration": 368,
    "start_time": "2022-03-23T06:16:54.192Z"
   },
   {
    "duration": 18,
    "start_time": "2022-03-23T06:16:54.563Z"
   },
   {
    "duration": 8,
    "start_time": "2022-03-23T06:16:54.584Z"
   },
   {
    "duration": 50,
    "start_time": "2022-03-23T06:16:54.595Z"
   },
   {
    "duration": 12,
    "start_time": "2022-03-23T07:18:46.420Z"
   },
   {
    "duration": 12,
    "start_time": "2022-03-23T07:20:11.675Z"
   },
   {
    "duration": 18,
    "start_time": "2022-03-23T07:20:41.133Z"
   },
   {
    "duration": 34,
    "start_time": "2022-03-23T07:20:42.139Z"
   },
   {
    "duration": 20,
    "start_time": "2022-03-23T07:20:47.756Z"
   },
   {
    "duration": 224,
    "start_time": "2022-03-23T07:23:24.716Z"
   },
   {
    "duration": 20,
    "start_time": "2022-03-23T07:23:39.517Z"
   },
   {
    "duration": 23,
    "start_time": "2022-03-23T07:38:59.697Z"
   },
   {
    "duration": 21,
    "start_time": "2022-03-23T07:39:09.328Z"
   },
   {
    "duration": 35,
    "start_time": "2022-03-23T07:39:26.559Z"
   },
   {
    "duration": 24,
    "start_time": "2022-03-23T07:40:23.952Z"
   },
   {
    "duration": 20,
    "start_time": "2022-03-23T07:40:32.019Z"
   },
   {
    "duration": 23,
    "start_time": "2022-03-23T07:40:59.235Z"
   },
   {
    "duration": 210,
    "start_time": "2022-03-23T07:45:09.786Z"
   },
   {
    "duration": 221,
    "start_time": "2022-03-23T07:45:18.410Z"
   },
   {
    "duration": 220,
    "start_time": "2022-03-23T07:45:50.978Z"
   },
   {
    "duration": 44,
    "start_time": "2022-03-23T07:46:02.322Z"
   },
   {
    "duration": 166,
    "start_time": "2022-03-23T07:46:25.211Z"
   },
   {
    "duration": 36,
    "start_time": "2022-03-23T07:46:32.067Z"
   },
   {
    "duration": 30,
    "start_time": "2022-03-23T07:47:34.572Z"
   },
   {
    "duration": 30,
    "start_time": "2022-03-23T07:47:48.155Z"
   },
   {
    "duration": 36,
    "start_time": "2022-03-23T07:48:03.098Z"
   },
   {
    "duration": 27,
    "start_time": "2022-03-23T07:48:20.251Z"
   },
   {
    "duration": 26,
    "start_time": "2022-03-23T07:48:25.435Z"
   },
   {
    "duration": 32,
    "start_time": "2022-03-23T07:48:31.755Z"
   },
   {
    "duration": 17,
    "start_time": "2022-03-23T07:49:47.493Z"
   },
   {
    "duration": 34,
    "start_time": "2022-03-23T07:49:51.131Z"
   },
   {
    "duration": 10,
    "start_time": "2022-03-23T07:50:27.292Z"
   },
   {
    "duration": 7,
    "start_time": "2022-03-23T07:50:53.868Z"
   },
   {
    "duration": 1530,
    "start_time": "2022-03-23T07:51:21.631Z"
   },
   {
    "duration": 52,
    "start_time": "2022-03-23T07:51:23.164Z"
   },
   {
    "duration": 42,
    "start_time": "2022-03-23T07:51:23.219Z"
   },
   {
    "duration": 21,
    "start_time": "2022-03-23T07:51:23.265Z"
   },
   {
    "duration": 8,
    "start_time": "2022-03-23T07:51:23.289Z"
   },
   {
    "duration": 53,
    "start_time": "2022-03-23T07:51:23.299Z"
   },
   {
    "duration": 24,
    "start_time": "2022-03-23T07:51:23.355Z"
   },
   {
    "duration": 21,
    "start_time": "2022-03-23T07:51:23.381Z"
   },
   {
    "duration": 41,
    "start_time": "2022-03-23T07:51:23.404Z"
   },
   {
    "duration": 19,
    "start_time": "2022-03-23T07:51:23.449Z"
   },
   {
    "duration": 18,
    "start_time": "2022-03-23T07:51:23.471Z"
   },
   {
    "duration": 7,
    "start_time": "2022-03-23T07:51:23.491Z"
   },
   {
    "duration": 62,
    "start_time": "2022-03-23T07:51:23.500Z"
   },
   {
    "duration": 6,
    "start_time": "2022-03-23T07:51:23.565Z"
   },
   {
    "duration": 33,
    "start_time": "2022-03-23T07:51:23.574Z"
   },
   {
    "duration": 40,
    "start_time": "2022-03-23T07:51:23.610Z"
   },
   {
    "duration": 7,
    "start_time": "2022-03-23T07:51:23.652Z"
   },
   {
    "duration": 39,
    "start_time": "2022-03-23T07:51:23.662Z"
   },
   {
    "duration": 54,
    "start_time": "2022-03-23T07:51:23.703Z"
   },
   {
    "duration": 718,
    "start_time": "2022-03-23T07:51:23.760Z"
   },
   {
    "duration": 29,
    "start_time": "2022-03-23T07:51:24.481Z"
   },
   {
    "duration": 609,
    "start_time": "2022-03-23T07:51:24.512Z"
   },
   {
    "duration": 57,
    "start_time": "2022-03-23T07:51:25.123Z"
   },
   {
    "duration": 377,
    "start_time": "2022-03-23T07:51:25.182Z"
   },
   {
    "duration": 8,
    "start_time": "2022-03-23T07:51:25.563Z"
   },
   {
    "duration": 441,
    "start_time": "2022-03-23T07:51:25.573Z"
   },
   {
    "duration": 338,
    "start_time": "2022-03-23T07:51:26.017Z"
   },
   {
    "duration": 9,
    "start_time": "2022-03-23T07:51:26.360Z"
   },
   {
    "duration": 1289,
    "start_time": "2022-03-23T07:51:26.371Z"
   },
   {
    "duration": 8,
    "start_time": "2022-03-23T07:51:27.662Z"
   },
   {
    "duration": 1273,
    "start_time": "2022-03-23T07:51:27.672Z"
   },
   {
    "duration": 560,
    "start_time": "2022-03-23T07:51:28.947Z"
   },
   {
    "duration": 16,
    "start_time": "2022-03-23T07:51:29.510Z"
   },
   {
    "duration": 432,
    "start_time": "2022-03-23T07:51:29.528Z"
   },
   {
    "duration": 23,
    "start_time": "2022-03-23T07:51:29.962Z"
   },
   {
    "duration": 54,
    "start_time": "2022-03-23T07:51:29.987Z"
   },
   {
    "duration": 337,
    "start_time": "2022-03-23T07:51:30.044Z"
   },
   {
    "duration": 25,
    "start_time": "2022-03-23T07:51:30.383Z"
   },
   {
    "duration": 340,
    "start_time": "2022-03-23T07:51:30.410Z"
   },
   {
    "duration": 18,
    "start_time": "2022-03-23T07:51:30.753Z"
   },
   {
    "duration": 326,
    "start_time": "2022-03-23T07:51:30.773Z"
   },
   {
    "duration": 314,
    "start_time": "2022-03-23T07:51:31.102Z"
   },
   {
    "duration": 32,
    "start_time": "2022-03-23T07:51:31.418Z"
   },
   {
    "duration": 335,
    "start_time": "2022-03-23T07:51:31.453Z"
   },
   {
    "duration": 14,
    "start_time": "2022-03-23T07:51:31.790Z"
   },
   {
    "duration": 14,
    "start_time": "2022-03-23T07:51:31.806Z"
   },
   {
    "duration": 28,
    "start_time": "2022-03-23T07:51:31.822Z"
   },
   {
    "duration": 172,
    "start_time": "2022-03-23T07:51:31.852Z"
   },
   {
    "duration": 0,
    "start_time": "2022-03-23T07:51:32.027Z"
   },
   {
    "duration": 2466,
    "start_time": "2022-03-23T07:51:44.716Z"
   },
   {
    "duration": 22,
    "start_time": "2022-03-23T07:52:34.925Z"
   },
   {
    "duration": 2513,
    "start_time": "2022-03-23T07:52:43.461Z"
   },
   {
    "duration": 25,
    "start_time": "2022-03-23T07:52:59.884Z"
   },
   {
    "duration": 16,
    "start_time": "2022-03-23T07:53:04.981Z"
   },
   {
    "duration": 19,
    "start_time": "2022-03-23T07:53:16.877Z"
   },
   {
    "duration": 8,
    "start_time": "2022-03-23T07:55:22.108Z"
   },
   {
    "duration": 10,
    "start_time": "2022-03-23T07:57:36.968Z"
   },
   {
    "duration": 22,
    "start_time": "2022-03-23T08:00:21.966Z"
   },
   {
    "duration": 25,
    "start_time": "2022-03-23T08:00:29.136Z"
   },
   {
    "duration": 17,
    "start_time": "2022-03-23T08:07:17.281Z"
   },
   {
    "duration": 9,
    "start_time": "2022-03-23T08:12:06.041Z"
   },
   {
    "duration": 8,
    "start_time": "2022-03-23T08:12:48.097Z"
   },
   {
    "duration": 203,
    "start_time": "2022-03-23T08:24:42.774Z"
   },
   {
    "duration": 3,
    "start_time": "2022-03-23T08:31:42.334Z"
   },
   {
    "duration": 54,
    "start_time": "2022-04-04T08:24:55.033Z"
   },
   {
    "duration": 1553,
    "start_time": "2022-04-04T08:24:59.406Z"
   },
   {
    "duration": 43,
    "start_time": "2022-04-04T08:25:00.961Z"
   },
   {
    "duration": 26,
    "start_time": "2022-04-04T08:25:01.006Z"
   },
   {
    "duration": 26,
    "start_time": "2022-04-04T08:25:01.034Z"
   },
   {
    "duration": 22,
    "start_time": "2022-04-04T08:25:01.063Z"
   },
   {
    "duration": 33,
    "start_time": "2022-04-04T08:25:01.087Z"
   },
   {
    "duration": 28,
    "start_time": "2022-04-04T08:25:01.123Z"
   },
   {
    "duration": 18,
    "start_time": "2022-04-04T08:25:01.153Z"
   },
   {
    "duration": 17,
    "start_time": "2022-04-04T08:25:01.174Z"
   },
   {
    "duration": 14,
    "start_time": "2022-04-04T08:25:01.201Z"
   },
   {
    "duration": 66,
    "start_time": "2022-04-04T08:25:01.217Z"
   },
   {
    "duration": 25,
    "start_time": "2022-04-04T08:25:01.285Z"
   },
   {
    "duration": 73,
    "start_time": "2022-04-04T08:25:01.312Z"
   },
   {
    "duration": 27,
    "start_time": "2022-04-04T08:25:01.389Z"
   },
   {
    "duration": 53,
    "start_time": "2022-04-04T08:25:01.418Z"
   },
   {
    "duration": 54,
    "start_time": "2022-04-04T08:25:01.473Z"
   },
   {
    "duration": 37,
    "start_time": "2022-04-04T08:25:01.529Z"
   },
   {
    "duration": 26,
    "start_time": "2022-04-04T08:25:01.567Z"
   },
   {
    "duration": 408,
    "start_time": "2022-04-04T08:25:01.595Z"
   },
   {
    "duration": 23,
    "start_time": "2022-04-04T08:25:02.005Z"
   },
   {
    "duration": 394,
    "start_time": "2022-04-04T08:25:02.030Z"
   },
   {
    "duration": 35,
    "start_time": "2022-04-04T08:25:02.427Z"
   },
   {
    "duration": 390,
    "start_time": "2022-04-04T08:25:02.464Z"
   },
   {
    "duration": 8,
    "start_time": "2022-04-04T08:25:02.857Z"
   },
   {
    "duration": 304,
    "start_time": "2022-04-04T08:25:02.867Z"
   },
   {
    "duration": 373,
    "start_time": "2022-04-04T08:25:03.174Z"
   },
   {
    "duration": 9,
    "start_time": "2022-04-04T08:25:03.550Z"
   },
   {
    "duration": 1299,
    "start_time": "2022-04-04T08:25:03.561Z"
   },
   {
    "duration": 7,
    "start_time": "2022-04-04T08:25:04.861Z"
   },
   {
    "duration": 1174,
    "start_time": "2022-04-04T08:25:04.870Z"
   },
   {
    "duration": 786,
    "start_time": "2022-04-04T08:25:06.046Z"
   },
   {
    "duration": 67,
    "start_time": "2022-04-04T08:25:06.834Z"
   },
   {
    "duration": 801,
    "start_time": "2022-04-04T08:25:06.904Z"
   },
   {
    "duration": 18,
    "start_time": "2022-04-04T08:25:07.707Z"
   },
   {
    "duration": 21,
    "start_time": "2022-04-04T08:25:07.727Z"
   },
   {
    "duration": 243,
    "start_time": "2022-04-04T08:25:07.750Z"
   },
   {
    "duration": 24,
    "start_time": "2022-04-04T08:25:07.995Z"
   },
   {
    "duration": 232,
    "start_time": "2022-04-04T08:25:08.021Z"
   },
   {
    "duration": 15,
    "start_time": "2022-04-04T08:25:08.256Z"
   },
   {
    "duration": 225,
    "start_time": "2022-04-04T08:25:08.273Z"
   },
   {
    "duration": 198,
    "start_time": "2022-04-04T08:25:08.505Z"
   },
   {
    "duration": 17,
    "start_time": "2022-04-04T08:25:08.705Z"
   },
   {
    "duration": 241,
    "start_time": "2022-04-04T08:25:08.724Z"
   },
   {
    "duration": 11,
    "start_time": "2022-04-04T08:25:08.967Z"
   },
   {
    "duration": 22,
    "start_time": "2022-04-04T08:25:08.980Z"
   },
   {
    "duration": 16,
    "start_time": "2022-04-04T08:25:09.005Z"
   },
   {
    "duration": 917,
    "start_time": "2022-04-04T08:25:23.267Z"
   },
   {
    "duration": 1270,
    "start_time": "2022-04-04T08:43:19.589Z"
   },
   {
    "duration": 40,
    "start_time": "2022-04-04T08:43:20.861Z"
   },
   {
    "duration": 25,
    "start_time": "2022-04-04T08:43:20.903Z"
   },
   {
    "duration": 16,
    "start_time": "2022-04-04T08:43:20.930Z"
   },
   {
    "duration": 3,
    "start_time": "2022-04-04T08:43:20.948Z"
   },
   {
    "duration": 29,
    "start_time": "2022-04-04T08:43:20.953Z"
   },
   {
    "duration": 18,
    "start_time": "2022-04-04T08:43:21.002Z"
   },
   {
    "duration": 16,
    "start_time": "2022-04-04T08:43:21.022Z"
   },
   {
    "duration": 12,
    "start_time": "2022-04-04T08:43:21.040Z"
   },
   {
    "duration": 20,
    "start_time": "2022-04-04T08:43:21.055Z"
   },
   {
    "duration": 34,
    "start_time": "2022-04-04T08:43:21.077Z"
   },
   {
    "duration": 9,
    "start_time": "2022-04-04T08:43:21.113Z"
   },
   {
    "duration": 24,
    "start_time": "2022-04-04T08:43:21.124Z"
   },
   {
    "duration": 6,
    "start_time": "2022-04-04T08:43:21.150Z"
   },
   {
    "duration": 44,
    "start_time": "2022-04-04T08:43:21.158Z"
   },
   {
    "duration": 18,
    "start_time": "2022-04-04T08:43:21.205Z"
   },
   {
    "duration": 6,
    "start_time": "2022-04-04T08:43:21.225Z"
   },
   {
    "duration": 19,
    "start_time": "2022-04-04T08:43:21.233Z"
   },
   {
    "duration": 424,
    "start_time": "2022-04-04T08:43:21.254Z"
   },
   {
    "duration": 31,
    "start_time": "2022-04-04T08:43:21.680Z"
   },
   {
    "duration": 360,
    "start_time": "2022-04-04T08:43:21.713Z"
   },
   {
    "duration": 44,
    "start_time": "2022-04-04T08:43:22.075Z"
   },
   {
    "duration": 254,
    "start_time": "2022-04-04T08:43:22.120Z"
   },
   {
    "duration": 8,
    "start_time": "2022-04-04T08:43:22.376Z"
   },
   {
    "duration": 285,
    "start_time": "2022-04-04T08:43:22.386Z"
   },
   {
    "duration": 219,
    "start_time": "2022-04-04T08:43:22.672Z"
   },
   {
    "duration": 11,
    "start_time": "2022-04-04T08:43:22.893Z"
   },
   {
    "duration": 893,
    "start_time": "2022-04-04T08:43:22.908Z"
   },
   {
    "duration": 6,
    "start_time": "2022-04-04T08:43:23.803Z"
   },
   {
    "duration": 881,
    "start_time": "2022-04-04T08:43:23.811Z"
   },
   {
    "duration": 437,
    "start_time": "2022-04-04T08:43:24.702Z"
   },
   {
    "duration": 14,
    "start_time": "2022-04-04T08:43:25.141Z"
   },
   {
    "duration": 258,
    "start_time": "2022-04-04T08:43:25.157Z"
   },
   {
    "duration": 17,
    "start_time": "2022-04-04T08:43:25.417Z"
   },
   {
    "duration": 21,
    "start_time": "2022-04-04T08:43:25.436Z"
   },
   {
    "duration": 242,
    "start_time": "2022-04-04T08:43:25.459Z"
   },
   {
    "duration": 19,
    "start_time": "2022-04-04T08:43:25.703Z"
   },
   {
    "duration": 222,
    "start_time": "2022-04-04T08:43:25.724Z"
   },
   {
    "duration": 14,
    "start_time": "2022-04-04T08:43:25.947Z"
   },
   {
    "duration": 208,
    "start_time": "2022-04-04T08:43:25.963Z"
   },
   {
    "duration": 206,
    "start_time": "2022-04-04T08:43:26.173Z"
   },
   {
    "duration": 26,
    "start_time": "2022-04-04T08:43:26.381Z"
   },
   {
    "duration": 219,
    "start_time": "2022-04-04T08:43:26.409Z"
   },
   {
    "duration": 11,
    "start_time": "2022-04-04T08:43:26.630Z"
   },
   {
    "duration": 11,
    "start_time": "2022-04-04T08:43:26.643Z"
   },
   {
    "duration": 16,
    "start_time": "2022-04-04T08:43:26.656Z"
   }
  ],
  "kernelspec": {
   "display_name": "Python 3 (ipykernel)",
   "language": "python",
   "name": "python3"
  },
  "language_info": {
   "codemirror_mode": {
    "name": "ipython",
    "version": 3
   },
   "file_extension": ".py",
   "mimetype": "text/x-python",
   "name": "python",
   "nbconvert_exporter": "python",
   "pygments_lexer": "ipython3",
   "version": "3.9.5"
  },
  "toc": {
   "base_numbering": 1,
   "nav_menu": {},
   "number_sections": true,
   "sideBar": true,
   "skip_h1_title": true,
   "title_cell": "Table of Contents",
   "title_sidebar": "Contents",
   "toc_cell": false,
   "toc_position": {
    "height": "calc(100% - 180px)",
    "left": "10px",
    "top": "150px",
    "width": "384px"
   },
   "toc_section_display": true,
   "toc_window_display": true
  }
 },
 "nbformat": 4,
 "nbformat_minor": 2
}
